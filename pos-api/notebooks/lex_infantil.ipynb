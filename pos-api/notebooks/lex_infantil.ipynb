{
 "cells": [
  {
   "cell_type": "code",
   "execution_count": 2,
   "id": "9a6444ea",
   "metadata": {},
   "outputs": [],
   "source": [
    "import pandas as pd"
   ]
  },
  {
   "cell_type": "code",
   "execution_count": 9,
   "id": "6ace5ad9",
   "metadata": {},
   "outputs": [
    {
     "name": "stderr",
     "output_type": "stream",
     "text": [
      "/tmp/ipykernel_36706/3045848164.py:1: DtypeWarning: Columns (33,34,35) have mixed types. Specify dtype option on import or set low_memory=False.\n",
      "  pd.read_csv(\"./lexporbr_infantil_raw1.csv\", sep=\";\", encoding=\"latin1\").columns\n"
     ]
    },
    {
     "data": {
      "text/plain": [
       "Index(['lexema', 'fono', 'freq_lexema', 'freqM_lexema', 'freqZS_lexema',\n",
       "       'lema', 'freq_lema', 'freqM_lema', 'freqZS_lema', 'silabas', 'est_sil',\n",
       "       'nb_silabas', 'nb_letras', 'nb_fonemas', 'viz_orto', 'viz_fono',\n",
       "       'dl_orto', 'dl_fono', 'old20', 'pld20', 'pu_orto', 'pu_fono',\n",
       "       'homografas', 'homofonas', 'cvcv_lexema', 'cvcv_lema', 'cvcv_fono',\n",
       "       'inv_lexema', 'inv_lema', 'inv_fono', 'diac_orto', 'diac_fono',\n",
       "       'all_pos', 'all_freq_lexema', 'all_freqM_lexema', 'all_freqZS_lexema',\n",
       "       'tipo1', 'tipo2', 'tipo3', 'tipo4', 'tipo5', 'dicio', 'random', 'id'],\n",
       "      dtype='object')"
      ]
     },
     "execution_count": 9,
     "metadata": {},
     "output_type": "execute_result"
    }
   ],
   "source": [
    "pd.read_csv(\"./lexporbr_infantil_raw1.csv\", sep=\";\", encoding=\"latin1\").columns"
   ]
  }
 ],
 "metadata": {
  "kernelspec": {
   "display_name": "pln-pos-py31110",
   "language": "python",
   "name": "python3"
  },
  "language_info": {
   "codemirror_mode": {
    "name": "ipython",
    "version": 3
   },
   "file_extension": ".py",
   "mimetype": "text/x-python",
   "name": "python",
   "nbconvert_exporter": "python",
   "pygments_lexer": "ipython3",
   "version": "3.11.10"
  }
 },
 "nbformat": 4,
 "nbformat_minor": 5
}
