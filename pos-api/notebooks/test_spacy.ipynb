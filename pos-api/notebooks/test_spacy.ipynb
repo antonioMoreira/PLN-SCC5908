{
 "cells": [
  {
   "cell_type": "code",
   "execution_count": 1,
   "id": "2c8eaf71",
   "metadata": {},
   "outputs": [],
   "source": [
    "import subprocess\n",
    "import spacy\n",
    "\n",
    "try:\n",
    "    nlp = spacy.load(\"pt_core_news_sm\")\n",
    "except OSError:\n",
    "    subprocess.run([\"python3\", \"-m\", \"spacy\", \"download\", \"pt_core_news_sm\"])\n",
    "    nlp = spacy.load(\"pt_core_news_sm\")"
   ]
  },
  {
   "cell_type": "code",
   "execution_count": 2,
   "id": "0742e9a4",
   "metadata": {},
   "outputs": [],
   "source": [
    "def get_pos_tags(text) -> list[tuple[str, str]]:\n",
    "    \"\"\"\n",
    "    Process the text and return a list of tuples with the word and its part of speech tag.\n",
    "    \"\"\"\n",
    "    doc = nlp(text)\n",
    "    pos_tags = [(token.text, token.pos_) for token in doc]\n",
    "    return pos_tags"
   ]
  },
  {
   "cell_type": "code",
   "execution_count": 3,
   "id": "9719c0f6",
   "metadata": {},
   "outputs": [
    {
     "data": {
      "text/plain": [
       "[('O', 'DET'),\n",
       " ('rato', 'NOUN'),\n",
       " ('comeu', 'VERB'),\n",
       " ('a', 'DET'),\n",
       " ('roupa', 'NOUN'),\n",
       " ('do', 'ADP'),\n",
       " ('rei', 'NOUN'),\n",
       " ('de', 'ADP'),\n",
       " ('Roma', 'PROPN'),\n",
       " ('.', 'PUNCT')]"
      ]
     },
     "execution_count": 3,
     "metadata": {},
     "output_type": "execute_result"
    }
   ],
   "source": [
    "get_pos_tags(\"O rato comeu a roupa do rei de Roma.\")"
   ]
  }
 ],
 "metadata": {
  "kernelspec": {
   "display_name": "pln-pos-py31110",
   "language": "python",
   "name": "python3"
  },
  "language_info": {
   "codemirror_mode": {
    "name": "ipython",
    "version": 3
   },
   "file_extension": ".py",
   "mimetype": "text/x-python",
   "name": "python",
   "nbconvert_exporter": "python",
   "pygments_lexer": "ipython3",
   "version": "3.11.10"
  }
 },
 "nbformat": 4,
 "nbformat_minor": 5
}
