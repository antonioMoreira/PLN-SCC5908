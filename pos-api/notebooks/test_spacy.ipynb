{
 "cells": [
  {
   "cell_type": "code",
   "execution_count": 1,
   "id": "2c8eaf71",
   "metadata": {},
   "outputs": [
    {
     "name": "stderr",
     "output_type": "stream",
     "text": [
      "/home/antonio/venvs/pln-pos-py31110/lib/python3.11/site-packages/torch/cuda/__init__.py:129: UserWarning: CUDA initialization: CUDA unknown error - this may be due to an incorrectly set up environment, e.g. changing env variable CUDA_VISIBLE_DEVICES after program start. Setting the available devices to be zero. (Triggered internally at /pytorch/c10/cuda/CUDAFunctions.cpp:109.)\n",
      "  return torch._C._cuda_getDeviceCount() > 0\n"
     ]
    }
   ],
   "source": [
    "import subprocess\n",
    "import spacy\n",
    "\n",
    "try:\n",
    "    nlp = spacy.load(\"pt_core_news_lg\")\n",
    "except OSError:\n",
    "    subprocess.run([\"python3\", \"-m\", \"spacy\", \"download\", \"pt_core_news_lg\"])\n",
    "    nlp = spacy.load(\"pt_core_news_lg\")"
   ]
  },
  {
   "cell_type": "code",
   "execution_count": 2,
   "id": "0742e9a4",
   "metadata": {},
   "outputs": [],
   "source": [
    "def get_pos_tags(text) -> list[dict[str, str]]:\n",
    "    \"\"\"\n",
    "    Process the text and return a list of tuples with the word and its part of speech tag.\n",
    "    \"\"\"\n",
    "    doc = nlp(text)\n",
    "    pos_tags = [{'word': token.text, 'tag':token.pos_} for token in doc]\n",
    "    return pos_tags"
   ]
  },
  {
   "cell_type": "code",
   "execution_count": 6,
   "id": "9719c0f6",
   "metadata": {},
   "outputs": [
    {
     "data": {
      "text/plain": [
       "[{'word': 'Você', 'tag': 'PRON'},\n",
       " {'word': 'é', 'tag': 'AUX'},\n",
       " {'word': 'nota', 'tag': 'NOUN'},\n",
       " {'word': 'dez', 'tag': 'NUM'},\n",
       " {'word': '.', 'tag': 'PUNCT'}]"
      ]
     },
     "execution_count": 6,
     "metadata": {},
     "output_type": "execute_result"
    }
   ],
   "source": [
    "get_pos_tags(\"O dentista atende um maluquinho, do qual tinha tirado um dente um dia antes.\")\n",
    "get_pos_tags(\"Ele é o número um na chamada.\")\n",
    "get_pos_tags(\"Você é nota dez.\")"
   ]
  }
 ],
 "metadata": {
  "kernelspec": {
   "display_name": "pln-pos-py31110",
   "language": "python",
   "name": "python3"
  },
  "language_info": {
   "codemirror_mode": {
    "name": "ipython",
    "version": 3
   },
   "file_extension": ".py",
   "mimetype": "text/x-python",
   "name": "python",
   "nbconvert_exporter": "python",
   "pygments_lexer": "ipython3",
   "version": "3.11.10"
  }
 },
 "nbformat": 4,
 "nbformat_minor": 5
}
