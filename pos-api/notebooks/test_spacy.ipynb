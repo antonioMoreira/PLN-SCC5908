{
 "cells": [
  {
   "cell_type": "code",
   "execution_count": 1,
   "id": "2c8eaf71",
   "metadata": {},
   "outputs": [],
   "source": [
    "import subprocess\n",
    "import spacy\n",
    "\n",
    "try:\n",
    "    nlp = spacy.load(\"pt_core_news_lg\")\n",
    "except OSError:\n",
    "    subprocess.run([\"python3\", \"-m\", \"spacy\", \"download\", \"pt_core_news_lg\"])\n",
    "    nlp = spacy.load(\"pt_core_news_lg\")"
   ]
  },
  {
   "cell_type": "code",
   "execution_count": 2,
   "id": "0742e9a4",
   "metadata": {},
   "outputs": [],
   "source": [
    "def get_pos_tags(text) -> list[dict[str, str]]:\n",
    "    \"\"\"\n",
    "    Process the text and return a list of tuples with the word and its part of speech tag.\n",
    "    \"\"\"\n",
    "    doc = nlp(text)\n",
    "    pos_tags = [{'word': token.text, 'tag':token.pos_} for token in doc]\n",
    "    return pos_tags"
   ]
  },
  {
   "cell_type": "code",
   "execution_count": 4,
   "id": "9719c0f6",
   "metadata": {},
   "outputs": [
    {
     "data": {
      "text/plain": [
       "[{'word': 'O', 'tag': 'DET'},\n",
       " {'word': 'rato', 'tag': 'NOUN'},\n",
       " {'word': 'roeu', 'tag': 'VERB'},\n",
       " {'word': 'a', 'tag': 'DET'},\n",
       " {'word': 'roupa', 'tag': 'NOUN'},\n",
       " {'word': 'do', 'tag': 'ADP'},\n",
       " {'word': 'rei', 'tag': 'NOUN'},\n",
       " {'word': 'de', 'tag': 'ADP'},\n",
       " {'word': 'Roma', 'tag': 'PROPN'},\n",
       " {'word': '.', 'tag': 'PUNCT'}]"
      ]
     },
     "execution_count": 4,
     "metadata": {},
     "output_type": "execute_result"
    }
   ],
   "source": [
    "get_pos_tags(\"O rato roeu a roupa do rei de Roma.\")"
   ]
  }
 ],
 "metadata": {
  "kernelspec": {
   "display_name": "pln-pos-py31110",
   "language": "python",
   "name": "python3"
  },
  "language_info": {
   "codemirror_mode": {
    "name": "ipython",
    "version": 3
   },
   "file_extension": ".py",
   "mimetype": "text/x-python",
   "name": "python",
   "nbconvert_exporter": "python",
   "pygments_lexer": "ipython3",
   "version": "3.11.10"
  }
 },
 "nbformat": 4,
 "nbformat_minor": 5
}
