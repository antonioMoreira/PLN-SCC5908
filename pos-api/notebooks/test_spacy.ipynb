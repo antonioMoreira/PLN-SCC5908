{
 "cells": [
  {
   "cell_type": "code",
   "execution_count": 5,
   "id": "2c8eaf71",
   "metadata": {},
   "outputs": [],
   "source": [
    "import subprocess\n",
    "import spacy\n",
    "\n",
    "try:\n",
    "    nlp = spacy.load(\"pt_core_news_sm\")\n",
    "except OSError:\n",
    "    subprocess.run([\"python3\", \"-m\", \"spacy\", \"download\", \"pt_core_news_sm\"])\n",
    "    nlp = spacy.load(\"pt_core_news_sm\")"
   ]
  },
  {
   "cell_type": "code",
   "execution_count": 3,
   "id": "0742e9a4",
   "metadata": {},
   "outputs": [],
   "source": [
    "def get_pos_tags(text) -> list[tuple[str, str]]:\n",
    "    \"\"\"\n",
    "    Process the text and return a list of tuples with the word and its part of speech tag.\n",
    "    \"\"\"\n",
    "    doc = nlp(text)\n",
    "    pos_tags = [(token.text, token.pos_) for token in doc]\n",
    "    return pos_tags"
   ]
  },
  {
   "cell_type": "code",
   "execution_count": 4,
   "id": "9719c0f6",
   "metadata": {},
   "outputs": [
    {
     "ename": "NameError",
     "evalue": "name 'nlp' is not defined",
     "output_type": "error",
     "traceback": [
      "\u001b[31m---------------------------------------------------------------------------\u001b[39m",
      "\u001b[31mNameError\u001b[39m                                 Traceback (most recent call last)",
      "\u001b[36mCell\u001b[39m\u001b[36m \u001b[39m\u001b[32mIn[4]\u001b[39m\u001b[32m, line 1\u001b[39m\n\u001b[32m----> \u001b[39m\u001b[32m1\u001b[39m \u001b[43mget_pos_tags\u001b[49m\u001b[43m(\u001b[49m\u001b[33;43m\"\u001b[39;49m\u001b[33;43mO rato roeu a roupa do rei de Roma.\u001b[39;49m\u001b[33;43m\"\u001b[39;49m\u001b[43m)\u001b[49m\n",
      "\u001b[36mCell\u001b[39m\u001b[36m \u001b[39m\u001b[32mIn[3]\u001b[39m\u001b[32m, line 5\u001b[39m, in \u001b[36mget_pos_tags\u001b[39m\u001b[34m(text)\u001b[39m\n\u001b[32m      1\u001b[39m \u001b[38;5;28;01mdef\u001b[39;00m\u001b[38;5;250m \u001b[39m\u001b[34mget_pos_tags\u001b[39m(text) -> \u001b[38;5;28mlist\u001b[39m[\u001b[38;5;28mtuple\u001b[39m[\u001b[38;5;28mstr\u001b[39m, \u001b[38;5;28mstr\u001b[39m]]:\n\u001b[32m      2\u001b[39m \u001b[38;5;250m    \u001b[39m\u001b[33;03m\"\"\"\u001b[39;00m\n\u001b[32m      3\u001b[39m \u001b[33;03m    Process the text and return a list of tuples with the word and its part of speech tag.\u001b[39;00m\n\u001b[32m      4\u001b[39m \u001b[33;03m    \"\"\"\u001b[39;00m\n\u001b[32m----> \u001b[39m\u001b[32m5\u001b[39m     doc = \u001b[43mnlp\u001b[49m(text)\n\u001b[32m      6\u001b[39m     pos_tags = [(token.text, token.pos_) \u001b[38;5;28;01mfor\u001b[39;00m token \u001b[38;5;129;01min\u001b[39;00m doc]\n\u001b[32m      7\u001b[39m     \u001b[38;5;28;01mreturn\u001b[39;00m pos_tags\n",
      "\u001b[31mNameError\u001b[39m: name 'nlp' is not defined"
     ]
    }
   ],
   "source": [
    "get_pos_tags(\"O rato roeu a roupa do rei de Roma.\")"
   ]
  }
 ],
 "metadata": {
  "kernelspec": {
   "display_name": "pln-pos-py31110",
   "language": "python",
   "name": "python3"
  },
  "language_info": {
   "codemirror_mode": {
    "name": "ipython",
    "version": 3
   },
   "file_extension": ".py",
   "mimetype": "text/x-python",
   "name": "python",
   "nbconvert_exporter": "python",
   "pygments_lexer": "ipython3",
   "version": "3.11.10"
  }
 },
 "nbformat": 4,
 "nbformat_minor": 5
}
