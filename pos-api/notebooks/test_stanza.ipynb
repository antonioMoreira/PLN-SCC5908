{
 "cells": [
  {
   "cell_type": "code",
   "execution_count": 7,
   "id": "eda55373",
   "metadata": {},
   "outputs": [
    {
     "name": "stderr",
     "output_type": "stream",
     "text": [
      "Downloading https://raw.githubusercontent.com/stanfordnlp/stanza-resources/main/resources_1.10.0.json: 426kB [00:00, 120MB/s]                     \n",
      "2025-04-23 10:48:43 INFO: Downloaded file to /home/antonio/stanza_resources/resources.json\n",
      "2025-04-23 10:48:43 INFO: Downloading default packages for language: pt (Portuguese) ...\n"
     ]
    },
    {
     "name": "stderr",
     "output_type": "stream",
     "text": [
      "2025-04-23 10:48:43 INFO: File exists: /home/antonio/stanza_resources/pt/default.zip\n",
      "2025-04-23 10:48:48 INFO: Finished downloading models and saved to /home/antonio/stanza_resources\n"
     ]
    }
   ],
   "source": [
    "from typing import cast\n",
    "\n",
    "import stanza\n",
    "from stanza import Document\n",
    "\n",
    "stanza.download('pt') # download English model"
   ]
  },
  {
   "cell_type": "code",
   "execution_count": 2,
   "id": "84750808",
   "metadata": {},
   "outputs": [
    {
     "name": "stderr",
     "output_type": "stream",
     "text": [
      "2025-04-23 10:46:56 INFO: Checking for updates to resources.json in case models have been updated.  Note: this behavior can be turned off with download_method=None or download_method=DownloadMethod.REUSE_RESOURCES\n",
      "Downloading https://raw.githubusercontent.com/stanfordnlp/stanza-resources/main/resources_1.10.0.json: 426kB [00:00, 56.1MB/s]                    \n",
      "2025-04-23 10:46:56 INFO: Downloaded file to /home/antonio/stanza_resources/resources.json\n",
      "2025-04-23 10:46:57 INFO: Loading these models for language: pt (Portuguese):\n",
      "==================================\n",
      "| Processor    | Package         |\n",
      "----------------------------------\n",
      "| tokenize     | bosque          |\n",
      "| mwt          | bosque          |\n",
      "| pos          | bosque_charlm   |\n",
      "| lemma        | bosque_nocharlm |\n",
      "| constituency | cintil_charlm   |\n",
      "| depparse     | bosque_charlm   |\n",
      "==================================\n",
      "\n",
      "/home/antonio/venvs/pln-pos-py31110/lib/python3.11/site-packages/torch/cuda/__init__.py:129: UserWarning: CUDA initialization: Unexpected error from cudaGetDeviceCount(). Did you run some cuda functions before calling NumCudaDevices() that might have already set an error? Error 804: forward compatibility was attempted on non supported HW (Triggered internally at /pytorch/c10/cuda/CUDAFunctions.cpp:109.)\n",
      "  return torch._C._cuda_getDeviceCount() > 0\n",
      "2025-04-23 10:46:57 INFO: Using device: cpu\n",
      "2025-04-23 10:46:57 INFO: Loading: tokenize\n",
      "2025-04-23 10:46:58 INFO: Loading: mwt\n",
      "2025-04-23 10:46:58 INFO: Loading: pos\n",
      "2025-04-23 10:46:59 INFO: Loading: lemma\n",
      "2025-04-23 10:46:59 INFO: Loading: constituency\n",
      "2025-04-23 10:47:00 INFO: Loading: depparse\n",
      "2025-04-23 10:47:00 INFO: Done loading processors!\n"
     ]
    }
   ],
   "source": [
    "nlp = stanza.Pipeline('pt') # initialize English neural pipeline"
   ]
  },
  {
   "cell_type": "code",
   "execution_count": null,
   "id": "e297f703",
   "metadata": {},
   "outputs": [
    {
     "data": {
      "text/plain": [
       "[\n",
       "  [\n",
       "    {\n",
       "      \"id\": 1,\n",
       "      \"text\": \"O\",\n",
       "      \"lemma\": \"o\",\n",
       "      \"upos\": \"DET\",\n",
       "      \"feats\": \"Definite=Def|Gender=Masc|Number=Sing|PronType=Art\",\n",
       "      \"head\": 2,\n",
       "      \"deprel\": \"det\",\n",
       "      \"start_char\": 0,\n",
       "      \"end_char\": 1\n",
       "    },\n",
       "    {\n",
       "      \"id\": 2,\n",
       "      \"text\": \"rato\",\n",
       "      \"lemma\": \"rato\",\n",
       "      \"upos\": \"NOUN\",\n",
       "      \"feats\": \"Gender=Masc|Number=Sing\",\n",
       "      \"head\": 3,\n",
       "      \"deprel\": \"nsubj\",\n",
       "      \"start_char\": 2,\n",
       "      \"end_char\": 6\n",
       "    },\n",
       "    {\n",
       "      \"id\": 3,\n",
       "      \"text\": \"roeu\",\n",
       "      \"lemma\": \"roer\",\n",
       "      \"upos\": \"VERB\",\n",
       "      \"feats\": \"Mood=Ind|Number=Sing|Person=3|Tense=Past|VerbForm=Fin\",\n",
       "      \"head\": 0,\n",
       "      \"deprel\": \"root\",\n",
       "      \"start_char\": 7,\n",
       "      \"end_char\": 11\n",
       "    },\n",
       "    {\n",
       "      \"id\": 4,\n",
       "      \"text\": \"a\",\n",
       "      \"lemma\": \"o\",\n",
       "      \"upos\": \"DET\",\n",
       "      \"feats\": \"Definite=Def|Gender=Fem|Number=Sing|PronType=Art\",\n",
       "      \"head\": 5,\n",
       "      \"deprel\": \"det\",\n",
       "      \"start_char\": 12,\n",
       "      \"end_char\": 13\n",
       "    },\n",
       "    {\n",
       "      \"id\": 5,\n",
       "      \"text\": \"roupa\",\n",
       "      \"lemma\": \"roupa\",\n",
       "      \"upos\": \"NOUN\",\n",
       "      \"feats\": \"Gender=Fem|Number=Sing\",\n",
       "      \"head\": 3,\n",
       "      \"deprel\": \"obj\",\n",
       "      \"start_char\": 14,\n",
       "      \"end_char\": 19\n",
       "    },\n",
       "    {\n",
       "      \"id\": [\n",
       "        6,\n",
       "        7\n",
       "      ],\n",
       "      \"text\": \"do\",\n",
       "      \"start_char\": 20,\n",
       "      \"end_char\": 22\n",
       "    },\n",
       "    {\n",
       "      \"id\": 6,\n",
       "      \"text\": \"de\",\n",
       "      \"lemma\": \"de\",\n",
       "      \"upos\": \"ADP\",\n",
       "      \"head\": 8,\n",
       "      \"deprel\": \"case\"\n",
       "    },\n",
       "    {\n",
       "      \"id\": 7,\n",
       "      \"text\": \"o\",\n",
       "      \"lemma\": \"o\",\n",
       "      \"upos\": \"DET\",\n",
       "      \"feats\": \"Definite=Def|Gender=Masc|Number=Sing|PronType=Art\",\n",
       "      \"head\": 8,\n",
       "      \"deprel\": \"det\"\n",
       "    },\n",
       "    {\n",
       "      \"id\": 8,\n",
       "      \"text\": \"rei\",\n",
       "      \"lemma\": \"rei\",\n",
       "      \"upos\": \"NOUN\",\n",
       "      \"feats\": \"Gender=Masc|Number=Sing\",\n",
       "      \"head\": 5,\n",
       "      \"deprel\": \"nmod\",\n",
       "      \"start_char\": 23,\n",
       "      \"end_char\": 26\n",
       "    },\n",
       "    {\n",
       "      \"id\": 9,\n",
       "      \"text\": \"de\",\n",
       "      \"lemma\": \"de\",\n",
       "      \"upos\": \"ADP\",\n",
       "      \"head\": 10,\n",
       "      \"deprel\": \"case\",\n",
       "      \"start_char\": 27,\n",
       "      \"end_char\": 29\n",
       "    },\n",
       "    {\n",
       "      \"id\": 10,\n",
       "      \"text\": \"roma\",\n",
       "      \"lemma\": \"roma\",\n",
       "      \"upos\": \"NOUN\",\n",
       "      \"feats\": \"Gender=Fem|Number=Sing\",\n",
       "      \"head\": 8,\n",
       "      \"deprel\": \"nmod\",\n",
       "      \"start_char\": 30,\n",
       "      \"end_char\": 34,\n",
       "      \"misc\": \"SpaceAfter=No\"\n",
       "    },\n",
       "    {\n",
       "      \"id\": 11,\n",
       "      \"text\": \".\",\n",
       "      \"lemma\": \".\",\n",
       "      \"upos\": \"PUNCT\",\n",
       "      \"head\": 3,\n",
       "      \"deprel\": \"punct\",\n",
       "      \"start_char\": 34,\n",
       "      \"end_char\": 35,\n",
       "      \"misc\": \"SpaceAfter=No\"\n",
       "    }\n",
       "  ]\n",
       "]"
      ]
     },
     "execution_count": 6,
     "metadata": {},
     "output_type": "execute_result"
    }
   ],
   "source": [
    "doc = cast(nlp(\"O rato roeu a roupa do rei de roma.\"), Document) # run annotation over a sentence\n",
    "doc"
   ]
  },
  {
   "cell_type": "code",
   "execution_count": 4,
   "id": "79c15131",
   "metadata": {},
   "outputs": [
    {
     "data": {
      "text/plain": [
       "stanza.models.common.doc.Document"
      ]
     },
     "execution_count": 4,
     "metadata": {},
     "output_type": "execute_result"
    }
   ],
   "source": [
    "type(doc)"
   ]
  }
 ],
 "metadata": {
  "kernelspec": {
   "display_name": "pln-pos-py31110",
   "language": "python",
   "name": "python3"
  },
  "language_info": {
   "codemirror_mode": {
    "name": "ipython",
    "version": 3
   },
   "file_extension": ".py",
   "mimetype": "text/x-python",
   "name": "python",
   "nbconvert_exporter": "python",
   "pygments_lexer": "ipython3",
   "version": "3.11.10"
  }
 },
 "nbformat": 4,
 "nbformat_minor": 5
}
