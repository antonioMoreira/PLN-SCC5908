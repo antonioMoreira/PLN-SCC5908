{
  "cells": [
    {
      "cell_type": "code",
      "execution_count": 1,
      "metadata": {
        "colab": {
          "base_uri": "https://localhost:8080/"
        },
        "id": "u58KOLo4IUBU",
        "outputId": "50fa559f-070b-40b2-fe8b-ada4b1c5fa19"
      },
      "outputs": [
        {
          "name": "stdout",
          "output_type": "stream",
          "text": [
            "Mounted at /content/drive\n"
          ]
        }
      ],
      "source": [
        "from google.colab import drive\n",
        "drive.mount('/content/drive')"
      ]
    },
    {
      "cell_type": "code",
      "execution_count": 1,
      "metadata": {
        "id": "Lzc1j2Odv4ap"
      },
      "outputs": [],
      "source": [
        "import pandas as pd\n",
        "from tqdm import tqdm\n",
        "import json\n",
        "import joblib\n",
        "import numpy as np\n",
        "import os\n",
        "\n",
        "from sklearn import preprocessing\n",
        "from sklearn.model_selection import StratifiedKFold, KFold\n",
        "from datasets import Dataset\n",
        "from transformers import AutoTokenizer\n",
        "from transformers import AutoModelForSequenceClassification\n",
        "from transformers import TrainingArguments, Trainer, TrainerCallback\n",
        "import evaluate\n",
        "import torch\n",
        "\n",
        "tqdm.pandas()"
      ]
    },
    {
      "cell_type": "markdown",
      "metadata": {},
      "source": [
        "# Preprocessamento dos dados"
      ]
    },
    {
      "cell_type": "markdown",
      "metadata": {},
      "source": [
        "## Dataset inicial "
      ]
    },
    {
      "cell_type": "markdown",
      "metadata": {
        "id": "QWtGTA8nyaoU"
      },
      "source": [
        "### Interaction data"
      ]
    },
    {
      "cell_type": "code",
      "execution_count": 2,
      "metadata": {
        "colab": {
          "base_uri": "https://localhost:8080/",
          "height": 424
        },
        "id": "agy6yiQXxEBz",
        "outputId": "e15a0433-b8bc-4aea-dd24-160829b4cf06"
      },
      "outputs": [
        {
          "data": {
            "text/html": [
              "<div>\n",
              "<style scoped>\n",
              "    .dataframe tbody tr th:only-of-type {\n",
              "        vertical-align: middle;\n",
              "    }\n",
              "\n",
              "    .dataframe tbody tr th {\n",
              "        vertical-align: top;\n",
              "    }\n",
              "\n",
              "    .dataframe thead th {\n",
              "        text-align: right;\n",
              "    }\n",
              "</style>\n",
              "<table border=\"1\" class=\"dataframe\">\n",
              "  <thead>\n",
              "    <tr style=\"text-align: right;\">\n",
              "      <th></th>\n",
              "      <th>correctTag</th>\n",
              "      <th>targetWord</th>\n",
              "      <th>eventType</th>\n",
              "      <th>orderingId</th>\n",
              "      <th>sessionId</th>\n",
              "      <th>draggedTag</th>\n",
              "    </tr>\n",
              "  </thead>\n",
              "  <tbody>\n",
              "    <tr>\n",
              "      <th>0</th>\n",
              "      <td>Verbo</td>\n",
              "      <td>Será</td>\n",
              "      <td>interaction</td>\n",
              "      <td>0</td>\n",
              "      <td>xqEk5ZfKaG</td>\n",
              "      <td>Pronome</td>\n",
              "    </tr>\n",
              "    <tr>\n",
              "      <th>1</th>\n",
              "      <td>Verbo</td>\n",
              "      <td>Será</td>\n",
              "      <td>interaction</td>\n",
              "      <td>1</td>\n",
              "      <td>xqEk5ZfKaG</td>\n",
              "      <td>Conjunção Subordinativa</td>\n",
              "    </tr>\n",
              "    <tr>\n",
              "      <th>2</th>\n",
              "      <td>Pontuação</td>\n",
              "      <td>,</td>\n",
              "      <td>interaction</td>\n",
              "      <td>0</td>\n",
              "      <td>uQY36KP907</td>\n",
              "      <td>Pontuação</td>\n",
              "    </tr>\n",
              "    <tr>\n",
              "      <th>3</th>\n",
              "      <td>Pontuação</td>\n",
              "      <td>!</td>\n",
              "      <td>interaction</td>\n",
              "      <td>1</td>\n",
              "      <td>uQY36KP907</td>\n",
              "      <td>Pontuação</td>\n",
              "    </tr>\n",
              "    <tr>\n",
              "      <th>4</th>\n",
              "      <td>Substantivo</td>\n",
              "      <td>árvore</td>\n",
              "      <td>interaction</td>\n",
              "      <td>0</td>\n",
              "      <td>X2RK9EgWWZ</td>\n",
              "      <td>Substantivo</td>\n",
              "    </tr>\n",
              "    <tr>\n",
              "      <th>...</th>\n",
              "      <td>...</td>\n",
              "      <td>...</td>\n",
              "      <td>...</td>\n",
              "      <td>...</td>\n",
              "      <td>...</td>\n",
              "      <td>...</td>\n",
              "    </tr>\n",
              "    <tr>\n",
              "      <th>24810</th>\n",
              "      <td>Pontuação</td>\n",
              "      <td>,</td>\n",
              "      <td>interaction</td>\n",
              "      <td>0</td>\n",
              "      <td>Halvf7QSu2</td>\n",
              "      <td>Pontuação</td>\n",
              "    </tr>\n",
              "    <tr>\n",
              "      <th>24811</th>\n",
              "      <td>Pontuação</td>\n",
              "      <td>!</td>\n",
              "      <td>interaction</td>\n",
              "      <td>1</td>\n",
              "      <td>Halvf7QSu2</td>\n",
              "      <td>Pontuação</td>\n",
              "    </tr>\n",
              "    <tr>\n",
              "      <th>24812</th>\n",
              "      <td>Verbo de Ligação</td>\n",
              "      <td>fosse</td>\n",
              "      <td>interaction</td>\n",
              "      <td>2</td>\n",
              "      <td>Halvf7QSu2</td>\n",
              "      <td>Verbo</td>\n",
              "    </tr>\n",
              "    <tr>\n",
              "      <th>24813</th>\n",
              "      <td>Verbo</td>\n",
              "      <td>chegar</td>\n",
              "      <td>interaction</td>\n",
              "      <td>3</td>\n",
              "      <td>Halvf7QSu2</td>\n",
              "      <td>Verbo de Ligação</td>\n",
              "    </tr>\n",
              "    <tr>\n",
              "      <th>24814</th>\n",
              "      <td>Verbo de Ligação</td>\n",
              "      <td>fosse</td>\n",
              "      <td>interaction</td>\n",
              "      <td>4</td>\n",
              "      <td>Halvf7QSu2</td>\n",
              "      <td>Verbo</td>\n",
              "    </tr>\n",
              "  </tbody>\n",
              "</table>\n",
              "<p>24815 rows × 6 columns</p>\n",
              "</div>"
            ],
            "text/plain": [
              "             correctTag targetWord    eventType  orderingId   sessionId  \\\n",
              "0                 Verbo       Será  interaction           0  xqEk5ZfKaG   \n",
              "1                 Verbo       Será  interaction           1  xqEk5ZfKaG   \n",
              "2             Pontuação          ,  interaction           0  uQY36KP907   \n",
              "3             Pontuação          !  interaction           1  uQY36KP907   \n",
              "4           Substantivo     árvore  interaction           0  X2RK9EgWWZ   \n",
              "...                 ...        ...          ...         ...         ...   \n",
              "24810         Pontuação          ,  interaction           0  Halvf7QSu2   \n",
              "24811         Pontuação          !  interaction           1  Halvf7QSu2   \n",
              "24812  Verbo de Ligação      fosse  interaction           2  Halvf7QSu2   \n",
              "24813             Verbo     chegar  interaction           3  Halvf7QSu2   \n",
              "24814  Verbo de Ligação      fosse  interaction           4  Halvf7QSu2   \n",
              "\n",
              "                    draggedTag  \n",
              "0                      Pronome  \n",
              "1      Conjunção Subordinativa  \n",
              "2                    Pontuação  \n",
              "3                    Pontuação  \n",
              "4                  Substantivo  \n",
              "...                        ...  \n",
              "24810                Pontuação  \n",
              "24811                Pontuação  \n",
              "24812                    Verbo  \n",
              "24813         Verbo de Ligação  \n",
              "24814                    Verbo  \n",
              "\n",
              "[24815 rows x 6 columns]"
            ]
          },
          "execution_count": 2,
          "metadata": {},
          "output_type": "execute_result"
        }
      ],
      "source": [
        "df_interaction = pd.read_csv(\"interaction_data_250603.csv\")\n",
        "df_interaction"
      ]
    },
    {
      "cell_type": "code",
      "execution_count": 3,
      "metadata": {
        "id": "W8J2kWfdyKfl"
      },
      "outputs": [],
      "source": [
        "# Cria coluna indicando se houve erro de etiquetagem por parte do aluno\n",
        "def check_for_mistakes(row):\n",
        "    return row['correctTag'] != row['draggedTag']\n",
        "\n",
        "df_interaction['isMistake'] = df_interaction.apply(check_for_mistakes, axis=1)"
      ]
    },
    {
      "cell_type": "code",
      "execution_count": 4,
      "metadata": {
        "colab": {
          "base_uri": "https://localhost:8080/",
          "height": 424
        },
        "id": "ASxuFUuzyYRt",
        "outputId": "940ae36c-757e-47da-9d7e-56b8a85962b3"
      },
      "outputs": [
        {
          "data": {
            "text/html": [
              "<div>\n",
              "<style scoped>\n",
              "    .dataframe tbody tr th:only-of-type {\n",
              "        vertical-align: middle;\n",
              "    }\n",
              "\n",
              "    .dataframe tbody tr th {\n",
              "        vertical-align: top;\n",
              "    }\n",
              "\n",
              "    .dataframe thead th {\n",
              "        text-align: right;\n",
              "    }\n",
              "</style>\n",
              "<table border=\"1\" class=\"dataframe\">\n",
              "  <thead>\n",
              "    <tr style=\"text-align: right;\">\n",
              "      <th></th>\n",
              "      <th>correctTag</th>\n",
              "      <th>targetWord</th>\n",
              "      <th>eventType</th>\n",
              "      <th>orderingId</th>\n",
              "      <th>sessionId</th>\n",
              "      <th>draggedTag</th>\n",
              "      <th>isMistake</th>\n",
              "    </tr>\n",
              "  </thead>\n",
              "  <tbody>\n",
              "    <tr>\n",
              "      <th>0</th>\n",
              "      <td>Verbo</td>\n",
              "      <td>Será</td>\n",
              "      <td>interaction</td>\n",
              "      <td>0</td>\n",
              "      <td>xqEk5ZfKaG</td>\n",
              "      <td>Pronome</td>\n",
              "      <td>True</td>\n",
              "    </tr>\n",
              "    <tr>\n",
              "      <th>1</th>\n",
              "      <td>Verbo</td>\n",
              "      <td>Será</td>\n",
              "      <td>interaction</td>\n",
              "      <td>1</td>\n",
              "      <td>xqEk5ZfKaG</td>\n",
              "      <td>Conjunção Subordinativa</td>\n",
              "      <td>True</td>\n",
              "    </tr>\n",
              "    <tr>\n",
              "      <th>2</th>\n",
              "      <td>Pontuação</td>\n",
              "      <td>,</td>\n",
              "      <td>interaction</td>\n",
              "      <td>0</td>\n",
              "      <td>uQY36KP907</td>\n",
              "      <td>Pontuação</td>\n",
              "      <td>False</td>\n",
              "    </tr>\n",
              "    <tr>\n",
              "      <th>3</th>\n",
              "      <td>Pontuação</td>\n",
              "      <td>!</td>\n",
              "      <td>interaction</td>\n",
              "      <td>1</td>\n",
              "      <td>uQY36KP907</td>\n",
              "      <td>Pontuação</td>\n",
              "      <td>False</td>\n",
              "    </tr>\n",
              "    <tr>\n",
              "      <th>4</th>\n",
              "      <td>Substantivo</td>\n",
              "      <td>árvore</td>\n",
              "      <td>interaction</td>\n",
              "      <td>0</td>\n",
              "      <td>X2RK9EgWWZ</td>\n",
              "      <td>Substantivo</td>\n",
              "      <td>False</td>\n",
              "    </tr>\n",
              "    <tr>\n",
              "      <th>...</th>\n",
              "      <td>...</td>\n",
              "      <td>...</td>\n",
              "      <td>...</td>\n",
              "      <td>...</td>\n",
              "      <td>...</td>\n",
              "      <td>...</td>\n",
              "      <td>...</td>\n",
              "    </tr>\n",
              "    <tr>\n",
              "      <th>24810</th>\n",
              "      <td>Pontuação</td>\n",
              "      <td>,</td>\n",
              "      <td>interaction</td>\n",
              "      <td>0</td>\n",
              "      <td>Halvf7QSu2</td>\n",
              "      <td>Pontuação</td>\n",
              "      <td>False</td>\n",
              "    </tr>\n",
              "    <tr>\n",
              "      <th>24811</th>\n",
              "      <td>Pontuação</td>\n",
              "      <td>!</td>\n",
              "      <td>interaction</td>\n",
              "      <td>1</td>\n",
              "      <td>Halvf7QSu2</td>\n",
              "      <td>Pontuação</td>\n",
              "      <td>False</td>\n",
              "    </tr>\n",
              "    <tr>\n",
              "      <th>24812</th>\n",
              "      <td>Verbo de Ligação</td>\n",
              "      <td>fosse</td>\n",
              "      <td>interaction</td>\n",
              "      <td>2</td>\n",
              "      <td>Halvf7QSu2</td>\n",
              "      <td>Verbo</td>\n",
              "      <td>True</td>\n",
              "    </tr>\n",
              "    <tr>\n",
              "      <th>24813</th>\n",
              "      <td>Verbo</td>\n",
              "      <td>chegar</td>\n",
              "      <td>interaction</td>\n",
              "      <td>3</td>\n",
              "      <td>Halvf7QSu2</td>\n",
              "      <td>Verbo de Ligação</td>\n",
              "      <td>True</td>\n",
              "    </tr>\n",
              "    <tr>\n",
              "      <th>24814</th>\n",
              "      <td>Verbo de Ligação</td>\n",
              "      <td>fosse</td>\n",
              "      <td>interaction</td>\n",
              "      <td>4</td>\n",
              "      <td>Halvf7QSu2</td>\n",
              "      <td>Verbo</td>\n",
              "      <td>True</td>\n",
              "    </tr>\n",
              "  </tbody>\n",
              "</table>\n",
              "<p>24815 rows × 7 columns</p>\n",
              "</div>"
            ],
            "text/plain": [
              "             correctTag targetWord    eventType  orderingId   sessionId  \\\n",
              "0                 Verbo       Será  interaction           0  xqEk5ZfKaG   \n",
              "1                 Verbo       Será  interaction           1  xqEk5ZfKaG   \n",
              "2             Pontuação          ,  interaction           0  uQY36KP907   \n",
              "3             Pontuação          !  interaction           1  uQY36KP907   \n",
              "4           Substantivo     árvore  interaction           0  X2RK9EgWWZ   \n",
              "...                 ...        ...          ...         ...         ...   \n",
              "24810         Pontuação          ,  interaction           0  Halvf7QSu2   \n",
              "24811         Pontuação          !  interaction           1  Halvf7QSu2   \n",
              "24812  Verbo de Ligação      fosse  interaction           2  Halvf7QSu2   \n",
              "24813             Verbo     chegar  interaction           3  Halvf7QSu2   \n",
              "24814  Verbo de Ligação      fosse  interaction           4  Halvf7QSu2   \n",
              "\n",
              "                    draggedTag  isMistake  \n",
              "0                      Pronome       True  \n",
              "1      Conjunção Subordinativa       True  \n",
              "2                    Pontuação      False  \n",
              "3                    Pontuação      False  \n",
              "4                  Substantivo      False  \n",
              "...                        ...        ...  \n",
              "24810                Pontuação      False  \n",
              "24811                Pontuação      False  \n",
              "24812                    Verbo       True  \n",
              "24813         Verbo de Ligação       True  \n",
              "24814                    Verbo       True  \n",
              "\n",
              "[24815 rows x 7 columns]"
            ]
          },
          "execution_count": 4,
          "metadata": {},
          "output_type": "execute_result"
        }
      ],
      "source": [
        "df_interaction"
      ]
    },
    {
      "cell_type": "code",
      "execution_count": 5,
      "metadata": {
        "colab": {
          "base_uri": "https://localhost:8080/",
          "height": 178
        },
        "id": "IF92olqUyYOL",
        "outputId": "06305867-443d-4b0d-ba0a-ce524612f77b"
      },
      "outputs": [
        {
          "data": {
            "text/plain": [
              "True     13599\n",
              "False    11216\n",
              "Name: isMistake, dtype: int64"
            ]
          },
          "execution_count": 5,
          "metadata": {},
          "output_type": "execute_result"
        }
      ],
      "source": [
        "df_interaction.isMistake.value_counts()"
      ]
    },
    {
      "cell_type": "code",
      "execution_count": 6,
      "metadata": {
        "colab": {
          "base_uri": "https://localhost:8080/",
          "height": 178
        },
        "id": "LNYjF3eEyYLb",
        "outputId": "988bc3ad-f148-419a-ac3f-beac59fd3bbd"
      },
      "outputs": [
        {
          "data": {
            "text/plain": [
              "True     0.548015\n",
              "False    0.451985\n",
              "Name: isMistake, dtype: float64"
            ]
          },
          "execution_count": 6,
          "metadata": {},
          "output_type": "execute_result"
        }
      ],
      "source": [
        "df_interaction.isMistake.value_counts(True)"
      ]
    },
    {
      "cell_type": "code",
      "execution_count": 7,
      "metadata": {
        "id": "REXVGxun2kEL"
      },
      "outputs": [],
      "source": [
        "df_interaction.to_pickle(\"interaction_data_250603.pkl\")"
      ]
    },
    {
      "cell_type": "markdown",
      "metadata": {
        "id": "C7vq10GB1628"
      },
      "source": [
        "### Session data"
      ]
    },
    {
      "cell_type": "code",
      "execution_count": 9,
      "metadata": {
        "colab": {
          "base_uri": "https://localhost:8080/",
          "height": 424
        },
        "id": "Z02Nho2wxIxr",
        "outputId": "3ad73025-f788-4bb1-9e4b-0d74be2e989f"
      },
      "outputs": [
        {
          "data": {
            "text/html": [
              "<div>\n",
              "<style scoped>\n",
              "    .dataframe tbody tr th:only-of-type {\n",
              "        vertical-align: middle;\n",
              "    }\n",
              "\n",
              "    .dataframe tbody tr th {\n",
              "        vertical-align: top;\n",
              "    }\n",
              "\n",
              "    .dataframe thead th {\n",
              "        text-align: right;\n",
              "    }\n",
              "</style>\n",
              "<table border=\"1\" class=\"dataframe\">\n",
              "  <thead>\n",
              "    <tr style=\"text-align: right;\">\n",
              "      <th></th>\n",
              "      <th>startTime</th>\n",
              "      <th>serie</th>\n",
              "      <th>words</th>\n",
              "      <th>eventType</th>\n",
              "      <th>sessionId</th>\n",
              "    </tr>\n",
              "  </thead>\n",
              "  <tbody>\n",
              "    <tr>\n",
              "      <th>0</th>\n",
              "      <td>2025-05-27 00:49:01.547000+00:00</td>\n",
              "      <td>5-ensino-fundamental</td>\n",
              "      <td>[{'tag': 'Verbo', 'word': 'Será'}, {'tag': 'Co...</td>\n",
              "      <td>new-session</td>\n",
              "      <td>xqEk5ZfKaG</td>\n",
              "    </tr>\n",
              "    <tr>\n",
              "      <th>1</th>\n",
              "      <td>2025-05-27 01:01:42.509000+00:00</td>\n",
              "      <td>5-ensino-fundamental</td>\n",
              "      <td>[{'tag': 'Nome Próprio', 'word': 'Ufa'}, {'tag...</td>\n",
              "      <td>new-session</td>\n",
              "      <td>uQY36KP907</td>\n",
              "    </tr>\n",
              "    <tr>\n",
              "      <th>2</th>\n",
              "      <td>2025-05-27 11:11:54.325000+00:00</td>\n",
              "      <td>6-ensino-fundamental</td>\n",
              "      <td>[{'tag': 'Artigo', 'word': 'A'}, {'tag': 'Subs...</td>\n",
              "      <td>new-session</td>\n",
              "      <td>X2RK9EgWWZ</td>\n",
              "    </tr>\n",
              "    <tr>\n",
              "      <th>3</th>\n",
              "      <td>2025-05-27 11:12:37.255000+00:00</td>\n",
              "      <td>2-ensino-medio</td>\n",
              "      <td>[{'tag': 'Pronome', 'word': 'Você'}, {'tag': '...</td>\n",
              "      <td>new-session</td>\n",
              "      <td>IONQQWNtUo</td>\n",
              "    </tr>\n",
              "    <tr>\n",
              "      <th>4</th>\n",
              "      <td>2025-05-27 12:21:30.712000+00:00</td>\n",
              "      <td>1-ensino-medio</td>\n",
              "      <td>[{'tag': 'Advérbio', 'word': 'Depois'}, {'tag'...</td>\n",
              "      <td>new-session</td>\n",
              "      <td>brmbB7P32D</td>\n",
              "    </tr>\n",
              "    <tr>\n",
              "      <th>...</th>\n",
              "      <td>...</td>\n",
              "      <td>...</td>\n",
              "      <td>...</td>\n",
              "      <td>...</td>\n",
              "      <td>...</td>\n",
              "    </tr>\n",
              "    <tr>\n",
              "      <th>1927</th>\n",
              "      <td>2025-06-03 16:46:46.587000+00:00</td>\n",
              "      <td>7-ensino-fundamental</td>\n",
              "      <td>[{'tag': 'Artigo', 'word': 'O'}, {'tag': 'Subs...</td>\n",
              "      <td>new-session</td>\n",
              "      <td>asyXKyUXZY</td>\n",
              "    </tr>\n",
              "    <tr>\n",
              "      <th>1928</th>\n",
              "      <td>2025-06-03 16:47:40.076000+00:00</td>\n",
              "      <td>7-ensino-fundamental</td>\n",
              "      <td>[{'tag': 'Nome Próprio', 'word': 'Maria'}, {'t...</td>\n",
              "      <td>new-session</td>\n",
              "      <td>wb93AUnw5X</td>\n",
              "    </tr>\n",
              "    <tr>\n",
              "      <th>1929</th>\n",
              "      <td>2025-06-03 16:48:19.059000+00:00</td>\n",
              "      <td>9-ensino-fundamental</td>\n",
              "      <td>[{'tag': 'Nome Próprio', 'word': 'Ufa'}, {'tag...</td>\n",
              "      <td>new-session</td>\n",
              "      <td>Halvf7QSu2</td>\n",
              "    </tr>\n",
              "    <tr>\n",
              "      <th>1930</th>\n",
              "      <td>2025-06-03 16:49:24.637000+00:00</td>\n",
              "      <td>4-ensino-fundamental</td>\n",
              "      <td>[{'tag': 'Interjeição', 'word': 'Meu'}, {'tag'...</td>\n",
              "      <td>new-session</td>\n",
              "      <td>-K94pJeV9q</td>\n",
              "    </tr>\n",
              "    <tr>\n",
              "      <th>1931</th>\n",
              "      <td>2025-06-03 16:49:32.417000+00:00</td>\n",
              "      <td>3-ensino-medio</td>\n",
              "      <td>[{'tag': 'Artigo', 'word': 'Meu'}, {'tag': 'Su...</td>\n",
              "      <td>new-session</td>\n",
              "      <td>MC4IR9gtS9</td>\n",
              "    </tr>\n",
              "  </tbody>\n",
              "</table>\n",
              "<p>1932 rows × 5 columns</p>\n",
              "</div>"
            ],
            "text/plain": [
              "                             startTime                 serie  \\\n",
              "0     2025-05-27 00:49:01.547000+00:00  5-ensino-fundamental   \n",
              "1     2025-05-27 01:01:42.509000+00:00  5-ensino-fundamental   \n",
              "2     2025-05-27 11:11:54.325000+00:00  6-ensino-fundamental   \n",
              "3     2025-05-27 11:12:37.255000+00:00        2-ensino-medio   \n",
              "4     2025-05-27 12:21:30.712000+00:00        1-ensino-medio   \n",
              "...                                ...                   ...   \n",
              "1927  2025-06-03 16:46:46.587000+00:00  7-ensino-fundamental   \n",
              "1928  2025-06-03 16:47:40.076000+00:00  7-ensino-fundamental   \n",
              "1929  2025-06-03 16:48:19.059000+00:00  9-ensino-fundamental   \n",
              "1930  2025-06-03 16:49:24.637000+00:00  4-ensino-fundamental   \n",
              "1931  2025-06-03 16:49:32.417000+00:00        3-ensino-medio   \n",
              "\n",
              "                                                  words    eventType  \\\n",
              "0     [{'tag': 'Verbo', 'word': 'Será'}, {'tag': 'Co...  new-session   \n",
              "1     [{'tag': 'Nome Próprio', 'word': 'Ufa'}, {'tag...  new-session   \n",
              "2     [{'tag': 'Artigo', 'word': 'A'}, {'tag': 'Subs...  new-session   \n",
              "3     [{'tag': 'Pronome', 'word': 'Você'}, {'tag': '...  new-session   \n",
              "4     [{'tag': 'Advérbio', 'word': 'Depois'}, {'tag'...  new-session   \n",
              "...                                                 ...          ...   \n",
              "1927  [{'tag': 'Artigo', 'word': 'O'}, {'tag': 'Subs...  new-session   \n",
              "1928  [{'tag': 'Nome Próprio', 'word': 'Maria'}, {'t...  new-session   \n",
              "1929  [{'tag': 'Nome Próprio', 'word': 'Ufa'}, {'tag...  new-session   \n",
              "1930  [{'tag': 'Interjeição', 'word': 'Meu'}, {'tag'...  new-session   \n",
              "1931  [{'tag': 'Artigo', 'word': 'Meu'}, {'tag': 'Su...  new-session   \n",
              "\n",
              "       sessionId  \n",
              "0     xqEk5ZfKaG  \n",
              "1     uQY36KP907  \n",
              "2     X2RK9EgWWZ  \n",
              "3     IONQQWNtUo  \n",
              "4     brmbB7P32D  \n",
              "...          ...  \n",
              "1927  asyXKyUXZY  \n",
              "1928  wb93AUnw5X  \n",
              "1929  Halvf7QSu2  \n",
              "1930  -K94pJeV9q  \n",
              "1931  MC4IR9gtS9  \n",
              "\n",
              "[1932 rows x 5 columns]"
            ]
          },
          "execution_count": 9,
          "metadata": {},
          "output_type": "execute_result"
        }
      ],
      "source": [
        "df_session = pd.read_csv(\"new_session_data_250603.csv\")\n",
        "df_session"
      ]
    },
    {
      "cell_type": "code",
      "execution_count": 10,
      "metadata": {
        "colab": {
          "base_uri": "https://localhost:8080/",
          "height": 81,
          "referenced_widgets": [
            "bbd4feaef95e4176bc09198701b2befb",
            "2d9dc12f8614404c9f5a4e855c0e7d3a",
            "b6815f06f38a45ef868d274d2a25dfa9",
            "8ac4db59b0264a07a0b30b026e9b8916",
            "da5b9a2e38ea4837be39a18274f8314e",
            "a5b3e034bffe43199e8679fb5b966f6d",
            "47664eb81a1c417e9b822bd53f6ea41b",
            "9e6f81c5c3f94b63ae65ce89a066c318",
            "29658a2a11ca4fdaa1d0b524c3c2fbb9",
            "397cc57488ea451097a3d15b9a4bef55",
            "3e3d14eb83604d3d9f2202410af29cf1",
            "ff196008d5ec484ab46ef0525bf3da50",
            "4236a9a530f243138a358729615bac31",
            "a84dfd519cf842f8a5e6c0e8493b2e45",
            "cb172943fcbd4661b9deb728d4a610e6",
            "93ba4055934c47c882de28c59df0fd1b",
            "2a28249ad80549f69b21723c18427488",
            "b9908783a3d647919284e7bd5fa54dd4",
            "8a9d0d93c5824ae4946d5fd4818d5b2d",
            "d9c38761b708465e9f742055a00daa52",
            "6166ddcaa1cb418cb806be910ee7931d",
            "b89d496a764545c1ba39b12044d3fd8e"
          ]
        },
        "id": "fVpYz-1q3UC6",
        "outputId": "1be87141-88a3-46fe-a7c4-3fcd702383ff"
      },
      "outputs": [
        {
          "name": "stderr",
          "output_type": "stream",
          "text": [
            "100%|██████████| 1932/1932 [00:00<00:00, 14533.78it/s]\n",
            "100%|██████████| 1932/1932 [00:00<00:00, 191361.53it/s]\n"
          ]
        }
      ],
      "source": [
        "# Criando coluna com as frases originais em si\n",
        "df_session['words'] = df_session['words'].progress_apply(lambda x: json.loads(x.replace(\"'\", '\"')))\n",
        "df_session['sentence'] = df_session['words'].progress_apply(lambda x: ' '.join([token_info['word'] for token_info in x]))"
      ]
    },
    {
      "cell_type": "code",
      "execution_count": 11,
      "metadata": {
        "colab": {
          "base_uri": "https://localhost:8080/",
          "height": 424
        },
        "id": "GQ6lulHy3UAI",
        "outputId": "6a81f882-64f9-4c09-99b5-f971e6bfb12f"
      },
      "outputs": [
        {
          "data": {
            "text/html": [
              "<div>\n",
              "<style scoped>\n",
              "    .dataframe tbody tr th:only-of-type {\n",
              "        vertical-align: middle;\n",
              "    }\n",
              "\n",
              "    .dataframe tbody tr th {\n",
              "        vertical-align: top;\n",
              "    }\n",
              "\n",
              "    .dataframe thead th {\n",
              "        text-align: right;\n",
              "    }\n",
              "</style>\n",
              "<table border=\"1\" class=\"dataframe\">\n",
              "  <thead>\n",
              "    <tr style=\"text-align: right;\">\n",
              "      <th></th>\n",
              "      <th>startTime</th>\n",
              "      <th>serie</th>\n",
              "      <th>words</th>\n",
              "      <th>eventType</th>\n",
              "      <th>sessionId</th>\n",
              "      <th>sentence</th>\n",
              "    </tr>\n",
              "  </thead>\n",
              "  <tbody>\n",
              "    <tr>\n",
              "      <th>0</th>\n",
              "      <td>2025-05-27 00:49:01.547000+00:00</td>\n",
              "      <td>5-ensino-fundamental</td>\n",
              "      <td>[{'tag': 'Verbo', 'word': 'Será'}, {'tag': 'Co...</td>\n",
              "      <td>new-session</td>\n",
              "      <td>xqEk5ZfKaG</td>\n",
              "      <td>Será que alguém explicou o que aconteceu na au...</td>\n",
              "    </tr>\n",
              "    <tr>\n",
              "      <th>1</th>\n",
              "      <td>2025-05-27 01:01:42.509000+00:00</td>\n",
              "      <td>5-ensino-fundamental</td>\n",
              "      <td>[{'tag': 'Nome Próprio', 'word': 'Ufa'}, {'tag...</td>\n",
              "      <td>new-session</td>\n",
              "      <td>uQY36KP907</td>\n",
              "      <td>Ufa , achei que não fosse chegar a tempo !</td>\n",
              "    </tr>\n",
              "    <tr>\n",
              "      <th>2</th>\n",
              "      <td>2025-05-27 11:11:54.325000+00:00</td>\n",
              "      <td>6-ensino-fundamental</td>\n",
              "      <td>[{'tag': 'Artigo', 'word': 'A'}, {'tag': 'Subs...</td>\n",
              "      <td>new-session</td>\n",
              "      <td>X2RK9EgWWZ</td>\n",
              "      <td>A folha caiu da árvore .</td>\n",
              "    </tr>\n",
              "    <tr>\n",
              "      <th>3</th>\n",
              "      <td>2025-05-27 11:12:37.255000+00:00</td>\n",
              "      <td>2-ensino-medio</td>\n",
              "      <td>[{'tag': 'Pronome', 'word': 'Você'}, {'tag': '...</td>\n",
              "      <td>new-session</td>\n",
              "      <td>IONQQWNtUo</td>\n",
              "      <td>Você já terminou o dever de casa ?</td>\n",
              "    </tr>\n",
              "    <tr>\n",
              "      <th>4</th>\n",
              "      <td>2025-05-27 12:21:30.712000+00:00</td>\n",
              "      <td>1-ensino-medio</td>\n",
              "      <td>[{'tag': 'Advérbio', 'word': 'Depois'}, {'tag'...</td>\n",
              "      <td>new-session</td>\n",
              "      <td>brmbB7P32D</td>\n",
              "      <td>Depois que o sol se pôs , o frio começou a aum...</td>\n",
              "    </tr>\n",
              "    <tr>\n",
              "      <th>...</th>\n",
              "      <td>...</td>\n",
              "      <td>...</td>\n",
              "      <td>...</td>\n",
              "      <td>...</td>\n",
              "      <td>...</td>\n",
              "      <td>...</td>\n",
              "    </tr>\n",
              "    <tr>\n",
              "      <th>1927</th>\n",
              "      <td>2025-06-03 16:46:46.587000+00:00</td>\n",
              "      <td>7-ensino-fundamental</td>\n",
              "      <td>[{'tag': 'Artigo', 'word': 'O'}, {'tag': 'Subs...</td>\n",
              "      <td>new-session</td>\n",
              "      <td>asyXKyUXZY</td>\n",
              "      <td>O diretor aprovou a ideia dela .</td>\n",
              "    </tr>\n",
              "    <tr>\n",
              "      <th>1928</th>\n",
              "      <td>2025-06-03 16:47:40.076000+00:00</td>\n",
              "      <td>7-ensino-fundamental</td>\n",
              "      <td>[{'tag': 'Nome Próprio', 'word': 'Maria'}, {'t...</td>\n",
              "      <td>new-session</td>\n",
              "      <td>wb93AUnw5X</td>\n",
              "      <td>Maria foi à escola com João .</td>\n",
              "    </tr>\n",
              "    <tr>\n",
              "      <th>1929</th>\n",
              "      <td>2025-06-03 16:48:19.059000+00:00</td>\n",
              "      <td>9-ensino-fundamental</td>\n",
              "      <td>[{'tag': 'Nome Próprio', 'word': 'Ufa'}, {'tag...</td>\n",
              "      <td>new-session</td>\n",
              "      <td>Halvf7QSu2</td>\n",
              "      <td>Ufa , achei que não fosse chegar a tempo !</td>\n",
              "    </tr>\n",
              "    <tr>\n",
              "      <th>1930</th>\n",
              "      <td>2025-06-03 16:49:24.637000+00:00</td>\n",
              "      <td>4-ensino-fundamental</td>\n",
              "      <td>[{'tag': 'Interjeição', 'word': 'Meu'}, {'tag'...</td>\n",
              "      <td>new-session</td>\n",
              "      <td>-K94pJeV9q</td>\n",
              "      <td>Meu caro João , espero que esteja se sentindo ...</td>\n",
              "    </tr>\n",
              "    <tr>\n",
              "      <th>1931</th>\n",
              "      <td>2025-06-03 16:49:32.417000+00:00</td>\n",
              "      <td>3-ensino-medio</td>\n",
              "      <td>[{'tag': 'Artigo', 'word': 'Meu'}, {'tag': 'Su...</td>\n",
              "      <td>new-session</td>\n",
              "      <td>MC4IR9gtS9</td>\n",
              "      <td>Meu amigo João , você veio para a festa ontem ?</td>\n",
              "    </tr>\n",
              "  </tbody>\n",
              "</table>\n",
              "<p>1932 rows × 6 columns</p>\n",
              "</div>"
            ],
            "text/plain": [
              "                             startTime                 serie  \\\n",
              "0     2025-05-27 00:49:01.547000+00:00  5-ensino-fundamental   \n",
              "1     2025-05-27 01:01:42.509000+00:00  5-ensino-fundamental   \n",
              "2     2025-05-27 11:11:54.325000+00:00  6-ensino-fundamental   \n",
              "3     2025-05-27 11:12:37.255000+00:00        2-ensino-medio   \n",
              "4     2025-05-27 12:21:30.712000+00:00        1-ensino-medio   \n",
              "...                                ...                   ...   \n",
              "1927  2025-06-03 16:46:46.587000+00:00  7-ensino-fundamental   \n",
              "1928  2025-06-03 16:47:40.076000+00:00  7-ensino-fundamental   \n",
              "1929  2025-06-03 16:48:19.059000+00:00  9-ensino-fundamental   \n",
              "1930  2025-06-03 16:49:24.637000+00:00  4-ensino-fundamental   \n",
              "1931  2025-06-03 16:49:32.417000+00:00        3-ensino-medio   \n",
              "\n",
              "                                                  words    eventType  \\\n",
              "0     [{'tag': 'Verbo', 'word': 'Será'}, {'tag': 'Co...  new-session   \n",
              "1     [{'tag': 'Nome Próprio', 'word': 'Ufa'}, {'tag...  new-session   \n",
              "2     [{'tag': 'Artigo', 'word': 'A'}, {'tag': 'Subs...  new-session   \n",
              "3     [{'tag': 'Pronome', 'word': 'Você'}, {'tag': '...  new-session   \n",
              "4     [{'tag': 'Advérbio', 'word': 'Depois'}, {'tag'...  new-session   \n",
              "...                                                 ...          ...   \n",
              "1927  [{'tag': 'Artigo', 'word': 'O'}, {'tag': 'Subs...  new-session   \n",
              "1928  [{'tag': 'Nome Próprio', 'word': 'Maria'}, {'t...  new-session   \n",
              "1929  [{'tag': 'Nome Próprio', 'word': 'Ufa'}, {'tag...  new-session   \n",
              "1930  [{'tag': 'Interjeição', 'word': 'Meu'}, {'tag'...  new-session   \n",
              "1931  [{'tag': 'Artigo', 'word': 'Meu'}, {'tag': 'Su...  new-session   \n",
              "\n",
              "       sessionId                                           sentence  \n",
              "0     xqEk5ZfKaG  Será que alguém explicou o que aconteceu na au...  \n",
              "1     uQY36KP907         Ufa , achei que não fosse chegar a tempo !  \n",
              "2     X2RK9EgWWZ                           A folha caiu da árvore .  \n",
              "3     IONQQWNtUo                 Você já terminou o dever de casa ?  \n",
              "4     brmbB7P32D  Depois que o sol se pôs , o frio começou a aum...  \n",
              "...          ...                                                ...  \n",
              "1927  asyXKyUXZY                   O diretor aprovou a ideia dela .  \n",
              "1928  wb93AUnw5X                      Maria foi à escola com João .  \n",
              "1929  Halvf7QSu2         Ufa , achei que não fosse chegar a tempo !  \n",
              "1930  -K94pJeV9q  Meu caro João , espero que esteja se sentindo ...  \n",
              "1931  MC4IR9gtS9    Meu amigo João , você veio para a festa ontem ?  \n",
              "\n",
              "[1932 rows x 6 columns]"
            ]
          },
          "execution_count": 11,
          "metadata": {},
          "output_type": "execute_result"
        }
      ],
      "source": [
        "df_session"
      ]
    },
    {
      "cell_type": "code",
      "execution_count": 12,
      "metadata": {
        "id": "p7Vm0xdi3T9X"
      },
      "outputs": [],
      "source": [
        "df_session.to_pickle('session_dat250603.pkl')"
      ]
    },
    {
      "cell_type": "markdown",
      "metadata": {
        "id": "B8faCVya18Rw"
      },
      "source": [
        "### Juntando os dataframes"
      ]
    },
    {
      "cell_type": "code",
      "execution_count": 13,
      "metadata": {
        "id": "dchZxg-Y2p0U"
      },
      "outputs": [
        {
          "ename": "FileNotFoundError",
          "evalue": "[Errno 2] No such file or directory: 'session_data_250603.pkl'",
          "output_type": "error",
          "traceback": [
            "\u001b[0;31m---------------------------------------------------------------------------\u001b[0m",
            "\u001b[0;31mFileNotFoundError\u001b[0m                         Traceback (most recent call last)",
            "\u001b[0;32m/tmp/ipykernel_3394277/2191088651.py\u001b[0m in \u001b[0;36m<module>\u001b[0;34m\u001b[0m\n\u001b[0;32m----> 1\u001b[0;31m \u001b[0mdf_session\u001b[0m \u001b[0;34m=\u001b[0m \u001b[0mpd\u001b[0m\u001b[0;34m.\u001b[0m\u001b[0mread_pickle\u001b[0m\u001b[0;34m(\u001b[0m\u001b[0;34m\"session_data_250603.pkl\"\u001b[0m\u001b[0;34m)\u001b[0m\u001b[0;34m\u001b[0m\u001b[0;34m\u001b[0m\u001b[0m\n\u001b[0m\u001b[1;32m      2\u001b[0m \u001b[0mdf_interaction\u001b[0m \u001b[0;34m=\u001b[0m \u001b[0mpd\u001b[0m\u001b[0;34m.\u001b[0m\u001b[0mread_pickle\u001b[0m\u001b[0;34m(\u001b[0m\u001b[0;34m\"interaction_data_250603.pkl\"\u001b[0m\u001b[0;34m)\u001b[0m\u001b[0;34m\u001b[0m\u001b[0;34m\u001b[0m\u001b[0m\n",
            "\u001b[0;32m~/anaconda3/envs/symbolic_transformer/lib/python3.7/site-packages/pandas/io/pickle.py\u001b[0m in \u001b[0;36mread_pickle\u001b[0;34m(filepath_or_buffer, compression, storage_options)\u001b[0m\n\u001b[1;32m    199\u001b[0m         \u001b[0mcompression\u001b[0m\u001b[0;34m=\u001b[0m\u001b[0mcompression\u001b[0m\u001b[0;34m,\u001b[0m\u001b[0;34m\u001b[0m\u001b[0;34m\u001b[0m\u001b[0m\n\u001b[1;32m    200\u001b[0m         \u001b[0mis_text\u001b[0m\u001b[0;34m=\u001b[0m\u001b[0;32mFalse\u001b[0m\u001b[0;34m,\u001b[0m\u001b[0;34m\u001b[0m\u001b[0;34m\u001b[0m\u001b[0m\n\u001b[0;32m--> 201\u001b[0;31m         \u001b[0mstorage_options\u001b[0m\u001b[0;34m=\u001b[0m\u001b[0mstorage_options\u001b[0m\u001b[0;34m,\u001b[0m\u001b[0;34m\u001b[0m\u001b[0;34m\u001b[0m\u001b[0m\n\u001b[0m\u001b[1;32m    202\u001b[0m     ) as handles:\n\u001b[1;32m    203\u001b[0m \u001b[0;34m\u001b[0m\u001b[0m\n",
            "\u001b[0;32m~/anaconda3/envs/symbolic_transformer/lib/python3.7/site-packages/pandas/io/common.py\u001b[0m in \u001b[0;36mget_handle\u001b[0;34m(path_or_buf, mode, encoding, compression, memory_map, is_text, errors, storage_options)\u001b[0m\n\u001b[1;32m    709\u001b[0m         \u001b[0;32melse\u001b[0m\u001b[0;34m:\u001b[0m\u001b[0;34m\u001b[0m\u001b[0;34m\u001b[0m\u001b[0m\n\u001b[1;32m    710\u001b[0m             \u001b[0;31m# Binary mode\u001b[0m\u001b[0;34m\u001b[0m\u001b[0;34m\u001b[0m\u001b[0;34m\u001b[0m\u001b[0m\n\u001b[0;32m--> 711\u001b[0;31m             \u001b[0mhandle\u001b[0m \u001b[0;34m=\u001b[0m \u001b[0mopen\u001b[0m\u001b[0;34m(\u001b[0m\u001b[0mhandle\u001b[0m\u001b[0;34m,\u001b[0m \u001b[0mioargs\u001b[0m\u001b[0;34m.\u001b[0m\u001b[0mmode\u001b[0m\u001b[0;34m)\u001b[0m\u001b[0;34m\u001b[0m\u001b[0;34m\u001b[0m\u001b[0m\n\u001b[0m\u001b[1;32m    712\u001b[0m         \u001b[0mhandles\u001b[0m\u001b[0;34m.\u001b[0m\u001b[0mappend\u001b[0m\u001b[0;34m(\u001b[0m\u001b[0mhandle\u001b[0m\u001b[0;34m)\u001b[0m\u001b[0;34m\u001b[0m\u001b[0;34m\u001b[0m\u001b[0m\n\u001b[1;32m    713\u001b[0m \u001b[0;34m\u001b[0m\u001b[0m\n",
            "\u001b[0;31mFileNotFoundError\u001b[0m: [Errno 2] No such file or directory: 'session_data_250603.pkl'"
          ]
        }
      ],
      "source": [
        "df_session = pd.read_pickle(\"session_data_250603.pkl\")\n",
        "df_interaction = pd.read_pickle(\"interaction_data_250603.pkl\")"
      ]
    },
    {
      "cell_type": "code",
      "execution_count": 14,
      "metadata": {
        "colab": {
          "base_uri": "https://localhost:8080/",
          "height": 424
        },
        "id": "FjJbIwzN6hub",
        "outputId": "8093d203-1bc0-4489-94bb-7de6d2ad6721"
      },
      "outputs": [
        {
          "data": {
            "text/html": [
              "<div>\n",
              "<style scoped>\n",
              "    .dataframe tbody tr th:only-of-type {\n",
              "        vertical-align: middle;\n",
              "    }\n",
              "\n",
              "    .dataframe tbody tr th {\n",
              "        vertical-align: top;\n",
              "    }\n",
              "\n",
              "    .dataframe thead th {\n",
              "        text-align: right;\n",
              "    }\n",
              "</style>\n",
              "<table border=\"1\" class=\"dataframe\">\n",
              "  <thead>\n",
              "    <tr style=\"text-align: right;\">\n",
              "      <th></th>\n",
              "      <th>startTime</th>\n",
              "      <th>serie</th>\n",
              "      <th>words</th>\n",
              "      <th>eventType</th>\n",
              "      <th>sessionId</th>\n",
              "      <th>sentence</th>\n",
              "    </tr>\n",
              "  </thead>\n",
              "  <tbody>\n",
              "    <tr>\n",
              "      <th>0</th>\n",
              "      <td>2025-05-27 00:49:01.547000+00:00</td>\n",
              "      <td>5-ensino-fundamental</td>\n",
              "      <td>[{'tag': 'Verbo', 'word': 'Será'}, {'tag': 'Co...</td>\n",
              "      <td>new-session</td>\n",
              "      <td>xqEk5ZfKaG</td>\n",
              "      <td>Será que alguém explicou o que aconteceu na au...</td>\n",
              "    </tr>\n",
              "    <tr>\n",
              "      <th>1</th>\n",
              "      <td>2025-05-27 01:01:42.509000+00:00</td>\n",
              "      <td>5-ensino-fundamental</td>\n",
              "      <td>[{'tag': 'Nome Próprio', 'word': 'Ufa'}, {'tag...</td>\n",
              "      <td>new-session</td>\n",
              "      <td>uQY36KP907</td>\n",
              "      <td>Ufa , achei que não fosse chegar a tempo !</td>\n",
              "    </tr>\n",
              "    <tr>\n",
              "      <th>2</th>\n",
              "      <td>2025-05-27 11:11:54.325000+00:00</td>\n",
              "      <td>6-ensino-fundamental</td>\n",
              "      <td>[{'tag': 'Artigo', 'word': 'A'}, {'tag': 'Subs...</td>\n",
              "      <td>new-session</td>\n",
              "      <td>X2RK9EgWWZ</td>\n",
              "      <td>A folha caiu da árvore .</td>\n",
              "    </tr>\n",
              "    <tr>\n",
              "      <th>3</th>\n",
              "      <td>2025-05-27 11:12:37.255000+00:00</td>\n",
              "      <td>2-ensino-medio</td>\n",
              "      <td>[{'tag': 'Pronome', 'word': 'Você'}, {'tag': '...</td>\n",
              "      <td>new-session</td>\n",
              "      <td>IONQQWNtUo</td>\n",
              "      <td>Você já terminou o dever de casa ?</td>\n",
              "    </tr>\n",
              "    <tr>\n",
              "      <th>4</th>\n",
              "      <td>2025-05-27 12:21:30.712000+00:00</td>\n",
              "      <td>1-ensino-medio</td>\n",
              "      <td>[{'tag': 'Advérbio', 'word': 'Depois'}, {'tag'...</td>\n",
              "      <td>new-session</td>\n",
              "      <td>brmbB7P32D</td>\n",
              "      <td>Depois que o sol se pôs , o frio começou a aum...</td>\n",
              "    </tr>\n",
              "    <tr>\n",
              "      <th>...</th>\n",
              "      <td>...</td>\n",
              "      <td>...</td>\n",
              "      <td>...</td>\n",
              "      <td>...</td>\n",
              "      <td>...</td>\n",
              "      <td>...</td>\n",
              "    </tr>\n",
              "    <tr>\n",
              "      <th>1927</th>\n",
              "      <td>2025-06-03 16:46:46.587000+00:00</td>\n",
              "      <td>7-ensino-fundamental</td>\n",
              "      <td>[{'tag': 'Artigo', 'word': 'O'}, {'tag': 'Subs...</td>\n",
              "      <td>new-session</td>\n",
              "      <td>asyXKyUXZY</td>\n",
              "      <td>O diretor aprovou a ideia dela .</td>\n",
              "    </tr>\n",
              "    <tr>\n",
              "      <th>1928</th>\n",
              "      <td>2025-06-03 16:47:40.076000+00:00</td>\n",
              "      <td>7-ensino-fundamental</td>\n",
              "      <td>[{'tag': 'Nome Próprio', 'word': 'Maria'}, {'t...</td>\n",
              "      <td>new-session</td>\n",
              "      <td>wb93AUnw5X</td>\n",
              "      <td>Maria foi à escola com João .</td>\n",
              "    </tr>\n",
              "    <tr>\n",
              "      <th>1929</th>\n",
              "      <td>2025-06-03 16:48:19.059000+00:00</td>\n",
              "      <td>9-ensino-fundamental</td>\n",
              "      <td>[{'tag': 'Nome Próprio', 'word': 'Ufa'}, {'tag...</td>\n",
              "      <td>new-session</td>\n",
              "      <td>Halvf7QSu2</td>\n",
              "      <td>Ufa , achei que não fosse chegar a tempo !</td>\n",
              "    </tr>\n",
              "    <tr>\n",
              "      <th>1930</th>\n",
              "      <td>2025-06-03 16:49:24.637000+00:00</td>\n",
              "      <td>4-ensino-fundamental</td>\n",
              "      <td>[{'tag': 'Interjeição', 'word': 'Meu'}, {'tag'...</td>\n",
              "      <td>new-session</td>\n",
              "      <td>-K94pJeV9q</td>\n",
              "      <td>Meu caro João , espero que esteja se sentindo ...</td>\n",
              "    </tr>\n",
              "    <tr>\n",
              "      <th>1931</th>\n",
              "      <td>2025-06-03 16:49:32.417000+00:00</td>\n",
              "      <td>3-ensino-medio</td>\n",
              "      <td>[{'tag': 'Artigo', 'word': 'Meu'}, {'tag': 'Su...</td>\n",
              "      <td>new-session</td>\n",
              "      <td>MC4IR9gtS9</td>\n",
              "      <td>Meu amigo João , você veio para a festa ontem ?</td>\n",
              "    </tr>\n",
              "  </tbody>\n",
              "</table>\n",
              "<p>1932 rows × 6 columns</p>\n",
              "</div>"
            ],
            "text/plain": [
              "                             startTime                 serie  \\\n",
              "0     2025-05-27 00:49:01.547000+00:00  5-ensino-fundamental   \n",
              "1     2025-05-27 01:01:42.509000+00:00  5-ensino-fundamental   \n",
              "2     2025-05-27 11:11:54.325000+00:00  6-ensino-fundamental   \n",
              "3     2025-05-27 11:12:37.255000+00:00        2-ensino-medio   \n",
              "4     2025-05-27 12:21:30.712000+00:00        1-ensino-medio   \n",
              "...                                ...                   ...   \n",
              "1927  2025-06-03 16:46:46.587000+00:00  7-ensino-fundamental   \n",
              "1928  2025-06-03 16:47:40.076000+00:00  7-ensino-fundamental   \n",
              "1929  2025-06-03 16:48:19.059000+00:00  9-ensino-fundamental   \n",
              "1930  2025-06-03 16:49:24.637000+00:00  4-ensino-fundamental   \n",
              "1931  2025-06-03 16:49:32.417000+00:00        3-ensino-medio   \n",
              "\n",
              "                                                  words    eventType  \\\n",
              "0     [{'tag': 'Verbo', 'word': 'Será'}, {'tag': 'Co...  new-session   \n",
              "1     [{'tag': 'Nome Próprio', 'word': 'Ufa'}, {'tag...  new-session   \n",
              "2     [{'tag': 'Artigo', 'word': 'A'}, {'tag': 'Subs...  new-session   \n",
              "3     [{'tag': 'Pronome', 'word': 'Você'}, {'tag': '...  new-session   \n",
              "4     [{'tag': 'Advérbio', 'word': 'Depois'}, {'tag'...  new-session   \n",
              "...                                                 ...          ...   \n",
              "1927  [{'tag': 'Artigo', 'word': 'O'}, {'tag': 'Subs...  new-session   \n",
              "1928  [{'tag': 'Nome Próprio', 'word': 'Maria'}, {'t...  new-session   \n",
              "1929  [{'tag': 'Nome Próprio', 'word': 'Ufa'}, {'tag...  new-session   \n",
              "1930  [{'tag': 'Interjeição', 'word': 'Meu'}, {'tag'...  new-session   \n",
              "1931  [{'tag': 'Artigo', 'word': 'Meu'}, {'tag': 'Su...  new-session   \n",
              "\n",
              "       sessionId                                           sentence  \n",
              "0     xqEk5ZfKaG  Será que alguém explicou o que aconteceu na au...  \n",
              "1     uQY36KP907         Ufa , achei que não fosse chegar a tempo !  \n",
              "2     X2RK9EgWWZ                           A folha caiu da árvore .  \n",
              "3     IONQQWNtUo                 Você já terminou o dever de casa ?  \n",
              "4     brmbB7P32D  Depois que o sol se pôs , o frio começou a aum...  \n",
              "...          ...                                                ...  \n",
              "1927  asyXKyUXZY                   O diretor aprovou a ideia dela .  \n",
              "1928  wb93AUnw5X                      Maria foi à escola com João .  \n",
              "1929  Halvf7QSu2         Ufa , achei que não fosse chegar a tempo !  \n",
              "1930  -K94pJeV9q  Meu caro João , espero que esteja se sentindo ...  \n",
              "1931  MC4IR9gtS9    Meu amigo João , você veio para a festa ontem ?  \n",
              "\n",
              "[1932 rows x 6 columns]"
            ]
          },
          "execution_count": 14,
          "metadata": {},
          "output_type": "execute_result"
        }
      ],
      "source": [
        "df_session"
      ]
    },
    {
      "cell_type": "code",
      "execution_count": 15,
      "metadata": {
        "colab": {
          "base_uri": "https://localhost:8080/",
          "height": 424
        },
        "id": "iFvIPe7S6jB3",
        "outputId": "f5301a6a-03d6-4edf-b2cd-62cc1180c9f5"
      },
      "outputs": [
        {
          "data": {
            "text/html": [
              "<div>\n",
              "<style scoped>\n",
              "    .dataframe tbody tr th:only-of-type {\n",
              "        vertical-align: middle;\n",
              "    }\n",
              "\n",
              "    .dataframe tbody tr th {\n",
              "        vertical-align: top;\n",
              "    }\n",
              "\n",
              "    .dataframe thead th {\n",
              "        text-align: right;\n",
              "    }\n",
              "</style>\n",
              "<table border=\"1\" class=\"dataframe\">\n",
              "  <thead>\n",
              "    <tr style=\"text-align: right;\">\n",
              "      <th></th>\n",
              "      <th>correctTag</th>\n",
              "      <th>targetWord</th>\n",
              "      <th>eventType</th>\n",
              "      <th>orderingId</th>\n",
              "      <th>sessionId</th>\n",
              "      <th>draggedTag</th>\n",
              "      <th>isMistake</th>\n",
              "    </tr>\n",
              "  </thead>\n",
              "  <tbody>\n",
              "    <tr>\n",
              "      <th>0</th>\n",
              "      <td>Verbo</td>\n",
              "      <td>Será</td>\n",
              "      <td>interaction</td>\n",
              "      <td>0</td>\n",
              "      <td>xqEk5ZfKaG</td>\n",
              "      <td>Pronome</td>\n",
              "      <td>True</td>\n",
              "    </tr>\n",
              "    <tr>\n",
              "      <th>1</th>\n",
              "      <td>Verbo</td>\n",
              "      <td>Será</td>\n",
              "      <td>interaction</td>\n",
              "      <td>1</td>\n",
              "      <td>xqEk5ZfKaG</td>\n",
              "      <td>Conjunção Subordinativa</td>\n",
              "      <td>True</td>\n",
              "    </tr>\n",
              "    <tr>\n",
              "      <th>2</th>\n",
              "      <td>Pontuação</td>\n",
              "      <td>,</td>\n",
              "      <td>interaction</td>\n",
              "      <td>0</td>\n",
              "      <td>uQY36KP907</td>\n",
              "      <td>Pontuação</td>\n",
              "      <td>False</td>\n",
              "    </tr>\n",
              "    <tr>\n",
              "      <th>3</th>\n",
              "      <td>Pontuação</td>\n",
              "      <td>!</td>\n",
              "      <td>interaction</td>\n",
              "      <td>1</td>\n",
              "      <td>uQY36KP907</td>\n",
              "      <td>Pontuação</td>\n",
              "      <td>False</td>\n",
              "    </tr>\n",
              "    <tr>\n",
              "      <th>4</th>\n",
              "      <td>Substantivo</td>\n",
              "      <td>árvore</td>\n",
              "      <td>interaction</td>\n",
              "      <td>0</td>\n",
              "      <td>X2RK9EgWWZ</td>\n",
              "      <td>Substantivo</td>\n",
              "      <td>False</td>\n",
              "    </tr>\n",
              "    <tr>\n",
              "      <th>...</th>\n",
              "      <td>...</td>\n",
              "      <td>...</td>\n",
              "      <td>...</td>\n",
              "      <td>...</td>\n",
              "      <td>...</td>\n",
              "      <td>...</td>\n",
              "      <td>...</td>\n",
              "    </tr>\n",
              "    <tr>\n",
              "      <th>24810</th>\n",
              "      <td>Pontuação</td>\n",
              "      <td>,</td>\n",
              "      <td>interaction</td>\n",
              "      <td>0</td>\n",
              "      <td>Halvf7QSu2</td>\n",
              "      <td>Pontuação</td>\n",
              "      <td>False</td>\n",
              "    </tr>\n",
              "    <tr>\n",
              "      <th>24811</th>\n",
              "      <td>Pontuação</td>\n",
              "      <td>!</td>\n",
              "      <td>interaction</td>\n",
              "      <td>1</td>\n",
              "      <td>Halvf7QSu2</td>\n",
              "      <td>Pontuação</td>\n",
              "      <td>False</td>\n",
              "    </tr>\n",
              "    <tr>\n",
              "      <th>24812</th>\n",
              "      <td>Verbo de Ligação</td>\n",
              "      <td>fosse</td>\n",
              "      <td>interaction</td>\n",
              "      <td>2</td>\n",
              "      <td>Halvf7QSu2</td>\n",
              "      <td>Verbo</td>\n",
              "      <td>True</td>\n",
              "    </tr>\n",
              "    <tr>\n",
              "      <th>24813</th>\n",
              "      <td>Verbo</td>\n",
              "      <td>chegar</td>\n",
              "      <td>interaction</td>\n",
              "      <td>3</td>\n",
              "      <td>Halvf7QSu2</td>\n",
              "      <td>Verbo de Ligação</td>\n",
              "      <td>True</td>\n",
              "    </tr>\n",
              "    <tr>\n",
              "      <th>24814</th>\n",
              "      <td>Verbo de Ligação</td>\n",
              "      <td>fosse</td>\n",
              "      <td>interaction</td>\n",
              "      <td>4</td>\n",
              "      <td>Halvf7QSu2</td>\n",
              "      <td>Verbo</td>\n",
              "      <td>True</td>\n",
              "    </tr>\n",
              "  </tbody>\n",
              "</table>\n",
              "<p>24815 rows × 7 columns</p>\n",
              "</div>"
            ],
            "text/plain": [
              "             correctTag targetWord    eventType  orderingId   sessionId  \\\n",
              "0                 Verbo       Será  interaction           0  xqEk5ZfKaG   \n",
              "1                 Verbo       Será  interaction           1  xqEk5ZfKaG   \n",
              "2             Pontuação          ,  interaction           0  uQY36KP907   \n",
              "3             Pontuação          !  interaction           1  uQY36KP907   \n",
              "4           Substantivo     árvore  interaction           0  X2RK9EgWWZ   \n",
              "...                 ...        ...          ...         ...         ...   \n",
              "24810         Pontuação          ,  interaction           0  Halvf7QSu2   \n",
              "24811         Pontuação          !  interaction           1  Halvf7QSu2   \n",
              "24812  Verbo de Ligação      fosse  interaction           2  Halvf7QSu2   \n",
              "24813             Verbo     chegar  interaction           3  Halvf7QSu2   \n",
              "24814  Verbo de Ligação      fosse  interaction           4  Halvf7QSu2   \n",
              "\n",
              "                    draggedTag  isMistake  \n",
              "0                      Pronome       True  \n",
              "1      Conjunção Subordinativa       True  \n",
              "2                    Pontuação      False  \n",
              "3                    Pontuação      False  \n",
              "4                  Substantivo      False  \n",
              "...                        ...        ...  \n",
              "24810                Pontuação      False  \n",
              "24811                Pontuação      False  \n",
              "24812                    Verbo       True  \n",
              "24813         Verbo de Ligação       True  \n",
              "24814                    Verbo       True  \n",
              "\n",
              "[24815 rows x 7 columns]"
            ]
          },
          "execution_count": 15,
          "metadata": {},
          "output_type": "execute_result"
        }
      ],
      "source": [
        "df_interaction"
      ]
    },
    {
      "cell_type": "code",
      "execution_count": 16,
      "metadata": {
        "colab": {
          "base_uri": "https://localhost:8080/",
          "height": 771
        },
        "id": "IyadFLQmzqAs",
        "outputId": "6b36153e-31fe-4e38-8e84-f3782f35adbc"
      },
      "outputs": [
        {
          "data": {
            "text/html": [
              "<div>\n",
              "<style scoped>\n",
              "    .dataframe tbody tr th:only-of-type {\n",
              "        vertical-align: middle;\n",
              "    }\n",
              "\n",
              "    .dataframe tbody tr th {\n",
              "        vertical-align: top;\n",
              "    }\n",
              "\n",
              "    .dataframe thead th {\n",
              "        text-align: right;\n",
              "    }\n",
              "</style>\n",
              "<table border=\"1\" class=\"dataframe\">\n",
              "  <thead>\n",
              "    <tr style=\"text-align: right;\">\n",
              "      <th></th>\n",
              "      <th>correctTag</th>\n",
              "      <th>targetWord</th>\n",
              "      <th>eventType_x</th>\n",
              "      <th>orderingId</th>\n",
              "      <th>sessionId</th>\n",
              "      <th>draggedTag</th>\n",
              "      <th>isMistake</th>\n",
              "      <th>startTime</th>\n",
              "      <th>serie</th>\n",
              "      <th>words</th>\n",
              "      <th>eventType_y</th>\n",
              "      <th>sentence</th>\n",
              "    </tr>\n",
              "  </thead>\n",
              "  <tbody>\n",
              "    <tr>\n",
              "      <th>0</th>\n",
              "      <td>Verbo</td>\n",
              "      <td>Será</td>\n",
              "      <td>interaction</td>\n",
              "      <td>0</td>\n",
              "      <td>xqEk5ZfKaG</td>\n",
              "      <td>Pronome</td>\n",
              "      <td>True</td>\n",
              "      <td>2025-05-27 00:49:01.547000+00:00</td>\n",
              "      <td>5-ensino-fundamental</td>\n",
              "      <td>[{'tag': 'Verbo', 'word': 'Será'}, {'tag': 'Co...</td>\n",
              "      <td>new-session</td>\n",
              "      <td>Será que alguém explicou o que aconteceu na au...</td>\n",
              "    </tr>\n",
              "    <tr>\n",
              "      <th>1</th>\n",
              "      <td>Verbo</td>\n",
              "      <td>Será</td>\n",
              "      <td>interaction</td>\n",
              "      <td>1</td>\n",
              "      <td>xqEk5ZfKaG</td>\n",
              "      <td>Conjunção Subordinativa</td>\n",
              "      <td>True</td>\n",
              "      <td>2025-05-27 00:49:01.547000+00:00</td>\n",
              "      <td>5-ensino-fundamental</td>\n",
              "      <td>[{'tag': 'Verbo', 'word': 'Será'}, {'tag': 'Co...</td>\n",
              "      <td>new-session</td>\n",
              "      <td>Será que alguém explicou o que aconteceu na au...</td>\n",
              "    </tr>\n",
              "    <tr>\n",
              "      <th>2</th>\n",
              "      <td>Pontuação</td>\n",
              "      <td>,</td>\n",
              "      <td>interaction</td>\n",
              "      <td>0</td>\n",
              "      <td>uQY36KP907</td>\n",
              "      <td>Pontuação</td>\n",
              "      <td>False</td>\n",
              "      <td>2025-05-27 01:01:42.509000+00:00</td>\n",
              "      <td>5-ensino-fundamental</td>\n",
              "      <td>[{'tag': 'Nome Próprio', 'word': 'Ufa'}, {'tag...</td>\n",
              "      <td>new-session</td>\n",
              "      <td>Ufa , achei que não fosse chegar a tempo !</td>\n",
              "    </tr>\n",
              "    <tr>\n",
              "      <th>3</th>\n",
              "      <td>Pontuação</td>\n",
              "      <td>!</td>\n",
              "      <td>interaction</td>\n",
              "      <td>1</td>\n",
              "      <td>uQY36KP907</td>\n",
              "      <td>Pontuação</td>\n",
              "      <td>False</td>\n",
              "      <td>2025-05-27 01:01:42.509000+00:00</td>\n",
              "      <td>5-ensino-fundamental</td>\n",
              "      <td>[{'tag': 'Nome Próprio', 'word': 'Ufa'}, {'tag...</td>\n",
              "      <td>new-session</td>\n",
              "      <td>Ufa , achei que não fosse chegar a tempo !</td>\n",
              "    </tr>\n",
              "    <tr>\n",
              "      <th>4</th>\n",
              "      <td>Substantivo</td>\n",
              "      <td>árvore</td>\n",
              "      <td>interaction</td>\n",
              "      <td>0</td>\n",
              "      <td>X2RK9EgWWZ</td>\n",
              "      <td>Substantivo</td>\n",
              "      <td>False</td>\n",
              "      <td>2025-05-27 11:11:54.325000+00:00</td>\n",
              "      <td>6-ensino-fundamental</td>\n",
              "      <td>[{'tag': 'Artigo', 'word': 'A'}, {'tag': 'Subs...</td>\n",
              "      <td>new-session</td>\n",
              "      <td>A folha caiu da árvore .</td>\n",
              "    </tr>\n",
              "    <tr>\n",
              "      <th>...</th>\n",
              "      <td>...</td>\n",
              "      <td>...</td>\n",
              "      <td>...</td>\n",
              "      <td>...</td>\n",
              "      <td>...</td>\n",
              "      <td>...</td>\n",
              "      <td>...</td>\n",
              "      <td>...</td>\n",
              "      <td>...</td>\n",
              "      <td>...</td>\n",
              "      <td>...</td>\n",
              "      <td>...</td>\n",
              "    </tr>\n",
              "    <tr>\n",
              "      <th>24810</th>\n",
              "      <td>Pontuação</td>\n",
              "      <td>,</td>\n",
              "      <td>interaction</td>\n",
              "      <td>0</td>\n",
              "      <td>Halvf7QSu2</td>\n",
              "      <td>Pontuação</td>\n",
              "      <td>False</td>\n",
              "      <td>2025-06-03 16:48:19.059000+00:00</td>\n",
              "      <td>9-ensino-fundamental</td>\n",
              "      <td>[{'tag': 'Nome Próprio', 'word': 'Ufa'}, {'tag...</td>\n",
              "      <td>new-session</td>\n",
              "      <td>Ufa , achei que não fosse chegar a tempo !</td>\n",
              "    </tr>\n",
              "    <tr>\n",
              "      <th>24811</th>\n",
              "      <td>Pontuação</td>\n",
              "      <td>!</td>\n",
              "      <td>interaction</td>\n",
              "      <td>1</td>\n",
              "      <td>Halvf7QSu2</td>\n",
              "      <td>Pontuação</td>\n",
              "      <td>False</td>\n",
              "      <td>2025-06-03 16:48:19.059000+00:00</td>\n",
              "      <td>9-ensino-fundamental</td>\n",
              "      <td>[{'tag': 'Nome Próprio', 'word': 'Ufa'}, {'tag...</td>\n",
              "      <td>new-session</td>\n",
              "      <td>Ufa , achei que não fosse chegar a tempo !</td>\n",
              "    </tr>\n",
              "    <tr>\n",
              "      <th>24812</th>\n",
              "      <td>Verbo de Ligação</td>\n",
              "      <td>fosse</td>\n",
              "      <td>interaction</td>\n",
              "      <td>2</td>\n",
              "      <td>Halvf7QSu2</td>\n",
              "      <td>Verbo</td>\n",
              "      <td>True</td>\n",
              "      <td>2025-06-03 16:48:19.059000+00:00</td>\n",
              "      <td>9-ensino-fundamental</td>\n",
              "      <td>[{'tag': 'Nome Próprio', 'word': 'Ufa'}, {'tag...</td>\n",
              "      <td>new-session</td>\n",
              "      <td>Ufa , achei que não fosse chegar a tempo !</td>\n",
              "    </tr>\n",
              "    <tr>\n",
              "      <th>24813</th>\n",
              "      <td>Verbo</td>\n",
              "      <td>chegar</td>\n",
              "      <td>interaction</td>\n",
              "      <td>3</td>\n",
              "      <td>Halvf7QSu2</td>\n",
              "      <td>Verbo de Ligação</td>\n",
              "      <td>True</td>\n",
              "      <td>2025-06-03 16:48:19.059000+00:00</td>\n",
              "      <td>9-ensino-fundamental</td>\n",
              "      <td>[{'tag': 'Nome Próprio', 'word': 'Ufa'}, {'tag...</td>\n",
              "      <td>new-session</td>\n",
              "      <td>Ufa , achei que não fosse chegar a tempo !</td>\n",
              "    </tr>\n",
              "    <tr>\n",
              "      <th>24814</th>\n",
              "      <td>Verbo de Ligação</td>\n",
              "      <td>fosse</td>\n",
              "      <td>interaction</td>\n",
              "      <td>4</td>\n",
              "      <td>Halvf7QSu2</td>\n",
              "      <td>Verbo</td>\n",
              "      <td>True</td>\n",
              "      <td>2025-06-03 16:48:19.059000+00:00</td>\n",
              "      <td>9-ensino-fundamental</td>\n",
              "      <td>[{'tag': 'Nome Próprio', 'word': 'Ufa'}, {'tag...</td>\n",
              "      <td>new-session</td>\n",
              "      <td>Ufa , achei que não fosse chegar a tempo !</td>\n",
              "    </tr>\n",
              "  </tbody>\n",
              "</table>\n",
              "<p>24815 rows × 12 columns</p>\n",
              "</div>"
            ],
            "text/plain": [
              "             correctTag targetWord  eventType_x  orderingId   sessionId  \\\n",
              "0                 Verbo       Será  interaction           0  xqEk5ZfKaG   \n",
              "1                 Verbo       Será  interaction           1  xqEk5ZfKaG   \n",
              "2             Pontuação          ,  interaction           0  uQY36KP907   \n",
              "3             Pontuação          !  interaction           1  uQY36KP907   \n",
              "4           Substantivo     árvore  interaction           0  X2RK9EgWWZ   \n",
              "...                 ...        ...          ...         ...         ...   \n",
              "24810         Pontuação          ,  interaction           0  Halvf7QSu2   \n",
              "24811         Pontuação          !  interaction           1  Halvf7QSu2   \n",
              "24812  Verbo de Ligação      fosse  interaction           2  Halvf7QSu2   \n",
              "24813             Verbo     chegar  interaction           3  Halvf7QSu2   \n",
              "24814  Verbo de Ligação      fosse  interaction           4  Halvf7QSu2   \n",
              "\n",
              "                    draggedTag  isMistake                         startTime  \\\n",
              "0                      Pronome       True  2025-05-27 00:49:01.547000+00:00   \n",
              "1      Conjunção Subordinativa       True  2025-05-27 00:49:01.547000+00:00   \n",
              "2                    Pontuação      False  2025-05-27 01:01:42.509000+00:00   \n",
              "3                    Pontuação      False  2025-05-27 01:01:42.509000+00:00   \n",
              "4                  Substantivo      False  2025-05-27 11:11:54.325000+00:00   \n",
              "...                        ...        ...                               ...   \n",
              "24810                Pontuação      False  2025-06-03 16:48:19.059000+00:00   \n",
              "24811                Pontuação      False  2025-06-03 16:48:19.059000+00:00   \n",
              "24812                    Verbo       True  2025-06-03 16:48:19.059000+00:00   \n",
              "24813         Verbo de Ligação       True  2025-06-03 16:48:19.059000+00:00   \n",
              "24814                    Verbo       True  2025-06-03 16:48:19.059000+00:00   \n",
              "\n",
              "                      serie  \\\n",
              "0      5-ensino-fundamental   \n",
              "1      5-ensino-fundamental   \n",
              "2      5-ensino-fundamental   \n",
              "3      5-ensino-fundamental   \n",
              "4      6-ensino-fundamental   \n",
              "...                     ...   \n",
              "24810  9-ensino-fundamental   \n",
              "24811  9-ensino-fundamental   \n",
              "24812  9-ensino-fundamental   \n",
              "24813  9-ensino-fundamental   \n",
              "24814  9-ensino-fundamental   \n",
              "\n",
              "                                                   words  eventType_y  \\\n",
              "0      [{'tag': 'Verbo', 'word': 'Será'}, {'tag': 'Co...  new-session   \n",
              "1      [{'tag': 'Verbo', 'word': 'Será'}, {'tag': 'Co...  new-session   \n",
              "2      [{'tag': 'Nome Próprio', 'word': 'Ufa'}, {'tag...  new-session   \n",
              "3      [{'tag': 'Nome Próprio', 'word': 'Ufa'}, {'tag...  new-session   \n",
              "4      [{'tag': 'Artigo', 'word': 'A'}, {'tag': 'Subs...  new-session   \n",
              "...                                                  ...          ...   \n",
              "24810  [{'tag': 'Nome Próprio', 'word': 'Ufa'}, {'tag...  new-session   \n",
              "24811  [{'tag': 'Nome Próprio', 'word': 'Ufa'}, {'tag...  new-session   \n",
              "24812  [{'tag': 'Nome Próprio', 'word': 'Ufa'}, {'tag...  new-session   \n",
              "24813  [{'tag': 'Nome Próprio', 'word': 'Ufa'}, {'tag...  new-session   \n",
              "24814  [{'tag': 'Nome Próprio', 'word': 'Ufa'}, {'tag...  new-session   \n",
              "\n",
              "                                                sentence  \n",
              "0      Será que alguém explicou o que aconteceu na au...  \n",
              "1      Será que alguém explicou o que aconteceu na au...  \n",
              "2             Ufa , achei que não fosse chegar a tempo !  \n",
              "3             Ufa , achei que não fosse chegar a tempo !  \n",
              "4                               A folha caiu da árvore .  \n",
              "...                                                  ...  \n",
              "24810         Ufa , achei que não fosse chegar a tempo !  \n",
              "24811         Ufa , achei que não fosse chegar a tempo !  \n",
              "24812         Ufa , achei que não fosse chegar a tempo !  \n",
              "24813         Ufa , achei que não fosse chegar a tempo !  \n",
              "24814         Ufa , achei que não fosse chegar a tempo !  \n",
              "\n",
              "[24815 rows x 12 columns]"
            ]
          },
          "execution_count": 16,
          "metadata": {},
          "output_type": "execute_result"
        }
      ],
      "source": [
        "# Join dos datasets em sessionId, mantendo as chaves da tabela de interações (maior)\n",
        "df = pd.merge(df_interaction, df_session, how=\"left\", left_on=\"sessionId\", right_on=\"sessionId\")\n",
        "df"
      ]
    },
    {
      "cell_type": "code",
      "execution_count": 17,
      "metadata": {
        "colab": {
          "base_uri": "https://localhost:8080/",
          "height": 733
        },
        "id": "ZObPtTPE7Qgm",
        "outputId": "65debfc5-7dab-4580-f7ea-d02f25e6c573"
      },
      "outputs": [
        {
          "data": {
            "text/html": [
              "<div>\n",
              "<style scoped>\n",
              "    .dataframe tbody tr th:only-of-type {\n",
              "        vertical-align: middle;\n",
              "    }\n",
              "\n",
              "    .dataframe tbody tr th {\n",
              "        vertical-align: top;\n",
              "    }\n",
              "\n",
              "    .dataframe thead th {\n",
              "        text-align: right;\n",
              "    }\n",
              "</style>\n",
              "<table border=\"1\" class=\"dataframe\">\n",
              "  <thead>\n",
              "    <tr style=\"text-align: right;\">\n",
              "      <th></th>\n",
              "      <th>correctTag</th>\n",
              "      <th>targetWord</th>\n",
              "      <th>eventType_x</th>\n",
              "      <th>orderingId</th>\n",
              "      <th>draggedTag</th>\n",
              "      <th>isMistake</th>\n",
              "      <th>startTime</th>\n",
              "      <th>serie</th>\n",
              "      <th>words</th>\n",
              "      <th>eventType_y</th>\n",
              "      <th>sentence</th>\n",
              "    </tr>\n",
              "    <tr>\n",
              "      <th>sessionId</th>\n",
              "      <th></th>\n",
              "      <th></th>\n",
              "      <th></th>\n",
              "      <th></th>\n",
              "      <th></th>\n",
              "      <th></th>\n",
              "      <th></th>\n",
              "      <th></th>\n",
              "      <th></th>\n",
              "      <th></th>\n",
              "      <th></th>\n",
              "    </tr>\n",
              "  </thead>\n",
              "  <tbody>\n",
              "    <tr>\n",
              "      <th>-3Q1xJXqzA</th>\n",
              "      <td>Adjetivo</td>\n",
              "      <td>econômica</td>\n",
              "      <td>interaction</td>\n",
              "      <td>38</td>\n",
              "      <td>Adjetivo</td>\n",
              "      <td>False</td>\n",
              "      <td>2025-05-30 20:06:07.020000+00:00</td>\n",
              "      <td>5-ensino-fundamental</td>\n",
              "      <td>[{'tag': 'Conjunção Subordinativa', 'word': 'E...</td>\n",
              "      <td>new-session</td>\n",
              "      <td>Embora o projeto tenha sido aprovado , muitos ...</td>\n",
              "    </tr>\n",
              "    <tr>\n",
              "      <th>-6gZ-mHdzv</th>\n",
              "      <td>Substantivo</td>\n",
              "      <td>ideia</td>\n",
              "      <td>interaction</td>\n",
              "      <td>7</td>\n",
              "      <td>Substantivo</td>\n",
              "      <td>False</td>\n",
              "      <td>2025-05-29 01:28:34.290000+00:00</td>\n",
              "      <td>9-ensino-fundamental</td>\n",
              "      <td>[{'tag': 'Artigo', 'word': 'O'}, {'tag': 'Subs...</td>\n",
              "      <td>new-session</td>\n",
              "      <td>O diretor aprovou a ideia dela .</td>\n",
              "    </tr>\n",
              "    <tr>\n",
              "      <th>-CS8WhEL5b</th>\n",
              "      <td>Conjunção Subordinativa</td>\n",
              "      <td>Embora</td>\n",
              "      <td>interaction</td>\n",
              "      <td>14</td>\n",
              "      <td>Conjunção Subordinativa</td>\n",
              "      <td>False</td>\n",
              "      <td>2025-05-29 21:48:03.660000+00:00</td>\n",
              "      <td>3-ensino-medio</td>\n",
              "      <td>[{'tag': 'Conjunção Subordinativa', 'word': 'E...</td>\n",
              "      <td>new-session</td>\n",
              "      <td>Embora a chuva tenha parado , o chão ainda est...</td>\n",
              "    </tr>\n",
              "    <tr>\n",
              "      <th>-D4ip2o6o3</th>\n",
              "      <td>Advérbio</td>\n",
              "      <td>já</td>\n",
              "      <td>interaction</td>\n",
              "      <td>38</td>\n",
              "      <td>Advérbio</td>\n",
              "      <td>False</td>\n",
              "      <td>2025-06-02 14:14:54.043000+00:00</td>\n",
              "      <td>8-ensino-fundamental</td>\n",
              "      <td>[{'tag': 'Pronome', 'word': 'Ela'}, {'tag': 'V...</td>\n",
              "      <td>new-session</td>\n",
              "      <td>Ela perguntou se eu já havia terminado a lição...</td>\n",
              "    </tr>\n",
              "    <tr>\n",
              "      <th>-FzZZhJbxP</th>\n",
              "      <td>Verbo</td>\n",
              "      <td>abertos</td>\n",
              "      <td>interaction</td>\n",
              "      <td>18</td>\n",
              "      <td>Verbo</td>\n",
              "      <td>False</td>\n",
              "      <td>2025-05-28 22:17:08.503000+00:00</td>\n",
              "      <td>3-ensino-medio</td>\n",
              "      <td>[{'tag': 'Pronome', 'word': 'Ela'}, {'tag': 'V...</td>\n",
              "      <td>new-session</td>\n",
              "      <td>Ela estava tão cansada que mal conseguia mante...</td>\n",
              "    </tr>\n",
              "    <tr>\n",
              "      <th>...</th>\n",
              "      <td>...</td>\n",
              "      <td>...</td>\n",
              "      <td>...</td>\n",
              "      <td>...</td>\n",
              "      <td>...</td>\n",
              "      <td>...</td>\n",
              "      <td>...</td>\n",
              "      <td>...</td>\n",
              "      <td>...</td>\n",
              "      <td>...</td>\n",
              "      <td>...</td>\n",
              "    </tr>\n",
              "    <tr>\n",
              "      <th>zuZgjJCnxQ</th>\n",
              "      <td>Adjetivo</td>\n",
              "      <td>escuro</td>\n",
              "      <td>interaction</td>\n",
              "      <td>14</td>\n",
              "      <td>Adjetivo</td>\n",
              "      <td>False</td>\n",
              "      <td>2025-05-30 20:12:49.957000+00:00</td>\n",
              "      <td>5-ensino-fundamental</td>\n",
              "      <td>[{'tag': 'Artigo', 'word': 'A'}, {'tag': 'Subs...</td>\n",
              "      <td>new-session</td>\n",
              "      <td>A lua estava linda no céu escuro .</td>\n",
              "    </tr>\n",
              "    <tr>\n",
              "      <th>zyUGx8O6BL</th>\n",
              "      <td>Pontuação</td>\n",
              "      <td>.</td>\n",
              "      <td>interaction</td>\n",
              "      <td>11</td>\n",
              "      <td>Pontuação</td>\n",
              "      <td>False</td>\n",
              "      <td>2025-05-30 00:13:21.324000+00:00</td>\n",
              "      <td>8-ensino-fundamental</td>\n",
              "      <td>[{'tag': 'Conjunção Subordinativa', 'word': 'E...</td>\n",
              "      <td>new-session</td>\n",
              "      <td>Enquanto ele falava , todos prestavam muita at...</td>\n",
              "    </tr>\n",
              "    <tr>\n",
              "      <th>zym_w_hcsK</th>\n",
              "      <td>Verbo</td>\n",
              "      <td>traga</td>\n",
              "      <td>interaction</td>\n",
              "      <td>28</td>\n",
              "      <td>Verbo</td>\n",
              "      <td>False</td>\n",
              "      <td>2025-05-30 19:45:23.592000+00:00</td>\n",
              "      <td>5-ensino-fundamental</td>\n",
              "      <td>[{'tag': 'Nome Próprio', 'word': 'João'}, {'ta...</td>\n",
              "      <td>new-session</td>\n",
              "      <td>João , por favor , traga o seu caderno para a ...</td>\n",
              "    </tr>\n",
              "    <tr>\n",
              "      <th>zz_iWJzUKL</th>\n",
              "      <td>Pontuação</td>\n",
              "      <td>.</td>\n",
              "      <td>interaction</td>\n",
              "      <td>8</td>\n",
              "      <td>Pontuação</td>\n",
              "      <td>False</td>\n",
              "      <td>2025-05-29 16:59:24.770000+00:00</td>\n",
              "      <td>6-ensino-fundamental</td>\n",
              "      <td>[{'tag': 'Artigo', 'word': 'A'}, {'tag': 'Subs...</td>\n",
              "      <td>new-session</td>\n",
              "      <td>A moça que canta chegou agora .</td>\n",
              "    </tr>\n",
              "    <tr>\n",
              "      <th>zzy7YJuk_E</th>\n",
              "      <td>Substantivo</td>\n",
              "      <td>filme</td>\n",
              "      <td>interaction</td>\n",
              "      <td>10</td>\n",
              "      <td>Substantivo</td>\n",
              "      <td>False</td>\n",
              "      <td>2025-05-29 11:36:17.449000+00:00</td>\n",
              "      <td>7-ensino-fundamental</td>\n",
              "      <td>[{'tag': 'Nome Próprio', 'word': 'Maria'}, {'t...</td>\n",
              "      <td>new-session</td>\n",
              "      <td>Maria não gostou do filme .</td>\n",
              "    </tr>\n",
              "  </tbody>\n",
              "</table>\n",
              "<p>1431 rows × 11 columns</p>\n",
              "</div>"
            ],
            "text/plain": [
              "                         correctTag targetWord  eventType_x  orderingId  \\\n",
              "sessionId                                                                 \n",
              "-3Q1xJXqzA                 Adjetivo  econômica  interaction          38   \n",
              "-6gZ-mHdzv              Substantivo      ideia  interaction           7   \n",
              "-CS8WhEL5b  Conjunção Subordinativa     Embora  interaction          14   \n",
              "-D4ip2o6o3                 Advérbio         já  interaction          38   \n",
              "-FzZZhJbxP                    Verbo    abertos  interaction          18   \n",
              "...                             ...        ...          ...         ...   \n",
              "zuZgjJCnxQ                 Adjetivo     escuro  interaction          14   \n",
              "zyUGx8O6BL                Pontuação          .  interaction          11   \n",
              "zym_w_hcsK                    Verbo      traga  interaction          28   \n",
              "zz_iWJzUKL                Pontuação          .  interaction           8   \n",
              "zzy7YJuk_E              Substantivo      filme  interaction          10   \n",
              "\n",
              "                         draggedTag  isMistake  \\\n",
              "sessionId                                        \n",
              "-3Q1xJXqzA                 Adjetivo      False   \n",
              "-6gZ-mHdzv              Substantivo      False   \n",
              "-CS8WhEL5b  Conjunção Subordinativa      False   \n",
              "-D4ip2o6o3                 Advérbio      False   \n",
              "-FzZZhJbxP                    Verbo      False   \n",
              "...                             ...        ...   \n",
              "zuZgjJCnxQ                 Adjetivo      False   \n",
              "zyUGx8O6BL                Pontuação      False   \n",
              "zym_w_hcsK                    Verbo      False   \n",
              "zz_iWJzUKL                Pontuação      False   \n",
              "zzy7YJuk_E              Substantivo      False   \n",
              "\n",
              "                                   startTime                 serie  \\\n",
              "sessionId                                                            \n",
              "-3Q1xJXqzA  2025-05-30 20:06:07.020000+00:00  5-ensino-fundamental   \n",
              "-6gZ-mHdzv  2025-05-29 01:28:34.290000+00:00  9-ensino-fundamental   \n",
              "-CS8WhEL5b  2025-05-29 21:48:03.660000+00:00        3-ensino-medio   \n",
              "-D4ip2o6o3  2025-06-02 14:14:54.043000+00:00  8-ensino-fundamental   \n",
              "-FzZZhJbxP  2025-05-28 22:17:08.503000+00:00        3-ensino-medio   \n",
              "...                                      ...                   ...   \n",
              "zuZgjJCnxQ  2025-05-30 20:12:49.957000+00:00  5-ensino-fundamental   \n",
              "zyUGx8O6BL  2025-05-30 00:13:21.324000+00:00  8-ensino-fundamental   \n",
              "zym_w_hcsK  2025-05-30 19:45:23.592000+00:00  5-ensino-fundamental   \n",
              "zz_iWJzUKL  2025-05-29 16:59:24.770000+00:00  6-ensino-fundamental   \n",
              "zzy7YJuk_E  2025-05-29 11:36:17.449000+00:00  7-ensino-fundamental   \n",
              "\n",
              "                                                        words  eventType_y  \\\n",
              "sessionId                                                                    \n",
              "-3Q1xJXqzA  [{'tag': 'Conjunção Subordinativa', 'word': 'E...  new-session   \n",
              "-6gZ-mHdzv  [{'tag': 'Artigo', 'word': 'O'}, {'tag': 'Subs...  new-session   \n",
              "-CS8WhEL5b  [{'tag': 'Conjunção Subordinativa', 'word': 'E...  new-session   \n",
              "-D4ip2o6o3  [{'tag': 'Pronome', 'word': 'Ela'}, {'tag': 'V...  new-session   \n",
              "-FzZZhJbxP  [{'tag': 'Pronome', 'word': 'Ela'}, {'tag': 'V...  new-session   \n",
              "...                                                       ...          ...   \n",
              "zuZgjJCnxQ  [{'tag': 'Artigo', 'word': 'A'}, {'tag': 'Subs...  new-session   \n",
              "zyUGx8O6BL  [{'tag': 'Conjunção Subordinativa', 'word': 'E...  new-session   \n",
              "zym_w_hcsK  [{'tag': 'Nome Próprio', 'word': 'João'}, {'ta...  new-session   \n",
              "zz_iWJzUKL  [{'tag': 'Artigo', 'word': 'A'}, {'tag': 'Subs...  new-session   \n",
              "zzy7YJuk_E  [{'tag': 'Nome Próprio', 'word': 'Maria'}, {'t...  new-session   \n",
              "\n",
              "                                                     sentence  \n",
              "sessionId                                                      \n",
              "-3Q1xJXqzA  Embora o projeto tenha sido aprovado , muitos ...  \n",
              "-6gZ-mHdzv                   O diretor aprovou a ideia dela .  \n",
              "-CS8WhEL5b  Embora a chuva tenha parado , o chão ainda est...  \n",
              "-D4ip2o6o3  Ela perguntou se eu já havia terminado a lição...  \n",
              "-FzZZhJbxP  Ela estava tão cansada que mal conseguia mante...  \n",
              "...                                                       ...  \n",
              "zuZgjJCnxQ                 A lua estava linda no céu escuro .  \n",
              "zyUGx8O6BL  Enquanto ele falava , todos prestavam muita at...  \n",
              "zym_w_hcsK  João , por favor , traga o seu caderno para a ...  \n",
              "zz_iWJzUKL                    A moça que canta chegou agora .  \n",
              "zzy7YJuk_E                        Maria não gostou do filme .  \n",
              "\n",
              "[1431 rows x 11 columns]"
            ]
          },
          "execution_count": 17,
          "metadata": {},
          "output_type": "execute_result"
        }
      ],
      "source": [
        "df_unique_sessions = df.groupby('sessionId').last()\n",
        "df_unique_sessions"
      ]
    },
    {
      "cell_type": "code",
      "execution_count": 18,
      "metadata": {
        "id": "Kcgy1cBo8Bhg"
      },
      "outputs": [],
      "source": [
        "def check_for_complete_tries(row):\n",
        "    return len(row['words']) == row['orderingId']\n",
        "\n",
        "df_unique_sessions['complete_try'] = df_unique_sessions.apply(check_for_complete_tries, axis=1)"
      ]
    },
    {
      "cell_type": "code",
      "execution_count": 19,
      "metadata": {
        "colab": {
          "base_uri": "https://localhost:8080/",
          "height": 820
        },
        "id": "CF4wRb8X8BeY",
        "outputId": "9e37c483-1a5b-46e5-c609-5e49b6bb8b49"
      },
      "outputs": [
        {
          "data": {
            "text/html": [
              "<div>\n",
              "<style scoped>\n",
              "    .dataframe tbody tr th:only-of-type {\n",
              "        vertical-align: middle;\n",
              "    }\n",
              "\n",
              "    .dataframe tbody tr th {\n",
              "        vertical-align: top;\n",
              "    }\n",
              "\n",
              "    .dataframe thead th {\n",
              "        text-align: right;\n",
              "    }\n",
              "</style>\n",
              "<table border=\"1\" class=\"dataframe\">\n",
              "  <thead>\n",
              "    <tr style=\"text-align: right;\">\n",
              "      <th></th>\n",
              "      <th>correctTag</th>\n",
              "      <th>targetWord</th>\n",
              "      <th>eventType_x</th>\n",
              "      <th>orderingId</th>\n",
              "      <th>draggedTag</th>\n",
              "      <th>isMistake</th>\n",
              "      <th>startTime</th>\n",
              "      <th>serie</th>\n",
              "      <th>words</th>\n",
              "      <th>eventType_y</th>\n",
              "      <th>sentence</th>\n",
              "      <th>complete_try</th>\n",
              "    </tr>\n",
              "    <tr>\n",
              "      <th>sessionId</th>\n",
              "      <th></th>\n",
              "      <th></th>\n",
              "      <th></th>\n",
              "      <th></th>\n",
              "      <th></th>\n",
              "      <th></th>\n",
              "      <th></th>\n",
              "      <th></th>\n",
              "      <th></th>\n",
              "      <th></th>\n",
              "      <th></th>\n",
              "      <th></th>\n",
              "    </tr>\n",
              "  </thead>\n",
              "  <tbody>\n",
              "    <tr>\n",
              "      <th>-3Q1xJXqzA</th>\n",
              "      <td>Adjetivo</td>\n",
              "      <td>econômica</td>\n",
              "      <td>interaction</td>\n",
              "      <td>38</td>\n",
              "      <td>Adjetivo</td>\n",
              "      <td>False</td>\n",
              "      <td>2025-05-30 20:06:07.020000+00:00</td>\n",
              "      <td>5-ensino-fundamental</td>\n",
              "      <td>[{'tag': 'Conjunção Subordinativa', 'word': 'E...</td>\n",
              "      <td>new-session</td>\n",
              "      <td>Embora o projeto tenha sido aprovado , muitos ...</td>\n",
              "      <td>False</td>\n",
              "    </tr>\n",
              "    <tr>\n",
              "      <th>-6gZ-mHdzv</th>\n",
              "      <td>Substantivo</td>\n",
              "      <td>ideia</td>\n",
              "      <td>interaction</td>\n",
              "      <td>7</td>\n",
              "      <td>Substantivo</td>\n",
              "      <td>False</td>\n",
              "      <td>2025-05-29 01:28:34.290000+00:00</td>\n",
              "      <td>9-ensino-fundamental</td>\n",
              "      <td>[{'tag': 'Artigo', 'word': 'O'}, {'tag': 'Subs...</td>\n",
              "      <td>new-session</td>\n",
              "      <td>O diretor aprovou a ideia dela .</td>\n",
              "      <td>True</td>\n",
              "    </tr>\n",
              "    <tr>\n",
              "      <th>-CS8WhEL5b</th>\n",
              "      <td>Conjunção Subordinativa</td>\n",
              "      <td>Embora</td>\n",
              "      <td>interaction</td>\n",
              "      <td>14</td>\n",
              "      <td>Conjunção Subordinativa</td>\n",
              "      <td>False</td>\n",
              "      <td>2025-05-29 21:48:03.660000+00:00</td>\n",
              "      <td>3-ensino-medio</td>\n",
              "      <td>[{'tag': 'Conjunção Subordinativa', 'word': 'E...</td>\n",
              "      <td>new-session</td>\n",
              "      <td>Embora a chuva tenha parado , o chão ainda est...</td>\n",
              "      <td>False</td>\n",
              "    </tr>\n",
              "    <tr>\n",
              "      <th>-D4ip2o6o3</th>\n",
              "      <td>Advérbio</td>\n",
              "      <td>já</td>\n",
              "      <td>interaction</td>\n",
              "      <td>38</td>\n",
              "      <td>Advérbio</td>\n",
              "      <td>False</td>\n",
              "      <td>2025-06-02 14:14:54.043000+00:00</td>\n",
              "      <td>8-ensino-fundamental</td>\n",
              "      <td>[{'tag': 'Pronome', 'word': 'Ela'}, {'tag': 'V...</td>\n",
              "      <td>new-session</td>\n",
              "      <td>Ela perguntou se eu já havia terminado a lição...</td>\n",
              "      <td>False</td>\n",
              "    </tr>\n",
              "    <tr>\n",
              "      <th>-FzZZhJbxP</th>\n",
              "      <td>Verbo</td>\n",
              "      <td>abertos</td>\n",
              "      <td>interaction</td>\n",
              "      <td>18</td>\n",
              "      <td>Verbo</td>\n",
              "      <td>False</td>\n",
              "      <td>2025-05-28 22:17:08.503000+00:00</td>\n",
              "      <td>3-ensino-medio</td>\n",
              "      <td>[{'tag': 'Pronome', 'word': 'Ela'}, {'tag': 'V...</td>\n",
              "      <td>new-session</td>\n",
              "      <td>Ela estava tão cansada que mal conseguia mante...</td>\n",
              "      <td>False</td>\n",
              "    </tr>\n",
              "    <tr>\n",
              "      <th>...</th>\n",
              "      <td>...</td>\n",
              "      <td>...</td>\n",
              "      <td>...</td>\n",
              "      <td>...</td>\n",
              "      <td>...</td>\n",
              "      <td>...</td>\n",
              "      <td>...</td>\n",
              "      <td>...</td>\n",
              "      <td>...</td>\n",
              "      <td>...</td>\n",
              "      <td>...</td>\n",
              "      <td>...</td>\n",
              "    </tr>\n",
              "    <tr>\n",
              "      <th>zuZgjJCnxQ</th>\n",
              "      <td>Adjetivo</td>\n",
              "      <td>escuro</td>\n",
              "      <td>interaction</td>\n",
              "      <td>14</td>\n",
              "      <td>Adjetivo</td>\n",
              "      <td>False</td>\n",
              "      <td>2025-05-30 20:12:49.957000+00:00</td>\n",
              "      <td>5-ensino-fundamental</td>\n",
              "      <td>[{'tag': 'Artigo', 'word': 'A'}, {'tag': 'Subs...</td>\n",
              "      <td>new-session</td>\n",
              "      <td>A lua estava linda no céu escuro .</td>\n",
              "      <td>False</td>\n",
              "    </tr>\n",
              "    <tr>\n",
              "      <th>zyUGx8O6BL</th>\n",
              "      <td>Pontuação</td>\n",
              "      <td>.</td>\n",
              "      <td>interaction</td>\n",
              "      <td>11</td>\n",
              "      <td>Pontuação</td>\n",
              "      <td>False</td>\n",
              "      <td>2025-05-30 00:13:21.324000+00:00</td>\n",
              "      <td>8-ensino-fundamental</td>\n",
              "      <td>[{'tag': 'Conjunção Subordinativa', 'word': 'E...</td>\n",
              "      <td>new-session</td>\n",
              "      <td>Enquanto ele falava , todos prestavam muita at...</td>\n",
              "      <td>False</td>\n",
              "    </tr>\n",
              "    <tr>\n",
              "      <th>zym_w_hcsK</th>\n",
              "      <td>Verbo</td>\n",
              "      <td>traga</td>\n",
              "      <td>interaction</td>\n",
              "      <td>28</td>\n",
              "      <td>Verbo</td>\n",
              "      <td>False</td>\n",
              "      <td>2025-05-30 19:45:23.592000+00:00</td>\n",
              "      <td>5-ensino-fundamental</td>\n",
              "      <td>[{'tag': 'Nome Próprio', 'word': 'João'}, {'ta...</td>\n",
              "      <td>new-session</td>\n",
              "      <td>João , por favor , traga o seu caderno para a ...</td>\n",
              "      <td>False</td>\n",
              "    </tr>\n",
              "    <tr>\n",
              "      <th>zz_iWJzUKL</th>\n",
              "      <td>Pontuação</td>\n",
              "      <td>.</td>\n",
              "      <td>interaction</td>\n",
              "      <td>8</td>\n",
              "      <td>Pontuação</td>\n",
              "      <td>False</td>\n",
              "      <td>2025-05-29 16:59:24.770000+00:00</td>\n",
              "      <td>6-ensino-fundamental</td>\n",
              "      <td>[{'tag': 'Artigo', 'word': 'A'}, {'tag': 'Subs...</td>\n",
              "      <td>new-session</td>\n",
              "      <td>A moça que canta chegou agora .</td>\n",
              "      <td>False</td>\n",
              "    </tr>\n",
              "    <tr>\n",
              "      <th>zzy7YJuk_E</th>\n",
              "      <td>Substantivo</td>\n",
              "      <td>filme</td>\n",
              "      <td>interaction</td>\n",
              "      <td>10</td>\n",
              "      <td>Substantivo</td>\n",
              "      <td>False</td>\n",
              "      <td>2025-05-29 11:36:17.449000+00:00</td>\n",
              "      <td>7-ensino-fundamental</td>\n",
              "      <td>[{'tag': 'Nome Próprio', 'word': 'Maria'}, {'t...</td>\n",
              "      <td>new-session</td>\n",
              "      <td>Maria não gostou do filme .</td>\n",
              "      <td>False</td>\n",
              "    </tr>\n",
              "  </tbody>\n",
              "</table>\n",
              "<p>1431 rows × 12 columns</p>\n",
              "</div>"
            ],
            "text/plain": [
              "                         correctTag targetWord  eventType_x  orderingId  \\\n",
              "sessionId                                                                 \n",
              "-3Q1xJXqzA                 Adjetivo  econômica  interaction          38   \n",
              "-6gZ-mHdzv              Substantivo      ideia  interaction           7   \n",
              "-CS8WhEL5b  Conjunção Subordinativa     Embora  interaction          14   \n",
              "-D4ip2o6o3                 Advérbio         já  interaction          38   \n",
              "-FzZZhJbxP                    Verbo    abertos  interaction          18   \n",
              "...                             ...        ...          ...         ...   \n",
              "zuZgjJCnxQ                 Adjetivo     escuro  interaction          14   \n",
              "zyUGx8O6BL                Pontuação          .  interaction          11   \n",
              "zym_w_hcsK                    Verbo      traga  interaction          28   \n",
              "zz_iWJzUKL                Pontuação          .  interaction           8   \n",
              "zzy7YJuk_E              Substantivo      filme  interaction          10   \n",
              "\n",
              "                         draggedTag  isMistake  \\\n",
              "sessionId                                        \n",
              "-3Q1xJXqzA                 Adjetivo      False   \n",
              "-6gZ-mHdzv              Substantivo      False   \n",
              "-CS8WhEL5b  Conjunção Subordinativa      False   \n",
              "-D4ip2o6o3                 Advérbio      False   \n",
              "-FzZZhJbxP                    Verbo      False   \n",
              "...                             ...        ...   \n",
              "zuZgjJCnxQ                 Adjetivo      False   \n",
              "zyUGx8O6BL                Pontuação      False   \n",
              "zym_w_hcsK                    Verbo      False   \n",
              "zz_iWJzUKL                Pontuação      False   \n",
              "zzy7YJuk_E              Substantivo      False   \n",
              "\n",
              "                                   startTime                 serie  \\\n",
              "sessionId                                                            \n",
              "-3Q1xJXqzA  2025-05-30 20:06:07.020000+00:00  5-ensino-fundamental   \n",
              "-6gZ-mHdzv  2025-05-29 01:28:34.290000+00:00  9-ensino-fundamental   \n",
              "-CS8WhEL5b  2025-05-29 21:48:03.660000+00:00        3-ensino-medio   \n",
              "-D4ip2o6o3  2025-06-02 14:14:54.043000+00:00  8-ensino-fundamental   \n",
              "-FzZZhJbxP  2025-05-28 22:17:08.503000+00:00        3-ensino-medio   \n",
              "...                                      ...                   ...   \n",
              "zuZgjJCnxQ  2025-05-30 20:12:49.957000+00:00  5-ensino-fundamental   \n",
              "zyUGx8O6BL  2025-05-30 00:13:21.324000+00:00  8-ensino-fundamental   \n",
              "zym_w_hcsK  2025-05-30 19:45:23.592000+00:00  5-ensino-fundamental   \n",
              "zz_iWJzUKL  2025-05-29 16:59:24.770000+00:00  6-ensino-fundamental   \n",
              "zzy7YJuk_E  2025-05-29 11:36:17.449000+00:00  7-ensino-fundamental   \n",
              "\n",
              "                                                        words  eventType_y  \\\n",
              "sessionId                                                                    \n",
              "-3Q1xJXqzA  [{'tag': 'Conjunção Subordinativa', 'word': 'E...  new-session   \n",
              "-6gZ-mHdzv  [{'tag': 'Artigo', 'word': 'O'}, {'tag': 'Subs...  new-session   \n",
              "-CS8WhEL5b  [{'tag': 'Conjunção Subordinativa', 'word': 'E...  new-session   \n",
              "-D4ip2o6o3  [{'tag': 'Pronome', 'word': 'Ela'}, {'tag': 'V...  new-session   \n",
              "-FzZZhJbxP  [{'tag': 'Pronome', 'word': 'Ela'}, {'tag': 'V...  new-session   \n",
              "...                                                       ...          ...   \n",
              "zuZgjJCnxQ  [{'tag': 'Artigo', 'word': 'A'}, {'tag': 'Subs...  new-session   \n",
              "zyUGx8O6BL  [{'tag': 'Conjunção Subordinativa', 'word': 'E...  new-session   \n",
              "zym_w_hcsK  [{'tag': 'Nome Próprio', 'word': 'João'}, {'ta...  new-session   \n",
              "zz_iWJzUKL  [{'tag': 'Artigo', 'word': 'A'}, {'tag': 'Subs...  new-session   \n",
              "zzy7YJuk_E  [{'tag': 'Nome Próprio', 'word': 'Maria'}, {'t...  new-session   \n",
              "\n",
              "                                                     sentence  complete_try  \n",
              "sessionId                                                                    \n",
              "-3Q1xJXqzA  Embora o projeto tenha sido aprovado , muitos ...         False  \n",
              "-6gZ-mHdzv                   O diretor aprovou a ideia dela .          True  \n",
              "-CS8WhEL5b  Embora a chuva tenha parado , o chão ainda est...         False  \n",
              "-D4ip2o6o3  Ela perguntou se eu já havia terminado a lição...         False  \n",
              "-FzZZhJbxP  Ela estava tão cansada que mal conseguia mante...         False  \n",
              "...                                                       ...           ...  \n",
              "zuZgjJCnxQ                 A lua estava linda no céu escuro .         False  \n",
              "zyUGx8O6BL  Enquanto ele falava , todos prestavam muita at...         False  \n",
              "zym_w_hcsK  João , por favor , traga o seu caderno para a ...         False  \n",
              "zz_iWJzUKL                    A moça que canta chegou agora .         False  \n",
              "zzy7YJuk_E                        Maria não gostou do filme .         False  \n",
              "\n",
              "[1431 rows x 12 columns]"
            ]
          },
          "execution_count": 19,
          "metadata": {},
          "output_type": "execute_result"
        }
      ],
      "source": [
        "df_unique_sessions"
      ]
    },
    {
      "cell_type": "code",
      "execution_count": 20,
      "metadata": {
        "colab": {
          "base_uri": "https://localhost:8080/",
          "height": 178
        },
        "id": "ChqV0_bkrvoi",
        "outputId": "a89ca0dc-6f66-44c6-c329-0fa2554f27f4"
      },
      "outputs": [
        {
          "data": {
            "text/plain": [
              "False    1337\n",
              "True       94\n",
              "Name: complete_try, dtype: int64"
            ]
          },
          "execution_count": 20,
          "metadata": {},
          "output_type": "execute_result"
        }
      ],
      "source": [
        "df_unique_sessions.complete_try.value_counts()"
      ]
    },
    {
      "cell_type": "code",
      "execution_count": 21,
      "metadata": {
        "colab": {
          "base_uri": "https://localhost:8080/",
          "height": 49,
          "referenced_widgets": [
            "4d728e412944448eb9058e31a771d344",
            "98b193ec6c194f5a9df0701d93b75f45",
            "987208776d204aae98c9ba10be09b66b",
            "3c183b9383de467ebc3faed19731a45a",
            "e853efcf3b14499ba78abdced10c60cf",
            "a46d56385c9a4f43a29b8b0115fab0b5",
            "b07b0e7be86445a083288692ca3afc3e",
            "b99943ee330e44ee8d0cc0ce1557ed9c",
            "b0f4fe8a6283415f89bb6bb12a020374",
            "17161a2564ab42d798b8d3d5897c65bc",
            "e4702683318e453bb9ee6d69cb5d4c6f"
          ]
        },
        "id": "_YSvdbm5q0Gk",
        "outputId": "aeb6316e-86d4-4735-94c7-fdcc9bffe2cc"
      },
      "outputs": [
        {
          "name": "stderr",
          "output_type": "stream",
          "text": [
            "24815it [00:02, 10702.37it/s]\n"
          ]
        }
      ],
      "source": [
        "complete_tries = []\n",
        "for index, row in tqdm(df.iterrows()):\n",
        "    if df_unique_sessions.loc[row['sessionId']]['complete_try']:\n",
        "        complete_tries.append('Sim')\n",
        "    else:\n",
        "        complete_tries.append('Não')\n",
        "\n",
        "df['complete_try'] = complete_tries"
      ]
    },
    {
      "cell_type": "code",
      "execution_count": 22,
      "metadata": {
        "colab": {
          "base_uri": "https://localhost:8080/",
          "height": 1000
        },
        "id": "_VYigMXx9Ads",
        "outputId": "301c54b6-ca91-4938-e0ac-bee43acc8f41"
      },
      "outputs": [
        {
          "data": {
            "text/html": [
              "<div>\n",
              "<style scoped>\n",
              "    .dataframe tbody tr th:only-of-type {\n",
              "        vertical-align: middle;\n",
              "    }\n",
              "\n",
              "    .dataframe tbody tr th {\n",
              "        vertical-align: top;\n",
              "    }\n",
              "\n",
              "    .dataframe thead th {\n",
              "        text-align: right;\n",
              "    }\n",
              "</style>\n",
              "<table border=\"1\" class=\"dataframe\">\n",
              "  <thead>\n",
              "    <tr style=\"text-align: right;\">\n",
              "      <th></th>\n",
              "      <th>correctTag</th>\n",
              "      <th>targetWord</th>\n",
              "      <th>eventType_x</th>\n",
              "      <th>orderingId</th>\n",
              "      <th>sessionId</th>\n",
              "      <th>draggedTag</th>\n",
              "      <th>isMistake</th>\n",
              "      <th>startTime</th>\n",
              "      <th>serie</th>\n",
              "      <th>words</th>\n",
              "      <th>eventType_y</th>\n",
              "      <th>sentence</th>\n",
              "      <th>complete_try</th>\n",
              "    </tr>\n",
              "  </thead>\n",
              "  <tbody>\n",
              "    <tr>\n",
              "      <th>0</th>\n",
              "      <td>Verbo</td>\n",
              "      <td>Será</td>\n",
              "      <td>interaction</td>\n",
              "      <td>0</td>\n",
              "      <td>xqEk5ZfKaG</td>\n",
              "      <td>Pronome</td>\n",
              "      <td>True</td>\n",
              "      <td>2025-05-27 00:49:01.547000+00:00</td>\n",
              "      <td>5-ensino-fundamental</td>\n",
              "      <td>[{'tag': 'Verbo', 'word': 'Será'}, {'tag': 'Co...</td>\n",
              "      <td>new-session</td>\n",
              "      <td>Será que alguém explicou o que aconteceu na au...</td>\n",
              "      <td>Não</td>\n",
              "    </tr>\n",
              "    <tr>\n",
              "      <th>1</th>\n",
              "      <td>Verbo</td>\n",
              "      <td>Será</td>\n",
              "      <td>interaction</td>\n",
              "      <td>1</td>\n",
              "      <td>xqEk5ZfKaG</td>\n",
              "      <td>Conjunção Subordinativa</td>\n",
              "      <td>True</td>\n",
              "      <td>2025-05-27 00:49:01.547000+00:00</td>\n",
              "      <td>5-ensino-fundamental</td>\n",
              "      <td>[{'tag': 'Verbo', 'word': 'Será'}, {'tag': 'Co...</td>\n",
              "      <td>new-session</td>\n",
              "      <td>Será que alguém explicou o que aconteceu na au...</td>\n",
              "      <td>Não</td>\n",
              "    </tr>\n",
              "    <tr>\n",
              "      <th>2</th>\n",
              "      <td>Pontuação</td>\n",
              "      <td>,</td>\n",
              "      <td>interaction</td>\n",
              "      <td>0</td>\n",
              "      <td>uQY36KP907</td>\n",
              "      <td>Pontuação</td>\n",
              "      <td>False</td>\n",
              "      <td>2025-05-27 01:01:42.509000+00:00</td>\n",
              "      <td>5-ensino-fundamental</td>\n",
              "      <td>[{'tag': 'Nome Próprio', 'word': 'Ufa'}, {'tag...</td>\n",
              "      <td>new-session</td>\n",
              "      <td>Ufa , achei que não fosse chegar a tempo !</td>\n",
              "      <td>Não</td>\n",
              "    </tr>\n",
              "    <tr>\n",
              "      <th>3</th>\n",
              "      <td>Pontuação</td>\n",
              "      <td>!</td>\n",
              "      <td>interaction</td>\n",
              "      <td>1</td>\n",
              "      <td>uQY36KP907</td>\n",
              "      <td>Pontuação</td>\n",
              "      <td>False</td>\n",
              "      <td>2025-05-27 01:01:42.509000+00:00</td>\n",
              "      <td>5-ensino-fundamental</td>\n",
              "      <td>[{'tag': 'Nome Próprio', 'word': 'Ufa'}, {'tag...</td>\n",
              "      <td>new-session</td>\n",
              "      <td>Ufa , achei que não fosse chegar a tempo !</td>\n",
              "      <td>Não</td>\n",
              "    </tr>\n",
              "    <tr>\n",
              "      <th>4</th>\n",
              "      <td>Substantivo</td>\n",
              "      <td>árvore</td>\n",
              "      <td>interaction</td>\n",
              "      <td>0</td>\n",
              "      <td>X2RK9EgWWZ</td>\n",
              "      <td>Substantivo</td>\n",
              "      <td>False</td>\n",
              "      <td>2025-05-27 11:11:54.325000+00:00</td>\n",
              "      <td>6-ensino-fundamental</td>\n",
              "      <td>[{'tag': 'Artigo', 'word': 'A'}, {'tag': 'Subs...</td>\n",
              "      <td>new-session</td>\n",
              "      <td>A folha caiu da árvore .</td>\n",
              "      <td>Não</td>\n",
              "    </tr>\n",
              "    <tr>\n",
              "      <th>...</th>\n",
              "      <td>...</td>\n",
              "      <td>...</td>\n",
              "      <td>...</td>\n",
              "      <td>...</td>\n",
              "      <td>...</td>\n",
              "      <td>...</td>\n",
              "      <td>...</td>\n",
              "      <td>...</td>\n",
              "      <td>...</td>\n",
              "      <td>...</td>\n",
              "      <td>...</td>\n",
              "      <td>...</td>\n",
              "      <td>...</td>\n",
              "    </tr>\n",
              "    <tr>\n",
              "      <th>24810</th>\n",
              "      <td>Pontuação</td>\n",
              "      <td>,</td>\n",
              "      <td>interaction</td>\n",
              "      <td>0</td>\n",
              "      <td>Halvf7QSu2</td>\n",
              "      <td>Pontuação</td>\n",
              "      <td>False</td>\n",
              "      <td>2025-06-03 16:48:19.059000+00:00</td>\n",
              "      <td>9-ensino-fundamental</td>\n",
              "      <td>[{'tag': 'Nome Próprio', 'word': 'Ufa'}, {'tag...</td>\n",
              "      <td>new-session</td>\n",
              "      <td>Ufa , achei que não fosse chegar a tempo !</td>\n",
              "      <td>Não</td>\n",
              "    </tr>\n",
              "    <tr>\n",
              "      <th>24811</th>\n",
              "      <td>Pontuação</td>\n",
              "      <td>!</td>\n",
              "      <td>interaction</td>\n",
              "      <td>1</td>\n",
              "      <td>Halvf7QSu2</td>\n",
              "      <td>Pontuação</td>\n",
              "      <td>False</td>\n",
              "      <td>2025-06-03 16:48:19.059000+00:00</td>\n",
              "      <td>9-ensino-fundamental</td>\n",
              "      <td>[{'tag': 'Nome Próprio', 'word': 'Ufa'}, {'tag...</td>\n",
              "      <td>new-session</td>\n",
              "      <td>Ufa , achei que não fosse chegar a tempo !</td>\n",
              "      <td>Não</td>\n",
              "    </tr>\n",
              "    <tr>\n",
              "      <th>24812</th>\n",
              "      <td>Verbo de Ligação</td>\n",
              "      <td>fosse</td>\n",
              "      <td>interaction</td>\n",
              "      <td>2</td>\n",
              "      <td>Halvf7QSu2</td>\n",
              "      <td>Verbo</td>\n",
              "      <td>True</td>\n",
              "      <td>2025-06-03 16:48:19.059000+00:00</td>\n",
              "      <td>9-ensino-fundamental</td>\n",
              "      <td>[{'tag': 'Nome Próprio', 'word': 'Ufa'}, {'tag...</td>\n",
              "      <td>new-session</td>\n",
              "      <td>Ufa , achei que não fosse chegar a tempo !</td>\n",
              "      <td>Não</td>\n",
              "    </tr>\n",
              "    <tr>\n",
              "      <th>24813</th>\n",
              "      <td>Verbo</td>\n",
              "      <td>chegar</td>\n",
              "      <td>interaction</td>\n",
              "      <td>3</td>\n",
              "      <td>Halvf7QSu2</td>\n",
              "      <td>Verbo de Ligação</td>\n",
              "      <td>True</td>\n",
              "      <td>2025-06-03 16:48:19.059000+00:00</td>\n",
              "      <td>9-ensino-fundamental</td>\n",
              "      <td>[{'tag': 'Nome Próprio', 'word': 'Ufa'}, {'tag...</td>\n",
              "      <td>new-session</td>\n",
              "      <td>Ufa , achei que não fosse chegar a tempo !</td>\n",
              "      <td>Não</td>\n",
              "    </tr>\n",
              "    <tr>\n",
              "      <th>24814</th>\n",
              "      <td>Verbo de Ligação</td>\n",
              "      <td>fosse</td>\n",
              "      <td>interaction</td>\n",
              "      <td>4</td>\n",
              "      <td>Halvf7QSu2</td>\n",
              "      <td>Verbo</td>\n",
              "      <td>True</td>\n",
              "      <td>2025-06-03 16:48:19.059000+00:00</td>\n",
              "      <td>9-ensino-fundamental</td>\n",
              "      <td>[{'tag': 'Nome Próprio', 'word': 'Ufa'}, {'tag...</td>\n",
              "      <td>new-session</td>\n",
              "      <td>Ufa , achei que não fosse chegar a tempo !</td>\n",
              "      <td>Não</td>\n",
              "    </tr>\n",
              "  </tbody>\n",
              "</table>\n",
              "<p>24815 rows × 13 columns</p>\n",
              "</div>"
            ],
            "text/plain": [
              "             correctTag targetWord  eventType_x  orderingId   sessionId  \\\n",
              "0                 Verbo       Será  interaction           0  xqEk5ZfKaG   \n",
              "1                 Verbo       Será  interaction           1  xqEk5ZfKaG   \n",
              "2             Pontuação          ,  interaction           0  uQY36KP907   \n",
              "3             Pontuação          !  interaction           1  uQY36KP907   \n",
              "4           Substantivo     árvore  interaction           0  X2RK9EgWWZ   \n",
              "...                 ...        ...          ...         ...         ...   \n",
              "24810         Pontuação          ,  interaction           0  Halvf7QSu2   \n",
              "24811         Pontuação          !  interaction           1  Halvf7QSu2   \n",
              "24812  Verbo de Ligação      fosse  interaction           2  Halvf7QSu2   \n",
              "24813             Verbo     chegar  interaction           3  Halvf7QSu2   \n",
              "24814  Verbo de Ligação      fosse  interaction           4  Halvf7QSu2   \n",
              "\n",
              "                    draggedTag  isMistake                         startTime  \\\n",
              "0                      Pronome       True  2025-05-27 00:49:01.547000+00:00   \n",
              "1      Conjunção Subordinativa       True  2025-05-27 00:49:01.547000+00:00   \n",
              "2                    Pontuação      False  2025-05-27 01:01:42.509000+00:00   \n",
              "3                    Pontuação      False  2025-05-27 01:01:42.509000+00:00   \n",
              "4                  Substantivo      False  2025-05-27 11:11:54.325000+00:00   \n",
              "...                        ...        ...                               ...   \n",
              "24810                Pontuação      False  2025-06-03 16:48:19.059000+00:00   \n",
              "24811                Pontuação      False  2025-06-03 16:48:19.059000+00:00   \n",
              "24812                    Verbo       True  2025-06-03 16:48:19.059000+00:00   \n",
              "24813         Verbo de Ligação       True  2025-06-03 16:48:19.059000+00:00   \n",
              "24814                    Verbo       True  2025-06-03 16:48:19.059000+00:00   \n",
              "\n",
              "                      serie  \\\n",
              "0      5-ensino-fundamental   \n",
              "1      5-ensino-fundamental   \n",
              "2      5-ensino-fundamental   \n",
              "3      5-ensino-fundamental   \n",
              "4      6-ensino-fundamental   \n",
              "...                     ...   \n",
              "24810  9-ensino-fundamental   \n",
              "24811  9-ensino-fundamental   \n",
              "24812  9-ensino-fundamental   \n",
              "24813  9-ensino-fundamental   \n",
              "24814  9-ensino-fundamental   \n",
              "\n",
              "                                                   words  eventType_y  \\\n",
              "0      [{'tag': 'Verbo', 'word': 'Será'}, {'tag': 'Co...  new-session   \n",
              "1      [{'tag': 'Verbo', 'word': 'Será'}, {'tag': 'Co...  new-session   \n",
              "2      [{'tag': 'Nome Próprio', 'word': 'Ufa'}, {'tag...  new-session   \n",
              "3      [{'tag': 'Nome Próprio', 'word': 'Ufa'}, {'tag...  new-session   \n",
              "4      [{'tag': 'Artigo', 'word': 'A'}, {'tag': 'Subs...  new-session   \n",
              "...                                                  ...          ...   \n",
              "24810  [{'tag': 'Nome Próprio', 'word': 'Ufa'}, {'tag...  new-session   \n",
              "24811  [{'tag': 'Nome Próprio', 'word': 'Ufa'}, {'tag...  new-session   \n",
              "24812  [{'tag': 'Nome Próprio', 'word': 'Ufa'}, {'tag...  new-session   \n",
              "24813  [{'tag': 'Nome Próprio', 'word': 'Ufa'}, {'tag...  new-session   \n",
              "24814  [{'tag': 'Nome Próprio', 'word': 'Ufa'}, {'tag...  new-session   \n",
              "\n",
              "                                                sentence complete_try  \n",
              "0      Será que alguém explicou o que aconteceu na au...          Não  \n",
              "1      Será que alguém explicou o que aconteceu na au...          Não  \n",
              "2             Ufa , achei que não fosse chegar a tempo !          Não  \n",
              "3             Ufa , achei que não fosse chegar a tempo !          Não  \n",
              "4                               A folha caiu da árvore .          Não  \n",
              "...                                                  ...          ...  \n",
              "24810         Ufa , achei que não fosse chegar a tempo !          Não  \n",
              "24811         Ufa , achei que não fosse chegar a tempo !          Não  \n",
              "24812         Ufa , achei que não fosse chegar a tempo !          Não  \n",
              "24813         Ufa , achei que não fosse chegar a tempo !          Não  \n",
              "24814         Ufa , achei que não fosse chegar a tempo !          Não  \n",
              "\n",
              "[24815 rows x 13 columns]"
            ]
          },
          "execution_count": 22,
          "metadata": {},
          "output_type": "execute_result"
        }
      ],
      "source": [
        "df"
      ]
    },
    {
      "cell_type": "code",
      "execution_count": 23,
      "metadata": {
        "id": "EYDnIOkG9Aa8"
      },
      "outputs": [],
      "source": [
        "df.to_pickle(\"merged_data_250603.pkl\")"
      ]
    },
    {
      "cell_type": "markdown",
      "metadata": {},
      "source": [
        "## Dataset maior (03-06-2025)"
      ]
    },
    {
      "cell_type": "code",
      "execution_count": 17,
      "metadata": {},
      "outputs": [
        {
          "data": {
            "text/html": [
              "<div>\n",
              "<style scoped>\n",
              "    .dataframe tbody tr th:only-of-type {\n",
              "        vertical-align: middle;\n",
              "    }\n",
              "\n",
              "    .dataframe tbody tr th {\n",
              "        vertical-align: top;\n",
              "    }\n",
              "\n",
              "    .dataframe thead th {\n",
              "        text-align: right;\n",
              "    }\n",
              "</style>\n",
              "<table border=\"1\" class=\"dataframe\">\n",
              "  <thead>\n",
              "    <tr style=\"text-align: right;\">\n",
              "      <th></th>\n",
              "      <th>correctTag</th>\n",
              "      <th>targetWord</th>\n",
              "      <th>orderingId</th>\n",
              "      <th>sessionId</th>\n",
              "      <th>draggedTag</th>\n",
              "      <th>serie</th>\n",
              "    </tr>\n",
              "  </thead>\n",
              "  <tbody>\n",
              "    <tr>\n",
              "      <th>0</th>\n",
              "      <td>Pontuação</td>\n",
              "      <td>.</td>\n",
              "      <td>0</td>\n",
              "      <td>Jh1538yCDy</td>\n",
              "      <td>Pontuação</td>\n",
              "      <td>6-ensino-fundamental</td>\n",
              "    </tr>\n",
              "    <tr>\n",
              "      <th>1</th>\n",
              "      <td>Artigo</td>\n",
              "      <td>O</td>\n",
              "      <td>1</td>\n",
              "      <td>Jh1538yCDy</td>\n",
              "      <td>Substantivo</td>\n",
              "      <td>6-ensino-fundamental</td>\n",
              "    </tr>\n",
              "    <tr>\n",
              "      <th>2</th>\n",
              "      <td>Substantivo</td>\n",
              "      <td>banco</td>\n",
              "      <td>2</td>\n",
              "      <td>Jh1538yCDy</td>\n",
              "      <td>Artigo</td>\n",
              "      <td>6-ensino-fundamental</td>\n",
              "    </tr>\n",
              "    <tr>\n",
              "      <th>3</th>\n",
              "      <td>Substantivo</td>\n",
              "      <td>banco</td>\n",
              "      <td>3</td>\n",
              "      <td>Jh1538yCDy</td>\n",
              "      <td>Substantivo</td>\n",
              "      <td>6-ensino-fundamental</td>\n",
              "    </tr>\n",
              "    <tr>\n",
              "      <th>4</th>\n",
              "      <td>Artigo</td>\n",
              "      <td>O</td>\n",
              "      <td>4</td>\n",
              "      <td>Jh1538yCDy</td>\n",
              "      <td>Artigo</td>\n",
              "      <td>6-ensino-fundamental</td>\n",
              "    </tr>\n",
              "    <tr>\n",
              "      <th>...</th>\n",
              "      <td>...</td>\n",
              "      <td>...</td>\n",
              "      <td>...</td>\n",
              "      <td>...</td>\n",
              "      <td>...</td>\n",
              "      <td>...</td>\n",
              "    </tr>\n",
              "    <tr>\n",
              "      <th>21941</th>\n",
              "      <td>Preposição+Artigo</td>\n",
              "      <td>à</td>\n",
              "      <td>3</td>\n",
              "      <td>wb93AUnw5X</td>\n",
              "      <td>Preposição</td>\n",
              "      <td>7-ensino-fundamental</td>\n",
              "    </tr>\n",
              "    <tr>\n",
              "      <th>21942</th>\n",
              "      <td>Preposição+Artigo</td>\n",
              "      <td>à</td>\n",
              "      <td>4</td>\n",
              "      <td>wb93AUnw5X</td>\n",
              "      <td>Preposição+Artigo</td>\n",
              "      <td>7-ensino-fundamental</td>\n",
              "    </tr>\n",
              "    <tr>\n",
              "      <th>21943</th>\n",
              "      <td>Verbo</td>\n",
              "      <td>foi</td>\n",
              "      <td>5</td>\n",
              "      <td>wb93AUnw5X</td>\n",
              "      <td>Verbo</td>\n",
              "      <td>7-ensino-fundamental</td>\n",
              "    </tr>\n",
              "    <tr>\n",
              "      <th>21944</th>\n",
              "      <td>Substantivo</td>\n",
              "      <td>escola</td>\n",
              "      <td>6</td>\n",
              "      <td>wb93AUnw5X</td>\n",
              "      <td>Substantivo</td>\n",
              "      <td>7-ensino-fundamental</td>\n",
              "    </tr>\n",
              "    <tr>\n",
              "      <th>21945</th>\n",
              "      <td>Preposição</td>\n",
              "      <td>com</td>\n",
              "      <td>7</td>\n",
              "      <td>wb93AUnw5X</td>\n",
              "      <td>Preposição</td>\n",
              "      <td>7-ensino-fundamental</td>\n",
              "    </tr>\n",
              "  </tbody>\n",
              "</table>\n",
              "<p>21946 rows × 6 columns</p>\n",
              "</div>"
            ],
            "text/plain": [
              "              correctTag targetWord  orderingId   sessionId  \\\n",
              "0              Pontuação          .           0  Jh1538yCDy   \n",
              "1                 Artigo          O           1  Jh1538yCDy   \n",
              "2            Substantivo      banco           2  Jh1538yCDy   \n",
              "3            Substantivo      banco           3  Jh1538yCDy   \n",
              "4                 Artigo          O           4  Jh1538yCDy   \n",
              "...                  ...        ...         ...         ...   \n",
              "21941  Preposição+Artigo          à           3  wb93AUnw5X   \n",
              "21942  Preposição+Artigo          à           4  wb93AUnw5X   \n",
              "21943              Verbo        foi           5  wb93AUnw5X   \n",
              "21944        Substantivo     escola           6  wb93AUnw5X   \n",
              "21945         Preposição        com           7  wb93AUnw5X   \n",
              "\n",
              "              draggedTag                 serie  \n",
              "0              Pontuação  6-ensino-fundamental  \n",
              "1            Substantivo  6-ensino-fundamental  \n",
              "2                 Artigo  6-ensino-fundamental  \n",
              "3            Substantivo  6-ensino-fundamental  \n",
              "4                 Artigo  6-ensino-fundamental  \n",
              "...                  ...                   ...  \n",
              "21941         Preposição  7-ensino-fundamental  \n",
              "21942  Preposição+Artigo  7-ensino-fundamental  \n",
              "21943              Verbo  7-ensino-fundamental  \n",
              "21944        Substantivo  7-ensino-fundamental  \n",
              "21945         Preposição  7-ensino-fundamental  \n",
              "\n",
              "[21946 rows x 6 columns]"
            ]
          },
          "execution_count": 17,
          "metadata": {},
          "output_type": "execute_result"
        }
      ],
      "source": [
        "df = pd.read_csv(\"final_df_250603.csv\")\n",
        "df"
      ]
    },
    {
      "cell_type": "code",
      "execution_count": 18,
      "metadata": {},
      "outputs": [
        {
          "data": {
            "text/html": [
              "<div>\n",
              "<style scoped>\n",
              "    .dataframe tbody tr th:only-of-type {\n",
              "        vertical-align: middle;\n",
              "    }\n",
              "\n",
              "    .dataframe tbody tr th {\n",
              "        vertical-align: top;\n",
              "    }\n",
              "\n",
              "    .dataframe thead th {\n",
              "        text-align: right;\n",
              "    }\n",
              "</style>\n",
              "<table border=\"1\" class=\"dataframe\">\n",
              "  <thead>\n",
              "    <tr style=\"text-align: right;\">\n",
              "      <th></th>\n",
              "      <th>correctTag</th>\n",
              "      <th>targetWord</th>\n",
              "      <th>orderingId</th>\n",
              "      <th>sessionId</th>\n",
              "      <th>draggedTag</th>\n",
              "      <th>serie</th>\n",
              "      <th>isMistake</th>\n",
              "    </tr>\n",
              "  </thead>\n",
              "  <tbody>\n",
              "    <tr>\n",
              "      <th>0</th>\n",
              "      <td>Pontuação</td>\n",
              "      <td>.</td>\n",
              "      <td>0</td>\n",
              "      <td>Jh1538yCDy</td>\n",
              "      <td>Pontuação</td>\n",
              "      <td>6-ensino-fundamental</td>\n",
              "      <td>False</td>\n",
              "    </tr>\n",
              "    <tr>\n",
              "      <th>1</th>\n",
              "      <td>Artigo</td>\n",
              "      <td>O</td>\n",
              "      <td>1</td>\n",
              "      <td>Jh1538yCDy</td>\n",
              "      <td>Substantivo</td>\n",
              "      <td>6-ensino-fundamental</td>\n",
              "      <td>True</td>\n",
              "    </tr>\n",
              "    <tr>\n",
              "      <th>2</th>\n",
              "      <td>Substantivo</td>\n",
              "      <td>banco</td>\n",
              "      <td>2</td>\n",
              "      <td>Jh1538yCDy</td>\n",
              "      <td>Artigo</td>\n",
              "      <td>6-ensino-fundamental</td>\n",
              "      <td>True</td>\n",
              "    </tr>\n",
              "    <tr>\n",
              "      <th>3</th>\n",
              "      <td>Substantivo</td>\n",
              "      <td>banco</td>\n",
              "      <td>3</td>\n",
              "      <td>Jh1538yCDy</td>\n",
              "      <td>Substantivo</td>\n",
              "      <td>6-ensino-fundamental</td>\n",
              "      <td>False</td>\n",
              "    </tr>\n",
              "    <tr>\n",
              "      <th>4</th>\n",
              "      <td>Artigo</td>\n",
              "      <td>O</td>\n",
              "      <td>4</td>\n",
              "      <td>Jh1538yCDy</td>\n",
              "      <td>Artigo</td>\n",
              "      <td>6-ensino-fundamental</td>\n",
              "      <td>False</td>\n",
              "    </tr>\n",
              "    <tr>\n",
              "      <th>...</th>\n",
              "      <td>...</td>\n",
              "      <td>...</td>\n",
              "      <td>...</td>\n",
              "      <td>...</td>\n",
              "      <td>...</td>\n",
              "      <td>...</td>\n",
              "      <td>...</td>\n",
              "    </tr>\n",
              "    <tr>\n",
              "      <th>21941</th>\n",
              "      <td>Preposição+Artigo</td>\n",
              "      <td>à</td>\n",
              "      <td>3</td>\n",
              "      <td>wb93AUnw5X</td>\n",
              "      <td>Preposição</td>\n",
              "      <td>7-ensino-fundamental</td>\n",
              "      <td>True</td>\n",
              "    </tr>\n",
              "    <tr>\n",
              "      <th>21942</th>\n",
              "      <td>Preposição+Artigo</td>\n",
              "      <td>à</td>\n",
              "      <td>4</td>\n",
              "      <td>wb93AUnw5X</td>\n",
              "      <td>Preposição+Artigo</td>\n",
              "      <td>7-ensino-fundamental</td>\n",
              "      <td>False</td>\n",
              "    </tr>\n",
              "    <tr>\n",
              "      <th>21943</th>\n",
              "      <td>Verbo</td>\n",
              "      <td>foi</td>\n",
              "      <td>5</td>\n",
              "      <td>wb93AUnw5X</td>\n",
              "      <td>Verbo</td>\n",
              "      <td>7-ensino-fundamental</td>\n",
              "      <td>False</td>\n",
              "    </tr>\n",
              "    <tr>\n",
              "      <th>21944</th>\n",
              "      <td>Substantivo</td>\n",
              "      <td>escola</td>\n",
              "      <td>6</td>\n",
              "      <td>wb93AUnw5X</td>\n",
              "      <td>Substantivo</td>\n",
              "      <td>7-ensino-fundamental</td>\n",
              "      <td>False</td>\n",
              "    </tr>\n",
              "    <tr>\n",
              "      <th>21945</th>\n",
              "      <td>Preposição</td>\n",
              "      <td>com</td>\n",
              "      <td>7</td>\n",
              "      <td>wb93AUnw5X</td>\n",
              "      <td>Preposição</td>\n",
              "      <td>7-ensino-fundamental</td>\n",
              "      <td>False</td>\n",
              "    </tr>\n",
              "  </tbody>\n",
              "</table>\n",
              "<p>21946 rows × 7 columns</p>\n",
              "</div>"
            ],
            "text/plain": [
              "              correctTag targetWord  orderingId   sessionId  \\\n",
              "0              Pontuação          .           0  Jh1538yCDy   \n",
              "1                 Artigo          O           1  Jh1538yCDy   \n",
              "2            Substantivo      banco           2  Jh1538yCDy   \n",
              "3            Substantivo      banco           3  Jh1538yCDy   \n",
              "4                 Artigo          O           4  Jh1538yCDy   \n",
              "...                  ...        ...         ...         ...   \n",
              "21941  Preposição+Artigo          à           3  wb93AUnw5X   \n",
              "21942  Preposição+Artigo          à           4  wb93AUnw5X   \n",
              "21943              Verbo        foi           5  wb93AUnw5X   \n",
              "21944        Substantivo     escola           6  wb93AUnw5X   \n",
              "21945         Preposição        com           7  wb93AUnw5X   \n",
              "\n",
              "              draggedTag                 serie  isMistake  \n",
              "0              Pontuação  6-ensino-fundamental      False  \n",
              "1            Substantivo  6-ensino-fundamental       True  \n",
              "2                 Artigo  6-ensino-fundamental       True  \n",
              "3            Substantivo  6-ensino-fundamental      False  \n",
              "4                 Artigo  6-ensino-fundamental      False  \n",
              "...                  ...                   ...        ...  \n",
              "21941         Preposição  7-ensino-fundamental       True  \n",
              "21942  Preposição+Artigo  7-ensino-fundamental      False  \n",
              "21943              Verbo  7-ensino-fundamental      False  \n",
              "21944        Substantivo  7-ensino-fundamental      False  \n",
              "21945         Preposição  7-ensino-fundamental      False  \n",
              "\n",
              "[21946 rows x 7 columns]"
            ]
          },
          "execution_count": 18,
          "metadata": {},
          "output_type": "execute_result"
        }
      ],
      "source": [
        "# Cria coluna indicando se houve erro de etiquetagem por parte do aluno\n",
        "def check_for_mistakes(row):\n",
        "    return row['correctTag'] != row['draggedTag']\n",
        "\n",
        "df['isMistake'] = df.apply(check_for_mistakes, axis=1)\n",
        "df"
      ]
    },
    {
      "cell_type": "code",
      "execution_count": 19,
      "metadata": {},
      "outputs": [
        {
          "data": {
            "text/plain": [
              "True     11830\n",
              "False    10116\n",
              "Name: isMistake, dtype: int64"
            ]
          },
          "execution_count": 19,
          "metadata": {},
          "output_type": "execute_result"
        }
      ],
      "source": [
        "df.isMistake.value_counts()"
      ]
    },
    {
      "cell_type": "code",
      "execution_count": 20,
      "metadata": {},
      "outputs": [
        {
          "data": {
            "text/plain": [
              "True     0.53905\n",
              "False    0.46095\n",
              "Name: isMistake, dtype: float64"
            ]
          },
          "execution_count": 20,
          "metadata": {},
          "output_type": "execute_result"
        }
      ],
      "source": [
        "df.isMistake.value_counts(True)"
      ]
    },
    {
      "cell_type": "code",
      "execution_count": 21,
      "metadata": {},
      "outputs": [],
      "source": [
        "# # Criando coluna com as frases originais em si - CAMPO FALTANTE: IGNORANDO\n",
        "# df['words'] = df['words'].progress_apply(lambda x: json.loads(x.replace(\"'\", '\"')))\n",
        "# df['sentence'] = df['words'].progress_apply(lambda x: ' '.join([token_info['word'] for token_info in x]))"
      ]
    },
    {
      "cell_type": "code",
      "execution_count": 22,
      "metadata": {},
      "outputs": [],
      "source": [
        "# Impossível criar a coluna \"complete_try\" também devido a campos faltantes"
      ]
    },
    {
      "cell_type": "code",
      "execution_count": 23,
      "metadata": {},
      "outputs": [
        {
          "data": {
            "text/plain": [
              "5-ensino-fundamental    6305\n",
              "7-ensino-fundamental    4690\n",
              "6-ensino-fundamental    4318\n",
              "8-ensino-fundamental    3593\n",
              "9-ensino-fundamental    1672\n",
              "4-ensino-fundamental     594\n",
              "3-ensino-medio           508\n",
              "1-ensino-medio           199\n",
              "2-ensino-medio            67\n",
              "Name: serie, dtype: int64"
            ]
          },
          "execution_count": 23,
          "metadata": {},
          "output_type": "execute_result"
        }
      ],
      "source": [
        "df.serie.value_counts()"
      ]
    },
    {
      "cell_type": "code",
      "execution_count": 24,
      "metadata": {},
      "outputs": [],
      "source": [
        "df.to_pickle(\"final_df_250603.pkl\")"
      ]
    },
    {
      "cell_type": "markdown",
      "metadata": {
        "id": "JdJNlT4nBPHU"
      },
      "source": [
        "# Montando dataset\n",
        "features importantes:\n",
        "\n",
        "- targetWord\n",
        "- correctTag\n",
        "- draggedTag\n",
        "- isMistake\n",
        "- sentence\n",
        "- orderingId\n",
        "\n",
        "Target:\n",
        "- serie\n"
      ]
    },
    {
      "cell_type": "markdown",
      "metadata": {},
      "source": [
        "## Dataset inicial"
      ]
    },
    {
      "cell_type": "code",
      "execution_count": 24,
      "metadata": {
        "colab": {
          "base_uri": "https://localhost:8080/",
          "height": 1000
        },
        "id": "RAAf2iTKLiB-",
        "outputId": "cadb8549-71d7-4200-e430-bbc03ccfac0d"
      },
      "outputs": [
        {
          "data": {
            "text/html": [
              "<div>\n",
              "<style scoped>\n",
              "    .dataframe tbody tr th:only-of-type {\n",
              "        vertical-align: middle;\n",
              "    }\n",
              "\n",
              "    .dataframe tbody tr th {\n",
              "        vertical-align: top;\n",
              "    }\n",
              "\n",
              "    .dataframe thead th {\n",
              "        text-align: right;\n",
              "    }\n",
              "</style>\n",
              "<table border=\"1\" class=\"dataframe\">\n",
              "  <thead>\n",
              "    <tr style=\"text-align: right;\">\n",
              "      <th></th>\n",
              "      <th>correctTag</th>\n",
              "      <th>targetWord</th>\n",
              "      <th>eventType_x</th>\n",
              "      <th>orderingId</th>\n",
              "      <th>sessionId</th>\n",
              "      <th>draggedTag</th>\n",
              "      <th>isMistake</th>\n",
              "      <th>startTime</th>\n",
              "      <th>serie</th>\n",
              "      <th>words</th>\n",
              "      <th>eventType_y</th>\n",
              "      <th>sentence</th>\n",
              "      <th>complete_try</th>\n",
              "    </tr>\n",
              "  </thead>\n",
              "  <tbody>\n",
              "    <tr>\n",
              "      <th>0</th>\n",
              "      <td>Verbo</td>\n",
              "      <td>Será</td>\n",
              "      <td>interaction</td>\n",
              "      <td>0</td>\n",
              "      <td>xqEk5ZfKaG</td>\n",
              "      <td>Pronome</td>\n",
              "      <td>True</td>\n",
              "      <td>2025-05-27 00:49:01.547000+00:00</td>\n",
              "      <td>5-ensino-fundamental</td>\n",
              "      <td>[{'tag': 'Verbo', 'word': 'Será'}, {'tag': 'Co...</td>\n",
              "      <td>new-session</td>\n",
              "      <td>Será que alguém explicou o que aconteceu na au...</td>\n",
              "      <td>Não</td>\n",
              "    </tr>\n",
              "    <tr>\n",
              "      <th>1</th>\n",
              "      <td>Verbo</td>\n",
              "      <td>Será</td>\n",
              "      <td>interaction</td>\n",
              "      <td>1</td>\n",
              "      <td>xqEk5ZfKaG</td>\n",
              "      <td>Conjunção Subordinativa</td>\n",
              "      <td>True</td>\n",
              "      <td>2025-05-27 00:49:01.547000+00:00</td>\n",
              "      <td>5-ensino-fundamental</td>\n",
              "      <td>[{'tag': 'Verbo', 'word': 'Será'}, {'tag': 'Co...</td>\n",
              "      <td>new-session</td>\n",
              "      <td>Será que alguém explicou o que aconteceu na au...</td>\n",
              "      <td>Não</td>\n",
              "    </tr>\n",
              "    <tr>\n",
              "      <th>2</th>\n",
              "      <td>Pontuação</td>\n",
              "      <td>,</td>\n",
              "      <td>interaction</td>\n",
              "      <td>0</td>\n",
              "      <td>uQY36KP907</td>\n",
              "      <td>Pontuação</td>\n",
              "      <td>False</td>\n",
              "      <td>2025-05-27 01:01:42.509000+00:00</td>\n",
              "      <td>5-ensino-fundamental</td>\n",
              "      <td>[{'tag': 'Nome Próprio', 'word': 'Ufa'}, {'tag...</td>\n",
              "      <td>new-session</td>\n",
              "      <td>Ufa , achei que não fosse chegar a tempo !</td>\n",
              "      <td>Não</td>\n",
              "    </tr>\n",
              "    <tr>\n",
              "      <th>3</th>\n",
              "      <td>Pontuação</td>\n",
              "      <td>!</td>\n",
              "      <td>interaction</td>\n",
              "      <td>1</td>\n",
              "      <td>uQY36KP907</td>\n",
              "      <td>Pontuação</td>\n",
              "      <td>False</td>\n",
              "      <td>2025-05-27 01:01:42.509000+00:00</td>\n",
              "      <td>5-ensino-fundamental</td>\n",
              "      <td>[{'tag': 'Nome Próprio', 'word': 'Ufa'}, {'tag...</td>\n",
              "      <td>new-session</td>\n",
              "      <td>Ufa , achei que não fosse chegar a tempo !</td>\n",
              "      <td>Não</td>\n",
              "    </tr>\n",
              "    <tr>\n",
              "      <th>4</th>\n",
              "      <td>Substantivo</td>\n",
              "      <td>árvore</td>\n",
              "      <td>interaction</td>\n",
              "      <td>0</td>\n",
              "      <td>X2RK9EgWWZ</td>\n",
              "      <td>Substantivo</td>\n",
              "      <td>False</td>\n",
              "      <td>2025-05-27 11:11:54.325000+00:00</td>\n",
              "      <td>6-ensino-fundamental</td>\n",
              "      <td>[{'tag': 'Artigo', 'word': 'A'}, {'tag': 'Subs...</td>\n",
              "      <td>new-session</td>\n",
              "      <td>A folha caiu da árvore .</td>\n",
              "      <td>Não</td>\n",
              "    </tr>\n",
              "    <tr>\n",
              "      <th>...</th>\n",
              "      <td>...</td>\n",
              "      <td>...</td>\n",
              "      <td>...</td>\n",
              "      <td>...</td>\n",
              "      <td>...</td>\n",
              "      <td>...</td>\n",
              "      <td>...</td>\n",
              "      <td>...</td>\n",
              "      <td>...</td>\n",
              "      <td>...</td>\n",
              "      <td>...</td>\n",
              "      <td>...</td>\n",
              "      <td>...</td>\n",
              "    </tr>\n",
              "    <tr>\n",
              "      <th>24810</th>\n",
              "      <td>Pontuação</td>\n",
              "      <td>,</td>\n",
              "      <td>interaction</td>\n",
              "      <td>0</td>\n",
              "      <td>Halvf7QSu2</td>\n",
              "      <td>Pontuação</td>\n",
              "      <td>False</td>\n",
              "      <td>2025-06-03 16:48:19.059000+00:00</td>\n",
              "      <td>9-ensino-fundamental</td>\n",
              "      <td>[{'tag': 'Nome Próprio', 'word': 'Ufa'}, {'tag...</td>\n",
              "      <td>new-session</td>\n",
              "      <td>Ufa , achei que não fosse chegar a tempo !</td>\n",
              "      <td>Não</td>\n",
              "    </tr>\n",
              "    <tr>\n",
              "      <th>24811</th>\n",
              "      <td>Pontuação</td>\n",
              "      <td>!</td>\n",
              "      <td>interaction</td>\n",
              "      <td>1</td>\n",
              "      <td>Halvf7QSu2</td>\n",
              "      <td>Pontuação</td>\n",
              "      <td>False</td>\n",
              "      <td>2025-06-03 16:48:19.059000+00:00</td>\n",
              "      <td>9-ensino-fundamental</td>\n",
              "      <td>[{'tag': 'Nome Próprio', 'word': 'Ufa'}, {'tag...</td>\n",
              "      <td>new-session</td>\n",
              "      <td>Ufa , achei que não fosse chegar a tempo !</td>\n",
              "      <td>Não</td>\n",
              "    </tr>\n",
              "    <tr>\n",
              "      <th>24812</th>\n",
              "      <td>Verbo de Ligação</td>\n",
              "      <td>fosse</td>\n",
              "      <td>interaction</td>\n",
              "      <td>2</td>\n",
              "      <td>Halvf7QSu2</td>\n",
              "      <td>Verbo</td>\n",
              "      <td>True</td>\n",
              "      <td>2025-06-03 16:48:19.059000+00:00</td>\n",
              "      <td>9-ensino-fundamental</td>\n",
              "      <td>[{'tag': 'Nome Próprio', 'word': 'Ufa'}, {'tag...</td>\n",
              "      <td>new-session</td>\n",
              "      <td>Ufa , achei que não fosse chegar a tempo !</td>\n",
              "      <td>Não</td>\n",
              "    </tr>\n",
              "    <tr>\n",
              "      <th>24813</th>\n",
              "      <td>Verbo</td>\n",
              "      <td>chegar</td>\n",
              "      <td>interaction</td>\n",
              "      <td>3</td>\n",
              "      <td>Halvf7QSu2</td>\n",
              "      <td>Verbo de Ligação</td>\n",
              "      <td>True</td>\n",
              "      <td>2025-06-03 16:48:19.059000+00:00</td>\n",
              "      <td>9-ensino-fundamental</td>\n",
              "      <td>[{'tag': 'Nome Próprio', 'word': 'Ufa'}, {'tag...</td>\n",
              "      <td>new-session</td>\n",
              "      <td>Ufa , achei que não fosse chegar a tempo !</td>\n",
              "      <td>Não</td>\n",
              "    </tr>\n",
              "    <tr>\n",
              "      <th>24814</th>\n",
              "      <td>Verbo de Ligação</td>\n",
              "      <td>fosse</td>\n",
              "      <td>interaction</td>\n",
              "      <td>4</td>\n",
              "      <td>Halvf7QSu2</td>\n",
              "      <td>Verbo</td>\n",
              "      <td>True</td>\n",
              "      <td>2025-06-03 16:48:19.059000+00:00</td>\n",
              "      <td>9-ensino-fundamental</td>\n",
              "      <td>[{'tag': 'Nome Próprio', 'word': 'Ufa'}, {'tag...</td>\n",
              "      <td>new-session</td>\n",
              "      <td>Ufa , achei que não fosse chegar a tempo !</td>\n",
              "      <td>Não</td>\n",
              "    </tr>\n",
              "  </tbody>\n",
              "</table>\n",
              "<p>24815 rows × 13 columns</p>\n",
              "</div>"
            ],
            "text/plain": [
              "             correctTag targetWord  eventType_x  orderingId   sessionId  \\\n",
              "0                 Verbo       Será  interaction           0  xqEk5ZfKaG   \n",
              "1                 Verbo       Será  interaction           1  xqEk5ZfKaG   \n",
              "2             Pontuação          ,  interaction           0  uQY36KP907   \n",
              "3             Pontuação          !  interaction           1  uQY36KP907   \n",
              "4           Substantivo     árvore  interaction           0  X2RK9EgWWZ   \n",
              "...                 ...        ...          ...         ...         ...   \n",
              "24810         Pontuação          ,  interaction           0  Halvf7QSu2   \n",
              "24811         Pontuação          !  interaction           1  Halvf7QSu2   \n",
              "24812  Verbo de Ligação      fosse  interaction           2  Halvf7QSu2   \n",
              "24813             Verbo     chegar  interaction           3  Halvf7QSu2   \n",
              "24814  Verbo de Ligação      fosse  interaction           4  Halvf7QSu2   \n",
              "\n",
              "                    draggedTag  isMistake                         startTime  \\\n",
              "0                      Pronome       True  2025-05-27 00:49:01.547000+00:00   \n",
              "1      Conjunção Subordinativa       True  2025-05-27 00:49:01.547000+00:00   \n",
              "2                    Pontuação      False  2025-05-27 01:01:42.509000+00:00   \n",
              "3                    Pontuação      False  2025-05-27 01:01:42.509000+00:00   \n",
              "4                  Substantivo      False  2025-05-27 11:11:54.325000+00:00   \n",
              "...                        ...        ...                               ...   \n",
              "24810                Pontuação      False  2025-06-03 16:48:19.059000+00:00   \n",
              "24811                Pontuação      False  2025-06-03 16:48:19.059000+00:00   \n",
              "24812                    Verbo       True  2025-06-03 16:48:19.059000+00:00   \n",
              "24813         Verbo de Ligação       True  2025-06-03 16:48:19.059000+00:00   \n",
              "24814                    Verbo       True  2025-06-03 16:48:19.059000+00:00   \n",
              "\n",
              "                      serie  \\\n",
              "0      5-ensino-fundamental   \n",
              "1      5-ensino-fundamental   \n",
              "2      5-ensino-fundamental   \n",
              "3      5-ensino-fundamental   \n",
              "4      6-ensino-fundamental   \n",
              "...                     ...   \n",
              "24810  9-ensino-fundamental   \n",
              "24811  9-ensino-fundamental   \n",
              "24812  9-ensino-fundamental   \n",
              "24813  9-ensino-fundamental   \n",
              "24814  9-ensino-fundamental   \n",
              "\n",
              "                                                   words  eventType_y  \\\n",
              "0      [{'tag': 'Verbo', 'word': 'Será'}, {'tag': 'Co...  new-session   \n",
              "1      [{'tag': 'Verbo', 'word': 'Será'}, {'tag': 'Co...  new-session   \n",
              "2      [{'tag': 'Nome Próprio', 'word': 'Ufa'}, {'tag...  new-session   \n",
              "3      [{'tag': 'Nome Próprio', 'word': 'Ufa'}, {'tag...  new-session   \n",
              "4      [{'tag': 'Artigo', 'word': 'A'}, {'tag': 'Subs...  new-session   \n",
              "...                                                  ...          ...   \n",
              "24810  [{'tag': 'Nome Próprio', 'word': 'Ufa'}, {'tag...  new-session   \n",
              "24811  [{'tag': 'Nome Próprio', 'word': 'Ufa'}, {'tag...  new-session   \n",
              "24812  [{'tag': 'Nome Próprio', 'word': 'Ufa'}, {'tag...  new-session   \n",
              "24813  [{'tag': 'Nome Próprio', 'word': 'Ufa'}, {'tag...  new-session   \n",
              "24814  [{'tag': 'Nome Próprio', 'word': 'Ufa'}, {'tag...  new-session   \n",
              "\n",
              "                                                sentence complete_try  \n",
              "0      Será que alguém explicou o que aconteceu na au...          Não  \n",
              "1      Será que alguém explicou o que aconteceu na au...          Não  \n",
              "2             Ufa , achei que não fosse chegar a tempo !          Não  \n",
              "3             Ufa , achei que não fosse chegar a tempo !          Não  \n",
              "4                               A folha caiu da árvore .          Não  \n",
              "...                                                  ...          ...  \n",
              "24810         Ufa , achei que não fosse chegar a tempo !          Não  \n",
              "24811         Ufa , achei que não fosse chegar a tempo !          Não  \n",
              "24812         Ufa , achei que não fosse chegar a tempo !          Não  \n",
              "24813         Ufa , achei que não fosse chegar a tempo !          Não  \n",
              "24814         Ufa , achei que não fosse chegar a tempo !          Não  \n",
              "\n",
              "[24815 rows x 13 columns]"
            ]
          },
          "execution_count": 24,
          "metadata": {},
          "output_type": "execute_result"
        }
      ],
      "source": [
        "df = pd.read_pickle('merged_data_250603.pkl')\n",
        "df"
      ]
    },
    {
      "cell_type": "code",
      "execution_count": 25,
      "metadata": {
        "colab": {
          "base_uri": "https://localhost:8080/",
          "height": 49,
          "referenced_widgets": [
            "f8725d2c93eb434ab08849f6a4eb7ab1",
            "06031c407f1f442796fbcd3a6e699ecd",
            "7de124d301be4f75a1866028caffb7e5",
            "30e7e3818d5c4f999e153b828559a9bc",
            "21227e0a46814be88822bb279ccd1623",
            "ffe2bc6b2af64a2c91acd7f137f69e60",
            "525decac886749ea8194737e81be160e",
            "682d3f4090d347d88df0903584a54624",
            "db2ac653b88a4ec7bedf17ad2af4946d",
            "8cba1efb179d41a3a1e73f560052a983",
            "2c347460195a4957a9b674775b88194a"
          ]
        },
        "id": "LCS5OXQajiBw",
        "outputId": "e235a33c-24f3-4d2b-cdb7-70f7c9b1e9ff"
      },
      "outputs": [
        {
          "name": "stderr",
          "output_type": "stream",
          "text": [
            "100%|██████████| 1431/1431 [00:03<00:00, 433.79it/s]\n"
          ]
        }
      ],
      "source": [
        "model_inputs = []\n",
        "targets = []\n",
        "for sessionId in tqdm(df.sessionId.unique()):\n",
        "    df_filtered = df[df.sessionId == sessionId].reset_index(drop=True)\n",
        "    targets.append(df_filtered.loc[0, 'serie'])\n",
        "\n",
        "    model_input = f\"Frase original: \\\"{df_filtered.loc[0, 'sentence']}\\\"\\nTentativa completa: {df_filtered.loc[0, 'complete_try']}. Interações do aluno:\\n\"\n",
        "    for index, row in df_filtered.iterrows():\n",
        "        model_input += (\n",
        "            f\"Palavra: {row['targetWord']}. \"\n",
        "            f\"Tag correta: {row['correctTag']}. \"\n",
        "            f\"Tag escolhida: {row['draggedTag']}. \"\n",
        "            f\"Erro: {'sim' if row['isMistake'] else 'não'}. \"\n",
        "            f\"Ordem da interação: {row['orderingId'] + 1}.\\n\"\n",
        "        )\n",
        "\n",
        "    model_input += \"Fim.\"\n",
        "    model_inputs.append(model_input)\n",
        "\n",
        "dataset = pd.DataFrame()\n",
        "dataset['input'] = model_inputs\n",
        "dataset['target'] = targets"
      ]
    },
    {
      "cell_type": "code",
      "execution_count": 26,
      "metadata": {
        "colab": {
          "base_uri": "https://localhost:8080/",
          "height": 424
        },
        "id": "jzijbclKplPA",
        "outputId": "f00b8492-68d5-4e55-a984-16271b0c5baf"
      },
      "outputs": [
        {
          "data": {
            "text/html": [
              "<div>\n",
              "<style scoped>\n",
              "    .dataframe tbody tr th:only-of-type {\n",
              "        vertical-align: middle;\n",
              "    }\n",
              "\n",
              "    .dataframe tbody tr th {\n",
              "        vertical-align: top;\n",
              "    }\n",
              "\n",
              "    .dataframe thead th {\n",
              "        text-align: right;\n",
              "    }\n",
              "</style>\n",
              "<table border=\"1\" class=\"dataframe\">\n",
              "  <thead>\n",
              "    <tr style=\"text-align: right;\">\n",
              "      <th></th>\n",
              "      <th>input</th>\n",
              "      <th>target</th>\n",
              "    </tr>\n",
              "  </thead>\n",
              "  <tbody>\n",
              "    <tr>\n",
              "      <th>0</th>\n",
              "      <td>Frase original: \"Será que alguém explicou o qu...</td>\n",
              "      <td>5-ensino-fundamental</td>\n",
              "    </tr>\n",
              "    <tr>\n",
              "      <th>1</th>\n",
              "      <td>Frase original: \"Ufa , achei que não fosse che...</td>\n",
              "      <td>5-ensino-fundamental</td>\n",
              "    </tr>\n",
              "    <tr>\n",
              "      <th>2</th>\n",
              "      <td>Frase original: \"A folha caiu da árvore .\"\\nTe...</td>\n",
              "      <td>6-ensino-fundamental</td>\n",
              "    </tr>\n",
              "    <tr>\n",
              "      <th>3</th>\n",
              "      <td>Frase original: \"É importante que todos os alu...</td>\n",
              "      <td>6-ensino-fundamental</td>\n",
              "    </tr>\n",
              "    <tr>\n",
              "      <th>4</th>\n",
              "      <td>Frase original: \"Não acredito que você tenha f...</td>\n",
              "      <td>9-ensino-fundamental</td>\n",
              "    </tr>\n",
              "    <tr>\n",
              "      <th>...</th>\n",
              "      <td>...</td>\n",
              "      <td>...</td>\n",
              "    </tr>\n",
              "    <tr>\n",
              "      <th>1426</th>\n",
              "      <td>Frase original: \"Eu acho que ele não vai gosta...</td>\n",
              "      <td>7-ensino-fundamental</td>\n",
              "    </tr>\n",
              "    <tr>\n",
              "      <th>1427</th>\n",
              "      <td>Frase original: \"É importante que todos os alu...</td>\n",
              "      <td>7-ensino-fundamental</td>\n",
              "    </tr>\n",
              "    <tr>\n",
              "      <th>1428</th>\n",
              "      <td>Frase original: \"O diretor aprovou a ideia del...</td>\n",
              "      <td>7-ensino-fundamental</td>\n",
              "    </tr>\n",
              "    <tr>\n",
              "      <th>1429</th>\n",
              "      <td>Frase original: \"Maria foi à escola com João ....</td>\n",
              "      <td>7-ensino-fundamental</td>\n",
              "    </tr>\n",
              "    <tr>\n",
              "      <th>1430</th>\n",
              "      <td>Frase original: \"Ufa , achei que não fosse che...</td>\n",
              "      <td>9-ensino-fundamental</td>\n",
              "    </tr>\n",
              "  </tbody>\n",
              "</table>\n",
              "<p>1431 rows × 2 columns</p>\n",
              "</div>"
            ],
            "text/plain": [
              "                                                  input                target\n",
              "0     Frase original: \"Será que alguém explicou o qu...  5-ensino-fundamental\n",
              "1     Frase original: \"Ufa , achei que não fosse che...  5-ensino-fundamental\n",
              "2     Frase original: \"A folha caiu da árvore .\"\\nTe...  6-ensino-fundamental\n",
              "3     Frase original: \"É importante que todos os alu...  6-ensino-fundamental\n",
              "4     Frase original: \"Não acredito que você tenha f...  9-ensino-fundamental\n",
              "...                                                 ...                   ...\n",
              "1426  Frase original: \"Eu acho que ele não vai gosta...  7-ensino-fundamental\n",
              "1427  Frase original: \"É importante que todos os alu...  7-ensino-fundamental\n",
              "1428  Frase original: \"O diretor aprovou a ideia del...  7-ensino-fundamental\n",
              "1429  Frase original: \"Maria foi à escola com João ....  7-ensino-fundamental\n",
              "1430  Frase original: \"Ufa , achei que não fosse che...  9-ensino-fundamental\n",
              "\n",
              "[1431 rows x 2 columns]"
            ]
          },
          "execution_count": 26,
          "metadata": {},
          "output_type": "execute_result"
        }
      ],
      "source": [
        "dataset"
      ]
    },
    {
      "cell_type": "code",
      "execution_count": 27,
      "metadata": {},
      "outputs": [
        {
          "data": {
            "text/plain": [
              "5-ensino-fundamental    310\n",
              "7-ensino-fundamental    308\n",
              "8-ensino-fundamental    278\n",
              "6-ensino-fundamental    253\n",
              "9-ensino-fundamental    177\n",
              "3-ensino-medio           44\n",
              "4-ensino-fundamental     40\n",
              "1-ensino-medio           15\n",
              "2-ensino-medio            6\n",
              "Name: target, dtype: int64"
            ]
          },
          "execution_count": 27,
          "metadata": {},
          "output_type": "execute_result"
        }
      ],
      "source": [
        "dataset.target.value_counts()"
      ]
    },
    {
      "cell_type": "code",
      "execution_count": 28,
      "metadata": {
        "colab": {
          "base_uri": "https://localhost:8080/",
          "height": 424
        },
        "id": "0qKF4ktVElbO",
        "outputId": "fd4f6ac3-e057-4c73-fa0c-3623e1d1c5c9"
      },
      "outputs": [
        {
          "data": {
            "text/html": [
              "<div>\n",
              "<style scoped>\n",
              "    .dataframe tbody tr th:only-of-type {\n",
              "        vertical-align: middle;\n",
              "    }\n",
              "\n",
              "    .dataframe tbody tr th {\n",
              "        vertical-align: top;\n",
              "    }\n",
              "\n",
              "    .dataframe thead th {\n",
              "        text-align: right;\n",
              "    }\n",
              "</style>\n",
              "<table border=\"1\" class=\"dataframe\">\n",
              "  <thead>\n",
              "    <tr style=\"text-align: right;\">\n",
              "      <th></th>\n",
              "      <th>input</th>\n",
              "      <th>target</th>\n",
              "    </tr>\n",
              "  </thead>\n",
              "  <tbody>\n",
              "    <tr>\n",
              "      <th>0</th>\n",
              "      <td>Frase original: \"Será que alguém explicou o qu...</td>\n",
              "      <td>5-ensino-fundamental</td>\n",
              "    </tr>\n",
              "    <tr>\n",
              "      <th>1</th>\n",
              "      <td>Frase original: \"Ufa , achei que não fosse che...</td>\n",
              "      <td>5-ensino-fundamental</td>\n",
              "    </tr>\n",
              "    <tr>\n",
              "      <th>2</th>\n",
              "      <td>Frase original: \"A folha caiu da árvore .\"\\nTe...</td>\n",
              "      <td>6-ensino-fundamental</td>\n",
              "    </tr>\n",
              "    <tr>\n",
              "      <th>3</th>\n",
              "      <td>Frase original: \"É importante que todos os alu...</td>\n",
              "      <td>6-ensino-fundamental</td>\n",
              "    </tr>\n",
              "    <tr>\n",
              "      <th>4</th>\n",
              "      <td>Frase original: \"Não acredito que você tenha f...</td>\n",
              "      <td>9-ensino-fundamental</td>\n",
              "    </tr>\n",
              "    <tr>\n",
              "      <th>...</th>\n",
              "      <td>...</td>\n",
              "      <td>...</td>\n",
              "    </tr>\n",
              "    <tr>\n",
              "      <th>1405</th>\n",
              "      <td>Frase original: \"Eu acho que ele não vai gosta...</td>\n",
              "      <td>7-ensino-fundamental</td>\n",
              "    </tr>\n",
              "    <tr>\n",
              "      <th>1406</th>\n",
              "      <td>Frase original: \"É importante que todos os alu...</td>\n",
              "      <td>7-ensino-fundamental</td>\n",
              "    </tr>\n",
              "    <tr>\n",
              "      <th>1407</th>\n",
              "      <td>Frase original: \"O diretor aprovou a ideia del...</td>\n",
              "      <td>7-ensino-fundamental</td>\n",
              "    </tr>\n",
              "    <tr>\n",
              "      <th>1408</th>\n",
              "      <td>Frase original: \"Maria foi à escola com João ....</td>\n",
              "      <td>7-ensino-fundamental</td>\n",
              "    </tr>\n",
              "    <tr>\n",
              "      <th>1409</th>\n",
              "      <td>Frase original: \"Ufa , achei que não fosse che...</td>\n",
              "      <td>9-ensino-fundamental</td>\n",
              "    </tr>\n",
              "  </tbody>\n",
              "</table>\n",
              "<p>1410 rows × 2 columns</p>\n",
              "</div>"
            ],
            "text/plain": [
              "                                                  input                target\n",
              "0     Frase original: \"Será que alguém explicou o qu...  5-ensino-fundamental\n",
              "1     Frase original: \"Ufa , achei que não fosse che...  5-ensino-fundamental\n",
              "2     Frase original: \"A folha caiu da árvore .\"\\nTe...  6-ensino-fundamental\n",
              "3     Frase original: \"É importante que todos os alu...  6-ensino-fundamental\n",
              "4     Frase original: \"Não acredito que você tenha f...  9-ensino-fundamental\n",
              "...                                                 ...                   ...\n",
              "1405  Frase original: \"Eu acho que ele não vai gosta...  7-ensino-fundamental\n",
              "1406  Frase original: \"É importante que todos os alu...  7-ensino-fundamental\n",
              "1407  Frase original: \"O diretor aprovou a ideia del...  7-ensino-fundamental\n",
              "1408  Frase original: \"Maria foi à escola com João ....  7-ensino-fundamental\n",
              "1409  Frase original: \"Ufa , achei que não fosse che...  9-ensino-fundamental\n",
              "\n",
              "[1410 rows x 2 columns]"
            ]
          },
          "execution_count": 28,
          "metadata": {},
          "output_type": "execute_result"
        }
      ],
      "source": [
        "# Filtrando ensino médio (por enquanto)\n",
        "dataset = dataset[(dataset.target != '1-ensino-medio')]\n",
        "dataset = dataset[(dataset.target != '2-ensino-medio')]\n",
        "# dataset = dataset[(dataset.target != '3-ensino-medio')]\n",
        "dataset = dataset.reset_index(drop=True)\n",
        "dataset"
      ]
    },
    {
      "cell_type": "code",
      "execution_count": 29,
      "metadata": {
        "colab": {
          "base_uri": "https://localhost:8080/",
          "height": 424
        },
        "id": "3ATIOZ4bXJQy",
        "outputId": "156e0b8f-7450-4016-f792-ac163ff1395a"
      },
      "outputs": [
        {
          "data": {
            "text/html": [
              "<div>\n",
              "<style scoped>\n",
              "    .dataframe tbody tr th:only-of-type {\n",
              "        vertical-align: middle;\n",
              "    }\n",
              "\n",
              "    .dataframe tbody tr th {\n",
              "        vertical-align: top;\n",
              "    }\n",
              "\n",
              "    .dataframe thead th {\n",
              "        text-align: right;\n",
              "    }\n",
              "</style>\n",
              "<table border=\"1\" class=\"dataframe\">\n",
              "  <thead>\n",
              "    <tr style=\"text-align: right;\">\n",
              "      <th></th>\n",
              "      <th>input</th>\n",
              "      <th>target</th>\n",
              "      <th>label</th>\n",
              "    </tr>\n",
              "  </thead>\n",
              "  <tbody>\n",
              "    <tr>\n",
              "      <th>0</th>\n",
              "      <td>Frase original: \"Será que alguém explicou o qu...</td>\n",
              "      <td>5-ensino-fundamental</td>\n",
              "      <td>2</td>\n",
              "    </tr>\n",
              "    <tr>\n",
              "      <th>1</th>\n",
              "      <td>Frase original: \"Ufa , achei que não fosse che...</td>\n",
              "      <td>5-ensino-fundamental</td>\n",
              "      <td>2</td>\n",
              "    </tr>\n",
              "    <tr>\n",
              "      <th>2</th>\n",
              "      <td>Frase original: \"A folha caiu da árvore .\"\\nTe...</td>\n",
              "      <td>6-ensino-fundamental</td>\n",
              "      <td>3</td>\n",
              "    </tr>\n",
              "    <tr>\n",
              "      <th>3</th>\n",
              "      <td>Frase original: \"É importante que todos os alu...</td>\n",
              "      <td>6-ensino-fundamental</td>\n",
              "      <td>3</td>\n",
              "    </tr>\n",
              "    <tr>\n",
              "      <th>4</th>\n",
              "      <td>Frase original: \"Não acredito que você tenha f...</td>\n",
              "      <td>9-ensino-fundamental</td>\n",
              "      <td>6</td>\n",
              "    </tr>\n",
              "    <tr>\n",
              "      <th>...</th>\n",
              "      <td>...</td>\n",
              "      <td>...</td>\n",
              "      <td>...</td>\n",
              "    </tr>\n",
              "    <tr>\n",
              "      <th>1405</th>\n",
              "      <td>Frase original: \"Eu acho que ele não vai gosta...</td>\n",
              "      <td>7-ensino-fundamental</td>\n",
              "      <td>4</td>\n",
              "    </tr>\n",
              "    <tr>\n",
              "      <th>1406</th>\n",
              "      <td>Frase original: \"É importante que todos os alu...</td>\n",
              "      <td>7-ensino-fundamental</td>\n",
              "      <td>4</td>\n",
              "    </tr>\n",
              "    <tr>\n",
              "      <th>1407</th>\n",
              "      <td>Frase original: \"O diretor aprovou a ideia del...</td>\n",
              "      <td>7-ensino-fundamental</td>\n",
              "      <td>4</td>\n",
              "    </tr>\n",
              "    <tr>\n",
              "      <th>1408</th>\n",
              "      <td>Frase original: \"Maria foi à escola com João ....</td>\n",
              "      <td>7-ensino-fundamental</td>\n",
              "      <td>4</td>\n",
              "    </tr>\n",
              "    <tr>\n",
              "      <th>1409</th>\n",
              "      <td>Frase original: \"Ufa , achei que não fosse che...</td>\n",
              "      <td>9-ensino-fundamental</td>\n",
              "      <td>6</td>\n",
              "    </tr>\n",
              "  </tbody>\n",
              "</table>\n",
              "<p>1410 rows × 3 columns</p>\n",
              "</div>"
            ],
            "text/plain": [
              "                                                  input                target  \\\n",
              "0     Frase original: \"Será que alguém explicou o qu...  5-ensino-fundamental   \n",
              "1     Frase original: \"Ufa , achei que não fosse che...  5-ensino-fundamental   \n",
              "2     Frase original: \"A folha caiu da árvore .\"\\nTe...  6-ensino-fundamental   \n",
              "3     Frase original: \"É importante que todos os alu...  6-ensino-fundamental   \n",
              "4     Frase original: \"Não acredito que você tenha f...  9-ensino-fundamental   \n",
              "...                                                 ...                   ...   \n",
              "1405  Frase original: \"Eu acho que ele não vai gosta...  7-ensino-fundamental   \n",
              "1406  Frase original: \"É importante que todos os alu...  7-ensino-fundamental   \n",
              "1407  Frase original: \"O diretor aprovou a ideia del...  7-ensino-fundamental   \n",
              "1408  Frase original: \"Maria foi à escola com João ....  7-ensino-fundamental   \n",
              "1409  Frase original: \"Ufa , achei que não fosse che...  9-ensino-fundamental   \n",
              "\n",
              "      label  \n",
              "0         2  \n",
              "1         2  \n",
              "2         3  \n",
              "3         3  \n",
              "4         6  \n",
              "...     ...  \n",
              "1405      4  \n",
              "1406      4  \n",
              "1407      4  \n",
              "1408      4  \n",
              "1409      6  \n",
              "\n",
              "[1410 rows x 3 columns]"
            ]
          },
          "execution_count": 29,
          "metadata": {},
          "output_type": "execute_result"
        }
      ],
      "source": [
        "le = preprocessing.LabelEncoder()\n",
        "le.fit(dataset.target)\n",
        "dataset['label'] = le.transform(dataset.target)\n",
        "dataset"
      ]
    },
    {
      "cell_type": "code",
      "execution_count": 30,
      "metadata": {
        "colab": {
          "base_uri": "https://localhost:8080/"
        },
        "id": "r2pMPFROzpRc",
        "outputId": "dcb41faf-d070-4b56-860e-7f0b1b7512f1"
      },
      "outputs": [
        {
          "data": {
            "text/plain": [
              "['label_encoder_250603.joblib']"
            ]
          },
          "execution_count": 30,
          "metadata": {},
          "output_type": "execute_result"
        }
      ],
      "source": [
        "dataset.to_pickle('dataset_250603.pkl')\n",
        "joblib.dump(le, 'label_encoder_250603.joblib')"
      ]
    },
    {
      "cell_type": "markdown",
      "metadata": {},
      "source": [
        "## Dataset maior (03-06-2025)"
      ]
    },
    {
      "cell_type": "code",
      "execution_count": 25,
      "metadata": {},
      "outputs": [
        {
          "data": {
            "text/html": [
              "<div>\n",
              "<style scoped>\n",
              "    .dataframe tbody tr th:only-of-type {\n",
              "        vertical-align: middle;\n",
              "    }\n",
              "\n",
              "    .dataframe tbody tr th {\n",
              "        vertical-align: top;\n",
              "    }\n",
              "\n",
              "    .dataframe thead th {\n",
              "        text-align: right;\n",
              "    }\n",
              "</style>\n",
              "<table border=\"1\" class=\"dataframe\">\n",
              "  <thead>\n",
              "    <tr style=\"text-align: right;\">\n",
              "      <th></th>\n",
              "      <th>correctTag</th>\n",
              "      <th>targetWord</th>\n",
              "      <th>orderingId</th>\n",
              "      <th>sessionId</th>\n",
              "      <th>draggedTag</th>\n",
              "      <th>serie</th>\n",
              "      <th>isMistake</th>\n",
              "    </tr>\n",
              "  </thead>\n",
              "  <tbody>\n",
              "    <tr>\n",
              "      <th>0</th>\n",
              "      <td>Pontuação</td>\n",
              "      <td>.</td>\n",
              "      <td>0</td>\n",
              "      <td>Jh1538yCDy</td>\n",
              "      <td>Pontuação</td>\n",
              "      <td>6-ensino-fundamental</td>\n",
              "      <td>False</td>\n",
              "    </tr>\n",
              "    <tr>\n",
              "      <th>1</th>\n",
              "      <td>Artigo</td>\n",
              "      <td>O</td>\n",
              "      <td>1</td>\n",
              "      <td>Jh1538yCDy</td>\n",
              "      <td>Substantivo</td>\n",
              "      <td>6-ensino-fundamental</td>\n",
              "      <td>True</td>\n",
              "    </tr>\n",
              "    <tr>\n",
              "      <th>2</th>\n",
              "      <td>Substantivo</td>\n",
              "      <td>banco</td>\n",
              "      <td>2</td>\n",
              "      <td>Jh1538yCDy</td>\n",
              "      <td>Artigo</td>\n",
              "      <td>6-ensino-fundamental</td>\n",
              "      <td>True</td>\n",
              "    </tr>\n",
              "    <tr>\n",
              "      <th>3</th>\n",
              "      <td>Substantivo</td>\n",
              "      <td>banco</td>\n",
              "      <td>3</td>\n",
              "      <td>Jh1538yCDy</td>\n",
              "      <td>Substantivo</td>\n",
              "      <td>6-ensino-fundamental</td>\n",
              "      <td>False</td>\n",
              "    </tr>\n",
              "    <tr>\n",
              "      <th>4</th>\n",
              "      <td>Artigo</td>\n",
              "      <td>O</td>\n",
              "      <td>4</td>\n",
              "      <td>Jh1538yCDy</td>\n",
              "      <td>Artigo</td>\n",
              "      <td>6-ensino-fundamental</td>\n",
              "      <td>False</td>\n",
              "    </tr>\n",
              "    <tr>\n",
              "      <th>...</th>\n",
              "      <td>...</td>\n",
              "      <td>...</td>\n",
              "      <td>...</td>\n",
              "      <td>...</td>\n",
              "      <td>...</td>\n",
              "      <td>...</td>\n",
              "      <td>...</td>\n",
              "    </tr>\n",
              "    <tr>\n",
              "      <th>21941</th>\n",
              "      <td>Preposição+Artigo</td>\n",
              "      <td>à</td>\n",
              "      <td>3</td>\n",
              "      <td>wb93AUnw5X</td>\n",
              "      <td>Preposição</td>\n",
              "      <td>7-ensino-fundamental</td>\n",
              "      <td>True</td>\n",
              "    </tr>\n",
              "    <tr>\n",
              "      <th>21942</th>\n",
              "      <td>Preposição+Artigo</td>\n",
              "      <td>à</td>\n",
              "      <td>4</td>\n",
              "      <td>wb93AUnw5X</td>\n",
              "      <td>Preposição+Artigo</td>\n",
              "      <td>7-ensino-fundamental</td>\n",
              "      <td>False</td>\n",
              "    </tr>\n",
              "    <tr>\n",
              "      <th>21943</th>\n",
              "      <td>Verbo</td>\n",
              "      <td>foi</td>\n",
              "      <td>5</td>\n",
              "      <td>wb93AUnw5X</td>\n",
              "      <td>Verbo</td>\n",
              "      <td>7-ensino-fundamental</td>\n",
              "      <td>False</td>\n",
              "    </tr>\n",
              "    <tr>\n",
              "      <th>21944</th>\n",
              "      <td>Substantivo</td>\n",
              "      <td>escola</td>\n",
              "      <td>6</td>\n",
              "      <td>wb93AUnw5X</td>\n",
              "      <td>Substantivo</td>\n",
              "      <td>7-ensino-fundamental</td>\n",
              "      <td>False</td>\n",
              "    </tr>\n",
              "    <tr>\n",
              "      <th>21945</th>\n",
              "      <td>Preposição</td>\n",
              "      <td>com</td>\n",
              "      <td>7</td>\n",
              "      <td>wb93AUnw5X</td>\n",
              "      <td>Preposição</td>\n",
              "      <td>7-ensino-fundamental</td>\n",
              "      <td>False</td>\n",
              "    </tr>\n",
              "  </tbody>\n",
              "</table>\n",
              "<p>21946 rows × 7 columns</p>\n",
              "</div>"
            ],
            "text/plain": [
              "              correctTag targetWord  orderingId   sessionId  \\\n",
              "0              Pontuação          .           0  Jh1538yCDy   \n",
              "1                 Artigo          O           1  Jh1538yCDy   \n",
              "2            Substantivo      banco           2  Jh1538yCDy   \n",
              "3            Substantivo      banco           3  Jh1538yCDy   \n",
              "4                 Artigo          O           4  Jh1538yCDy   \n",
              "...                  ...        ...         ...         ...   \n",
              "21941  Preposição+Artigo          à           3  wb93AUnw5X   \n",
              "21942  Preposição+Artigo          à           4  wb93AUnw5X   \n",
              "21943              Verbo        foi           5  wb93AUnw5X   \n",
              "21944        Substantivo     escola           6  wb93AUnw5X   \n",
              "21945         Preposição        com           7  wb93AUnw5X   \n",
              "\n",
              "              draggedTag                 serie  isMistake  \n",
              "0              Pontuação  6-ensino-fundamental      False  \n",
              "1            Substantivo  6-ensino-fundamental       True  \n",
              "2                 Artigo  6-ensino-fundamental       True  \n",
              "3            Substantivo  6-ensino-fundamental      False  \n",
              "4                 Artigo  6-ensino-fundamental      False  \n",
              "...                  ...                   ...        ...  \n",
              "21941         Preposição  7-ensino-fundamental       True  \n",
              "21942  Preposição+Artigo  7-ensino-fundamental      False  \n",
              "21943              Verbo  7-ensino-fundamental      False  \n",
              "21944        Substantivo  7-ensino-fundamental      False  \n",
              "21945         Preposição  7-ensino-fundamental      False  \n",
              "\n",
              "[21946 rows x 7 columns]"
            ]
          },
          "execution_count": 25,
          "metadata": {},
          "output_type": "execute_result"
        }
      ],
      "source": [
        "df = pd.read_pickle('final_df_250603.pkl')\n",
        "df"
      ]
    },
    {
      "cell_type": "code",
      "execution_count": 26,
      "metadata": {},
      "outputs": [
        {
          "name": "stderr",
          "output_type": "stream",
          "text": [
            "100%|██████████| 1113/1113 [00:02<00:00, 450.70it/s]\n"
          ]
        }
      ],
      "source": [
        "model_inputs = []\n",
        "targets = []\n",
        "for sessionId in tqdm(df.sessionId.unique()):\n",
        "    df_filtered = df[df.sessionId == sessionId].reset_index(drop=True)\n",
        "    targets.append(df_filtered.loc[0, 'serie'])\n",
        "\n",
        "    # Entrada original com campos faltantes aqui:\n",
        "    # model_input = f\"Frase original: \\\"{df_filtered.loc[0, 'sentence']}\\\"\\nTentativa completa: {df_filtered.loc[0, 'complete_try']}. Interações do aluno:\\n\"\n",
        "    model_input = f\"Interações do aluno:\\n\"\n",
        "    for index, row in df_filtered.iterrows():\n",
        "        model_input += (\n",
        "            f\"Palavra: {row['targetWord']}. \"\n",
        "            f\"Tag correta: {row['correctTag']}. \"\n",
        "            f\"Tag escolhida: {row['draggedTag']}. \"\n",
        "            f\"Erro: {'sim' if row['isMistake'] else 'não'}. \"\n",
        "            f\"Ordem da interação: {row['orderingId'] + 1}.\\n\"\n",
        "        )\n",
        "\n",
        "    model_input += \"Fim.\"\n",
        "    model_inputs.append(model_input)\n",
        "\n",
        "dataset = pd.DataFrame()\n",
        "dataset['input'] = model_inputs\n",
        "dataset['target'] = targets"
      ]
    },
    {
      "cell_type": "code",
      "execution_count": 27,
      "metadata": {},
      "outputs": [
        {
          "data": {
            "text/html": [
              "<div>\n",
              "<style scoped>\n",
              "    .dataframe tbody tr th:only-of-type {\n",
              "        vertical-align: middle;\n",
              "    }\n",
              "\n",
              "    .dataframe tbody tr th {\n",
              "        vertical-align: top;\n",
              "    }\n",
              "\n",
              "    .dataframe thead th {\n",
              "        text-align: right;\n",
              "    }\n",
              "</style>\n",
              "<table border=\"1\" class=\"dataframe\">\n",
              "  <thead>\n",
              "    <tr style=\"text-align: right;\">\n",
              "      <th></th>\n",
              "      <th>input</th>\n",
              "      <th>target</th>\n",
              "    </tr>\n",
              "  </thead>\n",
              "  <tbody>\n",
              "    <tr>\n",
              "      <th>0</th>\n",
              "      <td>Interações do aluno:\\nPalavra: .. Tag correta:...</td>\n",
              "      <td>6-ensino-fundamental</td>\n",
              "    </tr>\n",
              "    <tr>\n",
              "      <th>1</th>\n",
              "      <td>Interações do aluno:\\nPalavra: A. Tag correta:...</td>\n",
              "      <td>9-ensino-fundamental</td>\n",
              "    </tr>\n",
              "    <tr>\n",
              "      <th>2</th>\n",
              "      <td>Interações do aluno:\\nPalavra: O. Tag correta:...</td>\n",
              "      <td>9-ensino-fundamental</td>\n",
              "    </tr>\n",
              "    <tr>\n",
              "      <th>3</th>\n",
              "      <td>Interações do aluno:\\nPalavra: sinceramente. T...</td>\n",
              "      <td>9-ensino-fundamental</td>\n",
              "    </tr>\n",
              "    <tr>\n",
              "      <th>4</th>\n",
              "      <td>Interações do aluno:\\nPalavra: tirou. Tag corr...</td>\n",
              "      <td>9-ensino-fundamental</td>\n",
              "    </tr>\n",
              "    <tr>\n",
              "      <th>...</th>\n",
              "      <td>...</td>\n",
              "      <td>...</td>\n",
              "    </tr>\n",
              "    <tr>\n",
              "      <th>1108</th>\n",
              "      <td>Interações do aluno:\\nPalavra: .. Tag correta:...</td>\n",
              "      <td>9-ensino-fundamental</td>\n",
              "    </tr>\n",
              "    <tr>\n",
              "      <th>1109</th>\n",
              "      <td>Interações do aluno:\\nPalavra: flores. Tag cor...</td>\n",
              "      <td>8-ensino-fundamental</td>\n",
              "    </tr>\n",
              "    <tr>\n",
              "      <th>1110</th>\n",
              "      <td>Interações do aluno:\\nPalavra: ele. Tag corret...</td>\n",
              "      <td>7-ensino-fundamental</td>\n",
              "    </tr>\n",
              "    <tr>\n",
              "      <th>1111</th>\n",
              "      <td>Interações do aluno:\\nPalavra: .. Tag correta:...</td>\n",
              "      <td>7-ensino-fundamental</td>\n",
              "    </tr>\n",
              "    <tr>\n",
              "      <th>1112</th>\n",
              "      <td>Interações do aluno:\\nPalavra: Maria. Tag corr...</td>\n",
              "      <td>7-ensino-fundamental</td>\n",
              "    </tr>\n",
              "  </tbody>\n",
              "</table>\n",
              "<p>1113 rows × 2 columns</p>\n",
              "</div>"
            ],
            "text/plain": [
              "                                                  input                target\n",
              "0     Interações do aluno:\\nPalavra: .. Tag correta:...  6-ensino-fundamental\n",
              "1     Interações do aluno:\\nPalavra: A. Tag correta:...  9-ensino-fundamental\n",
              "2     Interações do aluno:\\nPalavra: O. Tag correta:...  9-ensino-fundamental\n",
              "3     Interações do aluno:\\nPalavra: sinceramente. T...  9-ensino-fundamental\n",
              "4     Interações do aluno:\\nPalavra: tirou. Tag corr...  9-ensino-fundamental\n",
              "...                                                 ...                   ...\n",
              "1108  Interações do aluno:\\nPalavra: .. Tag correta:...  9-ensino-fundamental\n",
              "1109  Interações do aluno:\\nPalavra: flores. Tag cor...  8-ensino-fundamental\n",
              "1110  Interações do aluno:\\nPalavra: ele. Tag corret...  7-ensino-fundamental\n",
              "1111  Interações do aluno:\\nPalavra: .. Tag correta:...  7-ensino-fundamental\n",
              "1112  Interações do aluno:\\nPalavra: Maria. Tag corr...  7-ensino-fundamental\n",
              "\n",
              "[1113 rows x 2 columns]"
            ]
          },
          "execution_count": 27,
          "metadata": {},
          "output_type": "execute_result"
        }
      ],
      "source": [
        "dataset"
      ]
    },
    {
      "cell_type": "code",
      "execution_count": 28,
      "metadata": {},
      "outputs": [
        {
          "data": {
            "text/plain": [
              "5-ensino-fundamental    276\n",
              "7-ensino-fundamental    247\n",
              "8-ensino-fundamental    210\n",
              "6-ensino-fundamental    198\n",
              "9-ensino-fundamental    108\n",
              "4-ensino-fundamental     29\n",
              "3-ensino-medio           29\n",
              "1-ensino-medio           12\n",
              "2-ensino-medio            4\n",
              "Name: target, dtype: int64"
            ]
          },
          "execution_count": 28,
          "metadata": {},
          "output_type": "execute_result"
        }
      ],
      "source": [
        "dataset.target.value_counts()"
      ]
    },
    {
      "cell_type": "code",
      "execution_count": 29,
      "metadata": {},
      "outputs": [
        {
          "data": {
            "text/html": [
              "<div>\n",
              "<style scoped>\n",
              "    .dataframe tbody tr th:only-of-type {\n",
              "        vertical-align: middle;\n",
              "    }\n",
              "\n",
              "    .dataframe tbody tr th {\n",
              "        vertical-align: top;\n",
              "    }\n",
              "\n",
              "    .dataframe thead th {\n",
              "        text-align: right;\n",
              "    }\n",
              "</style>\n",
              "<table border=\"1\" class=\"dataframe\">\n",
              "  <thead>\n",
              "    <tr style=\"text-align: right;\">\n",
              "      <th></th>\n",
              "      <th>input</th>\n",
              "      <th>target</th>\n",
              "    </tr>\n",
              "  </thead>\n",
              "  <tbody>\n",
              "    <tr>\n",
              "      <th>0</th>\n",
              "      <td>Interações do aluno:\\nPalavra: .. Tag correta:...</td>\n",
              "      <td>6-ensino-fundamental</td>\n",
              "    </tr>\n",
              "    <tr>\n",
              "      <th>1</th>\n",
              "      <td>Interações do aluno:\\nPalavra: A. Tag correta:...</td>\n",
              "      <td>9-ensino-fundamental</td>\n",
              "    </tr>\n",
              "    <tr>\n",
              "      <th>2</th>\n",
              "      <td>Interações do aluno:\\nPalavra: O. Tag correta:...</td>\n",
              "      <td>9-ensino-fundamental</td>\n",
              "    </tr>\n",
              "    <tr>\n",
              "      <th>3</th>\n",
              "      <td>Interações do aluno:\\nPalavra: sinceramente. T...</td>\n",
              "      <td>9-ensino-fundamental</td>\n",
              "    </tr>\n",
              "    <tr>\n",
              "      <th>4</th>\n",
              "      <td>Interações do aluno:\\nPalavra: tirou. Tag corr...</td>\n",
              "      <td>9-ensino-fundamental</td>\n",
              "    </tr>\n",
              "    <tr>\n",
              "      <th>...</th>\n",
              "      <td>...</td>\n",
              "      <td>...</td>\n",
              "    </tr>\n",
              "    <tr>\n",
              "      <th>1063</th>\n",
              "      <td>Interações do aluno:\\nPalavra: .. Tag correta:...</td>\n",
              "      <td>9-ensino-fundamental</td>\n",
              "    </tr>\n",
              "    <tr>\n",
              "      <th>1064</th>\n",
              "      <td>Interações do aluno:\\nPalavra: flores. Tag cor...</td>\n",
              "      <td>8-ensino-fundamental</td>\n",
              "    </tr>\n",
              "    <tr>\n",
              "      <th>1065</th>\n",
              "      <td>Interações do aluno:\\nPalavra: ele. Tag corret...</td>\n",
              "      <td>7-ensino-fundamental</td>\n",
              "    </tr>\n",
              "    <tr>\n",
              "      <th>1066</th>\n",
              "      <td>Interações do aluno:\\nPalavra: .. Tag correta:...</td>\n",
              "      <td>7-ensino-fundamental</td>\n",
              "    </tr>\n",
              "    <tr>\n",
              "      <th>1067</th>\n",
              "      <td>Interações do aluno:\\nPalavra: Maria. Tag corr...</td>\n",
              "      <td>7-ensino-fundamental</td>\n",
              "    </tr>\n",
              "  </tbody>\n",
              "</table>\n",
              "<p>1068 rows × 2 columns</p>\n",
              "</div>"
            ],
            "text/plain": [
              "                                                  input                target\n",
              "0     Interações do aluno:\\nPalavra: .. Tag correta:...  6-ensino-fundamental\n",
              "1     Interações do aluno:\\nPalavra: A. Tag correta:...  9-ensino-fundamental\n",
              "2     Interações do aluno:\\nPalavra: O. Tag correta:...  9-ensino-fundamental\n",
              "3     Interações do aluno:\\nPalavra: sinceramente. T...  9-ensino-fundamental\n",
              "4     Interações do aluno:\\nPalavra: tirou. Tag corr...  9-ensino-fundamental\n",
              "...                                                 ...                   ...\n",
              "1063  Interações do aluno:\\nPalavra: .. Tag correta:...  9-ensino-fundamental\n",
              "1064  Interações do aluno:\\nPalavra: flores. Tag cor...  8-ensino-fundamental\n",
              "1065  Interações do aluno:\\nPalavra: ele. Tag corret...  7-ensino-fundamental\n",
              "1066  Interações do aluno:\\nPalavra: .. Tag correta:...  7-ensino-fundamental\n",
              "1067  Interações do aluno:\\nPalavra: Maria. Tag corr...  7-ensino-fundamental\n",
              "\n",
              "[1068 rows x 2 columns]"
            ]
          },
          "execution_count": 29,
          "metadata": {},
          "output_type": "execute_result"
        }
      ],
      "source": [
        "# Filtrando ensino médio (por enquanto)\n",
        "dataset = dataset[(dataset.target != '1-ensino-medio')]\n",
        "dataset = dataset[(dataset.target != '2-ensino-medio')]\n",
        "dataset = dataset[(dataset.target != '3-ensino-medio')]\n",
        "dataset = dataset.reset_index(drop=True)\n",
        "dataset"
      ]
    },
    {
      "cell_type": "code",
      "execution_count": 30,
      "metadata": {},
      "outputs": [
        {
          "data": {
            "text/html": [
              "<div>\n",
              "<style scoped>\n",
              "    .dataframe tbody tr th:only-of-type {\n",
              "        vertical-align: middle;\n",
              "    }\n",
              "\n",
              "    .dataframe tbody tr th {\n",
              "        vertical-align: top;\n",
              "    }\n",
              "\n",
              "    .dataframe thead th {\n",
              "        text-align: right;\n",
              "    }\n",
              "</style>\n",
              "<table border=\"1\" class=\"dataframe\">\n",
              "  <thead>\n",
              "    <tr style=\"text-align: right;\">\n",
              "      <th></th>\n",
              "      <th>input</th>\n",
              "      <th>target</th>\n",
              "      <th>label</th>\n",
              "    </tr>\n",
              "  </thead>\n",
              "  <tbody>\n",
              "    <tr>\n",
              "      <th>0</th>\n",
              "      <td>Interações do aluno:\\nPalavra: .. Tag correta:...</td>\n",
              "      <td>6-ensino-fundamental</td>\n",
              "      <td>2</td>\n",
              "    </tr>\n",
              "    <tr>\n",
              "      <th>1</th>\n",
              "      <td>Interações do aluno:\\nPalavra: A. Tag correta:...</td>\n",
              "      <td>9-ensino-fundamental</td>\n",
              "      <td>5</td>\n",
              "    </tr>\n",
              "    <tr>\n",
              "      <th>2</th>\n",
              "      <td>Interações do aluno:\\nPalavra: O. Tag correta:...</td>\n",
              "      <td>9-ensino-fundamental</td>\n",
              "      <td>5</td>\n",
              "    </tr>\n",
              "    <tr>\n",
              "      <th>3</th>\n",
              "      <td>Interações do aluno:\\nPalavra: sinceramente. T...</td>\n",
              "      <td>9-ensino-fundamental</td>\n",
              "      <td>5</td>\n",
              "    </tr>\n",
              "    <tr>\n",
              "      <th>4</th>\n",
              "      <td>Interações do aluno:\\nPalavra: tirou. Tag corr...</td>\n",
              "      <td>9-ensino-fundamental</td>\n",
              "      <td>5</td>\n",
              "    </tr>\n",
              "    <tr>\n",
              "      <th>...</th>\n",
              "      <td>...</td>\n",
              "      <td>...</td>\n",
              "      <td>...</td>\n",
              "    </tr>\n",
              "    <tr>\n",
              "      <th>1063</th>\n",
              "      <td>Interações do aluno:\\nPalavra: .. Tag correta:...</td>\n",
              "      <td>9-ensino-fundamental</td>\n",
              "      <td>5</td>\n",
              "    </tr>\n",
              "    <tr>\n",
              "      <th>1064</th>\n",
              "      <td>Interações do aluno:\\nPalavra: flores. Tag cor...</td>\n",
              "      <td>8-ensino-fundamental</td>\n",
              "      <td>4</td>\n",
              "    </tr>\n",
              "    <tr>\n",
              "      <th>1065</th>\n",
              "      <td>Interações do aluno:\\nPalavra: ele. Tag corret...</td>\n",
              "      <td>7-ensino-fundamental</td>\n",
              "      <td>3</td>\n",
              "    </tr>\n",
              "    <tr>\n",
              "      <th>1066</th>\n",
              "      <td>Interações do aluno:\\nPalavra: .. Tag correta:...</td>\n",
              "      <td>7-ensino-fundamental</td>\n",
              "      <td>3</td>\n",
              "    </tr>\n",
              "    <tr>\n",
              "      <th>1067</th>\n",
              "      <td>Interações do aluno:\\nPalavra: Maria. Tag corr...</td>\n",
              "      <td>7-ensino-fundamental</td>\n",
              "      <td>3</td>\n",
              "    </tr>\n",
              "  </tbody>\n",
              "</table>\n",
              "<p>1068 rows × 3 columns</p>\n",
              "</div>"
            ],
            "text/plain": [
              "                                                  input                target  \\\n",
              "0     Interações do aluno:\\nPalavra: .. Tag correta:...  6-ensino-fundamental   \n",
              "1     Interações do aluno:\\nPalavra: A. Tag correta:...  9-ensino-fundamental   \n",
              "2     Interações do aluno:\\nPalavra: O. Tag correta:...  9-ensino-fundamental   \n",
              "3     Interações do aluno:\\nPalavra: sinceramente. T...  9-ensino-fundamental   \n",
              "4     Interações do aluno:\\nPalavra: tirou. Tag corr...  9-ensino-fundamental   \n",
              "...                                                 ...                   ...   \n",
              "1063  Interações do aluno:\\nPalavra: .. Tag correta:...  9-ensino-fundamental   \n",
              "1064  Interações do aluno:\\nPalavra: flores. Tag cor...  8-ensino-fundamental   \n",
              "1065  Interações do aluno:\\nPalavra: ele. Tag corret...  7-ensino-fundamental   \n",
              "1066  Interações do aluno:\\nPalavra: .. Tag correta:...  7-ensino-fundamental   \n",
              "1067  Interações do aluno:\\nPalavra: Maria. Tag corr...  7-ensino-fundamental   \n",
              "\n",
              "      label  \n",
              "0         2  \n",
              "1         5  \n",
              "2         5  \n",
              "3         5  \n",
              "4         5  \n",
              "...     ...  \n",
              "1063      5  \n",
              "1064      4  \n",
              "1065      3  \n",
              "1066      3  \n",
              "1067      3  \n",
              "\n",
              "[1068 rows x 3 columns]"
            ]
          },
          "execution_count": 30,
          "metadata": {},
          "output_type": "execute_result"
        }
      ],
      "source": [
        "le = preprocessing.LabelEncoder()\n",
        "le.fit(dataset.target)\n",
        "dataset['label'] = le.transform(dataset.target)\n",
        "dataset"
      ]
    },
    {
      "cell_type": "code",
      "execution_count": 31,
      "metadata": {},
      "outputs": [
        {
          "data": {
            "text/plain": [
              "['label_encoder_new.joblib']"
            ]
          },
          "execution_count": 31,
          "metadata": {},
          "output_type": "execute_result"
        }
      ],
      "source": [
        "dataset.to_pickle('dataset_new.pkl')\n",
        "joblib.dump(le, 'label_encoder_new.joblib')"
      ]
    },
    {
      "cell_type": "markdown",
      "metadata": {
        "id": "WR8tNghJLl1D"
      },
      "source": [
        "# Instanciando modelo"
      ]
    },
    {
      "cell_type": "code",
      "execution_count": 31,
      "metadata": {
        "colab": {
          "base_uri": "https://localhost:8080/",
          "height": 424
        },
        "id": "zVdtPbuoL80T",
        "outputId": "436e6a21-e641-4c87-c4e6-a41d229df799"
      },
      "outputs": [
        {
          "data": {
            "text/html": [
              "<div>\n",
              "<style scoped>\n",
              "    .dataframe tbody tr th:only-of-type {\n",
              "        vertical-align: middle;\n",
              "    }\n",
              "\n",
              "    .dataframe tbody tr th {\n",
              "        vertical-align: top;\n",
              "    }\n",
              "\n",
              "    .dataframe thead th {\n",
              "        text-align: right;\n",
              "    }\n",
              "</style>\n",
              "<table border=\"1\" class=\"dataframe\">\n",
              "  <thead>\n",
              "    <tr style=\"text-align: right;\">\n",
              "      <th></th>\n",
              "      <th>input</th>\n",
              "      <th>target</th>\n",
              "      <th>label</th>\n",
              "    </tr>\n",
              "  </thead>\n",
              "  <tbody>\n",
              "    <tr>\n",
              "      <th>0</th>\n",
              "      <td>Frase original: \"Será que alguém explicou o qu...</td>\n",
              "      <td>5-ensino-fundamental</td>\n",
              "      <td>2</td>\n",
              "    </tr>\n",
              "    <tr>\n",
              "      <th>1</th>\n",
              "      <td>Frase original: \"Ufa , achei que não fosse che...</td>\n",
              "      <td>5-ensino-fundamental</td>\n",
              "      <td>2</td>\n",
              "    </tr>\n",
              "    <tr>\n",
              "      <th>2</th>\n",
              "      <td>Frase original: \"A folha caiu da árvore .\"\\nTe...</td>\n",
              "      <td>6-ensino-fundamental</td>\n",
              "      <td>3</td>\n",
              "    </tr>\n",
              "    <tr>\n",
              "      <th>3</th>\n",
              "      <td>Frase original: \"É importante que todos os alu...</td>\n",
              "      <td>6-ensino-fundamental</td>\n",
              "      <td>3</td>\n",
              "    </tr>\n",
              "    <tr>\n",
              "      <th>4</th>\n",
              "      <td>Frase original: \"Não acredito que você tenha f...</td>\n",
              "      <td>9-ensino-fundamental</td>\n",
              "      <td>6</td>\n",
              "    </tr>\n",
              "    <tr>\n",
              "      <th>...</th>\n",
              "      <td>...</td>\n",
              "      <td>...</td>\n",
              "      <td>...</td>\n",
              "    </tr>\n",
              "    <tr>\n",
              "      <th>1405</th>\n",
              "      <td>Frase original: \"Eu acho que ele não vai gosta...</td>\n",
              "      <td>7-ensino-fundamental</td>\n",
              "      <td>4</td>\n",
              "    </tr>\n",
              "    <tr>\n",
              "      <th>1406</th>\n",
              "      <td>Frase original: \"É importante que todos os alu...</td>\n",
              "      <td>7-ensino-fundamental</td>\n",
              "      <td>4</td>\n",
              "    </tr>\n",
              "    <tr>\n",
              "      <th>1407</th>\n",
              "      <td>Frase original: \"O diretor aprovou a ideia del...</td>\n",
              "      <td>7-ensino-fundamental</td>\n",
              "      <td>4</td>\n",
              "    </tr>\n",
              "    <tr>\n",
              "      <th>1408</th>\n",
              "      <td>Frase original: \"Maria foi à escola com João ....</td>\n",
              "      <td>7-ensino-fundamental</td>\n",
              "      <td>4</td>\n",
              "    </tr>\n",
              "    <tr>\n",
              "      <th>1409</th>\n",
              "      <td>Frase original: \"Ufa , achei que não fosse che...</td>\n",
              "      <td>9-ensino-fundamental</td>\n",
              "      <td>6</td>\n",
              "    </tr>\n",
              "  </tbody>\n",
              "</table>\n",
              "<p>1410 rows × 3 columns</p>\n",
              "</div>"
            ],
            "text/plain": [
              "                                                  input                target  \\\n",
              "0     Frase original: \"Será que alguém explicou o qu...  5-ensino-fundamental   \n",
              "1     Frase original: \"Ufa , achei que não fosse che...  5-ensino-fundamental   \n",
              "2     Frase original: \"A folha caiu da árvore .\"\\nTe...  6-ensino-fundamental   \n",
              "3     Frase original: \"É importante que todos os alu...  6-ensino-fundamental   \n",
              "4     Frase original: \"Não acredito que você tenha f...  9-ensino-fundamental   \n",
              "...                                                 ...                   ...   \n",
              "1405  Frase original: \"Eu acho que ele não vai gosta...  7-ensino-fundamental   \n",
              "1406  Frase original: \"É importante que todos os alu...  7-ensino-fundamental   \n",
              "1407  Frase original: \"O diretor aprovou a ideia del...  7-ensino-fundamental   \n",
              "1408  Frase original: \"Maria foi à escola com João ....  7-ensino-fundamental   \n",
              "1409  Frase original: \"Ufa , achei que não fosse che...  9-ensino-fundamental   \n",
              "\n",
              "      label  \n",
              "0         2  \n",
              "1         2  \n",
              "2         3  \n",
              "3         3  \n",
              "4         6  \n",
              "...     ...  \n",
              "1405      4  \n",
              "1406      4  \n",
              "1407      4  \n",
              "1408      4  \n",
              "1409      6  \n",
              "\n",
              "[1410 rows x 3 columns]"
            ]
          },
          "execution_count": 31,
          "metadata": {},
          "output_type": "execute_result"
        }
      ],
      "source": [
        "df = pd.read_pickle('dataset_250603.pkl')\n",
        "df"
      ]
    },
    {
      "cell_type": "code",
      "execution_count": 32,
      "metadata": {
        "colab": {
          "base_uri": "https://localhost:8080/",
          "height": 304
        },
        "id": "8RZEhX6ZMWy3",
        "outputId": "d2f0e6c0-142f-4c9a-bf7d-12170e673936"
      },
      "outputs": [
        {
          "data": {
            "text/plain": [
              "5-ensino-fundamental    310\n",
              "7-ensino-fundamental    308\n",
              "8-ensino-fundamental    278\n",
              "6-ensino-fundamental    253\n",
              "9-ensino-fundamental    177\n",
              "3-ensino-medio           44\n",
              "4-ensino-fundamental     40\n",
              "Name: target, dtype: int64"
            ]
          },
          "execution_count": 32,
          "metadata": {},
          "output_type": "execute_result"
        }
      ],
      "source": [
        "df.target.value_counts()"
      ]
    },
    {
      "cell_type": "code",
      "execution_count": 33,
      "metadata": {
        "colab": {
          "base_uri": "https://localhost:8080/",
          "height": 304
        },
        "id": "saw2TjARX40i",
        "outputId": "899efd34-99e1-424b-dfae-bcc01b934c67"
      },
      "outputs": [
        {
          "data": {
            "text/plain": [
              "2    310\n",
              "4    308\n",
              "5    278\n",
              "3    253\n",
              "6    177\n",
              "0     44\n",
              "1     40\n",
              "Name: label, dtype: int64"
            ]
          },
          "execution_count": 33,
          "metadata": {},
          "output_type": "execute_result"
        }
      ],
      "source": [
        "df.label.value_counts()"
      ]
    },
    {
      "cell_type": "code",
      "execution_count": 34,
      "metadata": {
        "colab": {
          "base_uri": "https://localhost:8080/",
          "height": 304
        },
        "id": "WE4Skx2qGdvs",
        "outputId": "dc993411-4387-47eb-c484-57f90d43a314"
      },
      "outputs": [
        {
          "data": {
            "text/plain": [
              "2    0.219858\n",
              "4    0.218440\n",
              "5    0.197163\n",
              "3    0.179433\n",
              "6    0.125532\n",
              "0    0.031206\n",
              "1    0.028369\n",
              "Name: label, dtype: float64"
            ]
          },
          "execution_count": 34,
          "metadata": {},
          "output_type": "execute_result"
        }
      ],
      "source": [
        "df.label.value_counts(True)"
      ]
    },
    {
      "cell_type": "code",
      "execution_count": 35,
      "metadata": {
        "colab": {
          "base_uri": "https://localhost:8080/"
        },
        "id": "QZdNoyvUMcc9",
        "outputId": "969dac40-195d-4bbb-ec33-26b0a17106b0"
      },
      "outputs": [
        {
          "data": {
            "text/plain": [
              "DatasetDict({\n",
              "    train: Dataset({\n",
              "        features: ['input', 'label'],\n",
              "        num_rows: 1128\n",
              "    })\n",
              "    test: Dataset({\n",
              "        features: ['input', 'label'],\n",
              "        num_rows: 282\n",
              "    })\n",
              "})"
            ]
          },
          "execution_count": 35,
          "metadata": {},
          "output_type": "execute_result"
        }
      ],
      "source": [
        "dataset = Dataset.from_pandas(df[['input', 'label']])\n",
        "dataset = dataset.train_test_split(test_size=0.2)\n",
        "dataset"
      ]
    },
    {
      "cell_type": "code",
      "execution_count": 36,
      "metadata": {
        "colab": {
          "base_uri": "https://localhost:8080/",
          "height": 81,
          "referenced_widgets": [
            "920b91e28f5e4ea6a77e0830c3791de6",
            "c0455555657548de98cb39ff6d26ef47",
            "e865c1dc69524a7ea3e8bc69d3854086",
            "9290604ad9624902bc8d01c2f2372082",
            "f70a2081a1bb4b989d15c22850bddd2f",
            "133b5beef9f840e98e11cf424aabe313",
            "2da7f859ceb04c578b35465bd0f357ec",
            "836fa2fabbca46afaa2f8377ed575c99",
            "824f69ba69294b7790cfff219e018bcf",
            "b197fe445854497bbcde94b69fc0d619",
            "efe1cb08983a465597388daefe6566bb",
            "074875717d6148b39682879353100a8d",
            "eaa5eef599094b2ea75c9a8ed3be3b9e",
            "9f270d25e0624cb792048b10d6aadf36",
            "db446dc3ad4340ac9498e6441b52a2c5",
            "8a7340f110834112a0779b50d56943be",
            "c0feb64045e54afb8ca3bb2294502f89",
            "d991e1a5e5814ac2b656af3578a37b98",
            "b522431573f440fe878af302789fa51a",
            "11ee05c3681b4ab18e45643c3297fd21",
            "0dcd60de9c2e46d59e003041cd768776",
            "120d2215666648fa99876e5e27ed1531"
          ]
        },
        "id": "k_Nw77qeNMtr",
        "outputId": "20067c11-4495-4759-86a7-9049db889e3f"
      },
      "outputs": [
        {
          "data": {
            "application/json": {
              "ascii": false,
              "bar_format": null,
              "colour": null,
              "elapsed": 0.005105257034301758,
              "initial": 0,
              "n": 0,
              "ncols": null,
              "nrows": null,
              "postfix": null,
              "prefix": "Map",
              "rate": null,
              "total": 1128,
              "unit": " examples",
              "unit_divisor": 1000,
              "unit_scale": false
            },
            "application/vnd.jupyter.widget-view+json": {
              "model_id": "e9daa344a4cd4c43a8a139416175feac",
              "version_major": 2,
              "version_minor": 0
            },
            "text/plain": [
              "Map:   0%|          | 0/1128 [00:00<?, ? examples/s]"
            ]
          },
          "metadata": {},
          "output_type": "display_data"
        },
        {
          "data": {
            "application/json": {
              "ascii": false,
              "bar_format": null,
              "colour": null,
              "elapsed": 0.0046765804290771484,
              "initial": 0,
              "n": 0,
              "ncols": null,
              "nrows": null,
              "postfix": null,
              "prefix": "Map",
              "rate": null,
              "total": 282,
              "unit": " examples",
              "unit_divisor": 1000,
              "unit_scale": false
            },
            "application/vnd.jupyter.widget-view+json": {
              "model_id": "83e196724c9d4d65ae0f159485be1568",
              "version_major": 2,
              "version_minor": 0
            },
            "text/plain": [
              "Map:   0%|          | 0/282 [00:00<?, ? examples/s]"
            ]
          },
          "metadata": {},
          "output_type": "display_data"
        }
      ],
      "source": [
        "tokenizer = AutoTokenizer.from_pretrained(\"neuralmind/bert-base-portuguese-cased\")\n",
        "\n",
        "def tokenize(example):\n",
        "    return tokenizer(example['input'], truncation=True, padding=\"max_length\", max_length=128)\n",
        "\n",
        "tokenized_dataset = dataset.map(tokenize, batched=True)"
      ]
    },
    {
      "cell_type": "code",
      "execution_count": 37,
      "metadata": {
        "colab": {
          "base_uri": "https://localhost:8080/"
        },
        "id": "HjumKf22NXdF",
        "outputId": "5c20b427-5e54-471f-f457-f41ac84ce687"
      },
      "outputs": [
        {
          "data": {
            "text/plain": [
              "DatasetDict({\n",
              "    train: Dataset({\n",
              "        features: ['input', 'label', 'input_ids', 'token_type_ids', 'attention_mask'],\n",
              "        num_rows: 1128\n",
              "    })\n",
              "    test: Dataset({\n",
              "        features: ['input', 'label', 'input_ids', 'token_type_ids', 'attention_mask'],\n",
              "        num_rows: 282\n",
              "    })\n",
              "})"
            ]
          },
          "execution_count": 37,
          "metadata": {},
          "output_type": "execute_result"
        }
      ],
      "source": [
        "tokenized_dataset"
      ]
    },
    {
      "cell_type": "code",
      "execution_count": 38,
      "metadata": {
        "colab": {
          "base_uri": "https://localhost:8080/"
        },
        "id": "C8yKjf3ONdgF",
        "outputId": "a3bfeb55-917c-4b86-cfc7-d6cf319af8af"
      },
      "outputs": [
        {
          "data": {
            "text/plain": [
              "['tokenized_dataset_250603.joblib']"
            ]
          },
          "execution_count": 38,
          "metadata": {},
          "output_type": "execute_result"
        }
      ],
      "source": [
        "joblib.dump(tokenized_dataset, \"tokenized_dataset_250603.joblib\")"
      ]
    },
    {
      "cell_type": "code",
      "execution_count": 39,
      "metadata": {
        "colab": {
          "base_uri": "https://localhost:8080/"
        },
        "id": "mxM6JWL3NiBM",
        "outputId": "69992aea-219e-4ef0-90c0-bda0df1e722d"
      },
      "outputs": [
        {
          "name": "stderr",
          "output_type": "stream",
          "text": [
            "Some weights of the model checkpoint at neuralmind/bert-base-portuguese-cased were not used when initializing BertForSequenceClassification: ['cls.predictions.transform.dense.bias', 'cls.predictions.transform.LayerNorm.bias', 'cls.predictions.bias', 'cls.predictions.decoder.weight', 'cls.predictions.transform.dense.weight', 'cls.seq_relationship.bias', 'cls.predictions.transform.LayerNorm.weight', 'cls.seq_relationship.weight']\n",
            "- This IS expected if you are initializing BertForSequenceClassification from the checkpoint of a model trained on another task or with another architecture (e.g. initializing a BertForSequenceClassification model from a BertForPreTraining model).\n",
            "- This IS NOT expected if you are initializing BertForSequenceClassification from the checkpoint of a model that you expect to be exactly identical (initializing a BertForSequenceClassification model from a BertForSequenceClassification model).\n",
            "Some weights of BertForSequenceClassification were not initialized from the model checkpoint at neuralmind/bert-base-portuguese-cased and are newly initialized: ['classifier.bias', 'classifier.weight']\n",
            "You should probably TRAIN this model on a down-stream task to be able to use it for predictions and inference.\n"
          ]
        }
      ],
      "source": [
        "num_labels = df['label'].nunique()\n",
        "\n",
        "model = AutoModelForSequenceClassification.from_pretrained(\n",
        "    \"neuralmind/bert-base-portuguese-cased\",\n",
        "    num_labels=num_labels\n",
        ")"
      ]
    },
    {
      "cell_type": "code",
      "execution_count": 40,
      "metadata": {
        "colab": {
          "base_uri": "https://localhost:8080/",
          "height": 671
        },
        "id": "rbaaqjCBNh97",
        "outputId": "bcc63b59-969f-404f-d31a-8c82cde3c1fa"
      },
      "outputs": [
        {
          "name": "stderr",
          "output_type": "stream",
          "text": [
            "/home/daniel/anaconda3/envs/symbolic_transformer/lib/python3.7/site-packages/transformers/optimization.py:415: FutureWarning: This implementation of AdamW is deprecated and will be removed in a future version. Use the PyTorch implementation torch.optim.AdamW instead, or set `no_deprecation_warning=True` to disable this warning\n",
            "  FutureWarning,\n",
            "You're using a BertTokenizerFast tokenizer. Please note that with a fast tokenizer, using the `__call__` method is faster than using a method to encode the text followed by a call to the `pad` method to get a padded encoding.\n",
            "/home/daniel/anaconda3/envs/symbolic_transformer/lib/python3.7/site-packages/torch/nn/parallel/_functions.py:68: UserWarning: Was asked to gather along dimension 0, but all input tensors were scalars; will instead unsqueeze and return a vector.\n",
            "  warnings.warn('Was asked to gather along dimension 0, but all '\n"
          ]
        },
        {
          "data": {
            "text/html": [
              "\n",
              "    <div>\n",
              "      \n",
              "      <progress value='1800' max='1800' style='width:300px; height:20px; vertical-align: middle;'></progress>\n",
              "      [1800/1800 04:20, Epoch 50/50]\n",
              "    </div>\n",
              "    <table border=\"1\" class=\"dataframe\">\n",
              "  <thead>\n",
              " <tr style=\"text-align: left;\">\n",
              "      <th>Epoch</th>\n",
              "      <th>Training Loss</th>\n",
              "      <th>Validation Loss</th>\n",
              "      <th>Accuracy</th>\n",
              "    </tr>\n",
              "  </thead>\n",
              "  <tbody>\n",
              "    <tr>\n",
              "      <td>1</td>\n",
              "      <td>No log</td>\n",
              "      <td>1.769915</td>\n",
              "      <td>0.198582</td>\n",
              "    </tr>\n",
              "    <tr>\n",
              "      <td>2</td>\n",
              "      <td>No log</td>\n",
              "      <td>1.710688</td>\n",
              "      <td>0.283688</td>\n",
              "    </tr>\n",
              "    <tr>\n",
              "      <td>3</td>\n",
              "      <td>No log</td>\n",
              "      <td>1.685100</td>\n",
              "      <td>0.322695</td>\n",
              "    </tr>\n",
              "    <tr>\n",
              "      <td>4</td>\n",
              "      <td>No log</td>\n",
              "      <td>1.667442</td>\n",
              "      <td>0.340426</td>\n",
              "    </tr>\n",
              "    <tr>\n",
              "      <td>5</td>\n",
              "      <td>No log</td>\n",
              "      <td>1.665699</td>\n",
              "      <td>0.326241</td>\n",
              "    </tr>\n",
              "    <tr>\n",
              "      <td>6</td>\n",
              "      <td>No log</td>\n",
              "      <td>1.695517</td>\n",
              "      <td>0.315603</td>\n",
              "    </tr>\n",
              "    <tr>\n",
              "      <td>7</td>\n",
              "      <td>No log</td>\n",
              "      <td>1.702761</td>\n",
              "      <td>0.315603</td>\n",
              "    </tr>\n",
              "    <tr>\n",
              "      <td>8</td>\n",
              "      <td>No log</td>\n",
              "      <td>1.725819</td>\n",
              "      <td>0.308511</td>\n",
              "    </tr>\n",
              "    <tr>\n",
              "      <td>9</td>\n",
              "      <td>No log</td>\n",
              "      <td>1.770172</td>\n",
              "      <td>0.312057</td>\n",
              "    </tr>\n",
              "    <tr>\n",
              "      <td>10</td>\n",
              "      <td>No log</td>\n",
              "      <td>1.804084</td>\n",
              "      <td>0.287234</td>\n",
              "    </tr>\n",
              "    <tr>\n",
              "      <td>11</td>\n",
              "      <td>No log</td>\n",
              "      <td>1.838090</td>\n",
              "      <td>0.304965</td>\n",
              "    </tr>\n",
              "    <tr>\n",
              "      <td>12</td>\n",
              "      <td>No log</td>\n",
              "      <td>1.889962</td>\n",
              "      <td>0.329787</td>\n",
              "    </tr>\n",
              "    <tr>\n",
              "      <td>13</td>\n",
              "      <td>No log</td>\n",
              "      <td>1.901833</td>\n",
              "      <td>0.326241</td>\n",
              "    </tr>\n",
              "    <tr>\n",
              "      <td>14</td>\n",
              "      <td>1.471800</td>\n",
              "      <td>1.997908</td>\n",
              "      <td>0.319149</td>\n",
              "    </tr>\n",
              "    <tr>\n",
              "      <td>15</td>\n",
              "      <td>1.471800</td>\n",
              "      <td>2.066116</td>\n",
              "      <td>0.312057</td>\n",
              "    </tr>\n",
              "    <tr>\n",
              "      <td>16</td>\n",
              "      <td>1.471800</td>\n",
              "      <td>2.117736</td>\n",
              "      <td>0.315603</td>\n",
              "    </tr>\n",
              "    <tr>\n",
              "      <td>17</td>\n",
              "      <td>1.471800</td>\n",
              "      <td>2.180247</td>\n",
              "      <td>0.312057</td>\n",
              "    </tr>\n",
              "    <tr>\n",
              "      <td>18</td>\n",
              "      <td>1.471800</td>\n",
              "      <td>2.239779</td>\n",
              "      <td>0.315603</td>\n",
              "    </tr>\n",
              "    <tr>\n",
              "      <td>19</td>\n",
              "      <td>1.471800</td>\n",
              "      <td>2.314041</td>\n",
              "      <td>0.294326</td>\n",
              "    </tr>\n",
              "    <tr>\n",
              "      <td>20</td>\n",
              "      <td>1.471800</td>\n",
              "      <td>2.306512</td>\n",
              "      <td>0.301418</td>\n",
              "    </tr>\n",
              "    <tr>\n",
              "      <td>21</td>\n",
              "      <td>1.471800</td>\n",
              "      <td>2.391991</td>\n",
              "      <td>0.308511</td>\n",
              "    </tr>\n",
              "    <tr>\n",
              "      <td>22</td>\n",
              "      <td>1.471800</td>\n",
              "      <td>2.489335</td>\n",
              "      <td>0.312057</td>\n",
              "    </tr>\n",
              "    <tr>\n",
              "      <td>23</td>\n",
              "      <td>1.471800</td>\n",
              "      <td>2.498055</td>\n",
              "      <td>0.297872</td>\n",
              "    </tr>\n",
              "    <tr>\n",
              "      <td>24</td>\n",
              "      <td>1.471800</td>\n",
              "      <td>2.582721</td>\n",
              "      <td>0.308511</td>\n",
              "    </tr>\n",
              "    <tr>\n",
              "      <td>25</td>\n",
              "      <td>1.471800</td>\n",
              "      <td>2.609982</td>\n",
              "      <td>0.312057</td>\n",
              "    </tr>\n",
              "    <tr>\n",
              "      <td>26</td>\n",
              "      <td>1.471800</td>\n",
              "      <td>2.673797</td>\n",
              "      <td>0.301418</td>\n",
              "    </tr>\n",
              "    <tr>\n",
              "      <td>27</td>\n",
              "      <td>1.471800</td>\n",
              "      <td>2.758953</td>\n",
              "      <td>0.301418</td>\n",
              "    </tr>\n",
              "    <tr>\n",
              "      <td>28</td>\n",
              "      <td>0.650200</td>\n",
              "      <td>2.805897</td>\n",
              "      <td>0.273050</td>\n",
              "    </tr>\n",
              "    <tr>\n",
              "      <td>29</td>\n",
              "      <td>0.650200</td>\n",
              "      <td>2.828389</td>\n",
              "      <td>0.283688</td>\n",
              "    </tr>\n",
              "    <tr>\n",
              "      <td>30</td>\n",
              "      <td>0.650200</td>\n",
              "      <td>2.871933</td>\n",
              "      <td>0.280142</td>\n",
              "    </tr>\n",
              "    <tr>\n",
              "      <td>31</td>\n",
              "      <td>0.650200</td>\n",
              "      <td>2.961976</td>\n",
              "      <td>0.269504</td>\n",
              "    </tr>\n",
              "    <tr>\n",
              "      <td>32</td>\n",
              "      <td>0.650200</td>\n",
              "      <td>2.962715</td>\n",
              "      <td>0.276596</td>\n",
              "    </tr>\n",
              "    <tr>\n",
              "      <td>33</td>\n",
              "      <td>0.650200</td>\n",
              "      <td>3.005281</td>\n",
              "      <td>0.258865</td>\n",
              "    </tr>\n",
              "    <tr>\n",
              "      <td>34</td>\n",
              "      <td>0.650200</td>\n",
              "      <td>3.078244</td>\n",
              "      <td>0.273050</td>\n",
              "    </tr>\n",
              "    <tr>\n",
              "      <td>35</td>\n",
              "      <td>0.650200</td>\n",
              "      <td>3.148561</td>\n",
              "      <td>0.273050</td>\n",
              "    </tr>\n",
              "    <tr>\n",
              "      <td>36</td>\n",
              "      <td>0.650200</td>\n",
              "      <td>3.089941</td>\n",
              "      <td>0.262411</td>\n",
              "    </tr>\n",
              "    <tr>\n",
              "      <td>37</td>\n",
              "      <td>0.650200</td>\n",
              "      <td>3.227851</td>\n",
              "      <td>0.262411</td>\n",
              "    </tr>\n",
              "    <tr>\n",
              "      <td>38</td>\n",
              "      <td>0.650200</td>\n",
              "      <td>3.277468</td>\n",
              "      <td>0.258865</td>\n",
              "    </tr>\n",
              "    <tr>\n",
              "      <td>39</td>\n",
              "      <td>0.650200</td>\n",
              "      <td>3.256529</td>\n",
              "      <td>0.269504</td>\n",
              "    </tr>\n",
              "    <tr>\n",
              "      <td>40</td>\n",
              "      <td>0.650200</td>\n",
              "      <td>3.256108</td>\n",
              "      <td>0.269504</td>\n",
              "    </tr>\n",
              "    <tr>\n",
              "      <td>41</td>\n",
              "      <td>0.650200</td>\n",
              "      <td>3.306375</td>\n",
              "      <td>0.273050</td>\n",
              "    </tr>\n",
              "    <tr>\n",
              "      <td>42</td>\n",
              "      <td>0.256000</td>\n",
              "      <td>3.275579</td>\n",
              "      <td>0.262411</td>\n",
              "    </tr>\n",
              "    <tr>\n",
              "      <td>43</td>\n",
              "      <td>0.256000</td>\n",
              "      <td>3.284876</td>\n",
              "      <td>0.258865</td>\n",
              "    </tr>\n",
              "    <tr>\n",
              "      <td>44</td>\n",
              "      <td>0.256000</td>\n",
              "      <td>3.354357</td>\n",
              "      <td>0.269504</td>\n",
              "    </tr>\n",
              "    <tr>\n",
              "      <td>45</td>\n",
              "      <td>0.256000</td>\n",
              "      <td>3.395564</td>\n",
              "      <td>0.265957</td>\n",
              "    </tr>\n",
              "    <tr>\n",
              "      <td>46</td>\n",
              "      <td>0.256000</td>\n",
              "      <td>3.370716</td>\n",
              "      <td>0.258865</td>\n",
              "    </tr>\n",
              "    <tr>\n",
              "      <td>47</td>\n",
              "      <td>0.256000</td>\n",
              "      <td>3.417201</td>\n",
              "      <td>0.276596</td>\n",
              "    </tr>\n",
              "    <tr>\n",
              "      <td>48</td>\n",
              "      <td>0.256000</td>\n",
              "      <td>3.397869</td>\n",
              "      <td>0.269504</td>\n",
              "    </tr>\n",
              "    <tr>\n",
              "      <td>49</td>\n",
              "      <td>0.256000</td>\n",
              "      <td>3.393818</td>\n",
              "      <td>0.273050</td>\n",
              "    </tr>\n",
              "    <tr>\n",
              "      <td>50</td>\n",
              "      <td>0.256000</td>\n",
              "      <td>3.396545</td>\n",
              "      <td>0.273050</td>\n",
              "    </tr>\n",
              "  </tbody>\n",
              "</table><p>"
            ],
            "text/plain": [
              "<IPython.core.display.HTML object>"
            ]
          },
          "metadata": {},
          "output_type": "display_data"
        },
        {
          "name": "stdout",
          "output_type": "stream",
          "text": [
            "\n",
            "→ Evaluation at epoch 1\n",
            "Evaluation Accuracy: 0.1986\n",
            "Evaluation Loss: 1.7699\n",
            "→ New best accuracy! Saving model to ./results/best_model_250603\n"
          ]
        },
        {
          "name": "stderr",
          "output_type": "stream",
          "text": [
            "/home/daniel/anaconda3/envs/symbolic_transformer/lib/python3.7/site-packages/torch/nn/parallel/_functions.py:68: UserWarning: Was asked to gather along dimension 0, but all input tensors were scalars; will instead unsqueeze and return a vector.\n",
            "  warnings.warn('Was asked to gather along dimension 0, but all '\n"
          ]
        },
        {
          "name": "stdout",
          "output_type": "stream",
          "text": [
            "\n",
            "→ Evaluation at epoch 2\n",
            "Evaluation Accuracy: 0.2837\n",
            "Evaluation Loss: 1.7107\n",
            "→ New best accuracy! Saving model to ./results/best_model_250603\n"
          ]
        },
        {
          "name": "stderr",
          "output_type": "stream",
          "text": [
            "/home/daniel/anaconda3/envs/symbolic_transformer/lib/python3.7/site-packages/torch/nn/parallel/_functions.py:68: UserWarning: Was asked to gather along dimension 0, but all input tensors were scalars; will instead unsqueeze and return a vector.\n",
            "  warnings.warn('Was asked to gather along dimension 0, but all '\n"
          ]
        },
        {
          "name": "stdout",
          "output_type": "stream",
          "text": [
            "\n",
            "→ Evaluation at epoch 3\n",
            "Evaluation Accuracy: 0.3227\n",
            "Evaluation Loss: 1.6851\n",
            "→ New best accuracy! Saving model to ./results/best_model_250603\n"
          ]
        },
        {
          "name": "stderr",
          "output_type": "stream",
          "text": [
            "/home/daniel/anaconda3/envs/symbolic_transformer/lib/python3.7/site-packages/torch/nn/parallel/_functions.py:68: UserWarning: Was asked to gather along dimension 0, but all input tensors were scalars; will instead unsqueeze and return a vector.\n",
            "  warnings.warn('Was asked to gather along dimension 0, but all '\n"
          ]
        },
        {
          "name": "stdout",
          "output_type": "stream",
          "text": [
            "\n",
            "→ Evaluation at epoch 4\n",
            "Evaluation Accuracy: 0.3404\n",
            "Evaluation Loss: 1.6674\n",
            "→ New best accuracy! Saving model to ./results/best_model_250603\n"
          ]
        },
        {
          "name": "stderr",
          "output_type": "stream",
          "text": [
            "/home/daniel/anaconda3/envs/symbolic_transformer/lib/python3.7/site-packages/torch/nn/parallel/_functions.py:68: UserWarning: Was asked to gather along dimension 0, but all input tensors were scalars; will instead unsqueeze and return a vector.\n",
            "  warnings.warn('Was asked to gather along dimension 0, but all '\n"
          ]
        },
        {
          "name": "stdout",
          "output_type": "stream",
          "text": [
            "\n",
            "→ Evaluation at epoch 5\n",
            "Evaluation Accuracy: 0.3262\n",
            "Evaluation Loss: 1.6657\n"
          ]
        },
        {
          "name": "stderr",
          "output_type": "stream",
          "text": [
            "/home/daniel/anaconda3/envs/symbolic_transformer/lib/python3.7/site-packages/torch/nn/parallel/_functions.py:68: UserWarning: Was asked to gather along dimension 0, but all input tensors were scalars; will instead unsqueeze and return a vector.\n",
            "  warnings.warn('Was asked to gather along dimension 0, but all '\n"
          ]
        },
        {
          "name": "stdout",
          "output_type": "stream",
          "text": [
            "\n",
            "→ Evaluation at epoch 6\n",
            "Evaluation Accuracy: 0.3156\n",
            "Evaluation Loss: 1.6955\n"
          ]
        },
        {
          "name": "stderr",
          "output_type": "stream",
          "text": [
            "/home/daniel/anaconda3/envs/symbolic_transformer/lib/python3.7/site-packages/torch/nn/parallel/_functions.py:68: UserWarning: Was asked to gather along dimension 0, but all input tensors were scalars; will instead unsqueeze and return a vector.\n",
            "  warnings.warn('Was asked to gather along dimension 0, but all '\n"
          ]
        },
        {
          "name": "stdout",
          "output_type": "stream",
          "text": [
            "\n",
            "→ Evaluation at epoch 7\n",
            "Evaluation Accuracy: 0.3156\n",
            "Evaluation Loss: 1.7028\n"
          ]
        },
        {
          "name": "stderr",
          "output_type": "stream",
          "text": [
            "/home/daniel/anaconda3/envs/symbolic_transformer/lib/python3.7/site-packages/torch/nn/parallel/_functions.py:68: UserWarning: Was asked to gather along dimension 0, but all input tensors were scalars; will instead unsqueeze and return a vector.\n",
            "  warnings.warn('Was asked to gather along dimension 0, but all '\n"
          ]
        },
        {
          "name": "stdout",
          "output_type": "stream",
          "text": [
            "\n",
            "→ Evaluation at epoch 8\n",
            "Evaluation Accuracy: 0.3085\n",
            "Evaluation Loss: 1.7258\n"
          ]
        },
        {
          "name": "stderr",
          "output_type": "stream",
          "text": [
            "/home/daniel/anaconda3/envs/symbolic_transformer/lib/python3.7/site-packages/torch/nn/parallel/_functions.py:68: UserWarning: Was asked to gather along dimension 0, but all input tensors were scalars; will instead unsqueeze and return a vector.\n",
            "  warnings.warn('Was asked to gather along dimension 0, but all '\n"
          ]
        },
        {
          "name": "stdout",
          "output_type": "stream",
          "text": [
            "\n",
            "→ Evaluation at epoch 9\n",
            "Evaluation Accuracy: 0.3121\n",
            "Evaluation Loss: 1.7702\n"
          ]
        },
        {
          "name": "stderr",
          "output_type": "stream",
          "text": [
            "/home/daniel/anaconda3/envs/symbolic_transformer/lib/python3.7/site-packages/torch/nn/parallel/_functions.py:68: UserWarning: Was asked to gather along dimension 0, but all input tensors were scalars; will instead unsqueeze and return a vector.\n",
            "  warnings.warn('Was asked to gather along dimension 0, but all '\n"
          ]
        },
        {
          "name": "stdout",
          "output_type": "stream",
          "text": [
            "\n",
            "→ Evaluation at epoch 10\n",
            "Evaluation Accuracy: 0.2872\n",
            "Evaluation Loss: 1.8041\n"
          ]
        },
        {
          "name": "stderr",
          "output_type": "stream",
          "text": [
            "/home/daniel/anaconda3/envs/symbolic_transformer/lib/python3.7/site-packages/torch/nn/parallel/_functions.py:68: UserWarning: Was asked to gather along dimension 0, but all input tensors were scalars; will instead unsqueeze and return a vector.\n",
            "  warnings.warn('Was asked to gather along dimension 0, but all '\n"
          ]
        },
        {
          "name": "stdout",
          "output_type": "stream",
          "text": [
            "\n",
            "→ Evaluation at epoch 11\n",
            "Evaluation Accuracy: 0.3050\n",
            "Evaluation Loss: 1.8381\n"
          ]
        },
        {
          "name": "stderr",
          "output_type": "stream",
          "text": [
            "/home/daniel/anaconda3/envs/symbolic_transformer/lib/python3.7/site-packages/torch/nn/parallel/_functions.py:68: UserWarning: Was asked to gather along dimension 0, but all input tensors were scalars; will instead unsqueeze and return a vector.\n",
            "  warnings.warn('Was asked to gather along dimension 0, but all '\n"
          ]
        },
        {
          "name": "stdout",
          "output_type": "stream",
          "text": [
            "\n",
            "→ Evaluation at epoch 12\n",
            "Evaluation Accuracy: 0.3298\n",
            "Evaluation Loss: 1.8900\n"
          ]
        },
        {
          "name": "stderr",
          "output_type": "stream",
          "text": [
            "/home/daniel/anaconda3/envs/symbolic_transformer/lib/python3.7/site-packages/torch/nn/parallel/_functions.py:68: UserWarning: Was asked to gather along dimension 0, but all input tensors were scalars; will instead unsqueeze and return a vector.\n",
            "  warnings.warn('Was asked to gather along dimension 0, but all '\n"
          ]
        },
        {
          "name": "stdout",
          "output_type": "stream",
          "text": [
            "\n",
            "→ Evaluation at epoch 13\n",
            "Evaluation Accuracy: 0.3262\n",
            "Evaluation Loss: 1.9018\n"
          ]
        },
        {
          "name": "stderr",
          "output_type": "stream",
          "text": [
            "/home/daniel/anaconda3/envs/symbolic_transformer/lib/python3.7/site-packages/torch/nn/parallel/_functions.py:68: UserWarning: Was asked to gather along dimension 0, but all input tensors were scalars; will instead unsqueeze and return a vector.\n",
            "  warnings.warn('Was asked to gather along dimension 0, but all '\n"
          ]
        },
        {
          "name": "stdout",
          "output_type": "stream",
          "text": [
            "\n",
            "→ Evaluation at epoch 14\n",
            "Evaluation Accuracy: 0.3191\n",
            "Evaluation Loss: 1.9979\n"
          ]
        },
        {
          "name": "stderr",
          "output_type": "stream",
          "text": [
            "/home/daniel/anaconda3/envs/symbolic_transformer/lib/python3.7/site-packages/torch/nn/parallel/_functions.py:68: UserWarning: Was asked to gather along dimension 0, but all input tensors were scalars; will instead unsqueeze and return a vector.\n",
            "  warnings.warn('Was asked to gather along dimension 0, but all '\n"
          ]
        },
        {
          "name": "stdout",
          "output_type": "stream",
          "text": [
            "\n",
            "→ Evaluation at epoch 15\n",
            "Evaluation Accuracy: 0.3121\n",
            "Evaluation Loss: 2.0661\n"
          ]
        },
        {
          "name": "stderr",
          "output_type": "stream",
          "text": [
            "/home/daniel/anaconda3/envs/symbolic_transformer/lib/python3.7/site-packages/torch/nn/parallel/_functions.py:68: UserWarning: Was asked to gather along dimension 0, but all input tensors were scalars; will instead unsqueeze and return a vector.\n",
            "  warnings.warn('Was asked to gather along dimension 0, but all '\n"
          ]
        },
        {
          "name": "stdout",
          "output_type": "stream",
          "text": [
            "\n",
            "→ Evaluation at epoch 16\n",
            "Evaluation Accuracy: 0.3156\n",
            "Evaluation Loss: 2.1177\n"
          ]
        },
        {
          "name": "stderr",
          "output_type": "stream",
          "text": [
            "/home/daniel/anaconda3/envs/symbolic_transformer/lib/python3.7/site-packages/torch/nn/parallel/_functions.py:68: UserWarning: Was asked to gather along dimension 0, but all input tensors were scalars; will instead unsqueeze and return a vector.\n",
            "  warnings.warn('Was asked to gather along dimension 0, but all '\n"
          ]
        },
        {
          "name": "stdout",
          "output_type": "stream",
          "text": [
            "\n",
            "→ Evaluation at epoch 17\n",
            "Evaluation Accuracy: 0.3121\n",
            "Evaluation Loss: 2.1802\n"
          ]
        },
        {
          "name": "stderr",
          "output_type": "stream",
          "text": [
            "/home/daniel/anaconda3/envs/symbolic_transformer/lib/python3.7/site-packages/torch/nn/parallel/_functions.py:68: UserWarning: Was asked to gather along dimension 0, but all input tensors were scalars; will instead unsqueeze and return a vector.\n",
            "  warnings.warn('Was asked to gather along dimension 0, but all '\n"
          ]
        },
        {
          "name": "stdout",
          "output_type": "stream",
          "text": [
            "\n",
            "→ Evaluation at epoch 18\n",
            "Evaluation Accuracy: 0.3156\n",
            "Evaluation Loss: 2.2398\n"
          ]
        },
        {
          "name": "stderr",
          "output_type": "stream",
          "text": [
            "/home/daniel/anaconda3/envs/symbolic_transformer/lib/python3.7/site-packages/torch/nn/parallel/_functions.py:68: UserWarning: Was asked to gather along dimension 0, but all input tensors were scalars; will instead unsqueeze and return a vector.\n",
            "  warnings.warn('Was asked to gather along dimension 0, but all '\n"
          ]
        },
        {
          "name": "stdout",
          "output_type": "stream",
          "text": [
            "\n",
            "→ Evaluation at epoch 19\n",
            "Evaluation Accuracy: 0.2943\n",
            "Evaluation Loss: 2.3140\n"
          ]
        },
        {
          "name": "stderr",
          "output_type": "stream",
          "text": [
            "/home/daniel/anaconda3/envs/symbolic_transformer/lib/python3.7/site-packages/torch/nn/parallel/_functions.py:68: UserWarning: Was asked to gather along dimension 0, but all input tensors were scalars; will instead unsqueeze and return a vector.\n",
            "  warnings.warn('Was asked to gather along dimension 0, but all '\n"
          ]
        },
        {
          "name": "stdout",
          "output_type": "stream",
          "text": [
            "\n",
            "→ Evaluation at epoch 20\n",
            "Evaluation Accuracy: 0.3014\n",
            "Evaluation Loss: 2.3065\n"
          ]
        },
        {
          "name": "stderr",
          "output_type": "stream",
          "text": [
            "/home/daniel/anaconda3/envs/symbolic_transformer/lib/python3.7/site-packages/torch/nn/parallel/_functions.py:68: UserWarning: Was asked to gather along dimension 0, but all input tensors were scalars; will instead unsqueeze and return a vector.\n",
            "  warnings.warn('Was asked to gather along dimension 0, but all '\n"
          ]
        },
        {
          "name": "stdout",
          "output_type": "stream",
          "text": [
            "\n",
            "→ Evaluation at epoch 21\n",
            "Evaluation Accuracy: 0.3085\n",
            "Evaluation Loss: 2.3920\n"
          ]
        },
        {
          "name": "stderr",
          "output_type": "stream",
          "text": [
            "/home/daniel/anaconda3/envs/symbolic_transformer/lib/python3.7/site-packages/torch/nn/parallel/_functions.py:68: UserWarning: Was asked to gather along dimension 0, but all input tensors were scalars; will instead unsqueeze and return a vector.\n",
            "  warnings.warn('Was asked to gather along dimension 0, but all '\n"
          ]
        },
        {
          "name": "stdout",
          "output_type": "stream",
          "text": [
            "\n",
            "→ Evaluation at epoch 22\n",
            "Evaluation Accuracy: 0.3121\n",
            "Evaluation Loss: 2.4893\n"
          ]
        },
        {
          "name": "stderr",
          "output_type": "stream",
          "text": [
            "/home/daniel/anaconda3/envs/symbolic_transformer/lib/python3.7/site-packages/torch/nn/parallel/_functions.py:68: UserWarning: Was asked to gather along dimension 0, but all input tensors were scalars; will instead unsqueeze and return a vector.\n",
            "  warnings.warn('Was asked to gather along dimension 0, but all '\n"
          ]
        },
        {
          "name": "stdout",
          "output_type": "stream",
          "text": [
            "\n",
            "→ Evaluation at epoch 23\n",
            "Evaluation Accuracy: 0.2979\n",
            "Evaluation Loss: 2.4981\n"
          ]
        },
        {
          "name": "stderr",
          "output_type": "stream",
          "text": [
            "/home/daniel/anaconda3/envs/symbolic_transformer/lib/python3.7/site-packages/torch/nn/parallel/_functions.py:68: UserWarning: Was asked to gather along dimension 0, but all input tensors were scalars; will instead unsqueeze and return a vector.\n",
            "  warnings.warn('Was asked to gather along dimension 0, but all '\n"
          ]
        },
        {
          "name": "stdout",
          "output_type": "stream",
          "text": [
            "\n",
            "→ Evaluation at epoch 24\n",
            "Evaluation Accuracy: 0.3085\n",
            "Evaluation Loss: 2.5827\n"
          ]
        },
        {
          "name": "stderr",
          "output_type": "stream",
          "text": [
            "/home/daniel/anaconda3/envs/symbolic_transformer/lib/python3.7/site-packages/torch/nn/parallel/_functions.py:68: UserWarning: Was asked to gather along dimension 0, but all input tensors were scalars; will instead unsqueeze and return a vector.\n",
            "  warnings.warn('Was asked to gather along dimension 0, but all '\n"
          ]
        },
        {
          "name": "stdout",
          "output_type": "stream",
          "text": [
            "\n",
            "→ Evaluation at epoch 25\n",
            "Evaluation Accuracy: 0.3121\n",
            "Evaluation Loss: 2.6100\n"
          ]
        },
        {
          "name": "stderr",
          "output_type": "stream",
          "text": [
            "/home/daniel/anaconda3/envs/symbolic_transformer/lib/python3.7/site-packages/torch/nn/parallel/_functions.py:68: UserWarning: Was asked to gather along dimension 0, but all input tensors were scalars; will instead unsqueeze and return a vector.\n",
            "  warnings.warn('Was asked to gather along dimension 0, but all '\n"
          ]
        },
        {
          "name": "stdout",
          "output_type": "stream",
          "text": [
            "\n",
            "→ Evaluation at epoch 26\n",
            "Evaluation Accuracy: 0.3014\n",
            "Evaluation Loss: 2.6738\n"
          ]
        },
        {
          "name": "stderr",
          "output_type": "stream",
          "text": [
            "/home/daniel/anaconda3/envs/symbolic_transformer/lib/python3.7/site-packages/torch/nn/parallel/_functions.py:68: UserWarning: Was asked to gather along dimension 0, but all input tensors were scalars; will instead unsqueeze and return a vector.\n",
            "  warnings.warn('Was asked to gather along dimension 0, but all '\n"
          ]
        },
        {
          "name": "stdout",
          "output_type": "stream",
          "text": [
            "\n",
            "→ Evaluation at epoch 27\n",
            "Evaluation Accuracy: 0.3014\n",
            "Evaluation Loss: 2.7590\n"
          ]
        },
        {
          "name": "stderr",
          "output_type": "stream",
          "text": [
            "/home/daniel/anaconda3/envs/symbolic_transformer/lib/python3.7/site-packages/torch/nn/parallel/_functions.py:68: UserWarning: Was asked to gather along dimension 0, but all input tensors were scalars; will instead unsqueeze and return a vector.\n",
            "  warnings.warn('Was asked to gather along dimension 0, but all '\n"
          ]
        },
        {
          "name": "stdout",
          "output_type": "stream",
          "text": [
            "\n",
            "→ Evaluation at epoch 28\n",
            "Evaluation Accuracy: 0.2730\n",
            "Evaluation Loss: 2.8059\n"
          ]
        },
        {
          "name": "stderr",
          "output_type": "stream",
          "text": [
            "/home/daniel/anaconda3/envs/symbolic_transformer/lib/python3.7/site-packages/torch/nn/parallel/_functions.py:68: UserWarning: Was asked to gather along dimension 0, but all input tensors were scalars; will instead unsqueeze and return a vector.\n",
            "  warnings.warn('Was asked to gather along dimension 0, but all '\n"
          ]
        },
        {
          "name": "stdout",
          "output_type": "stream",
          "text": [
            "\n",
            "→ Evaluation at epoch 29\n",
            "Evaluation Accuracy: 0.2837\n",
            "Evaluation Loss: 2.8284\n"
          ]
        },
        {
          "name": "stderr",
          "output_type": "stream",
          "text": [
            "/home/daniel/anaconda3/envs/symbolic_transformer/lib/python3.7/site-packages/torch/nn/parallel/_functions.py:68: UserWarning: Was asked to gather along dimension 0, but all input tensors were scalars; will instead unsqueeze and return a vector.\n",
            "  warnings.warn('Was asked to gather along dimension 0, but all '\n"
          ]
        },
        {
          "name": "stdout",
          "output_type": "stream",
          "text": [
            "\n",
            "→ Evaluation at epoch 30\n",
            "Evaluation Accuracy: 0.2801\n",
            "Evaluation Loss: 2.8719\n"
          ]
        },
        {
          "name": "stderr",
          "output_type": "stream",
          "text": [
            "/home/daniel/anaconda3/envs/symbolic_transformer/lib/python3.7/site-packages/torch/nn/parallel/_functions.py:68: UserWarning: Was asked to gather along dimension 0, but all input tensors were scalars; will instead unsqueeze and return a vector.\n",
            "  warnings.warn('Was asked to gather along dimension 0, but all '\n"
          ]
        },
        {
          "name": "stdout",
          "output_type": "stream",
          "text": [
            "\n",
            "→ Evaluation at epoch 31\n",
            "Evaluation Accuracy: 0.2695\n",
            "Evaluation Loss: 2.9620\n"
          ]
        },
        {
          "name": "stderr",
          "output_type": "stream",
          "text": [
            "/home/daniel/anaconda3/envs/symbolic_transformer/lib/python3.7/site-packages/torch/nn/parallel/_functions.py:68: UserWarning: Was asked to gather along dimension 0, but all input tensors were scalars; will instead unsqueeze and return a vector.\n",
            "  warnings.warn('Was asked to gather along dimension 0, but all '\n"
          ]
        },
        {
          "name": "stdout",
          "output_type": "stream",
          "text": [
            "\n",
            "→ Evaluation at epoch 32\n",
            "Evaluation Accuracy: 0.2766\n",
            "Evaluation Loss: 2.9627\n"
          ]
        },
        {
          "name": "stderr",
          "output_type": "stream",
          "text": [
            "/home/daniel/anaconda3/envs/symbolic_transformer/lib/python3.7/site-packages/torch/nn/parallel/_functions.py:68: UserWarning: Was asked to gather along dimension 0, but all input tensors were scalars; will instead unsqueeze and return a vector.\n",
            "  warnings.warn('Was asked to gather along dimension 0, but all '\n"
          ]
        },
        {
          "name": "stdout",
          "output_type": "stream",
          "text": [
            "\n",
            "→ Evaluation at epoch 33\n",
            "Evaluation Accuracy: 0.2589\n",
            "Evaluation Loss: 3.0053\n"
          ]
        },
        {
          "name": "stderr",
          "output_type": "stream",
          "text": [
            "/home/daniel/anaconda3/envs/symbolic_transformer/lib/python3.7/site-packages/torch/nn/parallel/_functions.py:68: UserWarning: Was asked to gather along dimension 0, but all input tensors were scalars; will instead unsqueeze and return a vector.\n",
            "  warnings.warn('Was asked to gather along dimension 0, but all '\n"
          ]
        },
        {
          "name": "stdout",
          "output_type": "stream",
          "text": [
            "\n",
            "→ Evaluation at epoch 34\n",
            "Evaluation Accuracy: 0.2730\n",
            "Evaluation Loss: 3.0782\n"
          ]
        },
        {
          "name": "stderr",
          "output_type": "stream",
          "text": [
            "/home/daniel/anaconda3/envs/symbolic_transformer/lib/python3.7/site-packages/torch/nn/parallel/_functions.py:68: UserWarning: Was asked to gather along dimension 0, but all input tensors were scalars; will instead unsqueeze and return a vector.\n",
            "  warnings.warn('Was asked to gather along dimension 0, but all '\n"
          ]
        },
        {
          "name": "stdout",
          "output_type": "stream",
          "text": [
            "\n",
            "→ Evaluation at epoch 35\n",
            "Evaluation Accuracy: 0.2730\n",
            "Evaluation Loss: 3.1486\n"
          ]
        },
        {
          "name": "stderr",
          "output_type": "stream",
          "text": [
            "/home/daniel/anaconda3/envs/symbolic_transformer/lib/python3.7/site-packages/torch/nn/parallel/_functions.py:68: UserWarning: Was asked to gather along dimension 0, but all input tensors were scalars; will instead unsqueeze and return a vector.\n",
            "  warnings.warn('Was asked to gather along dimension 0, but all '\n"
          ]
        },
        {
          "name": "stdout",
          "output_type": "stream",
          "text": [
            "\n",
            "→ Evaluation at epoch 36\n",
            "Evaluation Accuracy: 0.2624\n",
            "Evaluation Loss: 3.0899\n"
          ]
        },
        {
          "name": "stderr",
          "output_type": "stream",
          "text": [
            "/home/daniel/anaconda3/envs/symbolic_transformer/lib/python3.7/site-packages/torch/nn/parallel/_functions.py:68: UserWarning: Was asked to gather along dimension 0, but all input tensors were scalars; will instead unsqueeze and return a vector.\n",
            "  warnings.warn('Was asked to gather along dimension 0, but all '\n"
          ]
        },
        {
          "name": "stdout",
          "output_type": "stream",
          "text": [
            "\n",
            "→ Evaluation at epoch 37\n",
            "Evaluation Accuracy: 0.2624\n",
            "Evaluation Loss: 3.2279\n"
          ]
        },
        {
          "name": "stderr",
          "output_type": "stream",
          "text": [
            "/home/daniel/anaconda3/envs/symbolic_transformer/lib/python3.7/site-packages/torch/nn/parallel/_functions.py:68: UserWarning: Was asked to gather along dimension 0, but all input tensors were scalars; will instead unsqueeze and return a vector.\n",
            "  warnings.warn('Was asked to gather along dimension 0, but all '\n"
          ]
        },
        {
          "name": "stdout",
          "output_type": "stream",
          "text": [
            "\n",
            "→ Evaluation at epoch 38\n",
            "Evaluation Accuracy: 0.2589\n",
            "Evaluation Loss: 3.2775\n"
          ]
        },
        {
          "name": "stderr",
          "output_type": "stream",
          "text": [
            "/home/daniel/anaconda3/envs/symbolic_transformer/lib/python3.7/site-packages/torch/nn/parallel/_functions.py:68: UserWarning: Was asked to gather along dimension 0, but all input tensors were scalars; will instead unsqueeze and return a vector.\n",
            "  warnings.warn('Was asked to gather along dimension 0, but all '\n"
          ]
        },
        {
          "name": "stdout",
          "output_type": "stream",
          "text": [
            "\n",
            "→ Evaluation at epoch 39\n",
            "Evaluation Accuracy: 0.2695\n",
            "Evaluation Loss: 3.2565\n"
          ]
        },
        {
          "name": "stderr",
          "output_type": "stream",
          "text": [
            "/home/daniel/anaconda3/envs/symbolic_transformer/lib/python3.7/site-packages/torch/nn/parallel/_functions.py:68: UserWarning: Was asked to gather along dimension 0, but all input tensors were scalars; will instead unsqueeze and return a vector.\n",
            "  warnings.warn('Was asked to gather along dimension 0, but all '\n"
          ]
        },
        {
          "name": "stdout",
          "output_type": "stream",
          "text": [
            "\n",
            "→ Evaluation at epoch 40\n",
            "Evaluation Accuracy: 0.2695\n",
            "Evaluation Loss: 3.2561\n"
          ]
        },
        {
          "name": "stderr",
          "output_type": "stream",
          "text": [
            "/home/daniel/anaconda3/envs/symbolic_transformer/lib/python3.7/site-packages/torch/nn/parallel/_functions.py:68: UserWarning: Was asked to gather along dimension 0, but all input tensors were scalars; will instead unsqueeze and return a vector.\n",
            "  warnings.warn('Was asked to gather along dimension 0, but all '\n"
          ]
        },
        {
          "name": "stdout",
          "output_type": "stream",
          "text": [
            "\n",
            "→ Evaluation at epoch 41\n",
            "Evaluation Accuracy: 0.2730\n",
            "Evaluation Loss: 3.3064\n"
          ]
        },
        {
          "name": "stderr",
          "output_type": "stream",
          "text": [
            "/home/daniel/anaconda3/envs/symbolic_transformer/lib/python3.7/site-packages/torch/nn/parallel/_functions.py:68: UserWarning: Was asked to gather along dimension 0, but all input tensors were scalars; will instead unsqueeze and return a vector.\n",
            "  warnings.warn('Was asked to gather along dimension 0, but all '\n"
          ]
        },
        {
          "name": "stdout",
          "output_type": "stream",
          "text": [
            "\n",
            "→ Evaluation at epoch 42\n",
            "Evaluation Accuracy: 0.2624\n",
            "Evaluation Loss: 3.2756\n"
          ]
        },
        {
          "name": "stderr",
          "output_type": "stream",
          "text": [
            "/home/daniel/anaconda3/envs/symbolic_transformer/lib/python3.7/site-packages/torch/nn/parallel/_functions.py:68: UserWarning: Was asked to gather along dimension 0, but all input tensors were scalars; will instead unsqueeze and return a vector.\n",
            "  warnings.warn('Was asked to gather along dimension 0, but all '\n"
          ]
        },
        {
          "name": "stdout",
          "output_type": "stream",
          "text": [
            "\n",
            "→ Evaluation at epoch 43\n",
            "Evaluation Accuracy: 0.2589\n",
            "Evaluation Loss: 3.2849\n"
          ]
        },
        {
          "name": "stderr",
          "output_type": "stream",
          "text": [
            "/home/daniel/anaconda3/envs/symbolic_transformer/lib/python3.7/site-packages/torch/nn/parallel/_functions.py:68: UserWarning: Was asked to gather along dimension 0, but all input tensors were scalars; will instead unsqueeze and return a vector.\n",
            "  warnings.warn('Was asked to gather along dimension 0, but all '\n"
          ]
        },
        {
          "name": "stdout",
          "output_type": "stream",
          "text": [
            "\n",
            "→ Evaluation at epoch 44\n",
            "Evaluation Accuracy: 0.2695\n",
            "Evaluation Loss: 3.3544\n"
          ]
        },
        {
          "name": "stderr",
          "output_type": "stream",
          "text": [
            "/home/daniel/anaconda3/envs/symbolic_transformer/lib/python3.7/site-packages/torch/nn/parallel/_functions.py:68: UserWarning: Was asked to gather along dimension 0, but all input tensors were scalars; will instead unsqueeze and return a vector.\n",
            "  warnings.warn('Was asked to gather along dimension 0, but all '\n"
          ]
        },
        {
          "name": "stdout",
          "output_type": "stream",
          "text": [
            "\n",
            "→ Evaluation at epoch 45\n",
            "Evaluation Accuracy: 0.2660\n",
            "Evaluation Loss: 3.3956\n"
          ]
        },
        {
          "name": "stderr",
          "output_type": "stream",
          "text": [
            "/home/daniel/anaconda3/envs/symbolic_transformer/lib/python3.7/site-packages/torch/nn/parallel/_functions.py:68: UserWarning: Was asked to gather along dimension 0, but all input tensors were scalars; will instead unsqueeze and return a vector.\n",
            "  warnings.warn('Was asked to gather along dimension 0, but all '\n"
          ]
        },
        {
          "name": "stdout",
          "output_type": "stream",
          "text": [
            "\n",
            "→ Evaluation at epoch 46\n",
            "Evaluation Accuracy: 0.2589\n",
            "Evaluation Loss: 3.3707\n"
          ]
        },
        {
          "name": "stderr",
          "output_type": "stream",
          "text": [
            "/home/daniel/anaconda3/envs/symbolic_transformer/lib/python3.7/site-packages/torch/nn/parallel/_functions.py:68: UserWarning: Was asked to gather along dimension 0, but all input tensors were scalars; will instead unsqueeze and return a vector.\n",
            "  warnings.warn('Was asked to gather along dimension 0, but all '\n"
          ]
        },
        {
          "name": "stdout",
          "output_type": "stream",
          "text": [
            "\n",
            "→ Evaluation at epoch 47\n",
            "Evaluation Accuracy: 0.2766\n",
            "Evaluation Loss: 3.4172\n"
          ]
        },
        {
          "name": "stderr",
          "output_type": "stream",
          "text": [
            "/home/daniel/anaconda3/envs/symbolic_transformer/lib/python3.7/site-packages/torch/nn/parallel/_functions.py:68: UserWarning: Was asked to gather along dimension 0, but all input tensors were scalars; will instead unsqueeze and return a vector.\n",
            "  warnings.warn('Was asked to gather along dimension 0, but all '\n"
          ]
        },
        {
          "name": "stdout",
          "output_type": "stream",
          "text": [
            "\n",
            "→ Evaluation at epoch 48\n",
            "Evaluation Accuracy: 0.2695\n",
            "Evaluation Loss: 3.3979\n"
          ]
        },
        {
          "name": "stderr",
          "output_type": "stream",
          "text": [
            "/home/daniel/anaconda3/envs/symbolic_transformer/lib/python3.7/site-packages/torch/nn/parallel/_functions.py:68: UserWarning: Was asked to gather along dimension 0, but all input tensors were scalars; will instead unsqueeze and return a vector.\n",
            "  warnings.warn('Was asked to gather along dimension 0, but all '\n"
          ]
        },
        {
          "name": "stdout",
          "output_type": "stream",
          "text": [
            "\n",
            "→ Evaluation at epoch 49\n",
            "Evaluation Accuracy: 0.2730\n",
            "Evaluation Loss: 3.3938\n"
          ]
        },
        {
          "name": "stderr",
          "output_type": "stream",
          "text": [
            "/home/daniel/anaconda3/envs/symbolic_transformer/lib/python3.7/site-packages/torch/nn/parallel/_functions.py:68: UserWarning: Was asked to gather along dimension 0, but all input tensors were scalars; will instead unsqueeze and return a vector.\n",
            "  warnings.warn('Was asked to gather along dimension 0, but all '\n"
          ]
        },
        {
          "name": "stdout",
          "output_type": "stream",
          "text": [
            "\n",
            "→ Evaluation at epoch 50\n",
            "Evaluation Accuracy: 0.2730\n",
            "Evaluation Loss: 3.3965\n"
          ]
        },
        {
          "data": {
            "text/plain": [
              "TrainOutput(global_step=1800, training_loss=0.6856089952256944, metrics={'train_runtime': 262.0726, 'train_samples_per_second': 215.208, 'train_steps_per_second': 6.868, 'total_flos': 3710032427520000.0, 'train_loss': 0.6856089952256944, 'epoch': 50.0})"
            ]
          },
          "execution_count": 40,
          "metadata": {},
          "output_type": "execute_result"
        }
      ],
      "source": [
        "import evaluate\n",
        "import torch\n",
        "from transformers import TrainerCallback, TrainingArguments, Trainer\n",
        "from transformers.utils.notebook import NotebookProgressCallback\n",
        "\n",
        "# Métrica de avaliação\n",
        "accuracy = evaluate.load(\"accuracy\")\n",
        "\n",
        "def compute_metrics(eval_pred):\n",
        "    logits, labels = eval_pred\n",
        "    preds = torch.argmax(torch.tensor(logits), axis=-1)\n",
        "    return accuracy.compute(predictions=preds, references=labels)\n",
        "\n",
        "# Callback para salvar o melhor modelo com base na acurácia\n",
        "class EvalAndSaveBestModelCallback(TrainerCallback):\n",
        "    def __init__(self, save_path):\n",
        "        self.save_path = save_path\n",
        "        self.best_accuracy = 0.0\n",
        "\n",
        "    def on_evaluate(self, args, state, control, metrics=None, **kwargs):\n",
        "        acc = metrics.get(\"eval_accuracy\", 0.0)\n",
        "        loss = metrics.get(\"eval_loss\", None)\n",
        "\n",
        "        print(f\"\\n→ Evaluation at epoch {int(state.epoch)}\")\n",
        "        print(f\"Evaluation Accuracy: {acc:.4f}\")\n",
        "        if loss is not None:\n",
        "            print(f\"Evaluation Loss: {loss:.4f}\")\n",
        "\n",
        "        if acc > self.best_accuracy:\n",
        "            print(f\"→ New best accuracy! Saving model to {self.save_path}\")\n",
        "            self.best_accuracy = acc\n",
        "            self.trainer.save_model(self.save_path)\n",
        "            self.trainer.tokenizer.save_pretrained(self.save_path)\n",
        "\n",
        "# Caminho para salvar o melhor modelo\n",
        "save_best_model_path = \"./results/best_model_250603\"\n",
        "eval_callback = EvalAndSaveBestModelCallback(save_path=save_best_model_path)\n",
        "\n",
        "# Argumentos de treinamento\n",
        "training_args = TrainingArguments(\n",
        "    output_dir=\"./results\",\n",
        "    learning_rate=2e-5,\n",
        "    per_device_train_batch_size=16,\n",
        "    per_device_eval_batch_size=16,\n",
        "    num_train_epochs=50,\n",
        "    weight_decay=0.01,\n",
        "    logging_dir=\"./logs\",\n",
        "    report_to=\"none\",\n",
        "    evaluation_strategy=\"epoch\",  \n",
        "    save_strategy=\"no\",           \n",
        ")\n",
        "\n",
        "# Inicializa o Trainer\n",
        "trainer = Trainer(\n",
        "    model=model,\n",
        "    args=training_args,\n",
        "    train_dataset=tokenized_dataset[\"train\"],\n",
        "    eval_dataset=tokenized_dataset[\"test\"],\n",
        "    tokenizer=tokenizer,\n",
        "    compute_metrics=compute_metrics,\n",
        "    callbacks=[eval_callback],\n",
        ")\n",
        "\n",
        "# Vincula trainer ao callback\n",
        "eval_callback.trainer = trainer\n",
        "\n",
        "# Inicia o treinamento\n",
        "trainer.train()\n"
      ]
    },
    {
      "cell_type": "markdown",
      "metadata": {},
      "source": [
        "## Kfold"
      ]
    },
    {
      "cell_type": "code",
      "execution_count": 46,
      "metadata": {},
      "outputs": [
        {
          "name": "stdout",
          "output_type": "stream",
          "text": [
            "\n",
            "==== Fold 1/5 ====\n"
          ]
        },
        {
          "data": {
            "application/json": {
              "ascii": false,
              "bar_format": null,
              "colour": null,
              "elapsed": 0.007717609405517578,
              "initial": 0,
              "n": 0,
              "ncols": null,
              "nrows": null,
              "postfix": null,
              "prefix": "Map",
              "rate": null,
              "total": 1128,
              "unit": " examples",
              "unit_divisor": 1000,
              "unit_scale": false
            },
            "application/vnd.jupyter.widget-view+json": {
              "model_id": "5d195d86541c4654b7a170a8202bc1b0",
              "version_major": 2,
              "version_minor": 0
            },
            "text/plain": [
              "Map:   0%|          | 0/1128 [00:00<?, ? examples/s]"
            ]
          },
          "metadata": {},
          "output_type": "display_data"
        },
        {
          "data": {
            "application/json": {
              "ascii": false,
              "bar_format": null,
              "colour": null,
              "elapsed": 0.00469660758972168,
              "initial": 0,
              "n": 0,
              "ncols": null,
              "nrows": null,
              "postfix": null,
              "prefix": "Map",
              "rate": null,
              "total": 282,
              "unit": " examples",
              "unit_divisor": 1000,
              "unit_scale": false
            },
            "application/vnd.jupyter.widget-view+json": {
              "model_id": "78680f1d1fca464598b6e01ac3460ab5",
              "version_major": 2,
              "version_minor": 0
            },
            "text/plain": [
              "Map:   0%|          | 0/282 [00:00<?, ? examples/s]"
            ]
          },
          "metadata": {},
          "output_type": "display_data"
        },
        {
          "name": "stderr",
          "output_type": "stream",
          "text": [
            "Some weights of the model checkpoint at neuralmind/bert-base-portuguese-cased were not used when initializing BertForSequenceClassification: ['cls.predictions.transform.dense.bias', 'cls.predictions.transform.LayerNorm.bias', 'cls.predictions.bias', 'cls.predictions.decoder.weight', 'cls.predictions.transform.dense.weight', 'cls.seq_relationship.bias', 'cls.predictions.transform.LayerNorm.weight', 'cls.seq_relationship.weight']\n",
            "- This IS expected if you are initializing BertForSequenceClassification from the checkpoint of a model trained on another task or with another architecture (e.g. initializing a BertForSequenceClassification model from a BertForPreTraining model).\n",
            "- This IS NOT expected if you are initializing BertForSequenceClassification from the checkpoint of a model that you expect to be exactly identical (initializing a BertForSequenceClassification model from a BertForSequenceClassification model).\n",
            "Some weights of BertForSequenceClassification were not initialized from the model checkpoint at neuralmind/bert-base-portuguese-cased and are newly initialized: ['classifier.bias', 'classifier.weight']\n",
            "You should probably TRAIN this model on a down-stream task to be able to use it for predictions and inference.\n",
            "/home/daniel/anaconda3/envs/symbolic_transformer/lib/python3.7/site-packages/transformers/optimization.py:415: FutureWarning: This implementation of AdamW is deprecated and will be removed in a future version. Use the PyTorch implementation torch.optim.AdamW instead, or set `no_deprecation_warning=True` to disable this warning\n",
            "  FutureWarning,\n",
            "You're using a BertTokenizerFast tokenizer. Please note that with a fast tokenizer, using the `__call__` method is faster than using a method to encode the text followed by a call to the `pad` method to get a padded encoding.\n",
            "/home/daniel/anaconda3/envs/symbolic_transformer/lib/python3.7/site-packages/torch/nn/parallel/_functions.py:68: UserWarning: Was asked to gather along dimension 0, but all input tensors were scalars; will instead unsqueeze and return a vector.\n",
            "  warnings.warn('Was asked to gather along dimension 0, but all '\n"
          ]
        },
        {
          "data": {
            "text/html": [
              "\n",
              "    <div>\n",
              "      \n",
              "      <progress value='1800' max='1800' style='width:300px; height:20px; vertical-align: middle;'></progress>\n",
              "      [1800/1800 04:23, Epoch 50/50]\n",
              "    </div>\n",
              "    <table border=\"1\" class=\"dataframe\">\n",
              "  <thead>\n",
              " <tr style=\"text-align: left;\">\n",
              "      <th>Epoch</th>\n",
              "      <th>Training Loss</th>\n",
              "      <th>Validation Loss</th>\n",
              "      <th>Accuracy</th>\n",
              "    </tr>\n",
              "  </thead>\n",
              "  <tbody>\n",
              "    <tr>\n",
              "      <td>1</td>\n",
              "      <td>No log</td>\n",
              "      <td>1.816923</td>\n",
              "      <td>0.212766</td>\n",
              "    </tr>\n",
              "    <tr>\n",
              "      <td>2</td>\n",
              "      <td>No log</td>\n",
              "      <td>1.790872</td>\n",
              "      <td>0.234043</td>\n",
              "    </tr>\n",
              "    <tr>\n",
              "      <td>3</td>\n",
              "      <td>No log</td>\n",
              "      <td>1.765982</td>\n",
              "      <td>0.276596</td>\n",
              "    </tr>\n",
              "    <tr>\n",
              "      <td>4</td>\n",
              "      <td>No log</td>\n",
              "      <td>1.725673</td>\n",
              "      <td>0.301418</td>\n",
              "    </tr>\n",
              "    <tr>\n",
              "      <td>5</td>\n",
              "      <td>No log</td>\n",
              "      <td>1.746532</td>\n",
              "      <td>0.290780</td>\n",
              "    </tr>\n",
              "    <tr>\n",
              "      <td>6</td>\n",
              "      <td>No log</td>\n",
              "      <td>1.769729</td>\n",
              "      <td>0.336879</td>\n",
              "    </tr>\n",
              "    <tr>\n",
              "      <td>7</td>\n",
              "      <td>No log</td>\n",
              "      <td>1.778082</td>\n",
              "      <td>0.322695</td>\n",
              "    </tr>\n",
              "    <tr>\n",
              "      <td>8</td>\n",
              "      <td>No log</td>\n",
              "      <td>1.811076</td>\n",
              "      <td>0.301418</td>\n",
              "    </tr>\n",
              "    <tr>\n",
              "      <td>9</td>\n",
              "      <td>No log</td>\n",
              "      <td>1.825087</td>\n",
              "      <td>0.283688</td>\n",
              "    </tr>\n",
              "    <tr>\n",
              "      <td>10</td>\n",
              "      <td>No log</td>\n",
              "      <td>1.876462</td>\n",
              "      <td>0.273050</td>\n",
              "    </tr>\n",
              "    <tr>\n",
              "      <td>11</td>\n",
              "      <td>No log</td>\n",
              "      <td>1.922629</td>\n",
              "      <td>0.294326</td>\n",
              "    </tr>\n",
              "    <tr>\n",
              "      <td>12</td>\n",
              "      <td>No log</td>\n",
              "      <td>1.951529</td>\n",
              "      <td>0.276596</td>\n",
              "    </tr>\n",
              "    <tr>\n",
              "      <td>13</td>\n",
              "      <td>No log</td>\n",
              "      <td>2.068593</td>\n",
              "      <td>0.255319</td>\n",
              "    </tr>\n",
              "    <tr>\n",
              "      <td>14</td>\n",
              "      <td>1.486300</td>\n",
              "      <td>2.082328</td>\n",
              "      <td>0.287234</td>\n",
              "    </tr>\n",
              "    <tr>\n",
              "      <td>15</td>\n",
              "      <td>1.486300</td>\n",
              "      <td>2.153638</td>\n",
              "      <td>0.258865</td>\n",
              "    </tr>\n",
              "    <tr>\n",
              "      <td>16</td>\n",
              "      <td>1.486300</td>\n",
              "      <td>2.206745</td>\n",
              "      <td>0.273050</td>\n",
              "    </tr>\n",
              "    <tr>\n",
              "      <td>17</td>\n",
              "      <td>1.486300</td>\n",
              "      <td>2.253143</td>\n",
              "      <td>0.258865</td>\n",
              "    </tr>\n",
              "    <tr>\n",
              "      <td>18</td>\n",
              "      <td>1.486300</td>\n",
              "      <td>2.303762</td>\n",
              "      <td>0.255319</td>\n",
              "    </tr>\n",
              "    <tr>\n",
              "      <td>19</td>\n",
              "      <td>1.486300</td>\n",
              "      <td>2.394521</td>\n",
              "      <td>0.234043</td>\n",
              "    </tr>\n",
              "    <tr>\n",
              "      <td>20</td>\n",
              "      <td>1.486300</td>\n",
              "      <td>2.421825</td>\n",
              "      <td>0.262411</td>\n",
              "    </tr>\n",
              "    <tr>\n",
              "      <td>21</td>\n",
              "      <td>1.486300</td>\n",
              "      <td>2.466037</td>\n",
              "      <td>0.248227</td>\n",
              "    </tr>\n",
              "    <tr>\n",
              "      <td>22</td>\n",
              "      <td>1.486300</td>\n",
              "      <td>2.535426</td>\n",
              "      <td>0.241135</td>\n",
              "    </tr>\n",
              "    <tr>\n",
              "      <td>23</td>\n",
              "      <td>1.486300</td>\n",
              "      <td>2.544085</td>\n",
              "      <td>0.265957</td>\n",
              "    </tr>\n",
              "    <tr>\n",
              "      <td>24</td>\n",
              "      <td>1.486300</td>\n",
              "      <td>2.608507</td>\n",
              "      <td>0.255319</td>\n",
              "    </tr>\n",
              "    <tr>\n",
              "      <td>25</td>\n",
              "      <td>1.486300</td>\n",
              "      <td>2.630205</td>\n",
              "      <td>0.258865</td>\n",
              "    </tr>\n",
              "    <tr>\n",
              "      <td>26</td>\n",
              "      <td>1.486300</td>\n",
              "      <td>2.727189</td>\n",
              "      <td>0.248227</td>\n",
              "    </tr>\n",
              "    <tr>\n",
              "      <td>27</td>\n",
              "      <td>1.486300</td>\n",
              "      <td>2.765492</td>\n",
              "      <td>0.237589</td>\n",
              "    </tr>\n",
              "    <tr>\n",
              "      <td>28</td>\n",
              "      <td>0.750200</td>\n",
              "      <td>2.776185</td>\n",
              "      <td>0.244681</td>\n",
              "    </tr>\n",
              "    <tr>\n",
              "      <td>29</td>\n",
              "      <td>0.750200</td>\n",
              "      <td>2.797840</td>\n",
              "      <td>0.248227</td>\n",
              "    </tr>\n",
              "    <tr>\n",
              "      <td>30</td>\n",
              "      <td>0.750200</td>\n",
              "      <td>2.865104</td>\n",
              "      <td>0.251773</td>\n",
              "    </tr>\n",
              "    <tr>\n",
              "      <td>31</td>\n",
              "      <td>0.750200</td>\n",
              "      <td>2.912856</td>\n",
              "      <td>0.230496</td>\n",
              "    </tr>\n",
              "    <tr>\n",
              "      <td>32</td>\n",
              "      <td>0.750200</td>\n",
              "      <td>2.979167</td>\n",
              "      <td>0.241135</td>\n",
              "    </tr>\n",
              "    <tr>\n",
              "      <td>33</td>\n",
              "      <td>0.750200</td>\n",
              "      <td>3.001194</td>\n",
              "      <td>0.258865</td>\n",
              "    </tr>\n",
              "    <tr>\n",
              "      <td>34</td>\n",
              "      <td>0.750200</td>\n",
              "      <td>3.042395</td>\n",
              "      <td>0.251773</td>\n",
              "    </tr>\n",
              "    <tr>\n",
              "      <td>35</td>\n",
              "      <td>0.750200</td>\n",
              "      <td>3.032160</td>\n",
              "      <td>0.237589</td>\n",
              "    </tr>\n",
              "    <tr>\n",
              "      <td>36</td>\n",
              "      <td>0.750200</td>\n",
              "      <td>3.081300</td>\n",
              "      <td>0.258865</td>\n",
              "    </tr>\n",
              "    <tr>\n",
              "      <td>37</td>\n",
              "      <td>0.750200</td>\n",
              "      <td>3.166306</td>\n",
              "      <td>0.251773</td>\n",
              "    </tr>\n",
              "    <tr>\n",
              "      <td>38</td>\n",
              "      <td>0.750200</td>\n",
              "      <td>3.143538</td>\n",
              "      <td>0.255319</td>\n",
              "    </tr>\n",
              "    <tr>\n",
              "      <td>39</td>\n",
              "      <td>0.750200</td>\n",
              "      <td>3.188731</td>\n",
              "      <td>0.241135</td>\n",
              "    </tr>\n",
              "    <tr>\n",
              "      <td>40</td>\n",
              "      <td>0.750200</td>\n",
              "      <td>3.227262</td>\n",
              "      <td>0.251773</td>\n",
              "    </tr>\n",
              "    <tr>\n",
              "      <td>41</td>\n",
              "      <td>0.750200</td>\n",
              "      <td>3.201957</td>\n",
              "      <td>0.241135</td>\n",
              "    </tr>\n",
              "    <tr>\n",
              "      <td>42</td>\n",
              "      <td>0.316500</td>\n",
              "      <td>3.203477</td>\n",
              "      <td>0.234043</td>\n",
              "    </tr>\n",
              "    <tr>\n",
              "      <td>43</td>\n",
              "      <td>0.316500</td>\n",
              "      <td>3.266553</td>\n",
              "      <td>0.237589</td>\n",
              "    </tr>\n",
              "    <tr>\n",
              "      <td>44</td>\n",
              "      <td>0.316500</td>\n",
              "      <td>3.256859</td>\n",
              "      <td>0.241135</td>\n",
              "    </tr>\n",
              "    <tr>\n",
              "      <td>45</td>\n",
              "      <td>0.316500</td>\n",
              "      <td>3.250965</td>\n",
              "      <td>0.251773</td>\n",
              "    </tr>\n",
              "    <tr>\n",
              "      <td>46</td>\n",
              "      <td>0.316500</td>\n",
              "      <td>3.308307</td>\n",
              "      <td>0.248227</td>\n",
              "    </tr>\n",
              "    <tr>\n",
              "      <td>47</td>\n",
              "      <td>0.316500</td>\n",
              "      <td>3.316099</td>\n",
              "      <td>0.237589</td>\n",
              "    </tr>\n",
              "    <tr>\n",
              "      <td>48</td>\n",
              "      <td>0.316500</td>\n",
              "      <td>3.306099</td>\n",
              "      <td>0.248227</td>\n",
              "    </tr>\n",
              "    <tr>\n",
              "      <td>49</td>\n",
              "      <td>0.316500</td>\n",
              "      <td>3.304242</td>\n",
              "      <td>0.248227</td>\n",
              "    </tr>\n",
              "    <tr>\n",
              "      <td>50</td>\n",
              "      <td>0.316500</td>\n",
              "      <td>3.310915</td>\n",
              "      <td>0.244681</td>\n",
              "    </tr>\n",
              "  </tbody>\n",
              "</table><p>"
            ],
            "text/plain": [
              "<IPython.core.display.HTML object>"
            ]
          },
          "metadata": {},
          "output_type": "display_data"
        },
        {
          "name": "stdout",
          "output_type": "stream",
          "text": [
            "\n",
            "→ Evaluation at epoch 1\n",
            "Evaluation Accuracy: 0.2128\n",
            "Evaluation Loss: 1.8169\n",
            "→ New best accuracy! Saving model to ./results/best_model_250603/fold_1\n"
          ]
        },
        {
          "name": "stderr",
          "output_type": "stream",
          "text": [
            "/home/daniel/anaconda3/envs/symbolic_transformer/lib/python3.7/site-packages/torch/nn/parallel/_functions.py:68: UserWarning: Was asked to gather along dimension 0, but all input tensors were scalars; will instead unsqueeze and return a vector.\n",
            "  warnings.warn('Was asked to gather along dimension 0, but all '\n"
          ]
        },
        {
          "name": "stdout",
          "output_type": "stream",
          "text": [
            "\n",
            "→ Evaluation at epoch 2\n",
            "Evaluation Accuracy: 0.2340\n",
            "Evaluation Loss: 1.7909\n",
            "→ New best accuracy! Saving model to ./results/best_model_250603/fold_1\n"
          ]
        },
        {
          "name": "stderr",
          "output_type": "stream",
          "text": [
            "/home/daniel/anaconda3/envs/symbolic_transformer/lib/python3.7/site-packages/torch/nn/parallel/_functions.py:68: UserWarning: Was asked to gather along dimension 0, but all input tensors were scalars; will instead unsqueeze and return a vector.\n",
            "  warnings.warn('Was asked to gather along dimension 0, but all '\n"
          ]
        },
        {
          "name": "stdout",
          "output_type": "stream",
          "text": [
            "\n",
            "→ Evaluation at epoch 3\n",
            "Evaluation Accuracy: 0.2766\n",
            "Evaluation Loss: 1.7660\n",
            "→ New best accuracy! Saving model to ./results/best_model_250603/fold_1\n"
          ]
        },
        {
          "name": "stderr",
          "output_type": "stream",
          "text": [
            "/home/daniel/anaconda3/envs/symbolic_transformer/lib/python3.7/site-packages/torch/nn/parallel/_functions.py:68: UserWarning: Was asked to gather along dimension 0, but all input tensors were scalars; will instead unsqueeze and return a vector.\n",
            "  warnings.warn('Was asked to gather along dimension 0, but all '\n"
          ]
        },
        {
          "name": "stdout",
          "output_type": "stream",
          "text": [
            "\n",
            "→ Evaluation at epoch 4\n",
            "Evaluation Accuracy: 0.3014\n",
            "Evaluation Loss: 1.7257\n",
            "→ New best accuracy! Saving model to ./results/best_model_250603/fold_1\n"
          ]
        },
        {
          "name": "stderr",
          "output_type": "stream",
          "text": [
            "/home/daniel/anaconda3/envs/symbolic_transformer/lib/python3.7/site-packages/torch/nn/parallel/_functions.py:68: UserWarning: Was asked to gather along dimension 0, but all input tensors were scalars; will instead unsqueeze and return a vector.\n",
            "  warnings.warn('Was asked to gather along dimension 0, but all '\n"
          ]
        },
        {
          "name": "stdout",
          "output_type": "stream",
          "text": [
            "\n",
            "→ Evaluation at epoch 5\n",
            "Evaluation Accuracy: 0.2908\n",
            "Evaluation Loss: 1.7465\n"
          ]
        },
        {
          "name": "stderr",
          "output_type": "stream",
          "text": [
            "/home/daniel/anaconda3/envs/symbolic_transformer/lib/python3.7/site-packages/torch/nn/parallel/_functions.py:68: UserWarning: Was asked to gather along dimension 0, but all input tensors were scalars; will instead unsqueeze and return a vector.\n",
            "  warnings.warn('Was asked to gather along dimension 0, but all '\n"
          ]
        },
        {
          "name": "stdout",
          "output_type": "stream",
          "text": [
            "\n",
            "→ Evaluation at epoch 6\n",
            "Evaluation Accuracy: 0.3369\n",
            "Evaluation Loss: 1.7697\n",
            "→ New best accuracy! Saving model to ./results/best_model_250603/fold_1\n"
          ]
        },
        {
          "name": "stderr",
          "output_type": "stream",
          "text": [
            "/home/daniel/anaconda3/envs/symbolic_transformer/lib/python3.7/site-packages/torch/nn/parallel/_functions.py:68: UserWarning: Was asked to gather along dimension 0, but all input tensors were scalars; will instead unsqueeze and return a vector.\n",
            "  warnings.warn('Was asked to gather along dimension 0, but all '\n"
          ]
        },
        {
          "name": "stdout",
          "output_type": "stream",
          "text": [
            "\n",
            "→ Evaluation at epoch 7\n",
            "Evaluation Accuracy: 0.3227\n",
            "Evaluation Loss: 1.7781\n"
          ]
        },
        {
          "name": "stderr",
          "output_type": "stream",
          "text": [
            "/home/daniel/anaconda3/envs/symbolic_transformer/lib/python3.7/site-packages/torch/nn/parallel/_functions.py:68: UserWarning: Was asked to gather along dimension 0, but all input tensors were scalars; will instead unsqueeze and return a vector.\n",
            "  warnings.warn('Was asked to gather along dimension 0, but all '\n"
          ]
        },
        {
          "name": "stdout",
          "output_type": "stream",
          "text": [
            "\n",
            "→ Evaluation at epoch 8\n",
            "Evaluation Accuracy: 0.3014\n",
            "Evaluation Loss: 1.8111\n"
          ]
        },
        {
          "name": "stderr",
          "output_type": "stream",
          "text": [
            "/home/daniel/anaconda3/envs/symbolic_transformer/lib/python3.7/site-packages/torch/nn/parallel/_functions.py:68: UserWarning: Was asked to gather along dimension 0, but all input tensors were scalars; will instead unsqueeze and return a vector.\n",
            "  warnings.warn('Was asked to gather along dimension 0, but all '\n"
          ]
        },
        {
          "name": "stdout",
          "output_type": "stream",
          "text": [
            "\n",
            "→ Evaluation at epoch 9\n",
            "Evaluation Accuracy: 0.2837\n",
            "Evaluation Loss: 1.8251\n"
          ]
        },
        {
          "name": "stderr",
          "output_type": "stream",
          "text": [
            "/home/daniel/anaconda3/envs/symbolic_transformer/lib/python3.7/site-packages/torch/nn/parallel/_functions.py:68: UserWarning: Was asked to gather along dimension 0, but all input tensors were scalars; will instead unsqueeze and return a vector.\n",
            "  warnings.warn('Was asked to gather along dimension 0, but all '\n"
          ]
        },
        {
          "name": "stdout",
          "output_type": "stream",
          "text": [
            "\n",
            "→ Evaluation at epoch 10\n",
            "Evaluation Accuracy: 0.2730\n",
            "Evaluation Loss: 1.8765\n"
          ]
        },
        {
          "name": "stderr",
          "output_type": "stream",
          "text": [
            "/home/daniel/anaconda3/envs/symbolic_transformer/lib/python3.7/site-packages/torch/nn/parallel/_functions.py:68: UserWarning: Was asked to gather along dimension 0, but all input tensors were scalars; will instead unsqueeze and return a vector.\n",
            "  warnings.warn('Was asked to gather along dimension 0, but all '\n"
          ]
        },
        {
          "name": "stdout",
          "output_type": "stream",
          "text": [
            "\n",
            "→ Evaluation at epoch 11\n",
            "Evaluation Accuracy: 0.2943\n",
            "Evaluation Loss: 1.9226\n"
          ]
        },
        {
          "name": "stderr",
          "output_type": "stream",
          "text": [
            "/home/daniel/anaconda3/envs/symbolic_transformer/lib/python3.7/site-packages/torch/nn/parallel/_functions.py:68: UserWarning: Was asked to gather along dimension 0, but all input tensors were scalars; will instead unsqueeze and return a vector.\n",
            "  warnings.warn('Was asked to gather along dimension 0, but all '\n"
          ]
        },
        {
          "name": "stdout",
          "output_type": "stream",
          "text": [
            "\n",
            "→ Evaluation at epoch 12\n",
            "Evaluation Accuracy: 0.2766\n",
            "Evaluation Loss: 1.9515\n"
          ]
        },
        {
          "name": "stderr",
          "output_type": "stream",
          "text": [
            "/home/daniel/anaconda3/envs/symbolic_transformer/lib/python3.7/site-packages/torch/nn/parallel/_functions.py:68: UserWarning: Was asked to gather along dimension 0, but all input tensors were scalars; will instead unsqueeze and return a vector.\n",
            "  warnings.warn('Was asked to gather along dimension 0, but all '\n"
          ]
        },
        {
          "name": "stdout",
          "output_type": "stream",
          "text": [
            "\n",
            "→ Evaluation at epoch 13\n",
            "Evaluation Accuracy: 0.2553\n",
            "Evaluation Loss: 2.0686\n"
          ]
        },
        {
          "name": "stderr",
          "output_type": "stream",
          "text": [
            "/home/daniel/anaconda3/envs/symbolic_transformer/lib/python3.7/site-packages/torch/nn/parallel/_functions.py:68: UserWarning: Was asked to gather along dimension 0, but all input tensors were scalars; will instead unsqueeze and return a vector.\n",
            "  warnings.warn('Was asked to gather along dimension 0, but all '\n"
          ]
        },
        {
          "name": "stdout",
          "output_type": "stream",
          "text": [
            "\n",
            "→ Evaluation at epoch 14\n",
            "Evaluation Accuracy: 0.2872\n",
            "Evaluation Loss: 2.0823\n"
          ]
        },
        {
          "name": "stderr",
          "output_type": "stream",
          "text": [
            "/home/daniel/anaconda3/envs/symbolic_transformer/lib/python3.7/site-packages/torch/nn/parallel/_functions.py:68: UserWarning: Was asked to gather along dimension 0, but all input tensors were scalars; will instead unsqueeze and return a vector.\n",
            "  warnings.warn('Was asked to gather along dimension 0, but all '\n"
          ]
        },
        {
          "name": "stdout",
          "output_type": "stream",
          "text": [
            "\n",
            "→ Evaluation at epoch 15\n",
            "Evaluation Accuracy: 0.2589\n",
            "Evaluation Loss: 2.1536\n"
          ]
        },
        {
          "name": "stderr",
          "output_type": "stream",
          "text": [
            "/home/daniel/anaconda3/envs/symbolic_transformer/lib/python3.7/site-packages/torch/nn/parallel/_functions.py:68: UserWarning: Was asked to gather along dimension 0, but all input tensors were scalars; will instead unsqueeze and return a vector.\n",
            "  warnings.warn('Was asked to gather along dimension 0, but all '\n"
          ]
        },
        {
          "name": "stdout",
          "output_type": "stream",
          "text": [
            "\n",
            "→ Evaluation at epoch 16\n",
            "Evaluation Accuracy: 0.2730\n",
            "Evaluation Loss: 2.2067\n"
          ]
        },
        {
          "name": "stderr",
          "output_type": "stream",
          "text": [
            "/home/daniel/anaconda3/envs/symbolic_transformer/lib/python3.7/site-packages/torch/nn/parallel/_functions.py:68: UserWarning: Was asked to gather along dimension 0, but all input tensors were scalars; will instead unsqueeze and return a vector.\n",
            "  warnings.warn('Was asked to gather along dimension 0, but all '\n"
          ]
        },
        {
          "name": "stdout",
          "output_type": "stream",
          "text": [
            "\n",
            "→ Evaluation at epoch 17\n",
            "Evaluation Accuracy: 0.2589\n",
            "Evaluation Loss: 2.2531\n"
          ]
        },
        {
          "name": "stderr",
          "output_type": "stream",
          "text": [
            "/home/daniel/anaconda3/envs/symbolic_transformer/lib/python3.7/site-packages/torch/nn/parallel/_functions.py:68: UserWarning: Was asked to gather along dimension 0, but all input tensors were scalars; will instead unsqueeze and return a vector.\n",
            "  warnings.warn('Was asked to gather along dimension 0, but all '\n"
          ]
        },
        {
          "name": "stdout",
          "output_type": "stream",
          "text": [
            "\n",
            "→ Evaluation at epoch 18\n",
            "Evaluation Accuracy: 0.2553\n",
            "Evaluation Loss: 2.3038\n"
          ]
        },
        {
          "name": "stderr",
          "output_type": "stream",
          "text": [
            "/home/daniel/anaconda3/envs/symbolic_transformer/lib/python3.7/site-packages/torch/nn/parallel/_functions.py:68: UserWarning: Was asked to gather along dimension 0, but all input tensors were scalars; will instead unsqueeze and return a vector.\n",
            "  warnings.warn('Was asked to gather along dimension 0, but all '\n"
          ]
        },
        {
          "name": "stdout",
          "output_type": "stream",
          "text": [
            "\n",
            "→ Evaluation at epoch 19\n",
            "Evaluation Accuracy: 0.2340\n",
            "Evaluation Loss: 2.3945\n"
          ]
        },
        {
          "name": "stderr",
          "output_type": "stream",
          "text": [
            "/home/daniel/anaconda3/envs/symbolic_transformer/lib/python3.7/site-packages/torch/nn/parallel/_functions.py:68: UserWarning: Was asked to gather along dimension 0, but all input tensors were scalars; will instead unsqueeze and return a vector.\n",
            "  warnings.warn('Was asked to gather along dimension 0, but all '\n"
          ]
        },
        {
          "name": "stdout",
          "output_type": "stream",
          "text": [
            "\n",
            "→ Evaluation at epoch 20\n",
            "Evaluation Accuracy: 0.2624\n",
            "Evaluation Loss: 2.4218\n"
          ]
        },
        {
          "name": "stderr",
          "output_type": "stream",
          "text": [
            "/home/daniel/anaconda3/envs/symbolic_transformer/lib/python3.7/site-packages/torch/nn/parallel/_functions.py:68: UserWarning: Was asked to gather along dimension 0, but all input tensors were scalars; will instead unsqueeze and return a vector.\n",
            "  warnings.warn('Was asked to gather along dimension 0, but all '\n"
          ]
        },
        {
          "name": "stdout",
          "output_type": "stream",
          "text": [
            "\n",
            "→ Evaluation at epoch 21\n",
            "Evaluation Accuracy: 0.2482\n",
            "Evaluation Loss: 2.4660\n"
          ]
        },
        {
          "name": "stderr",
          "output_type": "stream",
          "text": [
            "/home/daniel/anaconda3/envs/symbolic_transformer/lib/python3.7/site-packages/torch/nn/parallel/_functions.py:68: UserWarning: Was asked to gather along dimension 0, but all input tensors were scalars; will instead unsqueeze and return a vector.\n",
            "  warnings.warn('Was asked to gather along dimension 0, but all '\n"
          ]
        },
        {
          "name": "stdout",
          "output_type": "stream",
          "text": [
            "\n",
            "→ Evaluation at epoch 22\n",
            "Evaluation Accuracy: 0.2411\n",
            "Evaluation Loss: 2.5354\n"
          ]
        },
        {
          "name": "stderr",
          "output_type": "stream",
          "text": [
            "/home/daniel/anaconda3/envs/symbolic_transformer/lib/python3.7/site-packages/torch/nn/parallel/_functions.py:68: UserWarning: Was asked to gather along dimension 0, but all input tensors were scalars; will instead unsqueeze and return a vector.\n",
            "  warnings.warn('Was asked to gather along dimension 0, but all '\n"
          ]
        },
        {
          "name": "stdout",
          "output_type": "stream",
          "text": [
            "\n",
            "→ Evaluation at epoch 23\n",
            "Evaluation Accuracy: 0.2660\n",
            "Evaluation Loss: 2.5441\n"
          ]
        },
        {
          "name": "stderr",
          "output_type": "stream",
          "text": [
            "/home/daniel/anaconda3/envs/symbolic_transformer/lib/python3.7/site-packages/torch/nn/parallel/_functions.py:68: UserWarning: Was asked to gather along dimension 0, but all input tensors were scalars; will instead unsqueeze and return a vector.\n",
            "  warnings.warn('Was asked to gather along dimension 0, but all '\n"
          ]
        },
        {
          "name": "stdout",
          "output_type": "stream",
          "text": [
            "\n",
            "→ Evaluation at epoch 24\n",
            "Evaluation Accuracy: 0.2553\n",
            "Evaluation Loss: 2.6085\n"
          ]
        },
        {
          "name": "stderr",
          "output_type": "stream",
          "text": [
            "/home/daniel/anaconda3/envs/symbolic_transformer/lib/python3.7/site-packages/torch/nn/parallel/_functions.py:68: UserWarning: Was asked to gather along dimension 0, but all input tensors were scalars; will instead unsqueeze and return a vector.\n",
            "  warnings.warn('Was asked to gather along dimension 0, but all '\n"
          ]
        },
        {
          "name": "stdout",
          "output_type": "stream",
          "text": [
            "\n",
            "→ Evaluation at epoch 25\n",
            "Evaluation Accuracy: 0.2589\n",
            "Evaluation Loss: 2.6302\n"
          ]
        },
        {
          "name": "stderr",
          "output_type": "stream",
          "text": [
            "/home/daniel/anaconda3/envs/symbolic_transformer/lib/python3.7/site-packages/torch/nn/parallel/_functions.py:68: UserWarning: Was asked to gather along dimension 0, but all input tensors were scalars; will instead unsqueeze and return a vector.\n",
            "  warnings.warn('Was asked to gather along dimension 0, but all '\n"
          ]
        },
        {
          "name": "stdout",
          "output_type": "stream",
          "text": [
            "\n",
            "→ Evaluation at epoch 26\n",
            "Evaluation Accuracy: 0.2482\n",
            "Evaluation Loss: 2.7272\n"
          ]
        },
        {
          "name": "stderr",
          "output_type": "stream",
          "text": [
            "/home/daniel/anaconda3/envs/symbolic_transformer/lib/python3.7/site-packages/torch/nn/parallel/_functions.py:68: UserWarning: Was asked to gather along dimension 0, but all input tensors were scalars; will instead unsqueeze and return a vector.\n",
            "  warnings.warn('Was asked to gather along dimension 0, but all '\n"
          ]
        },
        {
          "name": "stdout",
          "output_type": "stream",
          "text": [
            "\n",
            "→ Evaluation at epoch 27\n",
            "Evaluation Accuracy: 0.2376\n",
            "Evaluation Loss: 2.7655\n"
          ]
        },
        {
          "name": "stderr",
          "output_type": "stream",
          "text": [
            "/home/daniel/anaconda3/envs/symbolic_transformer/lib/python3.7/site-packages/torch/nn/parallel/_functions.py:68: UserWarning: Was asked to gather along dimension 0, but all input tensors were scalars; will instead unsqueeze and return a vector.\n",
            "  warnings.warn('Was asked to gather along dimension 0, but all '\n"
          ]
        },
        {
          "name": "stdout",
          "output_type": "stream",
          "text": [
            "\n",
            "→ Evaluation at epoch 28\n",
            "Evaluation Accuracy: 0.2447\n",
            "Evaluation Loss: 2.7762\n"
          ]
        },
        {
          "name": "stderr",
          "output_type": "stream",
          "text": [
            "/home/daniel/anaconda3/envs/symbolic_transformer/lib/python3.7/site-packages/torch/nn/parallel/_functions.py:68: UserWarning: Was asked to gather along dimension 0, but all input tensors were scalars; will instead unsqueeze and return a vector.\n",
            "  warnings.warn('Was asked to gather along dimension 0, but all '\n"
          ]
        },
        {
          "name": "stdout",
          "output_type": "stream",
          "text": [
            "\n",
            "→ Evaluation at epoch 29\n",
            "Evaluation Accuracy: 0.2482\n",
            "Evaluation Loss: 2.7978\n"
          ]
        },
        {
          "name": "stderr",
          "output_type": "stream",
          "text": [
            "/home/daniel/anaconda3/envs/symbolic_transformer/lib/python3.7/site-packages/torch/nn/parallel/_functions.py:68: UserWarning: Was asked to gather along dimension 0, but all input tensors were scalars; will instead unsqueeze and return a vector.\n",
            "  warnings.warn('Was asked to gather along dimension 0, but all '\n"
          ]
        },
        {
          "name": "stdout",
          "output_type": "stream",
          "text": [
            "\n",
            "→ Evaluation at epoch 30\n",
            "Evaluation Accuracy: 0.2518\n",
            "Evaluation Loss: 2.8651\n"
          ]
        },
        {
          "name": "stderr",
          "output_type": "stream",
          "text": [
            "/home/daniel/anaconda3/envs/symbolic_transformer/lib/python3.7/site-packages/torch/nn/parallel/_functions.py:68: UserWarning: Was asked to gather along dimension 0, but all input tensors were scalars; will instead unsqueeze and return a vector.\n",
            "  warnings.warn('Was asked to gather along dimension 0, but all '\n"
          ]
        },
        {
          "name": "stdout",
          "output_type": "stream",
          "text": [
            "\n",
            "→ Evaluation at epoch 31\n",
            "Evaluation Accuracy: 0.2305\n",
            "Evaluation Loss: 2.9129\n"
          ]
        },
        {
          "name": "stderr",
          "output_type": "stream",
          "text": [
            "/home/daniel/anaconda3/envs/symbolic_transformer/lib/python3.7/site-packages/torch/nn/parallel/_functions.py:68: UserWarning: Was asked to gather along dimension 0, but all input tensors were scalars; will instead unsqueeze and return a vector.\n",
            "  warnings.warn('Was asked to gather along dimension 0, but all '\n"
          ]
        },
        {
          "name": "stdout",
          "output_type": "stream",
          "text": [
            "\n",
            "→ Evaluation at epoch 32\n",
            "Evaluation Accuracy: 0.2411\n",
            "Evaluation Loss: 2.9792\n"
          ]
        },
        {
          "name": "stderr",
          "output_type": "stream",
          "text": [
            "/home/daniel/anaconda3/envs/symbolic_transformer/lib/python3.7/site-packages/torch/nn/parallel/_functions.py:68: UserWarning: Was asked to gather along dimension 0, but all input tensors were scalars; will instead unsqueeze and return a vector.\n",
            "  warnings.warn('Was asked to gather along dimension 0, but all '\n"
          ]
        },
        {
          "name": "stdout",
          "output_type": "stream",
          "text": [
            "\n",
            "→ Evaluation at epoch 33\n",
            "Evaluation Accuracy: 0.2589\n",
            "Evaluation Loss: 3.0012\n"
          ]
        },
        {
          "name": "stderr",
          "output_type": "stream",
          "text": [
            "/home/daniel/anaconda3/envs/symbolic_transformer/lib/python3.7/site-packages/torch/nn/parallel/_functions.py:68: UserWarning: Was asked to gather along dimension 0, but all input tensors were scalars; will instead unsqueeze and return a vector.\n",
            "  warnings.warn('Was asked to gather along dimension 0, but all '\n"
          ]
        },
        {
          "name": "stdout",
          "output_type": "stream",
          "text": [
            "\n",
            "→ Evaluation at epoch 34\n",
            "Evaluation Accuracy: 0.2518\n",
            "Evaluation Loss: 3.0424\n"
          ]
        },
        {
          "name": "stderr",
          "output_type": "stream",
          "text": [
            "/home/daniel/anaconda3/envs/symbolic_transformer/lib/python3.7/site-packages/torch/nn/parallel/_functions.py:68: UserWarning: Was asked to gather along dimension 0, but all input tensors were scalars; will instead unsqueeze and return a vector.\n",
            "  warnings.warn('Was asked to gather along dimension 0, but all '\n"
          ]
        },
        {
          "name": "stdout",
          "output_type": "stream",
          "text": [
            "\n",
            "→ Evaluation at epoch 35\n",
            "Evaluation Accuracy: 0.2376\n",
            "Evaluation Loss: 3.0322\n"
          ]
        },
        {
          "name": "stderr",
          "output_type": "stream",
          "text": [
            "/home/daniel/anaconda3/envs/symbolic_transformer/lib/python3.7/site-packages/torch/nn/parallel/_functions.py:68: UserWarning: Was asked to gather along dimension 0, but all input tensors were scalars; will instead unsqueeze and return a vector.\n",
            "  warnings.warn('Was asked to gather along dimension 0, but all '\n"
          ]
        },
        {
          "name": "stdout",
          "output_type": "stream",
          "text": [
            "\n",
            "→ Evaluation at epoch 36\n",
            "Evaluation Accuracy: 0.2589\n",
            "Evaluation Loss: 3.0813\n"
          ]
        },
        {
          "name": "stderr",
          "output_type": "stream",
          "text": [
            "/home/daniel/anaconda3/envs/symbolic_transformer/lib/python3.7/site-packages/torch/nn/parallel/_functions.py:68: UserWarning: Was asked to gather along dimension 0, but all input tensors were scalars; will instead unsqueeze and return a vector.\n",
            "  warnings.warn('Was asked to gather along dimension 0, but all '\n"
          ]
        },
        {
          "name": "stdout",
          "output_type": "stream",
          "text": [
            "\n",
            "→ Evaluation at epoch 37\n",
            "Evaluation Accuracy: 0.2518\n",
            "Evaluation Loss: 3.1663\n"
          ]
        },
        {
          "name": "stderr",
          "output_type": "stream",
          "text": [
            "/home/daniel/anaconda3/envs/symbolic_transformer/lib/python3.7/site-packages/torch/nn/parallel/_functions.py:68: UserWarning: Was asked to gather along dimension 0, but all input tensors were scalars; will instead unsqueeze and return a vector.\n",
            "  warnings.warn('Was asked to gather along dimension 0, but all '\n"
          ]
        },
        {
          "name": "stdout",
          "output_type": "stream",
          "text": [
            "\n",
            "→ Evaluation at epoch 38\n",
            "Evaluation Accuracy: 0.2553\n",
            "Evaluation Loss: 3.1435\n"
          ]
        },
        {
          "name": "stderr",
          "output_type": "stream",
          "text": [
            "/home/daniel/anaconda3/envs/symbolic_transformer/lib/python3.7/site-packages/torch/nn/parallel/_functions.py:68: UserWarning: Was asked to gather along dimension 0, but all input tensors were scalars; will instead unsqueeze and return a vector.\n",
            "  warnings.warn('Was asked to gather along dimension 0, but all '\n"
          ]
        },
        {
          "name": "stdout",
          "output_type": "stream",
          "text": [
            "\n",
            "→ Evaluation at epoch 39\n",
            "Evaluation Accuracy: 0.2411\n",
            "Evaluation Loss: 3.1887\n"
          ]
        },
        {
          "name": "stderr",
          "output_type": "stream",
          "text": [
            "/home/daniel/anaconda3/envs/symbolic_transformer/lib/python3.7/site-packages/torch/nn/parallel/_functions.py:68: UserWarning: Was asked to gather along dimension 0, but all input tensors were scalars; will instead unsqueeze and return a vector.\n",
            "  warnings.warn('Was asked to gather along dimension 0, but all '\n"
          ]
        },
        {
          "name": "stdout",
          "output_type": "stream",
          "text": [
            "\n",
            "→ Evaluation at epoch 40\n",
            "Evaluation Accuracy: 0.2518\n",
            "Evaluation Loss: 3.2273\n"
          ]
        },
        {
          "name": "stderr",
          "output_type": "stream",
          "text": [
            "/home/daniel/anaconda3/envs/symbolic_transformer/lib/python3.7/site-packages/torch/nn/parallel/_functions.py:68: UserWarning: Was asked to gather along dimension 0, but all input tensors were scalars; will instead unsqueeze and return a vector.\n",
            "  warnings.warn('Was asked to gather along dimension 0, but all '\n"
          ]
        },
        {
          "name": "stdout",
          "output_type": "stream",
          "text": [
            "\n",
            "→ Evaluation at epoch 41\n",
            "Evaluation Accuracy: 0.2411\n",
            "Evaluation Loss: 3.2020\n"
          ]
        },
        {
          "name": "stderr",
          "output_type": "stream",
          "text": [
            "/home/daniel/anaconda3/envs/symbolic_transformer/lib/python3.7/site-packages/torch/nn/parallel/_functions.py:68: UserWarning: Was asked to gather along dimension 0, but all input tensors were scalars; will instead unsqueeze and return a vector.\n",
            "  warnings.warn('Was asked to gather along dimension 0, but all '\n"
          ]
        },
        {
          "name": "stdout",
          "output_type": "stream",
          "text": [
            "\n",
            "→ Evaluation at epoch 42\n",
            "Evaluation Accuracy: 0.2340\n",
            "Evaluation Loss: 3.2035\n"
          ]
        },
        {
          "name": "stderr",
          "output_type": "stream",
          "text": [
            "/home/daniel/anaconda3/envs/symbolic_transformer/lib/python3.7/site-packages/torch/nn/parallel/_functions.py:68: UserWarning: Was asked to gather along dimension 0, but all input tensors were scalars; will instead unsqueeze and return a vector.\n",
            "  warnings.warn('Was asked to gather along dimension 0, but all '\n"
          ]
        },
        {
          "name": "stdout",
          "output_type": "stream",
          "text": [
            "\n",
            "→ Evaluation at epoch 43\n",
            "Evaluation Accuracy: 0.2376\n",
            "Evaluation Loss: 3.2666\n"
          ]
        },
        {
          "name": "stderr",
          "output_type": "stream",
          "text": [
            "/home/daniel/anaconda3/envs/symbolic_transformer/lib/python3.7/site-packages/torch/nn/parallel/_functions.py:68: UserWarning: Was asked to gather along dimension 0, but all input tensors were scalars; will instead unsqueeze and return a vector.\n",
            "  warnings.warn('Was asked to gather along dimension 0, but all '\n"
          ]
        },
        {
          "name": "stdout",
          "output_type": "stream",
          "text": [
            "\n",
            "→ Evaluation at epoch 44\n",
            "Evaluation Accuracy: 0.2411\n",
            "Evaluation Loss: 3.2569\n"
          ]
        },
        {
          "name": "stderr",
          "output_type": "stream",
          "text": [
            "/home/daniel/anaconda3/envs/symbolic_transformer/lib/python3.7/site-packages/torch/nn/parallel/_functions.py:68: UserWarning: Was asked to gather along dimension 0, but all input tensors were scalars; will instead unsqueeze and return a vector.\n",
            "  warnings.warn('Was asked to gather along dimension 0, but all '\n"
          ]
        },
        {
          "name": "stdout",
          "output_type": "stream",
          "text": [
            "\n",
            "→ Evaluation at epoch 45\n",
            "Evaluation Accuracy: 0.2518\n",
            "Evaluation Loss: 3.2510\n"
          ]
        },
        {
          "name": "stderr",
          "output_type": "stream",
          "text": [
            "/home/daniel/anaconda3/envs/symbolic_transformer/lib/python3.7/site-packages/torch/nn/parallel/_functions.py:68: UserWarning: Was asked to gather along dimension 0, but all input tensors were scalars; will instead unsqueeze and return a vector.\n",
            "  warnings.warn('Was asked to gather along dimension 0, but all '\n"
          ]
        },
        {
          "name": "stdout",
          "output_type": "stream",
          "text": [
            "\n",
            "→ Evaluation at epoch 46\n",
            "Evaluation Accuracy: 0.2482\n",
            "Evaluation Loss: 3.3083\n"
          ]
        },
        {
          "name": "stderr",
          "output_type": "stream",
          "text": [
            "/home/daniel/anaconda3/envs/symbolic_transformer/lib/python3.7/site-packages/torch/nn/parallel/_functions.py:68: UserWarning: Was asked to gather along dimension 0, but all input tensors were scalars; will instead unsqueeze and return a vector.\n",
            "  warnings.warn('Was asked to gather along dimension 0, but all '\n"
          ]
        },
        {
          "name": "stdout",
          "output_type": "stream",
          "text": [
            "\n",
            "→ Evaluation at epoch 47\n",
            "Evaluation Accuracy: 0.2376\n",
            "Evaluation Loss: 3.3161\n"
          ]
        },
        {
          "name": "stderr",
          "output_type": "stream",
          "text": [
            "/home/daniel/anaconda3/envs/symbolic_transformer/lib/python3.7/site-packages/torch/nn/parallel/_functions.py:68: UserWarning: Was asked to gather along dimension 0, but all input tensors were scalars; will instead unsqueeze and return a vector.\n",
            "  warnings.warn('Was asked to gather along dimension 0, but all '\n"
          ]
        },
        {
          "name": "stdout",
          "output_type": "stream",
          "text": [
            "\n",
            "→ Evaluation at epoch 48\n",
            "Evaluation Accuracy: 0.2482\n",
            "Evaluation Loss: 3.3061\n"
          ]
        },
        {
          "name": "stderr",
          "output_type": "stream",
          "text": [
            "/home/daniel/anaconda3/envs/symbolic_transformer/lib/python3.7/site-packages/torch/nn/parallel/_functions.py:68: UserWarning: Was asked to gather along dimension 0, but all input tensors were scalars; will instead unsqueeze and return a vector.\n",
            "  warnings.warn('Was asked to gather along dimension 0, but all '\n"
          ]
        },
        {
          "name": "stdout",
          "output_type": "stream",
          "text": [
            "\n",
            "→ Evaluation at epoch 49\n",
            "Evaluation Accuracy: 0.2482\n",
            "Evaluation Loss: 3.3042\n"
          ]
        },
        {
          "name": "stderr",
          "output_type": "stream",
          "text": [
            "/home/daniel/anaconda3/envs/symbolic_transformer/lib/python3.7/site-packages/torch/nn/parallel/_functions.py:68: UserWarning: Was asked to gather along dimension 0, but all input tensors were scalars; will instead unsqueeze and return a vector.\n",
            "  warnings.warn('Was asked to gather along dimension 0, but all '\n"
          ]
        },
        {
          "name": "stdout",
          "output_type": "stream",
          "text": [
            "\n",
            "→ Evaluation at epoch 50\n",
            "Evaluation Accuracy: 0.2447\n",
            "Evaluation Loss: 3.3109\n",
            "\n",
            "==== Fold 2/5 ====\n"
          ]
        },
        {
          "data": {
            "application/json": {
              "ascii": false,
              "bar_format": null,
              "colour": null,
              "elapsed": 0.009232044219970703,
              "initial": 0,
              "n": 0,
              "ncols": null,
              "nrows": null,
              "postfix": null,
              "prefix": "Map",
              "rate": null,
              "total": 1128,
              "unit": " examples",
              "unit_divisor": 1000,
              "unit_scale": false
            },
            "application/vnd.jupyter.widget-view+json": {
              "model_id": "0d872bed47524bcc8707521aef438264",
              "version_major": 2,
              "version_minor": 0
            },
            "text/plain": [
              "Map:   0%|          | 0/1128 [00:00<?, ? examples/s]"
            ]
          },
          "metadata": {},
          "output_type": "display_data"
        },
        {
          "data": {
            "application/json": {
              "ascii": false,
              "bar_format": null,
              "colour": null,
              "elapsed": 0.004683971405029297,
              "initial": 0,
              "n": 0,
              "ncols": null,
              "nrows": null,
              "postfix": null,
              "prefix": "Map",
              "rate": null,
              "total": 282,
              "unit": " examples",
              "unit_divisor": 1000,
              "unit_scale": false
            },
            "application/vnd.jupyter.widget-view+json": {
              "model_id": "bb90ee8280124ee29afda0b3ae7b4455",
              "version_major": 2,
              "version_minor": 0
            },
            "text/plain": [
              "Map:   0%|          | 0/282 [00:00<?, ? examples/s]"
            ]
          },
          "metadata": {},
          "output_type": "display_data"
        },
        {
          "name": "stderr",
          "output_type": "stream",
          "text": [
            "Some weights of the model checkpoint at neuralmind/bert-base-portuguese-cased were not used when initializing BertForSequenceClassification: ['cls.predictions.transform.dense.bias', 'cls.predictions.transform.LayerNorm.bias', 'cls.predictions.bias', 'cls.predictions.decoder.weight', 'cls.predictions.transform.dense.weight', 'cls.seq_relationship.bias', 'cls.predictions.transform.LayerNorm.weight', 'cls.seq_relationship.weight']\n",
            "- This IS expected if you are initializing BertForSequenceClassification from the checkpoint of a model trained on another task or with another architecture (e.g. initializing a BertForSequenceClassification model from a BertForPreTraining model).\n",
            "- This IS NOT expected if you are initializing BertForSequenceClassification from the checkpoint of a model that you expect to be exactly identical (initializing a BertForSequenceClassification model from a BertForSequenceClassification model).\n",
            "Some weights of BertForSequenceClassification were not initialized from the model checkpoint at neuralmind/bert-base-portuguese-cased and are newly initialized: ['classifier.bias', 'classifier.weight']\n",
            "You should probably TRAIN this model on a down-stream task to be able to use it for predictions and inference.\n",
            "/home/daniel/anaconda3/envs/symbolic_transformer/lib/python3.7/site-packages/transformers/optimization.py:415: FutureWarning: This implementation of AdamW is deprecated and will be removed in a future version. Use the PyTorch implementation torch.optim.AdamW instead, or set `no_deprecation_warning=True` to disable this warning\n",
            "  FutureWarning,\n",
            "/home/daniel/anaconda3/envs/symbolic_transformer/lib/python3.7/site-packages/torch/nn/parallel/_functions.py:68: UserWarning: Was asked to gather along dimension 0, but all input tensors were scalars; will instead unsqueeze and return a vector.\n",
            "  warnings.warn('Was asked to gather along dimension 0, but all '\n"
          ]
        },
        {
          "data": {
            "text/html": [
              "\n",
              "    <div>\n",
              "      \n",
              "      <progress value='1800' max='1800' style='width:300px; height:20px; vertical-align: middle;'></progress>\n",
              "      [1800/1800 04:22, Epoch 50/50]\n",
              "    </div>\n",
              "    <table border=\"1\" class=\"dataframe\">\n",
              "  <thead>\n",
              " <tr style=\"text-align: left;\">\n",
              "      <th>Epoch</th>\n",
              "      <th>Training Loss</th>\n",
              "      <th>Validation Loss</th>\n",
              "      <th>Accuracy</th>\n",
              "    </tr>\n",
              "  </thead>\n",
              "  <tbody>\n",
              "    <tr>\n",
              "      <td>1</td>\n",
              "      <td>No log</td>\n",
              "      <td>1.771153</td>\n",
              "      <td>0.166667</td>\n",
              "    </tr>\n",
              "    <tr>\n",
              "      <td>2</td>\n",
              "      <td>No log</td>\n",
              "      <td>1.735921</td>\n",
              "      <td>0.287234</td>\n",
              "    </tr>\n",
              "    <tr>\n",
              "      <td>3</td>\n",
              "      <td>No log</td>\n",
              "      <td>1.750481</td>\n",
              "      <td>0.237589</td>\n",
              "    </tr>\n",
              "    <tr>\n",
              "      <td>4</td>\n",
              "      <td>No log</td>\n",
              "      <td>1.716604</td>\n",
              "      <td>0.280142</td>\n",
              "    </tr>\n",
              "    <tr>\n",
              "      <td>5</td>\n",
              "      <td>No log</td>\n",
              "      <td>1.696218</td>\n",
              "      <td>0.308511</td>\n",
              "    </tr>\n",
              "    <tr>\n",
              "      <td>6</td>\n",
              "      <td>No log</td>\n",
              "      <td>1.711199</td>\n",
              "      <td>0.308511</td>\n",
              "    </tr>\n",
              "    <tr>\n",
              "      <td>7</td>\n",
              "      <td>No log</td>\n",
              "      <td>1.735022</td>\n",
              "      <td>0.283688</td>\n",
              "    </tr>\n",
              "    <tr>\n",
              "      <td>8</td>\n",
              "      <td>No log</td>\n",
              "      <td>1.751910</td>\n",
              "      <td>0.265957</td>\n",
              "    </tr>\n",
              "    <tr>\n",
              "      <td>9</td>\n",
              "      <td>No log</td>\n",
              "      <td>1.824287</td>\n",
              "      <td>0.255319</td>\n",
              "    </tr>\n",
              "    <tr>\n",
              "      <td>10</td>\n",
              "      <td>No log</td>\n",
              "      <td>1.893992</td>\n",
              "      <td>0.241135</td>\n",
              "    </tr>\n",
              "    <tr>\n",
              "      <td>11</td>\n",
              "      <td>No log</td>\n",
              "      <td>1.923477</td>\n",
              "      <td>0.258865</td>\n",
              "    </tr>\n",
              "    <tr>\n",
              "      <td>12</td>\n",
              "      <td>No log</td>\n",
              "      <td>1.959345</td>\n",
              "      <td>0.283688</td>\n",
              "    </tr>\n",
              "    <tr>\n",
              "      <td>13</td>\n",
              "      <td>No log</td>\n",
              "      <td>2.014502</td>\n",
              "      <td>0.255319</td>\n",
              "    </tr>\n",
              "    <tr>\n",
              "      <td>14</td>\n",
              "      <td>1.497900</td>\n",
              "      <td>2.146726</td>\n",
              "      <td>0.241135</td>\n",
              "    </tr>\n",
              "    <tr>\n",
              "      <td>15</td>\n",
              "      <td>1.497900</td>\n",
              "      <td>2.182598</td>\n",
              "      <td>0.241135</td>\n",
              "    </tr>\n",
              "    <tr>\n",
              "      <td>16</td>\n",
              "      <td>1.497900</td>\n",
              "      <td>2.231055</td>\n",
              "      <td>0.244681</td>\n",
              "    </tr>\n",
              "    <tr>\n",
              "      <td>17</td>\n",
              "      <td>1.497900</td>\n",
              "      <td>2.320353</td>\n",
              "      <td>0.269504</td>\n",
              "    </tr>\n",
              "    <tr>\n",
              "      <td>18</td>\n",
              "      <td>1.497900</td>\n",
              "      <td>2.410855</td>\n",
              "      <td>0.237589</td>\n",
              "    </tr>\n",
              "    <tr>\n",
              "      <td>19</td>\n",
              "      <td>1.497900</td>\n",
              "      <td>2.572611</td>\n",
              "      <td>0.212766</td>\n",
              "    </tr>\n",
              "    <tr>\n",
              "      <td>20</td>\n",
              "      <td>1.497900</td>\n",
              "      <td>2.580659</td>\n",
              "      <td>0.237589</td>\n",
              "    </tr>\n",
              "    <tr>\n",
              "      <td>21</td>\n",
              "      <td>1.497900</td>\n",
              "      <td>2.721023</td>\n",
              "      <td>0.230496</td>\n",
              "    </tr>\n",
              "    <tr>\n",
              "      <td>22</td>\n",
              "      <td>1.497900</td>\n",
              "      <td>2.803437</td>\n",
              "      <td>0.202128</td>\n",
              "    </tr>\n",
              "    <tr>\n",
              "      <td>23</td>\n",
              "      <td>1.497900</td>\n",
              "      <td>2.780871</td>\n",
              "      <td>0.248227</td>\n",
              "    </tr>\n",
              "    <tr>\n",
              "      <td>24</td>\n",
              "      <td>1.497900</td>\n",
              "      <td>2.903113</td>\n",
              "      <td>0.226950</td>\n",
              "    </tr>\n",
              "    <tr>\n",
              "      <td>25</td>\n",
              "      <td>1.497900</td>\n",
              "      <td>2.961942</td>\n",
              "      <td>0.248227</td>\n",
              "    </tr>\n",
              "    <tr>\n",
              "      <td>26</td>\n",
              "      <td>1.497900</td>\n",
              "      <td>3.062742</td>\n",
              "      <td>0.209220</td>\n",
              "    </tr>\n",
              "    <tr>\n",
              "      <td>27</td>\n",
              "      <td>1.497900</td>\n",
              "      <td>3.074774</td>\n",
              "      <td>0.223404</td>\n",
              "    </tr>\n",
              "    <tr>\n",
              "      <td>28</td>\n",
              "      <td>0.669500</td>\n",
              "      <td>3.110225</td>\n",
              "      <td>0.237589</td>\n",
              "    </tr>\n",
              "    <tr>\n",
              "      <td>29</td>\n",
              "      <td>0.669500</td>\n",
              "      <td>3.215786</td>\n",
              "      <td>0.244681</td>\n",
              "    </tr>\n",
              "    <tr>\n",
              "      <td>30</td>\n",
              "      <td>0.669500</td>\n",
              "      <td>3.226188</td>\n",
              "      <td>0.241135</td>\n",
              "    </tr>\n",
              "    <tr>\n",
              "      <td>31</td>\n",
              "      <td>0.669500</td>\n",
              "      <td>3.310077</td>\n",
              "      <td>0.244681</td>\n",
              "    </tr>\n",
              "    <tr>\n",
              "      <td>32</td>\n",
              "      <td>0.669500</td>\n",
              "      <td>3.384332</td>\n",
              "      <td>0.223404</td>\n",
              "    </tr>\n",
              "    <tr>\n",
              "      <td>33</td>\n",
              "      <td>0.669500</td>\n",
              "      <td>3.353165</td>\n",
              "      <td>0.230496</td>\n",
              "    </tr>\n",
              "    <tr>\n",
              "      <td>34</td>\n",
              "      <td>0.669500</td>\n",
              "      <td>3.481386</td>\n",
              "      <td>0.209220</td>\n",
              "    </tr>\n",
              "    <tr>\n",
              "      <td>35</td>\n",
              "      <td>0.669500</td>\n",
              "      <td>3.566369</td>\n",
              "      <td>0.212766</td>\n",
              "    </tr>\n",
              "    <tr>\n",
              "      <td>36</td>\n",
              "      <td>0.669500</td>\n",
              "      <td>3.574600</td>\n",
              "      <td>0.205674</td>\n",
              "    </tr>\n",
              "    <tr>\n",
              "      <td>37</td>\n",
              "      <td>0.669500</td>\n",
              "      <td>3.620373</td>\n",
              "      <td>0.230496</td>\n",
              "    </tr>\n",
              "    <tr>\n",
              "      <td>38</td>\n",
              "      <td>0.669500</td>\n",
              "      <td>3.659878</td>\n",
              "      <td>0.216312</td>\n",
              "    </tr>\n",
              "    <tr>\n",
              "      <td>39</td>\n",
              "      <td>0.669500</td>\n",
              "      <td>3.662092</td>\n",
              "      <td>0.226950</td>\n",
              "    </tr>\n",
              "    <tr>\n",
              "      <td>40</td>\n",
              "      <td>0.669500</td>\n",
              "      <td>3.673909</td>\n",
              "      <td>0.223404</td>\n",
              "    </tr>\n",
              "    <tr>\n",
              "      <td>41</td>\n",
              "      <td>0.669500</td>\n",
              "      <td>3.747261</td>\n",
              "      <td>0.216312</td>\n",
              "    </tr>\n",
              "    <tr>\n",
              "      <td>42</td>\n",
              "      <td>0.257100</td>\n",
              "      <td>3.792493</td>\n",
              "      <td>0.209220</td>\n",
              "    </tr>\n",
              "    <tr>\n",
              "      <td>43</td>\n",
              "      <td>0.257100</td>\n",
              "      <td>3.777931</td>\n",
              "      <td>0.230496</td>\n",
              "    </tr>\n",
              "    <tr>\n",
              "      <td>44</td>\n",
              "      <td>0.257100</td>\n",
              "      <td>3.835024</td>\n",
              "      <td>0.205674</td>\n",
              "    </tr>\n",
              "    <tr>\n",
              "      <td>45</td>\n",
              "      <td>0.257100</td>\n",
              "      <td>3.814707</td>\n",
              "      <td>0.212766</td>\n",
              "    </tr>\n",
              "    <tr>\n",
              "      <td>46</td>\n",
              "      <td>0.257100</td>\n",
              "      <td>3.846646</td>\n",
              "      <td>0.209220</td>\n",
              "    </tr>\n",
              "    <tr>\n",
              "      <td>47</td>\n",
              "      <td>0.257100</td>\n",
              "      <td>3.874846</td>\n",
              "      <td>0.205674</td>\n",
              "    </tr>\n",
              "    <tr>\n",
              "      <td>48</td>\n",
              "      <td>0.257100</td>\n",
              "      <td>3.858050</td>\n",
              "      <td>0.205674</td>\n",
              "    </tr>\n",
              "    <tr>\n",
              "      <td>49</td>\n",
              "      <td>0.257100</td>\n",
              "      <td>3.874150</td>\n",
              "      <td>0.212766</td>\n",
              "    </tr>\n",
              "    <tr>\n",
              "      <td>50</td>\n",
              "      <td>0.257100</td>\n",
              "      <td>3.885220</td>\n",
              "      <td>0.209220</td>\n",
              "    </tr>\n",
              "  </tbody>\n",
              "</table><p>"
            ],
            "text/plain": [
              "<IPython.core.display.HTML object>"
            ]
          },
          "metadata": {},
          "output_type": "display_data"
        },
        {
          "name": "stdout",
          "output_type": "stream",
          "text": [
            "\n",
            "→ Evaluation at epoch 1\n",
            "Evaluation Accuracy: 0.1667\n",
            "Evaluation Loss: 1.7712\n",
            "→ New best accuracy! Saving model to ./results/best_model_250603/fold_2\n"
          ]
        },
        {
          "name": "stderr",
          "output_type": "stream",
          "text": [
            "/home/daniel/anaconda3/envs/symbolic_transformer/lib/python3.7/site-packages/torch/nn/parallel/_functions.py:68: UserWarning: Was asked to gather along dimension 0, but all input tensors were scalars; will instead unsqueeze and return a vector.\n",
            "  warnings.warn('Was asked to gather along dimension 0, but all '\n"
          ]
        },
        {
          "name": "stdout",
          "output_type": "stream",
          "text": [
            "\n",
            "→ Evaluation at epoch 2\n",
            "Evaluation Accuracy: 0.2872\n",
            "Evaluation Loss: 1.7359\n",
            "→ New best accuracy! Saving model to ./results/best_model_250603/fold_2\n"
          ]
        },
        {
          "name": "stderr",
          "output_type": "stream",
          "text": [
            "/home/daniel/anaconda3/envs/symbolic_transformer/lib/python3.7/site-packages/torch/nn/parallel/_functions.py:68: UserWarning: Was asked to gather along dimension 0, but all input tensors were scalars; will instead unsqueeze and return a vector.\n",
            "  warnings.warn('Was asked to gather along dimension 0, but all '\n"
          ]
        },
        {
          "name": "stdout",
          "output_type": "stream",
          "text": [
            "\n",
            "→ Evaluation at epoch 3\n",
            "Evaluation Accuracy: 0.2376\n",
            "Evaluation Loss: 1.7505\n"
          ]
        },
        {
          "name": "stderr",
          "output_type": "stream",
          "text": [
            "/home/daniel/anaconda3/envs/symbolic_transformer/lib/python3.7/site-packages/torch/nn/parallel/_functions.py:68: UserWarning: Was asked to gather along dimension 0, but all input tensors were scalars; will instead unsqueeze and return a vector.\n",
            "  warnings.warn('Was asked to gather along dimension 0, but all '\n"
          ]
        },
        {
          "name": "stdout",
          "output_type": "stream",
          "text": [
            "\n",
            "→ Evaluation at epoch 4\n",
            "Evaluation Accuracy: 0.2801\n",
            "Evaluation Loss: 1.7166\n"
          ]
        },
        {
          "name": "stderr",
          "output_type": "stream",
          "text": [
            "/home/daniel/anaconda3/envs/symbolic_transformer/lib/python3.7/site-packages/torch/nn/parallel/_functions.py:68: UserWarning: Was asked to gather along dimension 0, but all input tensors were scalars; will instead unsqueeze and return a vector.\n",
            "  warnings.warn('Was asked to gather along dimension 0, but all '\n"
          ]
        },
        {
          "name": "stdout",
          "output_type": "stream",
          "text": [
            "\n",
            "→ Evaluation at epoch 5\n",
            "Evaluation Accuracy: 0.3085\n",
            "Evaluation Loss: 1.6962\n",
            "→ New best accuracy! Saving model to ./results/best_model_250603/fold_2\n"
          ]
        },
        {
          "name": "stderr",
          "output_type": "stream",
          "text": [
            "/home/daniel/anaconda3/envs/symbolic_transformer/lib/python3.7/site-packages/torch/nn/parallel/_functions.py:68: UserWarning: Was asked to gather along dimension 0, but all input tensors were scalars; will instead unsqueeze and return a vector.\n",
            "  warnings.warn('Was asked to gather along dimension 0, but all '\n"
          ]
        },
        {
          "name": "stdout",
          "output_type": "stream",
          "text": [
            "\n",
            "→ Evaluation at epoch 6\n",
            "Evaluation Accuracy: 0.3085\n",
            "Evaluation Loss: 1.7112\n"
          ]
        },
        {
          "name": "stderr",
          "output_type": "stream",
          "text": [
            "/home/daniel/anaconda3/envs/symbolic_transformer/lib/python3.7/site-packages/torch/nn/parallel/_functions.py:68: UserWarning: Was asked to gather along dimension 0, but all input tensors were scalars; will instead unsqueeze and return a vector.\n",
            "  warnings.warn('Was asked to gather along dimension 0, but all '\n"
          ]
        },
        {
          "name": "stdout",
          "output_type": "stream",
          "text": [
            "\n",
            "→ Evaluation at epoch 7\n",
            "Evaluation Accuracy: 0.2837\n",
            "Evaluation Loss: 1.7350\n"
          ]
        },
        {
          "name": "stderr",
          "output_type": "stream",
          "text": [
            "/home/daniel/anaconda3/envs/symbolic_transformer/lib/python3.7/site-packages/torch/nn/parallel/_functions.py:68: UserWarning: Was asked to gather along dimension 0, but all input tensors were scalars; will instead unsqueeze and return a vector.\n",
            "  warnings.warn('Was asked to gather along dimension 0, but all '\n"
          ]
        },
        {
          "name": "stdout",
          "output_type": "stream",
          "text": [
            "\n",
            "→ Evaluation at epoch 8\n",
            "Evaluation Accuracy: 0.2660\n",
            "Evaluation Loss: 1.7519\n"
          ]
        },
        {
          "name": "stderr",
          "output_type": "stream",
          "text": [
            "/home/daniel/anaconda3/envs/symbolic_transformer/lib/python3.7/site-packages/torch/nn/parallel/_functions.py:68: UserWarning: Was asked to gather along dimension 0, but all input tensors were scalars; will instead unsqueeze and return a vector.\n",
            "  warnings.warn('Was asked to gather along dimension 0, but all '\n"
          ]
        },
        {
          "name": "stdout",
          "output_type": "stream",
          "text": [
            "\n",
            "→ Evaluation at epoch 9\n",
            "Evaluation Accuracy: 0.2553\n",
            "Evaluation Loss: 1.8243\n"
          ]
        },
        {
          "name": "stderr",
          "output_type": "stream",
          "text": [
            "/home/daniel/anaconda3/envs/symbolic_transformer/lib/python3.7/site-packages/torch/nn/parallel/_functions.py:68: UserWarning: Was asked to gather along dimension 0, but all input tensors were scalars; will instead unsqueeze and return a vector.\n",
            "  warnings.warn('Was asked to gather along dimension 0, but all '\n"
          ]
        },
        {
          "name": "stdout",
          "output_type": "stream",
          "text": [
            "\n",
            "→ Evaluation at epoch 10\n",
            "Evaluation Accuracy: 0.2411\n",
            "Evaluation Loss: 1.8940\n"
          ]
        },
        {
          "name": "stderr",
          "output_type": "stream",
          "text": [
            "/home/daniel/anaconda3/envs/symbolic_transformer/lib/python3.7/site-packages/torch/nn/parallel/_functions.py:68: UserWarning: Was asked to gather along dimension 0, but all input tensors were scalars; will instead unsqueeze and return a vector.\n",
            "  warnings.warn('Was asked to gather along dimension 0, but all '\n"
          ]
        },
        {
          "name": "stdout",
          "output_type": "stream",
          "text": [
            "\n",
            "→ Evaluation at epoch 11\n",
            "Evaluation Accuracy: 0.2589\n",
            "Evaluation Loss: 1.9235\n"
          ]
        },
        {
          "name": "stderr",
          "output_type": "stream",
          "text": [
            "/home/daniel/anaconda3/envs/symbolic_transformer/lib/python3.7/site-packages/torch/nn/parallel/_functions.py:68: UserWarning: Was asked to gather along dimension 0, but all input tensors were scalars; will instead unsqueeze and return a vector.\n",
            "  warnings.warn('Was asked to gather along dimension 0, but all '\n"
          ]
        },
        {
          "name": "stdout",
          "output_type": "stream",
          "text": [
            "\n",
            "→ Evaluation at epoch 12\n",
            "Evaluation Accuracy: 0.2837\n",
            "Evaluation Loss: 1.9593\n"
          ]
        },
        {
          "name": "stderr",
          "output_type": "stream",
          "text": [
            "/home/daniel/anaconda3/envs/symbolic_transformer/lib/python3.7/site-packages/torch/nn/parallel/_functions.py:68: UserWarning: Was asked to gather along dimension 0, but all input tensors were scalars; will instead unsqueeze and return a vector.\n",
            "  warnings.warn('Was asked to gather along dimension 0, but all '\n"
          ]
        },
        {
          "name": "stdout",
          "output_type": "stream",
          "text": [
            "\n",
            "→ Evaluation at epoch 13\n",
            "Evaluation Accuracy: 0.2553\n",
            "Evaluation Loss: 2.0145\n"
          ]
        },
        {
          "name": "stderr",
          "output_type": "stream",
          "text": [
            "/home/daniel/anaconda3/envs/symbolic_transformer/lib/python3.7/site-packages/torch/nn/parallel/_functions.py:68: UserWarning: Was asked to gather along dimension 0, but all input tensors were scalars; will instead unsqueeze and return a vector.\n",
            "  warnings.warn('Was asked to gather along dimension 0, but all '\n"
          ]
        },
        {
          "name": "stdout",
          "output_type": "stream",
          "text": [
            "\n",
            "→ Evaluation at epoch 14\n",
            "Evaluation Accuracy: 0.2411\n",
            "Evaluation Loss: 2.1467\n"
          ]
        },
        {
          "name": "stderr",
          "output_type": "stream",
          "text": [
            "/home/daniel/anaconda3/envs/symbolic_transformer/lib/python3.7/site-packages/torch/nn/parallel/_functions.py:68: UserWarning: Was asked to gather along dimension 0, but all input tensors were scalars; will instead unsqueeze and return a vector.\n",
            "  warnings.warn('Was asked to gather along dimension 0, but all '\n"
          ]
        },
        {
          "name": "stdout",
          "output_type": "stream",
          "text": [
            "\n",
            "→ Evaluation at epoch 15\n",
            "Evaluation Accuracy: 0.2411\n",
            "Evaluation Loss: 2.1826\n"
          ]
        },
        {
          "name": "stderr",
          "output_type": "stream",
          "text": [
            "/home/daniel/anaconda3/envs/symbolic_transformer/lib/python3.7/site-packages/torch/nn/parallel/_functions.py:68: UserWarning: Was asked to gather along dimension 0, but all input tensors were scalars; will instead unsqueeze and return a vector.\n",
            "  warnings.warn('Was asked to gather along dimension 0, but all '\n"
          ]
        },
        {
          "name": "stdout",
          "output_type": "stream",
          "text": [
            "\n",
            "→ Evaluation at epoch 16\n",
            "Evaluation Accuracy: 0.2447\n",
            "Evaluation Loss: 2.2311\n"
          ]
        },
        {
          "name": "stderr",
          "output_type": "stream",
          "text": [
            "/home/daniel/anaconda3/envs/symbolic_transformer/lib/python3.7/site-packages/torch/nn/parallel/_functions.py:68: UserWarning: Was asked to gather along dimension 0, but all input tensors were scalars; will instead unsqueeze and return a vector.\n",
            "  warnings.warn('Was asked to gather along dimension 0, but all '\n"
          ]
        },
        {
          "name": "stdout",
          "output_type": "stream",
          "text": [
            "\n",
            "→ Evaluation at epoch 17\n",
            "Evaluation Accuracy: 0.2695\n",
            "Evaluation Loss: 2.3204\n"
          ]
        },
        {
          "name": "stderr",
          "output_type": "stream",
          "text": [
            "/home/daniel/anaconda3/envs/symbolic_transformer/lib/python3.7/site-packages/torch/nn/parallel/_functions.py:68: UserWarning: Was asked to gather along dimension 0, but all input tensors were scalars; will instead unsqueeze and return a vector.\n",
            "  warnings.warn('Was asked to gather along dimension 0, but all '\n"
          ]
        },
        {
          "name": "stdout",
          "output_type": "stream",
          "text": [
            "\n",
            "→ Evaluation at epoch 18\n",
            "Evaluation Accuracy: 0.2376\n",
            "Evaluation Loss: 2.4109\n"
          ]
        },
        {
          "name": "stderr",
          "output_type": "stream",
          "text": [
            "/home/daniel/anaconda3/envs/symbolic_transformer/lib/python3.7/site-packages/torch/nn/parallel/_functions.py:68: UserWarning: Was asked to gather along dimension 0, but all input tensors were scalars; will instead unsqueeze and return a vector.\n",
            "  warnings.warn('Was asked to gather along dimension 0, but all '\n"
          ]
        },
        {
          "name": "stdout",
          "output_type": "stream",
          "text": [
            "\n",
            "→ Evaluation at epoch 19\n",
            "Evaluation Accuracy: 0.2128\n",
            "Evaluation Loss: 2.5726\n"
          ]
        },
        {
          "name": "stderr",
          "output_type": "stream",
          "text": [
            "/home/daniel/anaconda3/envs/symbolic_transformer/lib/python3.7/site-packages/torch/nn/parallel/_functions.py:68: UserWarning: Was asked to gather along dimension 0, but all input tensors were scalars; will instead unsqueeze and return a vector.\n",
            "  warnings.warn('Was asked to gather along dimension 0, but all '\n"
          ]
        },
        {
          "name": "stdout",
          "output_type": "stream",
          "text": [
            "\n",
            "→ Evaluation at epoch 20\n",
            "Evaluation Accuracy: 0.2376\n",
            "Evaluation Loss: 2.5807\n"
          ]
        },
        {
          "name": "stderr",
          "output_type": "stream",
          "text": [
            "/home/daniel/anaconda3/envs/symbolic_transformer/lib/python3.7/site-packages/torch/nn/parallel/_functions.py:68: UserWarning: Was asked to gather along dimension 0, but all input tensors were scalars; will instead unsqueeze and return a vector.\n",
            "  warnings.warn('Was asked to gather along dimension 0, but all '\n"
          ]
        },
        {
          "name": "stdout",
          "output_type": "stream",
          "text": [
            "\n",
            "→ Evaluation at epoch 21\n",
            "Evaluation Accuracy: 0.2305\n",
            "Evaluation Loss: 2.7210\n"
          ]
        },
        {
          "name": "stderr",
          "output_type": "stream",
          "text": [
            "/home/daniel/anaconda3/envs/symbolic_transformer/lib/python3.7/site-packages/torch/nn/parallel/_functions.py:68: UserWarning: Was asked to gather along dimension 0, but all input tensors were scalars; will instead unsqueeze and return a vector.\n",
            "  warnings.warn('Was asked to gather along dimension 0, but all '\n"
          ]
        },
        {
          "name": "stdout",
          "output_type": "stream",
          "text": [
            "\n",
            "→ Evaluation at epoch 22\n",
            "Evaluation Accuracy: 0.2021\n",
            "Evaluation Loss: 2.8034\n"
          ]
        },
        {
          "name": "stderr",
          "output_type": "stream",
          "text": [
            "/home/daniel/anaconda3/envs/symbolic_transformer/lib/python3.7/site-packages/torch/nn/parallel/_functions.py:68: UserWarning: Was asked to gather along dimension 0, but all input tensors were scalars; will instead unsqueeze and return a vector.\n",
            "  warnings.warn('Was asked to gather along dimension 0, but all '\n"
          ]
        },
        {
          "name": "stdout",
          "output_type": "stream",
          "text": [
            "\n",
            "→ Evaluation at epoch 23\n",
            "Evaluation Accuracy: 0.2482\n",
            "Evaluation Loss: 2.7809\n"
          ]
        },
        {
          "name": "stderr",
          "output_type": "stream",
          "text": [
            "/home/daniel/anaconda3/envs/symbolic_transformer/lib/python3.7/site-packages/torch/nn/parallel/_functions.py:68: UserWarning: Was asked to gather along dimension 0, but all input tensors were scalars; will instead unsqueeze and return a vector.\n",
            "  warnings.warn('Was asked to gather along dimension 0, but all '\n"
          ]
        },
        {
          "name": "stdout",
          "output_type": "stream",
          "text": [
            "\n",
            "→ Evaluation at epoch 24\n",
            "Evaluation Accuracy: 0.2270\n",
            "Evaluation Loss: 2.9031\n"
          ]
        },
        {
          "name": "stderr",
          "output_type": "stream",
          "text": [
            "/home/daniel/anaconda3/envs/symbolic_transformer/lib/python3.7/site-packages/torch/nn/parallel/_functions.py:68: UserWarning: Was asked to gather along dimension 0, but all input tensors were scalars; will instead unsqueeze and return a vector.\n",
            "  warnings.warn('Was asked to gather along dimension 0, but all '\n"
          ]
        },
        {
          "name": "stdout",
          "output_type": "stream",
          "text": [
            "\n",
            "→ Evaluation at epoch 25\n",
            "Evaluation Accuracy: 0.2482\n",
            "Evaluation Loss: 2.9619\n"
          ]
        },
        {
          "name": "stderr",
          "output_type": "stream",
          "text": [
            "/home/daniel/anaconda3/envs/symbolic_transformer/lib/python3.7/site-packages/torch/nn/parallel/_functions.py:68: UserWarning: Was asked to gather along dimension 0, but all input tensors were scalars; will instead unsqueeze and return a vector.\n",
            "  warnings.warn('Was asked to gather along dimension 0, but all '\n"
          ]
        },
        {
          "name": "stdout",
          "output_type": "stream",
          "text": [
            "\n",
            "→ Evaluation at epoch 26\n",
            "Evaluation Accuracy: 0.2092\n",
            "Evaluation Loss: 3.0627\n"
          ]
        },
        {
          "name": "stderr",
          "output_type": "stream",
          "text": [
            "/home/daniel/anaconda3/envs/symbolic_transformer/lib/python3.7/site-packages/torch/nn/parallel/_functions.py:68: UserWarning: Was asked to gather along dimension 0, but all input tensors were scalars; will instead unsqueeze and return a vector.\n",
            "  warnings.warn('Was asked to gather along dimension 0, but all '\n"
          ]
        },
        {
          "name": "stdout",
          "output_type": "stream",
          "text": [
            "\n",
            "→ Evaluation at epoch 27\n",
            "Evaluation Accuracy: 0.2234\n",
            "Evaluation Loss: 3.0748\n"
          ]
        },
        {
          "name": "stderr",
          "output_type": "stream",
          "text": [
            "/home/daniel/anaconda3/envs/symbolic_transformer/lib/python3.7/site-packages/torch/nn/parallel/_functions.py:68: UserWarning: Was asked to gather along dimension 0, but all input tensors were scalars; will instead unsqueeze and return a vector.\n",
            "  warnings.warn('Was asked to gather along dimension 0, but all '\n"
          ]
        },
        {
          "name": "stdout",
          "output_type": "stream",
          "text": [
            "\n",
            "→ Evaluation at epoch 28\n",
            "Evaluation Accuracy: 0.2376\n",
            "Evaluation Loss: 3.1102\n"
          ]
        },
        {
          "name": "stderr",
          "output_type": "stream",
          "text": [
            "/home/daniel/anaconda3/envs/symbolic_transformer/lib/python3.7/site-packages/torch/nn/parallel/_functions.py:68: UserWarning: Was asked to gather along dimension 0, but all input tensors were scalars; will instead unsqueeze and return a vector.\n",
            "  warnings.warn('Was asked to gather along dimension 0, but all '\n"
          ]
        },
        {
          "name": "stdout",
          "output_type": "stream",
          "text": [
            "\n",
            "→ Evaluation at epoch 29\n",
            "Evaluation Accuracy: 0.2447\n",
            "Evaluation Loss: 3.2158\n"
          ]
        },
        {
          "name": "stderr",
          "output_type": "stream",
          "text": [
            "/home/daniel/anaconda3/envs/symbolic_transformer/lib/python3.7/site-packages/torch/nn/parallel/_functions.py:68: UserWarning: Was asked to gather along dimension 0, but all input tensors were scalars; will instead unsqueeze and return a vector.\n",
            "  warnings.warn('Was asked to gather along dimension 0, but all '\n"
          ]
        },
        {
          "name": "stdout",
          "output_type": "stream",
          "text": [
            "\n",
            "→ Evaluation at epoch 30\n",
            "Evaluation Accuracy: 0.2411\n",
            "Evaluation Loss: 3.2262\n"
          ]
        },
        {
          "name": "stderr",
          "output_type": "stream",
          "text": [
            "/home/daniel/anaconda3/envs/symbolic_transformer/lib/python3.7/site-packages/torch/nn/parallel/_functions.py:68: UserWarning: Was asked to gather along dimension 0, but all input tensors were scalars; will instead unsqueeze and return a vector.\n",
            "  warnings.warn('Was asked to gather along dimension 0, but all '\n"
          ]
        },
        {
          "name": "stdout",
          "output_type": "stream",
          "text": [
            "\n",
            "→ Evaluation at epoch 31\n",
            "Evaluation Accuracy: 0.2447\n",
            "Evaluation Loss: 3.3101\n"
          ]
        },
        {
          "name": "stderr",
          "output_type": "stream",
          "text": [
            "/home/daniel/anaconda3/envs/symbolic_transformer/lib/python3.7/site-packages/torch/nn/parallel/_functions.py:68: UserWarning: Was asked to gather along dimension 0, but all input tensors were scalars; will instead unsqueeze and return a vector.\n",
            "  warnings.warn('Was asked to gather along dimension 0, but all '\n"
          ]
        },
        {
          "name": "stdout",
          "output_type": "stream",
          "text": [
            "\n",
            "→ Evaluation at epoch 32\n",
            "Evaluation Accuracy: 0.2234\n",
            "Evaluation Loss: 3.3843\n"
          ]
        },
        {
          "name": "stderr",
          "output_type": "stream",
          "text": [
            "/home/daniel/anaconda3/envs/symbolic_transformer/lib/python3.7/site-packages/torch/nn/parallel/_functions.py:68: UserWarning: Was asked to gather along dimension 0, but all input tensors were scalars; will instead unsqueeze and return a vector.\n",
            "  warnings.warn('Was asked to gather along dimension 0, but all '\n"
          ]
        },
        {
          "name": "stdout",
          "output_type": "stream",
          "text": [
            "\n",
            "→ Evaluation at epoch 33\n",
            "Evaluation Accuracy: 0.2305\n",
            "Evaluation Loss: 3.3532\n"
          ]
        },
        {
          "name": "stderr",
          "output_type": "stream",
          "text": [
            "/home/daniel/anaconda3/envs/symbolic_transformer/lib/python3.7/site-packages/torch/nn/parallel/_functions.py:68: UserWarning: Was asked to gather along dimension 0, but all input tensors were scalars; will instead unsqueeze and return a vector.\n",
            "  warnings.warn('Was asked to gather along dimension 0, but all '\n"
          ]
        },
        {
          "name": "stdout",
          "output_type": "stream",
          "text": [
            "\n",
            "→ Evaluation at epoch 34\n",
            "Evaluation Accuracy: 0.2092\n",
            "Evaluation Loss: 3.4814\n"
          ]
        },
        {
          "name": "stderr",
          "output_type": "stream",
          "text": [
            "/home/daniel/anaconda3/envs/symbolic_transformer/lib/python3.7/site-packages/torch/nn/parallel/_functions.py:68: UserWarning: Was asked to gather along dimension 0, but all input tensors were scalars; will instead unsqueeze and return a vector.\n",
            "  warnings.warn('Was asked to gather along dimension 0, but all '\n"
          ]
        },
        {
          "name": "stdout",
          "output_type": "stream",
          "text": [
            "\n",
            "→ Evaluation at epoch 35\n",
            "Evaluation Accuracy: 0.2128\n",
            "Evaluation Loss: 3.5664\n"
          ]
        },
        {
          "name": "stderr",
          "output_type": "stream",
          "text": [
            "/home/daniel/anaconda3/envs/symbolic_transformer/lib/python3.7/site-packages/torch/nn/parallel/_functions.py:68: UserWarning: Was asked to gather along dimension 0, but all input tensors were scalars; will instead unsqueeze and return a vector.\n",
            "  warnings.warn('Was asked to gather along dimension 0, but all '\n"
          ]
        },
        {
          "name": "stdout",
          "output_type": "stream",
          "text": [
            "\n",
            "→ Evaluation at epoch 36\n",
            "Evaluation Accuracy: 0.2057\n",
            "Evaluation Loss: 3.5746\n"
          ]
        },
        {
          "name": "stderr",
          "output_type": "stream",
          "text": [
            "/home/daniel/anaconda3/envs/symbolic_transformer/lib/python3.7/site-packages/torch/nn/parallel/_functions.py:68: UserWarning: Was asked to gather along dimension 0, but all input tensors were scalars; will instead unsqueeze and return a vector.\n",
            "  warnings.warn('Was asked to gather along dimension 0, but all '\n"
          ]
        },
        {
          "name": "stdout",
          "output_type": "stream",
          "text": [
            "\n",
            "→ Evaluation at epoch 37\n",
            "Evaluation Accuracy: 0.2305\n",
            "Evaluation Loss: 3.6204\n"
          ]
        },
        {
          "name": "stderr",
          "output_type": "stream",
          "text": [
            "/home/daniel/anaconda3/envs/symbolic_transformer/lib/python3.7/site-packages/torch/nn/parallel/_functions.py:68: UserWarning: Was asked to gather along dimension 0, but all input tensors were scalars; will instead unsqueeze and return a vector.\n",
            "  warnings.warn('Was asked to gather along dimension 0, but all '\n"
          ]
        },
        {
          "name": "stdout",
          "output_type": "stream",
          "text": [
            "\n",
            "→ Evaluation at epoch 38\n",
            "Evaluation Accuracy: 0.2163\n",
            "Evaluation Loss: 3.6599\n"
          ]
        },
        {
          "name": "stderr",
          "output_type": "stream",
          "text": [
            "/home/daniel/anaconda3/envs/symbolic_transformer/lib/python3.7/site-packages/torch/nn/parallel/_functions.py:68: UserWarning: Was asked to gather along dimension 0, but all input tensors were scalars; will instead unsqueeze and return a vector.\n",
            "  warnings.warn('Was asked to gather along dimension 0, but all '\n"
          ]
        },
        {
          "name": "stdout",
          "output_type": "stream",
          "text": [
            "\n",
            "→ Evaluation at epoch 39\n",
            "Evaluation Accuracy: 0.2270\n",
            "Evaluation Loss: 3.6621\n"
          ]
        },
        {
          "name": "stderr",
          "output_type": "stream",
          "text": [
            "/home/daniel/anaconda3/envs/symbolic_transformer/lib/python3.7/site-packages/torch/nn/parallel/_functions.py:68: UserWarning: Was asked to gather along dimension 0, but all input tensors were scalars; will instead unsqueeze and return a vector.\n",
            "  warnings.warn('Was asked to gather along dimension 0, but all '\n"
          ]
        },
        {
          "name": "stdout",
          "output_type": "stream",
          "text": [
            "\n",
            "→ Evaluation at epoch 40\n",
            "Evaluation Accuracy: 0.2234\n",
            "Evaluation Loss: 3.6739\n"
          ]
        },
        {
          "name": "stderr",
          "output_type": "stream",
          "text": [
            "/home/daniel/anaconda3/envs/symbolic_transformer/lib/python3.7/site-packages/torch/nn/parallel/_functions.py:68: UserWarning: Was asked to gather along dimension 0, but all input tensors were scalars; will instead unsqueeze and return a vector.\n",
            "  warnings.warn('Was asked to gather along dimension 0, but all '\n"
          ]
        },
        {
          "name": "stdout",
          "output_type": "stream",
          "text": [
            "\n",
            "→ Evaluation at epoch 41\n",
            "Evaluation Accuracy: 0.2163\n",
            "Evaluation Loss: 3.7473\n"
          ]
        },
        {
          "name": "stderr",
          "output_type": "stream",
          "text": [
            "/home/daniel/anaconda3/envs/symbolic_transformer/lib/python3.7/site-packages/torch/nn/parallel/_functions.py:68: UserWarning: Was asked to gather along dimension 0, but all input tensors were scalars; will instead unsqueeze and return a vector.\n",
            "  warnings.warn('Was asked to gather along dimension 0, but all '\n"
          ]
        },
        {
          "name": "stdout",
          "output_type": "stream",
          "text": [
            "\n",
            "→ Evaluation at epoch 42\n",
            "Evaluation Accuracy: 0.2092\n",
            "Evaluation Loss: 3.7925\n"
          ]
        },
        {
          "name": "stderr",
          "output_type": "stream",
          "text": [
            "/home/daniel/anaconda3/envs/symbolic_transformer/lib/python3.7/site-packages/torch/nn/parallel/_functions.py:68: UserWarning: Was asked to gather along dimension 0, but all input tensors were scalars; will instead unsqueeze and return a vector.\n",
            "  warnings.warn('Was asked to gather along dimension 0, but all '\n"
          ]
        },
        {
          "name": "stdout",
          "output_type": "stream",
          "text": [
            "\n",
            "→ Evaluation at epoch 43\n",
            "Evaluation Accuracy: 0.2305\n",
            "Evaluation Loss: 3.7779\n"
          ]
        },
        {
          "name": "stderr",
          "output_type": "stream",
          "text": [
            "/home/daniel/anaconda3/envs/symbolic_transformer/lib/python3.7/site-packages/torch/nn/parallel/_functions.py:68: UserWarning: Was asked to gather along dimension 0, but all input tensors were scalars; will instead unsqueeze and return a vector.\n",
            "  warnings.warn('Was asked to gather along dimension 0, but all '\n"
          ]
        },
        {
          "name": "stdout",
          "output_type": "stream",
          "text": [
            "\n",
            "→ Evaluation at epoch 44\n",
            "Evaluation Accuracy: 0.2057\n",
            "Evaluation Loss: 3.8350\n"
          ]
        },
        {
          "name": "stderr",
          "output_type": "stream",
          "text": [
            "/home/daniel/anaconda3/envs/symbolic_transformer/lib/python3.7/site-packages/torch/nn/parallel/_functions.py:68: UserWarning: Was asked to gather along dimension 0, but all input tensors were scalars; will instead unsqueeze and return a vector.\n",
            "  warnings.warn('Was asked to gather along dimension 0, but all '\n"
          ]
        },
        {
          "name": "stdout",
          "output_type": "stream",
          "text": [
            "\n",
            "→ Evaluation at epoch 45\n",
            "Evaluation Accuracy: 0.2128\n",
            "Evaluation Loss: 3.8147\n"
          ]
        },
        {
          "name": "stderr",
          "output_type": "stream",
          "text": [
            "/home/daniel/anaconda3/envs/symbolic_transformer/lib/python3.7/site-packages/torch/nn/parallel/_functions.py:68: UserWarning: Was asked to gather along dimension 0, but all input tensors were scalars; will instead unsqueeze and return a vector.\n",
            "  warnings.warn('Was asked to gather along dimension 0, but all '\n"
          ]
        },
        {
          "name": "stdout",
          "output_type": "stream",
          "text": [
            "\n",
            "→ Evaluation at epoch 46\n",
            "Evaluation Accuracy: 0.2092\n",
            "Evaluation Loss: 3.8466\n"
          ]
        },
        {
          "name": "stderr",
          "output_type": "stream",
          "text": [
            "/home/daniel/anaconda3/envs/symbolic_transformer/lib/python3.7/site-packages/torch/nn/parallel/_functions.py:68: UserWarning: Was asked to gather along dimension 0, but all input tensors were scalars; will instead unsqueeze and return a vector.\n",
            "  warnings.warn('Was asked to gather along dimension 0, but all '\n"
          ]
        },
        {
          "name": "stdout",
          "output_type": "stream",
          "text": [
            "\n",
            "→ Evaluation at epoch 47\n",
            "Evaluation Accuracy: 0.2057\n",
            "Evaluation Loss: 3.8748\n"
          ]
        },
        {
          "name": "stderr",
          "output_type": "stream",
          "text": [
            "/home/daniel/anaconda3/envs/symbolic_transformer/lib/python3.7/site-packages/torch/nn/parallel/_functions.py:68: UserWarning: Was asked to gather along dimension 0, but all input tensors were scalars; will instead unsqueeze and return a vector.\n",
            "  warnings.warn('Was asked to gather along dimension 0, but all '\n"
          ]
        },
        {
          "name": "stdout",
          "output_type": "stream",
          "text": [
            "\n",
            "→ Evaluation at epoch 48\n",
            "Evaluation Accuracy: 0.2057\n",
            "Evaluation Loss: 3.8580\n"
          ]
        },
        {
          "name": "stderr",
          "output_type": "stream",
          "text": [
            "/home/daniel/anaconda3/envs/symbolic_transformer/lib/python3.7/site-packages/torch/nn/parallel/_functions.py:68: UserWarning: Was asked to gather along dimension 0, but all input tensors were scalars; will instead unsqueeze and return a vector.\n",
            "  warnings.warn('Was asked to gather along dimension 0, but all '\n"
          ]
        },
        {
          "name": "stdout",
          "output_type": "stream",
          "text": [
            "\n",
            "→ Evaluation at epoch 49\n",
            "Evaluation Accuracy: 0.2128\n",
            "Evaluation Loss: 3.8741\n"
          ]
        },
        {
          "name": "stderr",
          "output_type": "stream",
          "text": [
            "/home/daniel/anaconda3/envs/symbolic_transformer/lib/python3.7/site-packages/torch/nn/parallel/_functions.py:68: UserWarning: Was asked to gather along dimension 0, but all input tensors were scalars; will instead unsqueeze and return a vector.\n",
            "  warnings.warn('Was asked to gather along dimension 0, but all '\n"
          ]
        },
        {
          "name": "stdout",
          "output_type": "stream",
          "text": [
            "\n",
            "→ Evaluation at epoch 50\n",
            "Evaluation Accuracy: 0.2092\n",
            "Evaluation Loss: 3.8852\n",
            "\n",
            "==== Fold 3/5 ====\n"
          ]
        },
        {
          "data": {
            "application/json": {
              "ascii": false,
              "bar_format": null,
              "colour": null,
              "elapsed": 0.0060634613037109375,
              "initial": 0,
              "n": 0,
              "ncols": null,
              "nrows": null,
              "postfix": null,
              "prefix": "Map",
              "rate": null,
              "total": 1128,
              "unit": " examples",
              "unit_divisor": 1000,
              "unit_scale": false
            },
            "application/vnd.jupyter.widget-view+json": {
              "model_id": "fa9d372c33b24b059f692399968a7406",
              "version_major": 2,
              "version_minor": 0
            },
            "text/plain": [
              "Map:   0%|          | 0/1128 [00:00<?, ? examples/s]"
            ]
          },
          "metadata": {},
          "output_type": "display_data"
        },
        {
          "data": {
            "application/json": {
              "ascii": false,
              "bar_format": null,
              "colour": null,
              "elapsed": 0.004743099212646484,
              "initial": 0,
              "n": 0,
              "ncols": null,
              "nrows": null,
              "postfix": null,
              "prefix": "Map",
              "rate": null,
              "total": 282,
              "unit": " examples",
              "unit_divisor": 1000,
              "unit_scale": false
            },
            "application/vnd.jupyter.widget-view+json": {
              "model_id": "6b5fcd2c81e0457fa7a75331087465bb",
              "version_major": 2,
              "version_minor": 0
            },
            "text/plain": [
              "Map:   0%|          | 0/282 [00:00<?, ? examples/s]"
            ]
          },
          "metadata": {},
          "output_type": "display_data"
        },
        {
          "name": "stderr",
          "output_type": "stream",
          "text": [
            "Some weights of the model checkpoint at neuralmind/bert-base-portuguese-cased were not used when initializing BertForSequenceClassification: ['cls.predictions.transform.dense.bias', 'cls.predictions.transform.LayerNorm.bias', 'cls.predictions.bias', 'cls.predictions.decoder.weight', 'cls.predictions.transform.dense.weight', 'cls.seq_relationship.bias', 'cls.predictions.transform.LayerNorm.weight', 'cls.seq_relationship.weight']\n",
            "- This IS expected if you are initializing BertForSequenceClassification from the checkpoint of a model trained on another task or with another architecture (e.g. initializing a BertForSequenceClassification model from a BertForPreTraining model).\n",
            "- This IS NOT expected if you are initializing BertForSequenceClassification from the checkpoint of a model that you expect to be exactly identical (initializing a BertForSequenceClassification model from a BertForSequenceClassification model).\n",
            "Some weights of BertForSequenceClassification were not initialized from the model checkpoint at neuralmind/bert-base-portuguese-cased and are newly initialized: ['classifier.bias', 'classifier.weight']\n",
            "You should probably TRAIN this model on a down-stream task to be able to use it for predictions and inference.\n",
            "/home/daniel/anaconda3/envs/symbolic_transformer/lib/python3.7/site-packages/transformers/optimization.py:415: FutureWarning: This implementation of AdamW is deprecated and will be removed in a future version. Use the PyTorch implementation torch.optim.AdamW instead, or set `no_deprecation_warning=True` to disable this warning\n",
            "  FutureWarning,\n",
            "/home/daniel/anaconda3/envs/symbolic_transformer/lib/python3.7/site-packages/torch/nn/parallel/_functions.py:68: UserWarning: Was asked to gather along dimension 0, but all input tensors were scalars; will instead unsqueeze and return a vector.\n",
            "  warnings.warn('Was asked to gather along dimension 0, but all '\n"
          ]
        },
        {
          "data": {
            "text/html": [
              "\n",
              "    <div>\n",
              "      \n",
              "      <progress value='1800' max='1800' style='width:300px; height:20px; vertical-align: middle;'></progress>\n",
              "      [1800/1800 04:21, Epoch 50/50]\n",
              "    </div>\n",
              "    <table border=\"1\" class=\"dataframe\">\n",
              "  <thead>\n",
              " <tr style=\"text-align: left;\">\n",
              "      <th>Epoch</th>\n",
              "      <th>Training Loss</th>\n",
              "      <th>Validation Loss</th>\n",
              "      <th>Accuracy</th>\n",
              "    </tr>\n",
              "  </thead>\n",
              "  <tbody>\n",
              "    <tr>\n",
              "      <td>1</td>\n",
              "      <td>No log</td>\n",
              "      <td>1.766199</td>\n",
              "      <td>0.273050</td>\n",
              "    </tr>\n",
              "    <tr>\n",
              "      <td>2</td>\n",
              "      <td>No log</td>\n",
              "      <td>1.772198</td>\n",
              "      <td>0.244681</td>\n",
              "    </tr>\n",
              "    <tr>\n",
              "      <td>3</td>\n",
              "      <td>No log</td>\n",
              "      <td>1.723583</td>\n",
              "      <td>0.273050</td>\n",
              "    </tr>\n",
              "    <tr>\n",
              "      <td>4</td>\n",
              "      <td>No log</td>\n",
              "      <td>1.750736</td>\n",
              "      <td>0.248227</td>\n",
              "    </tr>\n",
              "    <tr>\n",
              "      <td>5</td>\n",
              "      <td>No log</td>\n",
              "      <td>1.757230</td>\n",
              "      <td>0.258865</td>\n",
              "    </tr>\n",
              "    <tr>\n",
              "      <td>6</td>\n",
              "      <td>No log</td>\n",
              "      <td>1.799542</td>\n",
              "      <td>0.226950</td>\n",
              "    </tr>\n",
              "    <tr>\n",
              "      <td>7</td>\n",
              "      <td>No log</td>\n",
              "      <td>1.785802</td>\n",
              "      <td>0.230496</td>\n",
              "    </tr>\n",
              "    <tr>\n",
              "      <td>8</td>\n",
              "      <td>No log</td>\n",
              "      <td>1.887336</td>\n",
              "      <td>0.234043</td>\n",
              "    </tr>\n",
              "    <tr>\n",
              "      <td>9</td>\n",
              "      <td>No log</td>\n",
              "      <td>1.889760</td>\n",
              "      <td>0.212766</td>\n",
              "    </tr>\n",
              "    <tr>\n",
              "      <td>10</td>\n",
              "      <td>No log</td>\n",
              "      <td>1.952035</td>\n",
              "      <td>0.241135</td>\n",
              "    </tr>\n",
              "    <tr>\n",
              "      <td>11</td>\n",
              "      <td>No log</td>\n",
              "      <td>1.973935</td>\n",
              "      <td>0.216312</td>\n",
              "    </tr>\n",
              "    <tr>\n",
              "      <td>12</td>\n",
              "      <td>No log</td>\n",
              "      <td>2.040410</td>\n",
              "      <td>0.223404</td>\n",
              "    </tr>\n",
              "    <tr>\n",
              "      <td>13</td>\n",
              "      <td>No log</td>\n",
              "      <td>2.119466</td>\n",
              "      <td>0.223404</td>\n",
              "    </tr>\n",
              "    <tr>\n",
              "      <td>14</td>\n",
              "      <td>1.496300</td>\n",
              "      <td>2.215558</td>\n",
              "      <td>0.219858</td>\n",
              "    </tr>\n",
              "    <tr>\n",
              "      <td>15</td>\n",
              "      <td>1.496300</td>\n",
              "      <td>2.227232</td>\n",
              "      <td>0.219858</td>\n",
              "    </tr>\n",
              "    <tr>\n",
              "      <td>16</td>\n",
              "      <td>1.496300</td>\n",
              "      <td>2.309742</td>\n",
              "      <td>0.234043</td>\n",
              "    </tr>\n",
              "    <tr>\n",
              "      <td>17</td>\n",
              "      <td>1.496300</td>\n",
              "      <td>2.436884</td>\n",
              "      <td>0.226950</td>\n",
              "    </tr>\n",
              "    <tr>\n",
              "      <td>18</td>\n",
              "      <td>1.496300</td>\n",
              "      <td>2.528391</td>\n",
              "      <td>0.205674</td>\n",
              "    </tr>\n",
              "    <tr>\n",
              "      <td>19</td>\n",
              "      <td>1.496300</td>\n",
              "      <td>2.518150</td>\n",
              "      <td>0.234043</td>\n",
              "    </tr>\n",
              "    <tr>\n",
              "      <td>20</td>\n",
              "      <td>1.496300</td>\n",
              "      <td>2.619831</td>\n",
              "      <td>0.237589</td>\n",
              "    </tr>\n",
              "    <tr>\n",
              "      <td>21</td>\n",
              "      <td>1.496300</td>\n",
              "      <td>2.744921</td>\n",
              "      <td>0.216312</td>\n",
              "    </tr>\n",
              "    <tr>\n",
              "      <td>22</td>\n",
              "      <td>1.496300</td>\n",
              "      <td>2.767242</td>\n",
              "      <td>0.241135</td>\n",
              "    </tr>\n",
              "    <tr>\n",
              "      <td>23</td>\n",
              "      <td>1.496300</td>\n",
              "      <td>2.818499</td>\n",
              "      <td>0.223404</td>\n",
              "    </tr>\n",
              "    <tr>\n",
              "      <td>24</td>\n",
              "      <td>1.496300</td>\n",
              "      <td>2.943350</td>\n",
              "      <td>0.216312</td>\n",
              "    </tr>\n",
              "    <tr>\n",
              "      <td>25</td>\n",
              "      <td>1.496300</td>\n",
              "      <td>2.971304</td>\n",
              "      <td>0.184397</td>\n",
              "    </tr>\n",
              "    <tr>\n",
              "      <td>26</td>\n",
              "      <td>1.496300</td>\n",
              "      <td>3.025208</td>\n",
              "      <td>0.205674</td>\n",
              "    </tr>\n",
              "    <tr>\n",
              "      <td>27</td>\n",
              "      <td>1.496300</td>\n",
              "      <td>3.039439</td>\n",
              "      <td>0.209220</td>\n",
              "    </tr>\n",
              "    <tr>\n",
              "      <td>28</td>\n",
              "      <td>0.705100</td>\n",
              "      <td>3.158480</td>\n",
              "      <td>0.202128</td>\n",
              "    </tr>\n",
              "    <tr>\n",
              "      <td>29</td>\n",
              "      <td>0.705100</td>\n",
              "      <td>3.158970</td>\n",
              "      <td>0.212766</td>\n",
              "    </tr>\n",
              "    <tr>\n",
              "      <td>30</td>\n",
              "      <td>0.705100</td>\n",
              "      <td>3.285752</td>\n",
              "      <td>0.216312</td>\n",
              "    </tr>\n",
              "    <tr>\n",
              "      <td>31</td>\n",
              "      <td>0.705100</td>\n",
              "      <td>3.350070</td>\n",
              "      <td>0.205674</td>\n",
              "    </tr>\n",
              "    <tr>\n",
              "      <td>32</td>\n",
              "      <td>0.705100</td>\n",
              "      <td>3.410326</td>\n",
              "      <td>0.195035</td>\n",
              "    </tr>\n",
              "    <tr>\n",
              "      <td>33</td>\n",
              "      <td>0.705100</td>\n",
              "      <td>3.424867</td>\n",
              "      <td>0.212766</td>\n",
              "    </tr>\n",
              "    <tr>\n",
              "      <td>34</td>\n",
              "      <td>0.705100</td>\n",
              "      <td>3.543618</td>\n",
              "      <td>0.187943</td>\n",
              "    </tr>\n",
              "    <tr>\n",
              "      <td>35</td>\n",
              "      <td>0.705100</td>\n",
              "      <td>3.544438</td>\n",
              "      <td>0.205674</td>\n",
              "    </tr>\n",
              "    <tr>\n",
              "      <td>36</td>\n",
              "      <td>0.705100</td>\n",
              "      <td>3.617639</td>\n",
              "      <td>0.195035</td>\n",
              "    </tr>\n",
              "    <tr>\n",
              "      <td>37</td>\n",
              "      <td>0.705100</td>\n",
              "      <td>3.583066</td>\n",
              "      <td>0.219858</td>\n",
              "    </tr>\n",
              "    <tr>\n",
              "      <td>38</td>\n",
              "      <td>0.705100</td>\n",
              "      <td>3.626243</td>\n",
              "      <td>0.195035</td>\n",
              "    </tr>\n",
              "    <tr>\n",
              "      <td>39</td>\n",
              "      <td>0.705100</td>\n",
              "      <td>3.683765</td>\n",
              "      <td>0.209220</td>\n",
              "    </tr>\n",
              "    <tr>\n",
              "      <td>40</td>\n",
              "      <td>0.705100</td>\n",
              "      <td>3.738860</td>\n",
              "      <td>0.216312</td>\n",
              "    </tr>\n",
              "    <tr>\n",
              "      <td>41</td>\n",
              "      <td>0.705100</td>\n",
              "      <td>3.747598</td>\n",
              "      <td>0.216312</td>\n",
              "    </tr>\n",
              "    <tr>\n",
              "      <td>42</td>\n",
              "      <td>0.267900</td>\n",
              "      <td>3.759674</td>\n",
              "      <td>0.219858</td>\n",
              "    </tr>\n",
              "    <tr>\n",
              "      <td>43</td>\n",
              "      <td>0.267900</td>\n",
              "      <td>3.797113</td>\n",
              "      <td>0.195035</td>\n",
              "    </tr>\n",
              "    <tr>\n",
              "      <td>44</td>\n",
              "      <td>0.267900</td>\n",
              "      <td>3.773953</td>\n",
              "      <td>0.198582</td>\n",
              "    </tr>\n",
              "    <tr>\n",
              "      <td>45</td>\n",
              "      <td>0.267900</td>\n",
              "      <td>3.798296</td>\n",
              "      <td>0.198582</td>\n",
              "    </tr>\n",
              "    <tr>\n",
              "      <td>46</td>\n",
              "      <td>0.267900</td>\n",
              "      <td>3.802966</td>\n",
              "      <td>0.198582</td>\n",
              "    </tr>\n",
              "    <tr>\n",
              "      <td>47</td>\n",
              "      <td>0.267900</td>\n",
              "      <td>3.803904</td>\n",
              "      <td>0.205674</td>\n",
              "    </tr>\n",
              "    <tr>\n",
              "      <td>48</td>\n",
              "      <td>0.267900</td>\n",
              "      <td>3.831780</td>\n",
              "      <td>0.202128</td>\n",
              "    </tr>\n",
              "    <tr>\n",
              "      <td>49</td>\n",
              "      <td>0.267900</td>\n",
              "      <td>3.834398</td>\n",
              "      <td>0.205674</td>\n",
              "    </tr>\n",
              "    <tr>\n",
              "      <td>50</td>\n",
              "      <td>0.267900</td>\n",
              "      <td>3.832674</td>\n",
              "      <td>0.205674</td>\n",
              "    </tr>\n",
              "  </tbody>\n",
              "</table><p>"
            ],
            "text/plain": [
              "<IPython.core.display.HTML object>"
            ]
          },
          "metadata": {},
          "output_type": "display_data"
        },
        {
          "name": "stdout",
          "output_type": "stream",
          "text": [
            "\n",
            "→ Evaluation at epoch 1\n",
            "Evaluation Accuracy: 0.2730\n",
            "Evaluation Loss: 1.7662\n",
            "→ New best accuracy! Saving model to ./results/best_model_250603/fold_3\n"
          ]
        },
        {
          "name": "stderr",
          "output_type": "stream",
          "text": [
            "/home/daniel/anaconda3/envs/symbolic_transformer/lib/python3.7/site-packages/torch/nn/parallel/_functions.py:68: UserWarning: Was asked to gather along dimension 0, but all input tensors were scalars; will instead unsqueeze and return a vector.\n",
            "  warnings.warn('Was asked to gather along dimension 0, but all '\n"
          ]
        },
        {
          "name": "stdout",
          "output_type": "stream",
          "text": [
            "\n",
            "→ Evaluation at epoch 2\n",
            "Evaluation Accuracy: 0.2447\n",
            "Evaluation Loss: 1.7722\n"
          ]
        },
        {
          "name": "stderr",
          "output_type": "stream",
          "text": [
            "/home/daniel/anaconda3/envs/symbolic_transformer/lib/python3.7/site-packages/torch/nn/parallel/_functions.py:68: UserWarning: Was asked to gather along dimension 0, but all input tensors were scalars; will instead unsqueeze and return a vector.\n",
            "  warnings.warn('Was asked to gather along dimension 0, but all '\n"
          ]
        },
        {
          "name": "stdout",
          "output_type": "stream",
          "text": [
            "\n",
            "→ Evaluation at epoch 3\n",
            "Evaluation Accuracy: 0.2730\n",
            "Evaluation Loss: 1.7236\n"
          ]
        },
        {
          "name": "stderr",
          "output_type": "stream",
          "text": [
            "/home/daniel/anaconda3/envs/symbolic_transformer/lib/python3.7/site-packages/torch/nn/parallel/_functions.py:68: UserWarning: Was asked to gather along dimension 0, but all input tensors were scalars; will instead unsqueeze and return a vector.\n",
            "  warnings.warn('Was asked to gather along dimension 0, but all '\n"
          ]
        },
        {
          "name": "stdout",
          "output_type": "stream",
          "text": [
            "\n",
            "→ Evaluation at epoch 4\n",
            "Evaluation Accuracy: 0.2482\n",
            "Evaluation Loss: 1.7507\n"
          ]
        },
        {
          "name": "stderr",
          "output_type": "stream",
          "text": [
            "/home/daniel/anaconda3/envs/symbolic_transformer/lib/python3.7/site-packages/torch/nn/parallel/_functions.py:68: UserWarning: Was asked to gather along dimension 0, but all input tensors were scalars; will instead unsqueeze and return a vector.\n",
            "  warnings.warn('Was asked to gather along dimension 0, but all '\n"
          ]
        },
        {
          "name": "stdout",
          "output_type": "stream",
          "text": [
            "\n",
            "→ Evaluation at epoch 5\n",
            "Evaluation Accuracy: 0.2589\n",
            "Evaluation Loss: 1.7572\n"
          ]
        },
        {
          "name": "stderr",
          "output_type": "stream",
          "text": [
            "/home/daniel/anaconda3/envs/symbolic_transformer/lib/python3.7/site-packages/torch/nn/parallel/_functions.py:68: UserWarning: Was asked to gather along dimension 0, but all input tensors were scalars; will instead unsqueeze and return a vector.\n",
            "  warnings.warn('Was asked to gather along dimension 0, but all '\n"
          ]
        },
        {
          "name": "stdout",
          "output_type": "stream",
          "text": [
            "\n",
            "→ Evaluation at epoch 6\n",
            "Evaluation Accuracy: 0.2270\n",
            "Evaluation Loss: 1.7995\n"
          ]
        },
        {
          "name": "stderr",
          "output_type": "stream",
          "text": [
            "/home/daniel/anaconda3/envs/symbolic_transformer/lib/python3.7/site-packages/torch/nn/parallel/_functions.py:68: UserWarning: Was asked to gather along dimension 0, but all input tensors were scalars; will instead unsqueeze and return a vector.\n",
            "  warnings.warn('Was asked to gather along dimension 0, but all '\n"
          ]
        },
        {
          "name": "stdout",
          "output_type": "stream",
          "text": [
            "\n",
            "→ Evaluation at epoch 7\n",
            "Evaluation Accuracy: 0.2305\n",
            "Evaluation Loss: 1.7858\n"
          ]
        },
        {
          "name": "stderr",
          "output_type": "stream",
          "text": [
            "/home/daniel/anaconda3/envs/symbolic_transformer/lib/python3.7/site-packages/torch/nn/parallel/_functions.py:68: UserWarning: Was asked to gather along dimension 0, but all input tensors were scalars; will instead unsqueeze and return a vector.\n",
            "  warnings.warn('Was asked to gather along dimension 0, but all '\n"
          ]
        },
        {
          "name": "stdout",
          "output_type": "stream",
          "text": [
            "\n",
            "→ Evaluation at epoch 8\n",
            "Evaluation Accuracy: 0.2340\n",
            "Evaluation Loss: 1.8873\n"
          ]
        },
        {
          "name": "stderr",
          "output_type": "stream",
          "text": [
            "/home/daniel/anaconda3/envs/symbolic_transformer/lib/python3.7/site-packages/torch/nn/parallel/_functions.py:68: UserWarning: Was asked to gather along dimension 0, but all input tensors were scalars; will instead unsqueeze and return a vector.\n",
            "  warnings.warn('Was asked to gather along dimension 0, but all '\n"
          ]
        },
        {
          "name": "stdout",
          "output_type": "stream",
          "text": [
            "\n",
            "→ Evaluation at epoch 9\n",
            "Evaluation Accuracy: 0.2128\n",
            "Evaluation Loss: 1.8898\n"
          ]
        },
        {
          "name": "stderr",
          "output_type": "stream",
          "text": [
            "/home/daniel/anaconda3/envs/symbolic_transformer/lib/python3.7/site-packages/torch/nn/parallel/_functions.py:68: UserWarning: Was asked to gather along dimension 0, but all input tensors were scalars; will instead unsqueeze and return a vector.\n",
            "  warnings.warn('Was asked to gather along dimension 0, but all '\n"
          ]
        },
        {
          "name": "stdout",
          "output_type": "stream",
          "text": [
            "\n",
            "→ Evaluation at epoch 10\n",
            "Evaluation Accuracy: 0.2411\n",
            "Evaluation Loss: 1.9520\n"
          ]
        },
        {
          "name": "stderr",
          "output_type": "stream",
          "text": [
            "/home/daniel/anaconda3/envs/symbolic_transformer/lib/python3.7/site-packages/torch/nn/parallel/_functions.py:68: UserWarning: Was asked to gather along dimension 0, but all input tensors were scalars; will instead unsqueeze and return a vector.\n",
            "  warnings.warn('Was asked to gather along dimension 0, but all '\n"
          ]
        },
        {
          "name": "stdout",
          "output_type": "stream",
          "text": [
            "\n",
            "→ Evaluation at epoch 11\n",
            "Evaluation Accuracy: 0.2163\n",
            "Evaluation Loss: 1.9739\n"
          ]
        },
        {
          "name": "stderr",
          "output_type": "stream",
          "text": [
            "/home/daniel/anaconda3/envs/symbolic_transformer/lib/python3.7/site-packages/torch/nn/parallel/_functions.py:68: UserWarning: Was asked to gather along dimension 0, but all input tensors were scalars; will instead unsqueeze and return a vector.\n",
            "  warnings.warn('Was asked to gather along dimension 0, but all '\n"
          ]
        },
        {
          "name": "stdout",
          "output_type": "stream",
          "text": [
            "\n",
            "→ Evaluation at epoch 12\n",
            "Evaluation Accuracy: 0.2234\n",
            "Evaluation Loss: 2.0404\n"
          ]
        },
        {
          "name": "stderr",
          "output_type": "stream",
          "text": [
            "/home/daniel/anaconda3/envs/symbolic_transformer/lib/python3.7/site-packages/torch/nn/parallel/_functions.py:68: UserWarning: Was asked to gather along dimension 0, but all input tensors were scalars; will instead unsqueeze and return a vector.\n",
            "  warnings.warn('Was asked to gather along dimension 0, but all '\n"
          ]
        },
        {
          "name": "stdout",
          "output_type": "stream",
          "text": [
            "\n",
            "→ Evaluation at epoch 13\n",
            "Evaluation Accuracy: 0.2234\n",
            "Evaluation Loss: 2.1195\n"
          ]
        },
        {
          "name": "stderr",
          "output_type": "stream",
          "text": [
            "/home/daniel/anaconda3/envs/symbolic_transformer/lib/python3.7/site-packages/torch/nn/parallel/_functions.py:68: UserWarning: Was asked to gather along dimension 0, but all input tensors were scalars; will instead unsqueeze and return a vector.\n",
            "  warnings.warn('Was asked to gather along dimension 0, but all '\n"
          ]
        },
        {
          "name": "stdout",
          "output_type": "stream",
          "text": [
            "\n",
            "→ Evaluation at epoch 14\n",
            "Evaluation Accuracy: 0.2199\n",
            "Evaluation Loss: 2.2156\n"
          ]
        },
        {
          "name": "stderr",
          "output_type": "stream",
          "text": [
            "/home/daniel/anaconda3/envs/symbolic_transformer/lib/python3.7/site-packages/torch/nn/parallel/_functions.py:68: UserWarning: Was asked to gather along dimension 0, but all input tensors were scalars; will instead unsqueeze and return a vector.\n",
            "  warnings.warn('Was asked to gather along dimension 0, but all '\n"
          ]
        },
        {
          "name": "stdout",
          "output_type": "stream",
          "text": [
            "\n",
            "→ Evaluation at epoch 15\n",
            "Evaluation Accuracy: 0.2199\n",
            "Evaluation Loss: 2.2272\n"
          ]
        },
        {
          "name": "stderr",
          "output_type": "stream",
          "text": [
            "/home/daniel/anaconda3/envs/symbolic_transformer/lib/python3.7/site-packages/torch/nn/parallel/_functions.py:68: UserWarning: Was asked to gather along dimension 0, but all input tensors were scalars; will instead unsqueeze and return a vector.\n",
            "  warnings.warn('Was asked to gather along dimension 0, but all '\n"
          ]
        },
        {
          "name": "stdout",
          "output_type": "stream",
          "text": [
            "\n",
            "→ Evaluation at epoch 16\n",
            "Evaluation Accuracy: 0.2340\n",
            "Evaluation Loss: 2.3097\n"
          ]
        },
        {
          "name": "stderr",
          "output_type": "stream",
          "text": [
            "/home/daniel/anaconda3/envs/symbolic_transformer/lib/python3.7/site-packages/torch/nn/parallel/_functions.py:68: UserWarning: Was asked to gather along dimension 0, but all input tensors were scalars; will instead unsqueeze and return a vector.\n",
            "  warnings.warn('Was asked to gather along dimension 0, but all '\n"
          ]
        },
        {
          "name": "stdout",
          "output_type": "stream",
          "text": [
            "\n",
            "→ Evaluation at epoch 17\n",
            "Evaluation Accuracy: 0.2270\n",
            "Evaluation Loss: 2.4369\n"
          ]
        },
        {
          "name": "stderr",
          "output_type": "stream",
          "text": [
            "/home/daniel/anaconda3/envs/symbolic_transformer/lib/python3.7/site-packages/torch/nn/parallel/_functions.py:68: UserWarning: Was asked to gather along dimension 0, but all input tensors were scalars; will instead unsqueeze and return a vector.\n",
            "  warnings.warn('Was asked to gather along dimension 0, but all '\n"
          ]
        },
        {
          "name": "stdout",
          "output_type": "stream",
          "text": [
            "\n",
            "→ Evaluation at epoch 18\n",
            "Evaluation Accuracy: 0.2057\n",
            "Evaluation Loss: 2.5284\n"
          ]
        },
        {
          "name": "stderr",
          "output_type": "stream",
          "text": [
            "/home/daniel/anaconda3/envs/symbolic_transformer/lib/python3.7/site-packages/torch/nn/parallel/_functions.py:68: UserWarning: Was asked to gather along dimension 0, but all input tensors were scalars; will instead unsqueeze and return a vector.\n",
            "  warnings.warn('Was asked to gather along dimension 0, but all '\n"
          ]
        },
        {
          "name": "stdout",
          "output_type": "stream",
          "text": [
            "\n",
            "→ Evaluation at epoch 19\n",
            "Evaluation Accuracy: 0.2340\n",
            "Evaluation Loss: 2.5181\n"
          ]
        },
        {
          "name": "stderr",
          "output_type": "stream",
          "text": [
            "/home/daniel/anaconda3/envs/symbolic_transformer/lib/python3.7/site-packages/torch/nn/parallel/_functions.py:68: UserWarning: Was asked to gather along dimension 0, but all input tensors were scalars; will instead unsqueeze and return a vector.\n",
            "  warnings.warn('Was asked to gather along dimension 0, but all '\n"
          ]
        },
        {
          "name": "stdout",
          "output_type": "stream",
          "text": [
            "\n",
            "→ Evaluation at epoch 20\n",
            "Evaluation Accuracy: 0.2376\n",
            "Evaluation Loss: 2.6198\n"
          ]
        },
        {
          "name": "stderr",
          "output_type": "stream",
          "text": [
            "/home/daniel/anaconda3/envs/symbolic_transformer/lib/python3.7/site-packages/torch/nn/parallel/_functions.py:68: UserWarning: Was asked to gather along dimension 0, but all input tensors were scalars; will instead unsqueeze and return a vector.\n",
            "  warnings.warn('Was asked to gather along dimension 0, but all '\n"
          ]
        },
        {
          "name": "stdout",
          "output_type": "stream",
          "text": [
            "\n",
            "→ Evaluation at epoch 21\n",
            "Evaluation Accuracy: 0.2163\n",
            "Evaluation Loss: 2.7449\n"
          ]
        },
        {
          "name": "stderr",
          "output_type": "stream",
          "text": [
            "/home/daniel/anaconda3/envs/symbolic_transformer/lib/python3.7/site-packages/torch/nn/parallel/_functions.py:68: UserWarning: Was asked to gather along dimension 0, but all input tensors were scalars; will instead unsqueeze and return a vector.\n",
            "  warnings.warn('Was asked to gather along dimension 0, but all '\n"
          ]
        },
        {
          "name": "stdout",
          "output_type": "stream",
          "text": [
            "\n",
            "→ Evaluation at epoch 22\n",
            "Evaluation Accuracy: 0.2411\n",
            "Evaluation Loss: 2.7672\n"
          ]
        },
        {
          "name": "stderr",
          "output_type": "stream",
          "text": [
            "/home/daniel/anaconda3/envs/symbolic_transformer/lib/python3.7/site-packages/torch/nn/parallel/_functions.py:68: UserWarning: Was asked to gather along dimension 0, but all input tensors were scalars; will instead unsqueeze and return a vector.\n",
            "  warnings.warn('Was asked to gather along dimension 0, but all '\n"
          ]
        },
        {
          "name": "stdout",
          "output_type": "stream",
          "text": [
            "\n",
            "→ Evaluation at epoch 23\n",
            "Evaluation Accuracy: 0.2234\n",
            "Evaluation Loss: 2.8185\n"
          ]
        },
        {
          "name": "stderr",
          "output_type": "stream",
          "text": [
            "/home/daniel/anaconda3/envs/symbolic_transformer/lib/python3.7/site-packages/torch/nn/parallel/_functions.py:68: UserWarning: Was asked to gather along dimension 0, but all input tensors were scalars; will instead unsqueeze and return a vector.\n",
            "  warnings.warn('Was asked to gather along dimension 0, but all '\n"
          ]
        },
        {
          "name": "stdout",
          "output_type": "stream",
          "text": [
            "\n",
            "→ Evaluation at epoch 24\n",
            "Evaluation Accuracy: 0.2163\n",
            "Evaluation Loss: 2.9433\n"
          ]
        },
        {
          "name": "stderr",
          "output_type": "stream",
          "text": [
            "/home/daniel/anaconda3/envs/symbolic_transformer/lib/python3.7/site-packages/torch/nn/parallel/_functions.py:68: UserWarning: Was asked to gather along dimension 0, but all input tensors were scalars; will instead unsqueeze and return a vector.\n",
            "  warnings.warn('Was asked to gather along dimension 0, but all '\n"
          ]
        },
        {
          "name": "stdout",
          "output_type": "stream",
          "text": [
            "\n",
            "→ Evaluation at epoch 25\n",
            "Evaluation Accuracy: 0.1844\n",
            "Evaluation Loss: 2.9713\n"
          ]
        },
        {
          "name": "stderr",
          "output_type": "stream",
          "text": [
            "/home/daniel/anaconda3/envs/symbolic_transformer/lib/python3.7/site-packages/torch/nn/parallel/_functions.py:68: UserWarning: Was asked to gather along dimension 0, but all input tensors were scalars; will instead unsqueeze and return a vector.\n",
            "  warnings.warn('Was asked to gather along dimension 0, but all '\n"
          ]
        },
        {
          "name": "stdout",
          "output_type": "stream",
          "text": [
            "\n",
            "→ Evaluation at epoch 26\n",
            "Evaluation Accuracy: 0.2057\n",
            "Evaluation Loss: 3.0252\n"
          ]
        },
        {
          "name": "stderr",
          "output_type": "stream",
          "text": [
            "/home/daniel/anaconda3/envs/symbolic_transformer/lib/python3.7/site-packages/torch/nn/parallel/_functions.py:68: UserWarning: Was asked to gather along dimension 0, but all input tensors were scalars; will instead unsqueeze and return a vector.\n",
            "  warnings.warn('Was asked to gather along dimension 0, but all '\n"
          ]
        },
        {
          "name": "stdout",
          "output_type": "stream",
          "text": [
            "\n",
            "→ Evaluation at epoch 27\n",
            "Evaluation Accuracy: 0.2092\n",
            "Evaluation Loss: 3.0394\n"
          ]
        },
        {
          "name": "stderr",
          "output_type": "stream",
          "text": [
            "/home/daniel/anaconda3/envs/symbolic_transformer/lib/python3.7/site-packages/torch/nn/parallel/_functions.py:68: UserWarning: Was asked to gather along dimension 0, but all input tensors were scalars; will instead unsqueeze and return a vector.\n",
            "  warnings.warn('Was asked to gather along dimension 0, but all '\n"
          ]
        },
        {
          "name": "stdout",
          "output_type": "stream",
          "text": [
            "\n",
            "→ Evaluation at epoch 28\n",
            "Evaluation Accuracy: 0.2021\n",
            "Evaluation Loss: 3.1585\n"
          ]
        },
        {
          "name": "stderr",
          "output_type": "stream",
          "text": [
            "/home/daniel/anaconda3/envs/symbolic_transformer/lib/python3.7/site-packages/torch/nn/parallel/_functions.py:68: UserWarning: Was asked to gather along dimension 0, but all input tensors were scalars; will instead unsqueeze and return a vector.\n",
            "  warnings.warn('Was asked to gather along dimension 0, but all '\n"
          ]
        },
        {
          "name": "stdout",
          "output_type": "stream",
          "text": [
            "\n",
            "→ Evaluation at epoch 29\n",
            "Evaluation Accuracy: 0.2128\n",
            "Evaluation Loss: 3.1590\n"
          ]
        },
        {
          "name": "stderr",
          "output_type": "stream",
          "text": [
            "/home/daniel/anaconda3/envs/symbolic_transformer/lib/python3.7/site-packages/torch/nn/parallel/_functions.py:68: UserWarning: Was asked to gather along dimension 0, but all input tensors were scalars; will instead unsqueeze and return a vector.\n",
            "  warnings.warn('Was asked to gather along dimension 0, but all '\n"
          ]
        },
        {
          "name": "stdout",
          "output_type": "stream",
          "text": [
            "\n",
            "→ Evaluation at epoch 30\n",
            "Evaluation Accuracy: 0.2163\n",
            "Evaluation Loss: 3.2858\n"
          ]
        },
        {
          "name": "stderr",
          "output_type": "stream",
          "text": [
            "/home/daniel/anaconda3/envs/symbolic_transformer/lib/python3.7/site-packages/torch/nn/parallel/_functions.py:68: UserWarning: Was asked to gather along dimension 0, but all input tensors were scalars; will instead unsqueeze and return a vector.\n",
            "  warnings.warn('Was asked to gather along dimension 0, but all '\n"
          ]
        },
        {
          "name": "stdout",
          "output_type": "stream",
          "text": [
            "\n",
            "→ Evaluation at epoch 31\n",
            "Evaluation Accuracy: 0.2057\n",
            "Evaluation Loss: 3.3501\n"
          ]
        },
        {
          "name": "stderr",
          "output_type": "stream",
          "text": [
            "/home/daniel/anaconda3/envs/symbolic_transformer/lib/python3.7/site-packages/torch/nn/parallel/_functions.py:68: UserWarning: Was asked to gather along dimension 0, but all input tensors were scalars; will instead unsqueeze and return a vector.\n",
            "  warnings.warn('Was asked to gather along dimension 0, but all '\n"
          ]
        },
        {
          "name": "stdout",
          "output_type": "stream",
          "text": [
            "\n",
            "→ Evaluation at epoch 32\n",
            "Evaluation Accuracy: 0.1950\n",
            "Evaluation Loss: 3.4103\n"
          ]
        },
        {
          "name": "stderr",
          "output_type": "stream",
          "text": [
            "/home/daniel/anaconda3/envs/symbolic_transformer/lib/python3.7/site-packages/torch/nn/parallel/_functions.py:68: UserWarning: Was asked to gather along dimension 0, but all input tensors were scalars; will instead unsqueeze and return a vector.\n",
            "  warnings.warn('Was asked to gather along dimension 0, but all '\n"
          ]
        },
        {
          "name": "stdout",
          "output_type": "stream",
          "text": [
            "\n",
            "→ Evaluation at epoch 33\n",
            "Evaluation Accuracy: 0.2128\n",
            "Evaluation Loss: 3.4249\n"
          ]
        },
        {
          "name": "stderr",
          "output_type": "stream",
          "text": [
            "/home/daniel/anaconda3/envs/symbolic_transformer/lib/python3.7/site-packages/torch/nn/parallel/_functions.py:68: UserWarning: Was asked to gather along dimension 0, but all input tensors were scalars; will instead unsqueeze and return a vector.\n",
            "  warnings.warn('Was asked to gather along dimension 0, but all '\n"
          ]
        },
        {
          "name": "stdout",
          "output_type": "stream",
          "text": [
            "\n",
            "→ Evaluation at epoch 34\n",
            "Evaluation Accuracy: 0.1879\n",
            "Evaluation Loss: 3.5436\n"
          ]
        },
        {
          "name": "stderr",
          "output_type": "stream",
          "text": [
            "/home/daniel/anaconda3/envs/symbolic_transformer/lib/python3.7/site-packages/torch/nn/parallel/_functions.py:68: UserWarning: Was asked to gather along dimension 0, but all input tensors were scalars; will instead unsqueeze and return a vector.\n",
            "  warnings.warn('Was asked to gather along dimension 0, but all '\n"
          ]
        },
        {
          "name": "stdout",
          "output_type": "stream",
          "text": [
            "\n",
            "→ Evaluation at epoch 35\n",
            "Evaluation Accuracy: 0.2057\n",
            "Evaluation Loss: 3.5444\n"
          ]
        },
        {
          "name": "stderr",
          "output_type": "stream",
          "text": [
            "/home/daniel/anaconda3/envs/symbolic_transformer/lib/python3.7/site-packages/torch/nn/parallel/_functions.py:68: UserWarning: Was asked to gather along dimension 0, but all input tensors were scalars; will instead unsqueeze and return a vector.\n",
            "  warnings.warn('Was asked to gather along dimension 0, but all '\n"
          ]
        },
        {
          "name": "stdout",
          "output_type": "stream",
          "text": [
            "\n",
            "→ Evaluation at epoch 36\n",
            "Evaluation Accuracy: 0.1950\n",
            "Evaluation Loss: 3.6176\n"
          ]
        },
        {
          "name": "stderr",
          "output_type": "stream",
          "text": [
            "/home/daniel/anaconda3/envs/symbolic_transformer/lib/python3.7/site-packages/torch/nn/parallel/_functions.py:68: UserWarning: Was asked to gather along dimension 0, but all input tensors were scalars; will instead unsqueeze and return a vector.\n",
            "  warnings.warn('Was asked to gather along dimension 0, but all '\n"
          ]
        },
        {
          "name": "stdout",
          "output_type": "stream",
          "text": [
            "\n",
            "→ Evaluation at epoch 37\n",
            "Evaluation Accuracy: 0.2199\n",
            "Evaluation Loss: 3.5831\n"
          ]
        },
        {
          "name": "stderr",
          "output_type": "stream",
          "text": [
            "/home/daniel/anaconda3/envs/symbolic_transformer/lib/python3.7/site-packages/torch/nn/parallel/_functions.py:68: UserWarning: Was asked to gather along dimension 0, but all input tensors were scalars; will instead unsqueeze and return a vector.\n",
            "  warnings.warn('Was asked to gather along dimension 0, but all '\n"
          ]
        },
        {
          "name": "stdout",
          "output_type": "stream",
          "text": [
            "\n",
            "→ Evaluation at epoch 38\n",
            "Evaluation Accuracy: 0.1950\n",
            "Evaluation Loss: 3.6262\n"
          ]
        },
        {
          "name": "stderr",
          "output_type": "stream",
          "text": [
            "/home/daniel/anaconda3/envs/symbolic_transformer/lib/python3.7/site-packages/torch/nn/parallel/_functions.py:68: UserWarning: Was asked to gather along dimension 0, but all input tensors were scalars; will instead unsqueeze and return a vector.\n",
            "  warnings.warn('Was asked to gather along dimension 0, but all '\n"
          ]
        },
        {
          "name": "stdout",
          "output_type": "stream",
          "text": [
            "\n",
            "→ Evaluation at epoch 39\n",
            "Evaluation Accuracy: 0.2092\n",
            "Evaluation Loss: 3.6838\n"
          ]
        },
        {
          "name": "stderr",
          "output_type": "stream",
          "text": [
            "/home/daniel/anaconda3/envs/symbolic_transformer/lib/python3.7/site-packages/torch/nn/parallel/_functions.py:68: UserWarning: Was asked to gather along dimension 0, but all input tensors were scalars; will instead unsqueeze and return a vector.\n",
            "  warnings.warn('Was asked to gather along dimension 0, but all '\n"
          ]
        },
        {
          "name": "stdout",
          "output_type": "stream",
          "text": [
            "\n",
            "→ Evaluation at epoch 40\n",
            "Evaluation Accuracy: 0.2163\n",
            "Evaluation Loss: 3.7389\n"
          ]
        },
        {
          "name": "stderr",
          "output_type": "stream",
          "text": [
            "/home/daniel/anaconda3/envs/symbolic_transformer/lib/python3.7/site-packages/torch/nn/parallel/_functions.py:68: UserWarning: Was asked to gather along dimension 0, but all input tensors were scalars; will instead unsqueeze and return a vector.\n",
            "  warnings.warn('Was asked to gather along dimension 0, but all '\n"
          ]
        },
        {
          "name": "stdout",
          "output_type": "stream",
          "text": [
            "\n",
            "→ Evaluation at epoch 41\n",
            "Evaluation Accuracy: 0.2163\n",
            "Evaluation Loss: 3.7476\n"
          ]
        },
        {
          "name": "stderr",
          "output_type": "stream",
          "text": [
            "/home/daniel/anaconda3/envs/symbolic_transformer/lib/python3.7/site-packages/torch/nn/parallel/_functions.py:68: UserWarning: Was asked to gather along dimension 0, but all input tensors were scalars; will instead unsqueeze and return a vector.\n",
            "  warnings.warn('Was asked to gather along dimension 0, but all '\n"
          ]
        },
        {
          "name": "stdout",
          "output_type": "stream",
          "text": [
            "\n",
            "→ Evaluation at epoch 42\n",
            "Evaluation Accuracy: 0.2199\n",
            "Evaluation Loss: 3.7597\n"
          ]
        },
        {
          "name": "stderr",
          "output_type": "stream",
          "text": [
            "/home/daniel/anaconda3/envs/symbolic_transformer/lib/python3.7/site-packages/torch/nn/parallel/_functions.py:68: UserWarning: Was asked to gather along dimension 0, but all input tensors were scalars; will instead unsqueeze and return a vector.\n",
            "  warnings.warn('Was asked to gather along dimension 0, but all '\n"
          ]
        },
        {
          "name": "stdout",
          "output_type": "stream",
          "text": [
            "\n",
            "→ Evaluation at epoch 43\n",
            "Evaluation Accuracy: 0.1950\n",
            "Evaluation Loss: 3.7971\n"
          ]
        },
        {
          "name": "stderr",
          "output_type": "stream",
          "text": [
            "/home/daniel/anaconda3/envs/symbolic_transformer/lib/python3.7/site-packages/torch/nn/parallel/_functions.py:68: UserWarning: Was asked to gather along dimension 0, but all input tensors were scalars; will instead unsqueeze and return a vector.\n",
            "  warnings.warn('Was asked to gather along dimension 0, but all '\n"
          ]
        },
        {
          "name": "stdout",
          "output_type": "stream",
          "text": [
            "\n",
            "→ Evaluation at epoch 44\n",
            "Evaluation Accuracy: 0.1986\n",
            "Evaluation Loss: 3.7740\n"
          ]
        },
        {
          "name": "stderr",
          "output_type": "stream",
          "text": [
            "/home/daniel/anaconda3/envs/symbolic_transformer/lib/python3.7/site-packages/torch/nn/parallel/_functions.py:68: UserWarning: Was asked to gather along dimension 0, but all input tensors were scalars; will instead unsqueeze and return a vector.\n",
            "  warnings.warn('Was asked to gather along dimension 0, but all '\n"
          ]
        },
        {
          "name": "stdout",
          "output_type": "stream",
          "text": [
            "\n",
            "→ Evaluation at epoch 45\n",
            "Evaluation Accuracy: 0.1986\n",
            "Evaluation Loss: 3.7983\n"
          ]
        },
        {
          "name": "stderr",
          "output_type": "stream",
          "text": [
            "/home/daniel/anaconda3/envs/symbolic_transformer/lib/python3.7/site-packages/torch/nn/parallel/_functions.py:68: UserWarning: Was asked to gather along dimension 0, but all input tensors were scalars; will instead unsqueeze and return a vector.\n",
            "  warnings.warn('Was asked to gather along dimension 0, but all '\n"
          ]
        },
        {
          "name": "stdout",
          "output_type": "stream",
          "text": [
            "\n",
            "→ Evaluation at epoch 46\n",
            "Evaluation Accuracy: 0.1986\n",
            "Evaluation Loss: 3.8030\n"
          ]
        },
        {
          "name": "stderr",
          "output_type": "stream",
          "text": [
            "/home/daniel/anaconda3/envs/symbolic_transformer/lib/python3.7/site-packages/torch/nn/parallel/_functions.py:68: UserWarning: Was asked to gather along dimension 0, but all input tensors were scalars; will instead unsqueeze and return a vector.\n",
            "  warnings.warn('Was asked to gather along dimension 0, but all '\n"
          ]
        },
        {
          "name": "stdout",
          "output_type": "stream",
          "text": [
            "\n",
            "→ Evaluation at epoch 47\n",
            "Evaluation Accuracy: 0.2057\n",
            "Evaluation Loss: 3.8039\n"
          ]
        },
        {
          "name": "stderr",
          "output_type": "stream",
          "text": [
            "/home/daniel/anaconda3/envs/symbolic_transformer/lib/python3.7/site-packages/torch/nn/parallel/_functions.py:68: UserWarning: Was asked to gather along dimension 0, but all input tensors were scalars; will instead unsqueeze and return a vector.\n",
            "  warnings.warn('Was asked to gather along dimension 0, but all '\n"
          ]
        },
        {
          "name": "stdout",
          "output_type": "stream",
          "text": [
            "\n",
            "→ Evaluation at epoch 48\n",
            "Evaluation Accuracy: 0.2021\n",
            "Evaluation Loss: 3.8318\n"
          ]
        },
        {
          "name": "stderr",
          "output_type": "stream",
          "text": [
            "/home/daniel/anaconda3/envs/symbolic_transformer/lib/python3.7/site-packages/torch/nn/parallel/_functions.py:68: UserWarning: Was asked to gather along dimension 0, but all input tensors were scalars; will instead unsqueeze and return a vector.\n",
            "  warnings.warn('Was asked to gather along dimension 0, but all '\n"
          ]
        },
        {
          "name": "stdout",
          "output_type": "stream",
          "text": [
            "\n",
            "→ Evaluation at epoch 49\n",
            "Evaluation Accuracy: 0.2057\n",
            "Evaluation Loss: 3.8344\n"
          ]
        },
        {
          "name": "stderr",
          "output_type": "stream",
          "text": [
            "/home/daniel/anaconda3/envs/symbolic_transformer/lib/python3.7/site-packages/torch/nn/parallel/_functions.py:68: UserWarning: Was asked to gather along dimension 0, but all input tensors were scalars; will instead unsqueeze and return a vector.\n",
            "  warnings.warn('Was asked to gather along dimension 0, but all '\n"
          ]
        },
        {
          "name": "stdout",
          "output_type": "stream",
          "text": [
            "\n",
            "→ Evaluation at epoch 50\n",
            "Evaluation Accuracy: 0.2057\n",
            "Evaluation Loss: 3.8327\n",
            "\n",
            "==== Fold 4/5 ====\n"
          ]
        },
        {
          "data": {
            "application/json": {
              "ascii": false,
              "bar_format": null,
              "colour": null,
              "elapsed": 0.008974313735961914,
              "initial": 0,
              "n": 0,
              "ncols": null,
              "nrows": null,
              "postfix": null,
              "prefix": "Map",
              "rate": null,
              "total": 1128,
              "unit": " examples",
              "unit_divisor": 1000,
              "unit_scale": false
            },
            "application/vnd.jupyter.widget-view+json": {
              "model_id": "6defbc9c369a4e5cae2f9976fbd4a2b6",
              "version_major": 2,
              "version_minor": 0
            },
            "text/plain": [
              "Map:   0%|          | 0/1128 [00:00<?, ? examples/s]"
            ]
          },
          "metadata": {},
          "output_type": "display_data"
        },
        {
          "data": {
            "application/json": {
              "ascii": false,
              "bar_format": null,
              "colour": null,
              "elapsed": 0.004568338394165039,
              "initial": 0,
              "n": 0,
              "ncols": null,
              "nrows": null,
              "postfix": null,
              "prefix": "Map",
              "rate": null,
              "total": 282,
              "unit": " examples",
              "unit_divisor": 1000,
              "unit_scale": false
            },
            "application/vnd.jupyter.widget-view+json": {
              "model_id": "8a3733481eee43a2acbc72db106b1461",
              "version_major": 2,
              "version_minor": 0
            },
            "text/plain": [
              "Map:   0%|          | 0/282 [00:00<?, ? examples/s]"
            ]
          },
          "metadata": {},
          "output_type": "display_data"
        },
        {
          "name": "stderr",
          "output_type": "stream",
          "text": [
            "Some weights of the model checkpoint at neuralmind/bert-base-portuguese-cased were not used when initializing BertForSequenceClassification: ['cls.predictions.transform.dense.bias', 'cls.predictions.transform.LayerNorm.bias', 'cls.predictions.bias', 'cls.predictions.decoder.weight', 'cls.predictions.transform.dense.weight', 'cls.seq_relationship.bias', 'cls.predictions.transform.LayerNorm.weight', 'cls.seq_relationship.weight']\n",
            "- This IS expected if you are initializing BertForSequenceClassification from the checkpoint of a model trained on another task or with another architecture (e.g. initializing a BertForSequenceClassification model from a BertForPreTraining model).\n",
            "- This IS NOT expected if you are initializing BertForSequenceClassification from the checkpoint of a model that you expect to be exactly identical (initializing a BertForSequenceClassification model from a BertForSequenceClassification model).\n",
            "Some weights of BertForSequenceClassification were not initialized from the model checkpoint at neuralmind/bert-base-portuguese-cased and are newly initialized: ['classifier.bias', 'classifier.weight']\n",
            "You should probably TRAIN this model on a down-stream task to be able to use it for predictions and inference.\n",
            "/home/daniel/anaconda3/envs/symbolic_transformer/lib/python3.7/site-packages/transformers/optimization.py:415: FutureWarning: This implementation of AdamW is deprecated and will be removed in a future version. Use the PyTorch implementation torch.optim.AdamW instead, or set `no_deprecation_warning=True` to disable this warning\n",
            "  FutureWarning,\n",
            "/home/daniel/anaconda3/envs/symbolic_transformer/lib/python3.7/site-packages/torch/nn/parallel/_functions.py:68: UserWarning: Was asked to gather along dimension 0, but all input tensors were scalars; will instead unsqueeze and return a vector.\n",
            "  warnings.warn('Was asked to gather along dimension 0, but all '\n"
          ]
        },
        {
          "data": {
            "text/html": [
              "\n",
              "    <div>\n",
              "      \n",
              "      <progress value='1800' max='1800' style='width:300px; height:20px; vertical-align: middle;'></progress>\n",
              "      [1800/1800 04:25, Epoch 50/50]\n",
              "    </div>\n",
              "    <table border=\"1\" class=\"dataframe\">\n",
              "  <thead>\n",
              " <tr style=\"text-align: left;\">\n",
              "      <th>Epoch</th>\n",
              "      <th>Training Loss</th>\n",
              "      <th>Validation Loss</th>\n",
              "      <th>Accuracy</th>\n",
              "    </tr>\n",
              "  </thead>\n",
              "  <tbody>\n",
              "    <tr>\n",
              "      <td>1</td>\n",
              "      <td>No log</td>\n",
              "      <td>1.750362</td>\n",
              "      <td>0.237589</td>\n",
              "    </tr>\n",
              "    <tr>\n",
              "      <td>2</td>\n",
              "      <td>No log</td>\n",
              "      <td>1.752954</td>\n",
              "      <td>0.226950</td>\n",
              "    </tr>\n",
              "    <tr>\n",
              "      <td>3</td>\n",
              "      <td>No log</td>\n",
              "      <td>1.734819</td>\n",
              "      <td>0.276596</td>\n",
              "    </tr>\n",
              "    <tr>\n",
              "      <td>4</td>\n",
              "      <td>No log</td>\n",
              "      <td>1.702380</td>\n",
              "      <td>0.283688</td>\n",
              "    </tr>\n",
              "    <tr>\n",
              "      <td>5</td>\n",
              "      <td>No log</td>\n",
              "      <td>1.729954</td>\n",
              "      <td>0.290780</td>\n",
              "    </tr>\n",
              "    <tr>\n",
              "      <td>6</td>\n",
              "      <td>No log</td>\n",
              "      <td>1.698324</td>\n",
              "      <td>0.290780</td>\n",
              "    </tr>\n",
              "    <tr>\n",
              "      <td>7</td>\n",
              "      <td>No log</td>\n",
              "      <td>1.711958</td>\n",
              "      <td>0.283688</td>\n",
              "    </tr>\n",
              "    <tr>\n",
              "      <td>8</td>\n",
              "      <td>No log</td>\n",
              "      <td>1.711419</td>\n",
              "      <td>0.276596</td>\n",
              "    </tr>\n",
              "    <tr>\n",
              "      <td>9</td>\n",
              "      <td>No log</td>\n",
              "      <td>1.723040</td>\n",
              "      <td>0.294326</td>\n",
              "    </tr>\n",
              "    <tr>\n",
              "      <td>10</td>\n",
              "      <td>No log</td>\n",
              "      <td>1.770352</td>\n",
              "      <td>0.290780</td>\n",
              "    </tr>\n",
              "    <tr>\n",
              "      <td>11</td>\n",
              "      <td>No log</td>\n",
              "      <td>1.836124</td>\n",
              "      <td>0.308511</td>\n",
              "    </tr>\n",
              "    <tr>\n",
              "      <td>12</td>\n",
              "      <td>No log</td>\n",
              "      <td>1.896176</td>\n",
              "      <td>0.290780</td>\n",
              "    </tr>\n",
              "    <tr>\n",
              "      <td>13</td>\n",
              "      <td>No log</td>\n",
              "      <td>1.951774</td>\n",
              "      <td>0.283688</td>\n",
              "    </tr>\n",
              "    <tr>\n",
              "      <td>14</td>\n",
              "      <td>1.519800</td>\n",
              "      <td>2.031186</td>\n",
              "      <td>0.308511</td>\n",
              "    </tr>\n",
              "    <tr>\n",
              "      <td>15</td>\n",
              "      <td>1.519800</td>\n",
              "      <td>2.119556</td>\n",
              "      <td>0.301418</td>\n",
              "    </tr>\n",
              "    <tr>\n",
              "      <td>16</td>\n",
              "      <td>1.519800</td>\n",
              "      <td>2.153605</td>\n",
              "      <td>0.280142</td>\n",
              "    </tr>\n",
              "    <tr>\n",
              "      <td>17</td>\n",
              "      <td>1.519800</td>\n",
              "      <td>2.254152</td>\n",
              "      <td>0.269504</td>\n",
              "    </tr>\n",
              "    <tr>\n",
              "      <td>18</td>\n",
              "      <td>1.519800</td>\n",
              "      <td>2.307658</td>\n",
              "      <td>0.276596</td>\n",
              "    </tr>\n",
              "    <tr>\n",
              "      <td>19</td>\n",
              "      <td>1.519800</td>\n",
              "      <td>2.342668</td>\n",
              "      <td>0.258865</td>\n",
              "    </tr>\n",
              "    <tr>\n",
              "      <td>20</td>\n",
              "      <td>1.519800</td>\n",
              "      <td>2.467885</td>\n",
              "      <td>0.262411</td>\n",
              "    </tr>\n",
              "    <tr>\n",
              "      <td>21</td>\n",
              "      <td>1.519800</td>\n",
              "      <td>2.530155</td>\n",
              "      <td>0.262411</td>\n",
              "    </tr>\n",
              "    <tr>\n",
              "      <td>22</td>\n",
              "      <td>1.519800</td>\n",
              "      <td>2.622118</td>\n",
              "      <td>0.244681</td>\n",
              "    </tr>\n",
              "    <tr>\n",
              "      <td>23</td>\n",
              "      <td>1.519800</td>\n",
              "      <td>2.670898</td>\n",
              "      <td>0.255319</td>\n",
              "    </tr>\n",
              "    <tr>\n",
              "      <td>24</td>\n",
              "      <td>1.519800</td>\n",
              "      <td>2.756879</td>\n",
              "      <td>0.237589</td>\n",
              "    </tr>\n",
              "    <tr>\n",
              "      <td>25</td>\n",
              "      <td>1.519800</td>\n",
              "      <td>2.837513</td>\n",
              "      <td>0.244681</td>\n",
              "    </tr>\n",
              "    <tr>\n",
              "      <td>26</td>\n",
              "      <td>1.519800</td>\n",
              "      <td>2.867131</td>\n",
              "      <td>0.258865</td>\n",
              "    </tr>\n",
              "    <tr>\n",
              "      <td>27</td>\n",
              "      <td>1.519800</td>\n",
              "      <td>2.976261</td>\n",
              "      <td>0.255319</td>\n",
              "    </tr>\n",
              "    <tr>\n",
              "      <td>28</td>\n",
              "      <td>0.667500</td>\n",
              "      <td>3.054787</td>\n",
              "      <td>0.223404</td>\n",
              "    </tr>\n",
              "    <tr>\n",
              "      <td>29</td>\n",
              "      <td>0.667500</td>\n",
              "      <td>3.088918</td>\n",
              "      <td>0.230496</td>\n",
              "    </tr>\n",
              "    <tr>\n",
              "      <td>30</td>\n",
              "      <td>0.667500</td>\n",
              "      <td>3.153102</td>\n",
              "      <td>0.223404</td>\n",
              "    </tr>\n",
              "    <tr>\n",
              "      <td>31</td>\n",
              "      <td>0.667500</td>\n",
              "      <td>3.167780</td>\n",
              "      <td>0.234043</td>\n",
              "    </tr>\n",
              "    <tr>\n",
              "      <td>32</td>\n",
              "      <td>0.667500</td>\n",
              "      <td>3.264874</td>\n",
              "      <td>0.234043</td>\n",
              "    </tr>\n",
              "    <tr>\n",
              "      <td>33</td>\n",
              "      <td>0.667500</td>\n",
              "      <td>3.252437</td>\n",
              "      <td>0.223404</td>\n",
              "    </tr>\n",
              "    <tr>\n",
              "      <td>34</td>\n",
              "      <td>0.667500</td>\n",
              "      <td>3.351434</td>\n",
              "      <td>0.230496</td>\n",
              "    </tr>\n",
              "    <tr>\n",
              "      <td>35</td>\n",
              "      <td>0.667500</td>\n",
              "      <td>3.360190</td>\n",
              "      <td>0.216312</td>\n",
              "    </tr>\n",
              "    <tr>\n",
              "      <td>36</td>\n",
              "      <td>0.667500</td>\n",
              "      <td>3.410620</td>\n",
              "      <td>0.212766</td>\n",
              "    </tr>\n",
              "    <tr>\n",
              "      <td>37</td>\n",
              "      <td>0.667500</td>\n",
              "      <td>3.472579</td>\n",
              "      <td>0.230496</td>\n",
              "    </tr>\n",
              "    <tr>\n",
              "      <td>38</td>\n",
              "      <td>0.667500</td>\n",
              "      <td>3.529638</td>\n",
              "      <td>0.216312</td>\n",
              "    </tr>\n",
              "    <tr>\n",
              "      <td>39</td>\n",
              "      <td>0.667500</td>\n",
              "      <td>3.511704</td>\n",
              "      <td>0.223404</td>\n",
              "    </tr>\n",
              "    <tr>\n",
              "      <td>40</td>\n",
              "      <td>0.667500</td>\n",
              "      <td>3.570558</td>\n",
              "      <td>0.216312</td>\n",
              "    </tr>\n",
              "    <tr>\n",
              "      <td>41</td>\n",
              "      <td>0.667500</td>\n",
              "      <td>3.579977</td>\n",
              "      <td>0.226950</td>\n",
              "    </tr>\n",
              "    <tr>\n",
              "      <td>42</td>\n",
              "      <td>0.242400</td>\n",
              "      <td>3.649939</td>\n",
              "      <td>0.216312</td>\n",
              "    </tr>\n",
              "    <tr>\n",
              "      <td>43</td>\n",
              "      <td>0.242400</td>\n",
              "      <td>3.703518</td>\n",
              "      <td>0.202128</td>\n",
              "    </tr>\n",
              "    <tr>\n",
              "      <td>44</td>\n",
              "      <td>0.242400</td>\n",
              "      <td>3.676562</td>\n",
              "      <td>0.223404</td>\n",
              "    </tr>\n",
              "    <tr>\n",
              "      <td>45</td>\n",
              "      <td>0.242400</td>\n",
              "      <td>3.742444</td>\n",
              "      <td>0.216312</td>\n",
              "    </tr>\n",
              "    <tr>\n",
              "      <td>46</td>\n",
              "      <td>0.242400</td>\n",
              "      <td>3.756418</td>\n",
              "      <td>0.202128</td>\n",
              "    </tr>\n",
              "    <tr>\n",
              "      <td>47</td>\n",
              "      <td>0.242400</td>\n",
              "      <td>3.768116</td>\n",
              "      <td>0.212766</td>\n",
              "    </tr>\n",
              "    <tr>\n",
              "      <td>48</td>\n",
              "      <td>0.242400</td>\n",
              "      <td>3.741734</td>\n",
              "      <td>0.205674</td>\n",
              "    </tr>\n",
              "    <tr>\n",
              "      <td>49</td>\n",
              "      <td>0.242400</td>\n",
              "      <td>3.764134</td>\n",
              "      <td>0.205674</td>\n",
              "    </tr>\n",
              "    <tr>\n",
              "      <td>50</td>\n",
              "      <td>0.242400</td>\n",
              "      <td>3.773606</td>\n",
              "      <td>0.209220</td>\n",
              "    </tr>\n",
              "  </tbody>\n",
              "</table><p>"
            ],
            "text/plain": [
              "<IPython.core.display.HTML object>"
            ]
          },
          "metadata": {},
          "output_type": "display_data"
        },
        {
          "name": "stdout",
          "output_type": "stream",
          "text": [
            "\n",
            "→ Evaluation at epoch 1\n",
            "Evaluation Accuracy: 0.2376\n",
            "Evaluation Loss: 1.7504\n",
            "→ New best accuracy! Saving model to ./results/best_model_250603/fold_4\n"
          ]
        },
        {
          "name": "stderr",
          "output_type": "stream",
          "text": [
            "/home/daniel/anaconda3/envs/symbolic_transformer/lib/python3.7/site-packages/torch/nn/parallel/_functions.py:68: UserWarning: Was asked to gather along dimension 0, but all input tensors were scalars; will instead unsqueeze and return a vector.\n",
            "  warnings.warn('Was asked to gather along dimension 0, but all '\n"
          ]
        },
        {
          "name": "stdout",
          "output_type": "stream",
          "text": [
            "\n",
            "→ Evaluation at epoch 2\n",
            "Evaluation Accuracy: 0.2270\n",
            "Evaluation Loss: 1.7530\n"
          ]
        },
        {
          "name": "stderr",
          "output_type": "stream",
          "text": [
            "/home/daniel/anaconda3/envs/symbolic_transformer/lib/python3.7/site-packages/torch/nn/parallel/_functions.py:68: UserWarning: Was asked to gather along dimension 0, but all input tensors were scalars; will instead unsqueeze and return a vector.\n",
            "  warnings.warn('Was asked to gather along dimension 0, but all '\n"
          ]
        },
        {
          "name": "stdout",
          "output_type": "stream",
          "text": [
            "\n",
            "→ Evaluation at epoch 3\n",
            "Evaluation Accuracy: 0.2766\n",
            "Evaluation Loss: 1.7348\n",
            "→ New best accuracy! Saving model to ./results/best_model_250603/fold_4\n"
          ]
        },
        {
          "name": "stderr",
          "output_type": "stream",
          "text": [
            "/home/daniel/anaconda3/envs/symbolic_transformer/lib/python3.7/site-packages/torch/nn/parallel/_functions.py:68: UserWarning: Was asked to gather along dimension 0, but all input tensors were scalars; will instead unsqueeze and return a vector.\n",
            "  warnings.warn('Was asked to gather along dimension 0, but all '\n"
          ]
        },
        {
          "name": "stdout",
          "output_type": "stream",
          "text": [
            "\n",
            "→ Evaluation at epoch 4\n",
            "Evaluation Accuracy: 0.2837\n",
            "Evaluation Loss: 1.7024\n",
            "→ New best accuracy! Saving model to ./results/best_model_250603/fold_4\n"
          ]
        },
        {
          "name": "stderr",
          "output_type": "stream",
          "text": [
            "/home/daniel/anaconda3/envs/symbolic_transformer/lib/python3.7/site-packages/torch/nn/parallel/_functions.py:68: UserWarning: Was asked to gather along dimension 0, but all input tensors were scalars; will instead unsqueeze and return a vector.\n",
            "  warnings.warn('Was asked to gather along dimension 0, but all '\n"
          ]
        },
        {
          "name": "stdout",
          "output_type": "stream",
          "text": [
            "\n",
            "→ Evaluation at epoch 5\n",
            "Evaluation Accuracy: 0.2908\n",
            "Evaluation Loss: 1.7300\n",
            "→ New best accuracy! Saving model to ./results/best_model_250603/fold_4\n"
          ]
        },
        {
          "name": "stderr",
          "output_type": "stream",
          "text": [
            "/home/daniel/anaconda3/envs/symbolic_transformer/lib/python3.7/site-packages/torch/nn/parallel/_functions.py:68: UserWarning: Was asked to gather along dimension 0, but all input tensors were scalars; will instead unsqueeze and return a vector.\n",
            "  warnings.warn('Was asked to gather along dimension 0, but all '\n"
          ]
        },
        {
          "name": "stdout",
          "output_type": "stream",
          "text": [
            "\n",
            "→ Evaluation at epoch 6\n",
            "Evaluation Accuracy: 0.2908\n",
            "Evaluation Loss: 1.6983\n"
          ]
        },
        {
          "name": "stderr",
          "output_type": "stream",
          "text": [
            "/home/daniel/anaconda3/envs/symbolic_transformer/lib/python3.7/site-packages/torch/nn/parallel/_functions.py:68: UserWarning: Was asked to gather along dimension 0, but all input tensors were scalars; will instead unsqueeze and return a vector.\n",
            "  warnings.warn('Was asked to gather along dimension 0, but all '\n"
          ]
        },
        {
          "name": "stdout",
          "output_type": "stream",
          "text": [
            "\n",
            "→ Evaluation at epoch 7\n",
            "Evaluation Accuracy: 0.2837\n",
            "Evaluation Loss: 1.7120\n"
          ]
        },
        {
          "name": "stderr",
          "output_type": "stream",
          "text": [
            "/home/daniel/anaconda3/envs/symbolic_transformer/lib/python3.7/site-packages/torch/nn/parallel/_functions.py:68: UserWarning: Was asked to gather along dimension 0, but all input tensors were scalars; will instead unsqueeze and return a vector.\n",
            "  warnings.warn('Was asked to gather along dimension 0, but all '\n"
          ]
        },
        {
          "name": "stdout",
          "output_type": "stream",
          "text": [
            "\n",
            "→ Evaluation at epoch 8\n",
            "Evaluation Accuracy: 0.2766\n",
            "Evaluation Loss: 1.7114\n"
          ]
        },
        {
          "name": "stderr",
          "output_type": "stream",
          "text": [
            "/home/daniel/anaconda3/envs/symbolic_transformer/lib/python3.7/site-packages/torch/nn/parallel/_functions.py:68: UserWarning: Was asked to gather along dimension 0, but all input tensors were scalars; will instead unsqueeze and return a vector.\n",
            "  warnings.warn('Was asked to gather along dimension 0, but all '\n"
          ]
        },
        {
          "name": "stdout",
          "output_type": "stream",
          "text": [
            "\n",
            "→ Evaluation at epoch 9\n",
            "Evaluation Accuracy: 0.2943\n",
            "Evaluation Loss: 1.7230\n",
            "→ New best accuracy! Saving model to ./results/best_model_250603/fold_4\n"
          ]
        },
        {
          "name": "stderr",
          "output_type": "stream",
          "text": [
            "/home/daniel/anaconda3/envs/symbolic_transformer/lib/python3.7/site-packages/torch/nn/parallel/_functions.py:68: UserWarning: Was asked to gather along dimension 0, but all input tensors were scalars; will instead unsqueeze and return a vector.\n",
            "  warnings.warn('Was asked to gather along dimension 0, but all '\n"
          ]
        },
        {
          "name": "stdout",
          "output_type": "stream",
          "text": [
            "\n",
            "→ Evaluation at epoch 10\n",
            "Evaluation Accuracy: 0.2908\n",
            "Evaluation Loss: 1.7704\n"
          ]
        },
        {
          "name": "stderr",
          "output_type": "stream",
          "text": [
            "/home/daniel/anaconda3/envs/symbolic_transformer/lib/python3.7/site-packages/torch/nn/parallel/_functions.py:68: UserWarning: Was asked to gather along dimension 0, but all input tensors were scalars; will instead unsqueeze and return a vector.\n",
            "  warnings.warn('Was asked to gather along dimension 0, but all '\n"
          ]
        },
        {
          "name": "stdout",
          "output_type": "stream",
          "text": [
            "\n",
            "→ Evaluation at epoch 11\n",
            "Evaluation Accuracy: 0.3085\n",
            "Evaluation Loss: 1.8361\n",
            "→ New best accuracy! Saving model to ./results/best_model_250603/fold_4\n"
          ]
        },
        {
          "name": "stderr",
          "output_type": "stream",
          "text": [
            "/home/daniel/anaconda3/envs/symbolic_transformer/lib/python3.7/site-packages/torch/nn/parallel/_functions.py:68: UserWarning: Was asked to gather along dimension 0, but all input tensors were scalars; will instead unsqueeze and return a vector.\n",
            "  warnings.warn('Was asked to gather along dimension 0, but all '\n"
          ]
        },
        {
          "name": "stdout",
          "output_type": "stream",
          "text": [
            "\n",
            "→ Evaluation at epoch 12\n",
            "Evaluation Accuracy: 0.2908\n",
            "Evaluation Loss: 1.8962\n"
          ]
        },
        {
          "name": "stderr",
          "output_type": "stream",
          "text": [
            "/home/daniel/anaconda3/envs/symbolic_transformer/lib/python3.7/site-packages/torch/nn/parallel/_functions.py:68: UserWarning: Was asked to gather along dimension 0, but all input tensors were scalars; will instead unsqueeze and return a vector.\n",
            "  warnings.warn('Was asked to gather along dimension 0, but all '\n"
          ]
        },
        {
          "name": "stdout",
          "output_type": "stream",
          "text": [
            "\n",
            "→ Evaluation at epoch 13\n",
            "Evaluation Accuracy: 0.2837\n",
            "Evaluation Loss: 1.9518\n"
          ]
        },
        {
          "name": "stderr",
          "output_type": "stream",
          "text": [
            "/home/daniel/anaconda3/envs/symbolic_transformer/lib/python3.7/site-packages/torch/nn/parallel/_functions.py:68: UserWarning: Was asked to gather along dimension 0, but all input tensors were scalars; will instead unsqueeze and return a vector.\n",
            "  warnings.warn('Was asked to gather along dimension 0, but all '\n"
          ]
        },
        {
          "name": "stdout",
          "output_type": "stream",
          "text": [
            "\n",
            "→ Evaluation at epoch 14\n",
            "Evaluation Accuracy: 0.3085\n",
            "Evaluation Loss: 2.0312\n"
          ]
        },
        {
          "name": "stderr",
          "output_type": "stream",
          "text": [
            "/home/daniel/anaconda3/envs/symbolic_transformer/lib/python3.7/site-packages/torch/nn/parallel/_functions.py:68: UserWarning: Was asked to gather along dimension 0, but all input tensors were scalars; will instead unsqueeze and return a vector.\n",
            "  warnings.warn('Was asked to gather along dimension 0, but all '\n"
          ]
        },
        {
          "name": "stdout",
          "output_type": "stream",
          "text": [
            "\n",
            "→ Evaluation at epoch 15\n",
            "Evaluation Accuracy: 0.3014\n",
            "Evaluation Loss: 2.1196\n"
          ]
        },
        {
          "name": "stderr",
          "output_type": "stream",
          "text": [
            "/home/daniel/anaconda3/envs/symbolic_transformer/lib/python3.7/site-packages/torch/nn/parallel/_functions.py:68: UserWarning: Was asked to gather along dimension 0, but all input tensors were scalars; will instead unsqueeze and return a vector.\n",
            "  warnings.warn('Was asked to gather along dimension 0, but all '\n"
          ]
        },
        {
          "name": "stdout",
          "output_type": "stream",
          "text": [
            "\n",
            "→ Evaluation at epoch 16\n",
            "Evaluation Accuracy: 0.2801\n",
            "Evaluation Loss: 2.1536\n"
          ]
        },
        {
          "name": "stderr",
          "output_type": "stream",
          "text": [
            "/home/daniel/anaconda3/envs/symbolic_transformer/lib/python3.7/site-packages/torch/nn/parallel/_functions.py:68: UserWarning: Was asked to gather along dimension 0, but all input tensors were scalars; will instead unsqueeze and return a vector.\n",
            "  warnings.warn('Was asked to gather along dimension 0, but all '\n"
          ]
        },
        {
          "name": "stdout",
          "output_type": "stream",
          "text": [
            "\n",
            "→ Evaluation at epoch 17\n",
            "Evaluation Accuracy: 0.2695\n",
            "Evaluation Loss: 2.2542\n"
          ]
        },
        {
          "name": "stderr",
          "output_type": "stream",
          "text": [
            "/home/daniel/anaconda3/envs/symbolic_transformer/lib/python3.7/site-packages/torch/nn/parallel/_functions.py:68: UserWarning: Was asked to gather along dimension 0, but all input tensors were scalars; will instead unsqueeze and return a vector.\n",
            "  warnings.warn('Was asked to gather along dimension 0, but all '\n"
          ]
        },
        {
          "name": "stdout",
          "output_type": "stream",
          "text": [
            "\n",
            "→ Evaluation at epoch 18\n",
            "Evaluation Accuracy: 0.2766\n",
            "Evaluation Loss: 2.3077\n"
          ]
        },
        {
          "name": "stderr",
          "output_type": "stream",
          "text": [
            "/home/daniel/anaconda3/envs/symbolic_transformer/lib/python3.7/site-packages/torch/nn/parallel/_functions.py:68: UserWarning: Was asked to gather along dimension 0, but all input tensors were scalars; will instead unsqueeze and return a vector.\n",
            "  warnings.warn('Was asked to gather along dimension 0, but all '\n"
          ]
        },
        {
          "name": "stdout",
          "output_type": "stream",
          "text": [
            "\n",
            "→ Evaluation at epoch 19\n",
            "Evaluation Accuracy: 0.2589\n",
            "Evaluation Loss: 2.3427\n"
          ]
        },
        {
          "name": "stderr",
          "output_type": "stream",
          "text": [
            "/home/daniel/anaconda3/envs/symbolic_transformer/lib/python3.7/site-packages/torch/nn/parallel/_functions.py:68: UserWarning: Was asked to gather along dimension 0, but all input tensors were scalars; will instead unsqueeze and return a vector.\n",
            "  warnings.warn('Was asked to gather along dimension 0, but all '\n"
          ]
        },
        {
          "name": "stdout",
          "output_type": "stream",
          "text": [
            "\n",
            "→ Evaluation at epoch 20\n",
            "Evaluation Accuracy: 0.2624\n",
            "Evaluation Loss: 2.4679\n"
          ]
        },
        {
          "name": "stderr",
          "output_type": "stream",
          "text": [
            "/home/daniel/anaconda3/envs/symbolic_transformer/lib/python3.7/site-packages/torch/nn/parallel/_functions.py:68: UserWarning: Was asked to gather along dimension 0, but all input tensors were scalars; will instead unsqueeze and return a vector.\n",
            "  warnings.warn('Was asked to gather along dimension 0, but all '\n"
          ]
        },
        {
          "name": "stdout",
          "output_type": "stream",
          "text": [
            "\n",
            "→ Evaluation at epoch 21\n",
            "Evaluation Accuracy: 0.2624\n",
            "Evaluation Loss: 2.5302\n"
          ]
        },
        {
          "name": "stderr",
          "output_type": "stream",
          "text": [
            "/home/daniel/anaconda3/envs/symbolic_transformer/lib/python3.7/site-packages/torch/nn/parallel/_functions.py:68: UserWarning: Was asked to gather along dimension 0, but all input tensors were scalars; will instead unsqueeze and return a vector.\n",
            "  warnings.warn('Was asked to gather along dimension 0, but all '\n"
          ]
        },
        {
          "name": "stdout",
          "output_type": "stream",
          "text": [
            "\n",
            "→ Evaluation at epoch 22\n",
            "Evaluation Accuracy: 0.2447\n",
            "Evaluation Loss: 2.6221\n"
          ]
        },
        {
          "name": "stderr",
          "output_type": "stream",
          "text": [
            "/home/daniel/anaconda3/envs/symbolic_transformer/lib/python3.7/site-packages/torch/nn/parallel/_functions.py:68: UserWarning: Was asked to gather along dimension 0, but all input tensors were scalars; will instead unsqueeze and return a vector.\n",
            "  warnings.warn('Was asked to gather along dimension 0, but all '\n"
          ]
        },
        {
          "name": "stdout",
          "output_type": "stream",
          "text": [
            "\n",
            "→ Evaluation at epoch 23\n",
            "Evaluation Accuracy: 0.2553\n",
            "Evaluation Loss: 2.6709\n"
          ]
        },
        {
          "name": "stderr",
          "output_type": "stream",
          "text": [
            "/home/daniel/anaconda3/envs/symbolic_transformer/lib/python3.7/site-packages/torch/nn/parallel/_functions.py:68: UserWarning: Was asked to gather along dimension 0, but all input tensors were scalars; will instead unsqueeze and return a vector.\n",
            "  warnings.warn('Was asked to gather along dimension 0, but all '\n"
          ]
        },
        {
          "name": "stdout",
          "output_type": "stream",
          "text": [
            "\n",
            "→ Evaluation at epoch 24\n",
            "Evaluation Accuracy: 0.2376\n",
            "Evaluation Loss: 2.7569\n"
          ]
        },
        {
          "name": "stderr",
          "output_type": "stream",
          "text": [
            "/home/daniel/anaconda3/envs/symbolic_transformer/lib/python3.7/site-packages/torch/nn/parallel/_functions.py:68: UserWarning: Was asked to gather along dimension 0, but all input tensors were scalars; will instead unsqueeze and return a vector.\n",
            "  warnings.warn('Was asked to gather along dimension 0, but all '\n"
          ]
        },
        {
          "name": "stdout",
          "output_type": "stream",
          "text": [
            "\n",
            "→ Evaluation at epoch 25\n",
            "Evaluation Accuracy: 0.2447\n",
            "Evaluation Loss: 2.8375\n"
          ]
        },
        {
          "name": "stderr",
          "output_type": "stream",
          "text": [
            "/home/daniel/anaconda3/envs/symbolic_transformer/lib/python3.7/site-packages/torch/nn/parallel/_functions.py:68: UserWarning: Was asked to gather along dimension 0, but all input tensors were scalars; will instead unsqueeze and return a vector.\n",
            "  warnings.warn('Was asked to gather along dimension 0, but all '\n"
          ]
        },
        {
          "name": "stdout",
          "output_type": "stream",
          "text": [
            "\n",
            "→ Evaluation at epoch 26\n",
            "Evaluation Accuracy: 0.2589\n",
            "Evaluation Loss: 2.8671\n"
          ]
        },
        {
          "name": "stderr",
          "output_type": "stream",
          "text": [
            "/home/daniel/anaconda3/envs/symbolic_transformer/lib/python3.7/site-packages/torch/nn/parallel/_functions.py:68: UserWarning: Was asked to gather along dimension 0, but all input tensors were scalars; will instead unsqueeze and return a vector.\n",
            "  warnings.warn('Was asked to gather along dimension 0, but all '\n"
          ]
        },
        {
          "name": "stdout",
          "output_type": "stream",
          "text": [
            "\n",
            "→ Evaluation at epoch 27\n",
            "Evaluation Accuracy: 0.2553\n",
            "Evaluation Loss: 2.9763\n"
          ]
        },
        {
          "name": "stderr",
          "output_type": "stream",
          "text": [
            "/home/daniel/anaconda3/envs/symbolic_transformer/lib/python3.7/site-packages/torch/nn/parallel/_functions.py:68: UserWarning: Was asked to gather along dimension 0, but all input tensors were scalars; will instead unsqueeze and return a vector.\n",
            "  warnings.warn('Was asked to gather along dimension 0, but all '\n"
          ]
        },
        {
          "name": "stdout",
          "output_type": "stream",
          "text": [
            "\n",
            "→ Evaluation at epoch 28\n",
            "Evaluation Accuracy: 0.2234\n",
            "Evaluation Loss: 3.0548\n"
          ]
        },
        {
          "name": "stderr",
          "output_type": "stream",
          "text": [
            "/home/daniel/anaconda3/envs/symbolic_transformer/lib/python3.7/site-packages/torch/nn/parallel/_functions.py:68: UserWarning: Was asked to gather along dimension 0, but all input tensors were scalars; will instead unsqueeze and return a vector.\n",
            "  warnings.warn('Was asked to gather along dimension 0, but all '\n"
          ]
        },
        {
          "name": "stdout",
          "output_type": "stream",
          "text": [
            "\n",
            "→ Evaluation at epoch 29\n",
            "Evaluation Accuracy: 0.2305\n",
            "Evaluation Loss: 3.0889\n"
          ]
        },
        {
          "name": "stderr",
          "output_type": "stream",
          "text": [
            "/home/daniel/anaconda3/envs/symbolic_transformer/lib/python3.7/site-packages/torch/nn/parallel/_functions.py:68: UserWarning: Was asked to gather along dimension 0, but all input tensors were scalars; will instead unsqueeze and return a vector.\n",
            "  warnings.warn('Was asked to gather along dimension 0, but all '\n"
          ]
        },
        {
          "name": "stdout",
          "output_type": "stream",
          "text": [
            "\n",
            "→ Evaluation at epoch 30\n",
            "Evaluation Accuracy: 0.2234\n",
            "Evaluation Loss: 3.1531\n"
          ]
        },
        {
          "name": "stderr",
          "output_type": "stream",
          "text": [
            "/home/daniel/anaconda3/envs/symbolic_transformer/lib/python3.7/site-packages/torch/nn/parallel/_functions.py:68: UserWarning: Was asked to gather along dimension 0, but all input tensors were scalars; will instead unsqueeze and return a vector.\n",
            "  warnings.warn('Was asked to gather along dimension 0, but all '\n"
          ]
        },
        {
          "name": "stdout",
          "output_type": "stream",
          "text": [
            "\n",
            "→ Evaluation at epoch 31\n",
            "Evaluation Accuracy: 0.2340\n",
            "Evaluation Loss: 3.1678\n"
          ]
        },
        {
          "name": "stderr",
          "output_type": "stream",
          "text": [
            "/home/daniel/anaconda3/envs/symbolic_transformer/lib/python3.7/site-packages/torch/nn/parallel/_functions.py:68: UserWarning: Was asked to gather along dimension 0, but all input tensors were scalars; will instead unsqueeze and return a vector.\n",
            "  warnings.warn('Was asked to gather along dimension 0, but all '\n"
          ]
        },
        {
          "name": "stdout",
          "output_type": "stream",
          "text": [
            "\n",
            "→ Evaluation at epoch 32\n",
            "Evaluation Accuracy: 0.2340\n",
            "Evaluation Loss: 3.2649\n"
          ]
        },
        {
          "name": "stderr",
          "output_type": "stream",
          "text": [
            "/home/daniel/anaconda3/envs/symbolic_transformer/lib/python3.7/site-packages/torch/nn/parallel/_functions.py:68: UserWarning: Was asked to gather along dimension 0, but all input tensors were scalars; will instead unsqueeze and return a vector.\n",
            "  warnings.warn('Was asked to gather along dimension 0, but all '\n"
          ]
        },
        {
          "name": "stdout",
          "output_type": "stream",
          "text": [
            "\n",
            "→ Evaluation at epoch 33\n",
            "Evaluation Accuracy: 0.2234\n",
            "Evaluation Loss: 3.2524\n"
          ]
        },
        {
          "name": "stderr",
          "output_type": "stream",
          "text": [
            "/home/daniel/anaconda3/envs/symbolic_transformer/lib/python3.7/site-packages/torch/nn/parallel/_functions.py:68: UserWarning: Was asked to gather along dimension 0, but all input tensors were scalars; will instead unsqueeze and return a vector.\n",
            "  warnings.warn('Was asked to gather along dimension 0, but all '\n"
          ]
        },
        {
          "name": "stdout",
          "output_type": "stream",
          "text": [
            "\n",
            "→ Evaluation at epoch 34\n",
            "Evaluation Accuracy: 0.2305\n",
            "Evaluation Loss: 3.3514\n"
          ]
        },
        {
          "name": "stderr",
          "output_type": "stream",
          "text": [
            "/home/daniel/anaconda3/envs/symbolic_transformer/lib/python3.7/site-packages/torch/nn/parallel/_functions.py:68: UserWarning: Was asked to gather along dimension 0, but all input tensors were scalars; will instead unsqueeze and return a vector.\n",
            "  warnings.warn('Was asked to gather along dimension 0, but all '\n"
          ]
        },
        {
          "name": "stdout",
          "output_type": "stream",
          "text": [
            "\n",
            "→ Evaluation at epoch 35\n",
            "Evaluation Accuracy: 0.2163\n",
            "Evaluation Loss: 3.3602\n"
          ]
        },
        {
          "name": "stderr",
          "output_type": "stream",
          "text": [
            "/home/daniel/anaconda3/envs/symbolic_transformer/lib/python3.7/site-packages/torch/nn/parallel/_functions.py:68: UserWarning: Was asked to gather along dimension 0, but all input tensors were scalars; will instead unsqueeze and return a vector.\n",
            "  warnings.warn('Was asked to gather along dimension 0, but all '\n"
          ]
        },
        {
          "name": "stdout",
          "output_type": "stream",
          "text": [
            "\n",
            "→ Evaluation at epoch 36\n",
            "Evaluation Accuracy: 0.2128\n",
            "Evaluation Loss: 3.4106\n"
          ]
        },
        {
          "name": "stderr",
          "output_type": "stream",
          "text": [
            "/home/daniel/anaconda3/envs/symbolic_transformer/lib/python3.7/site-packages/torch/nn/parallel/_functions.py:68: UserWarning: Was asked to gather along dimension 0, but all input tensors were scalars; will instead unsqueeze and return a vector.\n",
            "  warnings.warn('Was asked to gather along dimension 0, but all '\n"
          ]
        },
        {
          "name": "stdout",
          "output_type": "stream",
          "text": [
            "\n",
            "→ Evaluation at epoch 37\n",
            "Evaluation Accuracy: 0.2305\n",
            "Evaluation Loss: 3.4726\n"
          ]
        },
        {
          "name": "stderr",
          "output_type": "stream",
          "text": [
            "/home/daniel/anaconda3/envs/symbolic_transformer/lib/python3.7/site-packages/torch/nn/parallel/_functions.py:68: UserWarning: Was asked to gather along dimension 0, but all input tensors were scalars; will instead unsqueeze and return a vector.\n",
            "  warnings.warn('Was asked to gather along dimension 0, but all '\n"
          ]
        },
        {
          "name": "stdout",
          "output_type": "stream",
          "text": [
            "\n",
            "→ Evaluation at epoch 38\n",
            "Evaluation Accuracy: 0.2163\n",
            "Evaluation Loss: 3.5296\n"
          ]
        },
        {
          "name": "stderr",
          "output_type": "stream",
          "text": [
            "/home/daniel/anaconda3/envs/symbolic_transformer/lib/python3.7/site-packages/torch/nn/parallel/_functions.py:68: UserWarning: Was asked to gather along dimension 0, but all input tensors were scalars; will instead unsqueeze and return a vector.\n",
            "  warnings.warn('Was asked to gather along dimension 0, but all '\n"
          ]
        },
        {
          "name": "stdout",
          "output_type": "stream",
          "text": [
            "\n",
            "→ Evaluation at epoch 39\n",
            "Evaluation Accuracy: 0.2234\n",
            "Evaluation Loss: 3.5117\n"
          ]
        },
        {
          "name": "stderr",
          "output_type": "stream",
          "text": [
            "/home/daniel/anaconda3/envs/symbolic_transformer/lib/python3.7/site-packages/torch/nn/parallel/_functions.py:68: UserWarning: Was asked to gather along dimension 0, but all input tensors were scalars; will instead unsqueeze and return a vector.\n",
            "  warnings.warn('Was asked to gather along dimension 0, but all '\n"
          ]
        },
        {
          "name": "stdout",
          "output_type": "stream",
          "text": [
            "\n",
            "→ Evaluation at epoch 40\n",
            "Evaluation Accuracy: 0.2163\n",
            "Evaluation Loss: 3.5706\n"
          ]
        },
        {
          "name": "stderr",
          "output_type": "stream",
          "text": [
            "/home/daniel/anaconda3/envs/symbolic_transformer/lib/python3.7/site-packages/torch/nn/parallel/_functions.py:68: UserWarning: Was asked to gather along dimension 0, but all input tensors were scalars; will instead unsqueeze and return a vector.\n",
            "  warnings.warn('Was asked to gather along dimension 0, but all '\n"
          ]
        },
        {
          "name": "stdout",
          "output_type": "stream",
          "text": [
            "\n",
            "→ Evaluation at epoch 41\n",
            "Evaluation Accuracy: 0.2270\n",
            "Evaluation Loss: 3.5800\n"
          ]
        },
        {
          "name": "stderr",
          "output_type": "stream",
          "text": [
            "/home/daniel/anaconda3/envs/symbolic_transformer/lib/python3.7/site-packages/torch/nn/parallel/_functions.py:68: UserWarning: Was asked to gather along dimension 0, but all input tensors were scalars; will instead unsqueeze and return a vector.\n",
            "  warnings.warn('Was asked to gather along dimension 0, but all '\n"
          ]
        },
        {
          "name": "stdout",
          "output_type": "stream",
          "text": [
            "\n",
            "→ Evaluation at epoch 42\n",
            "Evaluation Accuracy: 0.2163\n",
            "Evaluation Loss: 3.6499\n"
          ]
        },
        {
          "name": "stderr",
          "output_type": "stream",
          "text": [
            "/home/daniel/anaconda3/envs/symbolic_transformer/lib/python3.7/site-packages/torch/nn/parallel/_functions.py:68: UserWarning: Was asked to gather along dimension 0, but all input tensors were scalars; will instead unsqueeze and return a vector.\n",
            "  warnings.warn('Was asked to gather along dimension 0, but all '\n"
          ]
        },
        {
          "name": "stdout",
          "output_type": "stream",
          "text": [
            "\n",
            "→ Evaluation at epoch 43\n",
            "Evaluation Accuracy: 0.2021\n",
            "Evaluation Loss: 3.7035\n"
          ]
        },
        {
          "name": "stderr",
          "output_type": "stream",
          "text": [
            "/home/daniel/anaconda3/envs/symbolic_transformer/lib/python3.7/site-packages/torch/nn/parallel/_functions.py:68: UserWarning: Was asked to gather along dimension 0, but all input tensors were scalars; will instead unsqueeze and return a vector.\n",
            "  warnings.warn('Was asked to gather along dimension 0, but all '\n"
          ]
        },
        {
          "name": "stdout",
          "output_type": "stream",
          "text": [
            "\n",
            "→ Evaluation at epoch 44\n",
            "Evaluation Accuracy: 0.2234\n",
            "Evaluation Loss: 3.6766\n"
          ]
        },
        {
          "name": "stderr",
          "output_type": "stream",
          "text": [
            "/home/daniel/anaconda3/envs/symbolic_transformer/lib/python3.7/site-packages/torch/nn/parallel/_functions.py:68: UserWarning: Was asked to gather along dimension 0, but all input tensors were scalars; will instead unsqueeze and return a vector.\n",
            "  warnings.warn('Was asked to gather along dimension 0, but all '\n"
          ]
        },
        {
          "name": "stdout",
          "output_type": "stream",
          "text": [
            "\n",
            "→ Evaluation at epoch 45\n",
            "Evaluation Accuracy: 0.2163\n",
            "Evaluation Loss: 3.7424\n"
          ]
        },
        {
          "name": "stderr",
          "output_type": "stream",
          "text": [
            "/home/daniel/anaconda3/envs/symbolic_transformer/lib/python3.7/site-packages/torch/nn/parallel/_functions.py:68: UserWarning: Was asked to gather along dimension 0, but all input tensors were scalars; will instead unsqueeze and return a vector.\n",
            "  warnings.warn('Was asked to gather along dimension 0, but all '\n"
          ]
        },
        {
          "name": "stdout",
          "output_type": "stream",
          "text": [
            "\n",
            "→ Evaluation at epoch 46\n",
            "Evaluation Accuracy: 0.2021\n",
            "Evaluation Loss: 3.7564\n"
          ]
        },
        {
          "name": "stderr",
          "output_type": "stream",
          "text": [
            "/home/daniel/anaconda3/envs/symbolic_transformer/lib/python3.7/site-packages/torch/nn/parallel/_functions.py:68: UserWarning: Was asked to gather along dimension 0, but all input tensors were scalars; will instead unsqueeze and return a vector.\n",
            "  warnings.warn('Was asked to gather along dimension 0, but all '\n"
          ]
        },
        {
          "name": "stdout",
          "output_type": "stream",
          "text": [
            "\n",
            "→ Evaluation at epoch 47\n",
            "Evaluation Accuracy: 0.2128\n",
            "Evaluation Loss: 3.7681\n"
          ]
        },
        {
          "name": "stderr",
          "output_type": "stream",
          "text": [
            "/home/daniel/anaconda3/envs/symbolic_transformer/lib/python3.7/site-packages/torch/nn/parallel/_functions.py:68: UserWarning: Was asked to gather along dimension 0, but all input tensors were scalars; will instead unsqueeze and return a vector.\n",
            "  warnings.warn('Was asked to gather along dimension 0, but all '\n"
          ]
        },
        {
          "name": "stdout",
          "output_type": "stream",
          "text": [
            "\n",
            "→ Evaluation at epoch 48\n",
            "Evaluation Accuracy: 0.2057\n",
            "Evaluation Loss: 3.7417\n"
          ]
        },
        {
          "name": "stderr",
          "output_type": "stream",
          "text": [
            "/home/daniel/anaconda3/envs/symbolic_transformer/lib/python3.7/site-packages/torch/nn/parallel/_functions.py:68: UserWarning: Was asked to gather along dimension 0, but all input tensors were scalars; will instead unsqueeze and return a vector.\n",
            "  warnings.warn('Was asked to gather along dimension 0, but all '\n"
          ]
        },
        {
          "name": "stdout",
          "output_type": "stream",
          "text": [
            "\n",
            "→ Evaluation at epoch 49\n",
            "Evaluation Accuracy: 0.2057\n",
            "Evaluation Loss: 3.7641\n"
          ]
        },
        {
          "name": "stderr",
          "output_type": "stream",
          "text": [
            "/home/daniel/anaconda3/envs/symbolic_transformer/lib/python3.7/site-packages/torch/nn/parallel/_functions.py:68: UserWarning: Was asked to gather along dimension 0, but all input tensors were scalars; will instead unsqueeze and return a vector.\n",
            "  warnings.warn('Was asked to gather along dimension 0, but all '\n"
          ]
        },
        {
          "name": "stdout",
          "output_type": "stream",
          "text": [
            "\n",
            "→ Evaluation at epoch 50\n",
            "Evaluation Accuracy: 0.2092\n",
            "Evaluation Loss: 3.7736\n",
            "\n",
            "==== Fold 5/5 ====\n"
          ]
        },
        {
          "data": {
            "application/json": {
              "ascii": false,
              "bar_format": null,
              "colour": null,
              "elapsed": 0.009083271026611328,
              "initial": 0,
              "n": 0,
              "ncols": null,
              "nrows": null,
              "postfix": null,
              "prefix": "Map",
              "rate": null,
              "total": 1128,
              "unit": " examples",
              "unit_divisor": 1000,
              "unit_scale": false
            },
            "application/vnd.jupyter.widget-view+json": {
              "model_id": "a9d0fe4e8ab24819b276bf009ba6792f",
              "version_major": 2,
              "version_minor": 0
            },
            "text/plain": [
              "Map:   0%|          | 0/1128 [00:00<?, ? examples/s]"
            ]
          },
          "metadata": {},
          "output_type": "display_data"
        },
        {
          "data": {
            "application/json": {
              "ascii": false,
              "bar_format": null,
              "colour": null,
              "elapsed": 0.004544973373413086,
              "initial": 0,
              "n": 0,
              "ncols": null,
              "nrows": null,
              "postfix": null,
              "prefix": "Map",
              "rate": null,
              "total": 282,
              "unit": " examples",
              "unit_divisor": 1000,
              "unit_scale": false
            },
            "application/vnd.jupyter.widget-view+json": {
              "model_id": "3e3d93a31901477fa4b00c481c2f9fd0",
              "version_major": 2,
              "version_minor": 0
            },
            "text/plain": [
              "Map:   0%|          | 0/282 [00:00<?, ? examples/s]"
            ]
          },
          "metadata": {},
          "output_type": "display_data"
        },
        {
          "name": "stderr",
          "output_type": "stream",
          "text": [
            "Some weights of the model checkpoint at neuralmind/bert-base-portuguese-cased were not used when initializing BertForSequenceClassification: ['cls.predictions.transform.dense.bias', 'cls.predictions.transform.LayerNorm.bias', 'cls.predictions.bias', 'cls.predictions.decoder.weight', 'cls.predictions.transform.dense.weight', 'cls.seq_relationship.bias', 'cls.predictions.transform.LayerNorm.weight', 'cls.seq_relationship.weight']\n",
            "- This IS expected if you are initializing BertForSequenceClassification from the checkpoint of a model trained on another task or with another architecture (e.g. initializing a BertForSequenceClassification model from a BertForPreTraining model).\n",
            "- This IS NOT expected if you are initializing BertForSequenceClassification from the checkpoint of a model that you expect to be exactly identical (initializing a BertForSequenceClassification model from a BertForSequenceClassification model).\n",
            "Some weights of BertForSequenceClassification were not initialized from the model checkpoint at neuralmind/bert-base-portuguese-cased and are newly initialized: ['classifier.bias', 'classifier.weight']\n",
            "You should probably TRAIN this model on a down-stream task to be able to use it for predictions and inference.\n",
            "/home/daniel/anaconda3/envs/symbolic_transformer/lib/python3.7/site-packages/transformers/optimization.py:415: FutureWarning: This implementation of AdamW is deprecated and will be removed in a future version. Use the PyTorch implementation torch.optim.AdamW instead, or set `no_deprecation_warning=True` to disable this warning\n",
            "  FutureWarning,\n",
            "/home/daniel/anaconda3/envs/symbolic_transformer/lib/python3.7/site-packages/torch/nn/parallel/_functions.py:68: UserWarning: Was asked to gather along dimension 0, but all input tensors were scalars; will instead unsqueeze and return a vector.\n",
            "  warnings.warn('Was asked to gather along dimension 0, but all '\n"
          ]
        },
        {
          "data": {
            "text/html": [
              "\n",
              "    <div>\n",
              "      \n",
              "      <progress value='1800' max='1800' style='width:300px; height:20px; vertical-align: middle;'></progress>\n",
              "      [1800/1800 04:23, Epoch 50/50]\n",
              "    </div>\n",
              "    <table border=\"1\" class=\"dataframe\">\n",
              "  <thead>\n",
              " <tr style=\"text-align: left;\">\n",
              "      <th>Epoch</th>\n",
              "      <th>Training Loss</th>\n",
              "      <th>Validation Loss</th>\n",
              "      <th>Accuracy</th>\n",
              "    </tr>\n",
              "  </thead>\n",
              "  <tbody>\n",
              "    <tr>\n",
              "      <td>1</td>\n",
              "      <td>No log</td>\n",
              "      <td>1.750319</td>\n",
              "      <td>0.258865</td>\n",
              "    </tr>\n",
              "    <tr>\n",
              "      <td>2</td>\n",
              "      <td>No log</td>\n",
              "      <td>1.728271</td>\n",
              "      <td>0.276596</td>\n",
              "    </tr>\n",
              "    <tr>\n",
              "      <td>3</td>\n",
              "      <td>No log</td>\n",
              "      <td>1.698971</td>\n",
              "      <td>0.283688</td>\n",
              "    </tr>\n",
              "    <tr>\n",
              "      <td>4</td>\n",
              "      <td>No log</td>\n",
              "      <td>1.702419</td>\n",
              "      <td>0.315603</td>\n",
              "    </tr>\n",
              "    <tr>\n",
              "      <td>5</td>\n",
              "      <td>No log</td>\n",
              "      <td>1.709484</td>\n",
              "      <td>0.319149</td>\n",
              "    </tr>\n",
              "    <tr>\n",
              "      <td>6</td>\n",
              "      <td>No log</td>\n",
              "      <td>1.834521</td>\n",
              "      <td>0.248227</td>\n",
              "    </tr>\n",
              "    <tr>\n",
              "      <td>7</td>\n",
              "      <td>No log</td>\n",
              "      <td>1.756551</td>\n",
              "      <td>0.280142</td>\n",
              "    </tr>\n",
              "    <tr>\n",
              "      <td>8</td>\n",
              "      <td>No log</td>\n",
              "      <td>1.802946</td>\n",
              "      <td>0.301418</td>\n",
              "    </tr>\n",
              "    <tr>\n",
              "      <td>9</td>\n",
              "      <td>No log</td>\n",
              "      <td>1.830760</td>\n",
              "      <td>0.276596</td>\n",
              "    </tr>\n",
              "    <tr>\n",
              "      <td>10</td>\n",
              "      <td>No log</td>\n",
              "      <td>1.800635</td>\n",
              "      <td>0.301418</td>\n",
              "    </tr>\n",
              "    <tr>\n",
              "      <td>11</td>\n",
              "      <td>No log</td>\n",
              "      <td>1.857305</td>\n",
              "      <td>0.276596</td>\n",
              "    </tr>\n",
              "    <tr>\n",
              "      <td>12</td>\n",
              "      <td>No log</td>\n",
              "      <td>1.892221</td>\n",
              "      <td>0.290780</td>\n",
              "    </tr>\n",
              "    <tr>\n",
              "      <td>13</td>\n",
              "      <td>No log</td>\n",
              "      <td>1.989078</td>\n",
              "      <td>0.280142</td>\n",
              "    </tr>\n",
              "    <tr>\n",
              "      <td>14</td>\n",
              "      <td>1.518300</td>\n",
              "      <td>2.006022</td>\n",
              "      <td>0.280142</td>\n",
              "    </tr>\n",
              "    <tr>\n",
              "      <td>15</td>\n",
              "      <td>1.518300</td>\n",
              "      <td>2.113395</td>\n",
              "      <td>0.280142</td>\n",
              "    </tr>\n",
              "    <tr>\n",
              "      <td>16</td>\n",
              "      <td>1.518300</td>\n",
              "      <td>2.173562</td>\n",
              "      <td>0.280142</td>\n",
              "    </tr>\n",
              "    <tr>\n",
              "      <td>17</td>\n",
              "      <td>1.518300</td>\n",
              "      <td>2.193998</td>\n",
              "      <td>0.273050</td>\n",
              "    </tr>\n",
              "    <tr>\n",
              "      <td>18</td>\n",
              "      <td>1.518300</td>\n",
              "      <td>2.285660</td>\n",
              "      <td>0.269504</td>\n",
              "    </tr>\n",
              "    <tr>\n",
              "      <td>19</td>\n",
              "      <td>1.518300</td>\n",
              "      <td>2.337260</td>\n",
              "      <td>0.273050</td>\n",
              "    </tr>\n",
              "    <tr>\n",
              "      <td>20</td>\n",
              "      <td>1.518300</td>\n",
              "      <td>2.379666</td>\n",
              "      <td>0.251773</td>\n",
              "    </tr>\n",
              "    <tr>\n",
              "      <td>21</td>\n",
              "      <td>1.518300</td>\n",
              "      <td>2.433907</td>\n",
              "      <td>0.276596</td>\n",
              "    </tr>\n",
              "    <tr>\n",
              "      <td>22</td>\n",
              "      <td>1.518300</td>\n",
              "      <td>2.542181</td>\n",
              "      <td>0.262411</td>\n",
              "    </tr>\n",
              "    <tr>\n",
              "      <td>23</td>\n",
              "      <td>1.518300</td>\n",
              "      <td>2.615327</td>\n",
              "      <td>0.258865</td>\n",
              "    </tr>\n",
              "    <tr>\n",
              "      <td>24</td>\n",
              "      <td>1.518300</td>\n",
              "      <td>2.677190</td>\n",
              "      <td>0.248227</td>\n",
              "    </tr>\n",
              "    <tr>\n",
              "      <td>25</td>\n",
              "      <td>1.518300</td>\n",
              "      <td>2.688794</td>\n",
              "      <td>0.265957</td>\n",
              "    </tr>\n",
              "    <tr>\n",
              "      <td>26</td>\n",
              "      <td>1.518300</td>\n",
              "      <td>2.802322</td>\n",
              "      <td>0.230496</td>\n",
              "    </tr>\n",
              "    <tr>\n",
              "      <td>27</td>\n",
              "      <td>1.518300</td>\n",
              "      <td>2.865585</td>\n",
              "      <td>0.273050</td>\n",
              "    </tr>\n",
              "    <tr>\n",
              "      <td>28</td>\n",
              "      <td>0.770200</td>\n",
              "      <td>2.937936</td>\n",
              "      <td>0.244681</td>\n",
              "    </tr>\n",
              "    <tr>\n",
              "      <td>29</td>\n",
              "      <td>0.770200</td>\n",
              "      <td>2.935647</td>\n",
              "      <td>0.273050</td>\n",
              "    </tr>\n",
              "    <tr>\n",
              "      <td>30</td>\n",
              "      <td>0.770200</td>\n",
              "      <td>2.998536</td>\n",
              "      <td>0.265957</td>\n",
              "    </tr>\n",
              "    <tr>\n",
              "      <td>31</td>\n",
              "      <td>0.770200</td>\n",
              "      <td>3.078894</td>\n",
              "      <td>0.258865</td>\n",
              "    </tr>\n",
              "    <tr>\n",
              "      <td>32</td>\n",
              "      <td>0.770200</td>\n",
              "      <td>3.092712</td>\n",
              "      <td>0.244681</td>\n",
              "    </tr>\n",
              "    <tr>\n",
              "      <td>33</td>\n",
              "      <td>0.770200</td>\n",
              "      <td>3.095321</td>\n",
              "      <td>0.280142</td>\n",
              "    </tr>\n",
              "    <tr>\n",
              "      <td>34</td>\n",
              "      <td>0.770200</td>\n",
              "      <td>3.162960</td>\n",
              "      <td>0.269504</td>\n",
              "    </tr>\n",
              "    <tr>\n",
              "      <td>35</td>\n",
              "      <td>0.770200</td>\n",
              "      <td>3.171898</td>\n",
              "      <td>0.251773</td>\n",
              "    </tr>\n",
              "    <tr>\n",
              "      <td>36</td>\n",
              "      <td>0.770200</td>\n",
              "      <td>3.230026</td>\n",
              "      <td>0.262411</td>\n",
              "    </tr>\n",
              "    <tr>\n",
              "      <td>37</td>\n",
              "      <td>0.770200</td>\n",
              "      <td>3.265206</td>\n",
              "      <td>0.258865</td>\n",
              "    </tr>\n",
              "    <tr>\n",
              "      <td>38</td>\n",
              "      <td>0.770200</td>\n",
              "      <td>3.254889</td>\n",
              "      <td>0.276596</td>\n",
              "    </tr>\n",
              "    <tr>\n",
              "      <td>39</td>\n",
              "      <td>0.770200</td>\n",
              "      <td>3.298275</td>\n",
              "      <td>0.287234</td>\n",
              "    </tr>\n",
              "    <tr>\n",
              "      <td>40</td>\n",
              "      <td>0.770200</td>\n",
              "      <td>3.354735</td>\n",
              "      <td>0.262411</td>\n",
              "    </tr>\n",
              "    <tr>\n",
              "      <td>41</td>\n",
              "      <td>0.770200</td>\n",
              "      <td>3.373364</td>\n",
              "      <td>0.273050</td>\n",
              "    </tr>\n",
              "    <tr>\n",
              "      <td>42</td>\n",
              "      <td>0.331500</td>\n",
              "      <td>3.380365</td>\n",
              "      <td>0.280142</td>\n",
              "    </tr>\n",
              "    <tr>\n",
              "      <td>43</td>\n",
              "      <td>0.331500</td>\n",
              "      <td>3.374074</td>\n",
              "      <td>0.269504</td>\n",
              "    </tr>\n",
              "    <tr>\n",
              "      <td>44</td>\n",
              "      <td>0.331500</td>\n",
              "      <td>3.411778</td>\n",
              "      <td>0.262411</td>\n",
              "    </tr>\n",
              "    <tr>\n",
              "      <td>45</td>\n",
              "      <td>0.331500</td>\n",
              "      <td>3.433905</td>\n",
              "      <td>0.258865</td>\n",
              "    </tr>\n",
              "    <tr>\n",
              "      <td>46</td>\n",
              "      <td>0.331500</td>\n",
              "      <td>3.455333</td>\n",
              "      <td>0.258865</td>\n",
              "    </tr>\n",
              "    <tr>\n",
              "      <td>47</td>\n",
              "      <td>0.331500</td>\n",
              "      <td>3.474552</td>\n",
              "      <td>0.265957</td>\n",
              "    </tr>\n",
              "    <tr>\n",
              "      <td>48</td>\n",
              "      <td>0.331500</td>\n",
              "      <td>3.482952</td>\n",
              "      <td>0.255319</td>\n",
              "    </tr>\n",
              "    <tr>\n",
              "      <td>49</td>\n",
              "      <td>0.331500</td>\n",
              "      <td>3.479600</td>\n",
              "      <td>0.262411</td>\n",
              "    </tr>\n",
              "    <tr>\n",
              "      <td>50</td>\n",
              "      <td>0.331500</td>\n",
              "      <td>3.482477</td>\n",
              "      <td>0.262411</td>\n",
              "    </tr>\n",
              "  </tbody>\n",
              "</table><p>"
            ],
            "text/plain": [
              "<IPython.core.display.HTML object>"
            ]
          },
          "metadata": {},
          "output_type": "display_data"
        },
        {
          "name": "stdout",
          "output_type": "stream",
          "text": [
            "\n",
            "→ Evaluation at epoch 1\n",
            "Evaluation Accuracy: 0.2589\n",
            "Evaluation Loss: 1.7503\n",
            "→ New best accuracy! Saving model to ./results/best_model_250603/fold_5\n"
          ]
        },
        {
          "name": "stderr",
          "output_type": "stream",
          "text": [
            "/home/daniel/anaconda3/envs/symbolic_transformer/lib/python3.7/site-packages/torch/nn/parallel/_functions.py:68: UserWarning: Was asked to gather along dimension 0, but all input tensors were scalars; will instead unsqueeze and return a vector.\n",
            "  warnings.warn('Was asked to gather along dimension 0, but all '\n"
          ]
        },
        {
          "name": "stdout",
          "output_type": "stream",
          "text": [
            "\n",
            "→ Evaluation at epoch 2\n",
            "Evaluation Accuracy: 0.2766\n",
            "Evaluation Loss: 1.7283\n",
            "→ New best accuracy! Saving model to ./results/best_model_250603/fold_5\n"
          ]
        },
        {
          "name": "stderr",
          "output_type": "stream",
          "text": [
            "/home/daniel/anaconda3/envs/symbolic_transformer/lib/python3.7/site-packages/torch/nn/parallel/_functions.py:68: UserWarning: Was asked to gather along dimension 0, but all input tensors were scalars; will instead unsqueeze and return a vector.\n",
            "  warnings.warn('Was asked to gather along dimension 0, but all '\n"
          ]
        },
        {
          "name": "stdout",
          "output_type": "stream",
          "text": [
            "\n",
            "→ Evaluation at epoch 3\n",
            "Evaluation Accuracy: 0.2837\n",
            "Evaluation Loss: 1.6990\n",
            "→ New best accuracy! Saving model to ./results/best_model_250603/fold_5\n"
          ]
        },
        {
          "name": "stderr",
          "output_type": "stream",
          "text": [
            "/home/daniel/anaconda3/envs/symbolic_transformer/lib/python3.7/site-packages/torch/nn/parallel/_functions.py:68: UserWarning: Was asked to gather along dimension 0, but all input tensors were scalars; will instead unsqueeze and return a vector.\n",
            "  warnings.warn('Was asked to gather along dimension 0, but all '\n"
          ]
        },
        {
          "name": "stdout",
          "output_type": "stream",
          "text": [
            "\n",
            "→ Evaluation at epoch 4\n",
            "Evaluation Accuracy: 0.3156\n",
            "Evaluation Loss: 1.7024\n",
            "→ New best accuracy! Saving model to ./results/best_model_250603/fold_5\n"
          ]
        },
        {
          "name": "stderr",
          "output_type": "stream",
          "text": [
            "/home/daniel/anaconda3/envs/symbolic_transformer/lib/python3.7/site-packages/torch/nn/parallel/_functions.py:68: UserWarning: Was asked to gather along dimension 0, but all input tensors were scalars; will instead unsqueeze and return a vector.\n",
            "  warnings.warn('Was asked to gather along dimension 0, but all '\n"
          ]
        },
        {
          "name": "stdout",
          "output_type": "stream",
          "text": [
            "\n",
            "→ Evaluation at epoch 5\n",
            "Evaluation Accuracy: 0.3191\n",
            "Evaluation Loss: 1.7095\n",
            "→ New best accuracy! Saving model to ./results/best_model_250603/fold_5\n"
          ]
        },
        {
          "name": "stderr",
          "output_type": "stream",
          "text": [
            "/home/daniel/anaconda3/envs/symbolic_transformer/lib/python3.7/site-packages/torch/nn/parallel/_functions.py:68: UserWarning: Was asked to gather along dimension 0, but all input tensors were scalars; will instead unsqueeze and return a vector.\n",
            "  warnings.warn('Was asked to gather along dimension 0, but all '\n"
          ]
        },
        {
          "name": "stdout",
          "output_type": "stream",
          "text": [
            "\n",
            "→ Evaluation at epoch 6\n",
            "Evaluation Accuracy: 0.2482\n",
            "Evaluation Loss: 1.8345\n"
          ]
        },
        {
          "name": "stderr",
          "output_type": "stream",
          "text": [
            "/home/daniel/anaconda3/envs/symbolic_transformer/lib/python3.7/site-packages/torch/nn/parallel/_functions.py:68: UserWarning: Was asked to gather along dimension 0, but all input tensors were scalars; will instead unsqueeze and return a vector.\n",
            "  warnings.warn('Was asked to gather along dimension 0, but all '\n"
          ]
        },
        {
          "name": "stdout",
          "output_type": "stream",
          "text": [
            "\n",
            "→ Evaluation at epoch 7\n",
            "Evaluation Accuracy: 0.2801\n",
            "Evaluation Loss: 1.7566\n"
          ]
        },
        {
          "name": "stderr",
          "output_type": "stream",
          "text": [
            "/home/daniel/anaconda3/envs/symbolic_transformer/lib/python3.7/site-packages/torch/nn/parallel/_functions.py:68: UserWarning: Was asked to gather along dimension 0, but all input tensors were scalars; will instead unsqueeze and return a vector.\n",
            "  warnings.warn('Was asked to gather along dimension 0, but all '\n"
          ]
        },
        {
          "name": "stdout",
          "output_type": "stream",
          "text": [
            "\n",
            "→ Evaluation at epoch 8\n",
            "Evaluation Accuracy: 0.3014\n",
            "Evaluation Loss: 1.8029\n"
          ]
        },
        {
          "name": "stderr",
          "output_type": "stream",
          "text": [
            "/home/daniel/anaconda3/envs/symbolic_transformer/lib/python3.7/site-packages/torch/nn/parallel/_functions.py:68: UserWarning: Was asked to gather along dimension 0, but all input tensors were scalars; will instead unsqueeze and return a vector.\n",
            "  warnings.warn('Was asked to gather along dimension 0, but all '\n"
          ]
        },
        {
          "name": "stdout",
          "output_type": "stream",
          "text": [
            "\n",
            "→ Evaluation at epoch 9\n",
            "Evaluation Accuracy: 0.2766\n",
            "Evaluation Loss: 1.8308\n"
          ]
        },
        {
          "name": "stderr",
          "output_type": "stream",
          "text": [
            "/home/daniel/anaconda3/envs/symbolic_transformer/lib/python3.7/site-packages/torch/nn/parallel/_functions.py:68: UserWarning: Was asked to gather along dimension 0, but all input tensors were scalars; will instead unsqueeze and return a vector.\n",
            "  warnings.warn('Was asked to gather along dimension 0, but all '\n"
          ]
        },
        {
          "name": "stdout",
          "output_type": "stream",
          "text": [
            "\n",
            "→ Evaluation at epoch 10\n",
            "Evaluation Accuracy: 0.3014\n",
            "Evaluation Loss: 1.8006\n"
          ]
        },
        {
          "name": "stderr",
          "output_type": "stream",
          "text": [
            "/home/daniel/anaconda3/envs/symbolic_transformer/lib/python3.7/site-packages/torch/nn/parallel/_functions.py:68: UserWarning: Was asked to gather along dimension 0, but all input tensors were scalars; will instead unsqueeze and return a vector.\n",
            "  warnings.warn('Was asked to gather along dimension 0, but all '\n"
          ]
        },
        {
          "name": "stdout",
          "output_type": "stream",
          "text": [
            "\n",
            "→ Evaluation at epoch 11\n",
            "Evaluation Accuracy: 0.2766\n",
            "Evaluation Loss: 1.8573\n"
          ]
        },
        {
          "name": "stderr",
          "output_type": "stream",
          "text": [
            "/home/daniel/anaconda3/envs/symbolic_transformer/lib/python3.7/site-packages/torch/nn/parallel/_functions.py:68: UserWarning: Was asked to gather along dimension 0, but all input tensors were scalars; will instead unsqueeze and return a vector.\n",
            "  warnings.warn('Was asked to gather along dimension 0, but all '\n"
          ]
        },
        {
          "name": "stdout",
          "output_type": "stream",
          "text": [
            "\n",
            "→ Evaluation at epoch 12\n",
            "Evaluation Accuracy: 0.2908\n",
            "Evaluation Loss: 1.8922\n"
          ]
        },
        {
          "name": "stderr",
          "output_type": "stream",
          "text": [
            "/home/daniel/anaconda3/envs/symbolic_transformer/lib/python3.7/site-packages/torch/nn/parallel/_functions.py:68: UserWarning: Was asked to gather along dimension 0, but all input tensors were scalars; will instead unsqueeze and return a vector.\n",
            "  warnings.warn('Was asked to gather along dimension 0, but all '\n"
          ]
        },
        {
          "name": "stdout",
          "output_type": "stream",
          "text": [
            "\n",
            "→ Evaluation at epoch 13\n",
            "Evaluation Accuracy: 0.2801\n",
            "Evaluation Loss: 1.9891\n"
          ]
        },
        {
          "name": "stderr",
          "output_type": "stream",
          "text": [
            "/home/daniel/anaconda3/envs/symbolic_transformer/lib/python3.7/site-packages/torch/nn/parallel/_functions.py:68: UserWarning: Was asked to gather along dimension 0, but all input tensors were scalars; will instead unsqueeze and return a vector.\n",
            "  warnings.warn('Was asked to gather along dimension 0, but all '\n"
          ]
        },
        {
          "name": "stdout",
          "output_type": "stream",
          "text": [
            "\n",
            "→ Evaluation at epoch 14\n",
            "Evaluation Accuracy: 0.2801\n",
            "Evaluation Loss: 2.0060\n"
          ]
        },
        {
          "name": "stderr",
          "output_type": "stream",
          "text": [
            "/home/daniel/anaconda3/envs/symbolic_transformer/lib/python3.7/site-packages/torch/nn/parallel/_functions.py:68: UserWarning: Was asked to gather along dimension 0, but all input tensors were scalars; will instead unsqueeze and return a vector.\n",
            "  warnings.warn('Was asked to gather along dimension 0, but all '\n"
          ]
        },
        {
          "name": "stdout",
          "output_type": "stream",
          "text": [
            "\n",
            "→ Evaluation at epoch 15\n",
            "Evaluation Accuracy: 0.2801\n",
            "Evaluation Loss: 2.1134\n"
          ]
        },
        {
          "name": "stderr",
          "output_type": "stream",
          "text": [
            "/home/daniel/anaconda3/envs/symbolic_transformer/lib/python3.7/site-packages/torch/nn/parallel/_functions.py:68: UserWarning: Was asked to gather along dimension 0, but all input tensors were scalars; will instead unsqueeze and return a vector.\n",
            "  warnings.warn('Was asked to gather along dimension 0, but all '\n"
          ]
        },
        {
          "name": "stdout",
          "output_type": "stream",
          "text": [
            "\n",
            "→ Evaluation at epoch 16\n",
            "Evaluation Accuracy: 0.2801\n",
            "Evaluation Loss: 2.1736\n"
          ]
        },
        {
          "name": "stderr",
          "output_type": "stream",
          "text": [
            "/home/daniel/anaconda3/envs/symbolic_transformer/lib/python3.7/site-packages/torch/nn/parallel/_functions.py:68: UserWarning: Was asked to gather along dimension 0, but all input tensors were scalars; will instead unsqueeze and return a vector.\n",
            "  warnings.warn('Was asked to gather along dimension 0, but all '\n"
          ]
        },
        {
          "name": "stdout",
          "output_type": "stream",
          "text": [
            "\n",
            "→ Evaluation at epoch 17\n",
            "Evaluation Accuracy: 0.2730\n",
            "Evaluation Loss: 2.1940\n"
          ]
        },
        {
          "name": "stderr",
          "output_type": "stream",
          "text": [
            "/home/daniel/anaconda3/envs/symbolic_transformer/lib/python3.7/site-packages/torch/nn/parallel/_functions.py:68: UserWarning: Was asked to gather along dimension 0, but all input tensors were scalars; will instead unsqueeze and return a vector.\n",
            "  warnings.warn('Was asked to gather along dimension 0, but all '\n"
          ]
        },
        {
          "name": "stdout",
          "output_type": "stream",
          "text": [
            "\n",
            "→ Evaluation at epoch 18\n",
            "Evaluation Accuracy: 0.2695\n",
            "Evaluation Loss: 2.2857\n"
          ]
        },
        {
          "name": "stderr",
          "output_type": "stream",
          "text": [
            "/home/daniel/anaconda3/envs/symbolic_transformer/lib/python3.7/site-packages/torch/nn/parallel/_functions.py:68: UserWarning: Was asked to gather along dimension 0, but all input tensors were scalars; will instead unsqueeze and return a vector.\n",
            "  warnings.warn('Was asked to gather along dimension 0, but all '\n"
          ]
        },
        {
          "name": "stdout",
          "output_type": "stream",
          "text": [
            "\n",
            "→ Evaluation at epoch 19\n",
            "Evaluation Accuracy: 0.2730\n",
            "Evaluation Loss: 2.3373\n"
          ]
        },
        {
          "name": "stderr",
          "output_type": "stream",
          "text": [
            "/home/daniel/anaconda3/envs/symbolic_transformer/lib/python3.7/site-packages/torch/nn/parallel/_functions.py:68: UserWarning: Was asked to gather along dimension 0, but all input tensors were scalars; will instead unsqueeze and return a vector.\n",
            "  warnings.warn('Was asked to gather along dimension 0, but all '\n"
          ]
        },
        {
          "name": "stdout",
          "output_type": "stream",
          "text": [
            "\n",
            "→ Evaluation at epoch 20\n",
            "Evaluation Accuracy: 0.2518\n",
            "Evaluation Loss: 2.3797\n"
          ]
        },
        {
          "name": "stderr",
          "output_type": "stream",
          "text": [
            "/home/daniel/anaconda3/envs/symbolic_transformer/lib/python3.7/site-packages/torch/nn/parallel/_functions.py:68: UserWarning: Was asked to gather along dimension 0, but all input tensors were scalars; will instead unsqueeze and return a vector.\n",
            "  warnings.warn('Was asked to gather along dimension 0, but all '\n"
          ]
        },
        {
          "name": "stdout",
          "output_type": "stream",
          "text": [
            "\n",
            "→ Evaluation at epoch 21\n",
            "Evaluation Accuracy: 0.2766\n",
            "Evaluation Loss: 2.4339\n"
          ]
        },
        {
          "name": "stderr",
          "output_type": "stream",
          "text": [
            "/home/daniel/anaconda3/envs/symbolic_transformer/lib/python3.7/site-packages/torch/nn/parallel/_functions.py:68: UserWarning: Was asked to gather along dimension 0, but all input tensors were scalars; will instead unsqueeze and return a vector.\n",
            "  warnings.warn('Was asked to gather along dimension 0, but all '\n"
          ]
        },
        {
          "name": "stdout",
          "output_type": "stream",
          "text": [
            "\n",
            "→ Evaluation at epoch 22\n",
            "Evaluation Accuracy: 0.2624\n",
            "Evaluation Loss: 2.5422\n"
          ]
        },
        {
          "name": "stderr",
          "output_type": "stream",
          "text": [
            "/home/daniel/anaconda3/envs/symbolic_transformer/lib/python3.7/site-packages/torch/nn/parallel/_functions.py:68: UserWarning: Was asked to gather along dimension 0, but all input tensors were scalars; will instead unsqueeze and return a vector.\n",
            "  warnings.warn('Was asked to gather along dimension 0, but all '\n"
          ]
        },
        {
          "name": "stdout",
          "output_type": "stream",
          "text": [
            "\n",
            "→ Evaluation at epoch 23\n",
            "Evaluation Accuracy: 0.2589\n",
            "Evaluation Loss: 2.6153\n"
          ]
        },
        {
          "name": "stderr",
          "output_type": "stream",
          "text": [
            "/home/daniel/anaconda3/envs/symbolic_transformer/lib/python3.7/site-packages/torch/nn/parallel/_functions.py:68: UserWarning: Was asked to gather along dimension 0, but all input tensors were scalars; will instead unsqueeze and return a vector.\n",
            "  warnings.warn('Was asked to gather along dimension 0, but all '\n"
          ]
        },
        {
          "name": "stdout",
          "output_type": "stream",
          "text": [
            "\n",
            "→ Evaluation at epoch 24\n",
            "Evaluation Accuracy: 0.2482\n",
            "Evaluation Loss: 2.6772\n"
          ]
        },
        {
          "name": "stderr",
          "output_type": "stream",
          "text": [
            "/home/daniel/anaconda3/envs/symbolic_transformer/lib/python3.7/site-packages/torch/nn/parallel/_functions.py:68: UserWarning: Was asked to gather along dimension 0, but all input tensors were scalars; will instead unsqueeze and return a vector.\n",
            "  warnings.warn('Was asked to gather along dimension 0, but all '\n"
          ]
        },
        {
          "name": "stdout",
          "output_type": "stream",
          "text": [
            "\n",
            "→ Evaluation at epoch 25\n",
            "Evaluation Accuracy: 0.2660\n",
            "Evaluation Loss: 2.6888\n"
          ]
        },
        {
          "name": "stderr",
          "output_type": "stream",
          "text": [
            "/home/daniel/anaconda3/envs/symbolic_transformer/lib/python3.7/site-packages/torch/nn/parallel/_functions.py:68: UserWarning: Was asked to gather along dimension 0, but all input tensors were scalars; will instead unsqueeze and return a vector.\n",
            "  warnings.warn('Was asked to gather along dimension 0, but all '\n"
          ]
        },
        {
          "name": "stdout",
          "output_type": "stream",
          "text": [
            "\n",
            "→ Evaluation at epoch 26\n",
            "Evaluation Accuracy: 0.2305\n",
            "Evaluation Loss: 2.8023\n"
          ]
        },
        {
          "name": "stderr",
          "output_type": "stream",
          "text": [
            "/home/daniel/anaconda3/envs/symbolic_transformer/lib/python3.7/site-packages/torch/nn/parallel/_functions.py:68: UserWarning: Was asked to gather along dimension 0, but all input tensors were scalars; will instead unsqueeze and return a vector.\n",
            "  warnings.warn('Was asked to gather along dimension 0, but all '\n"
          ]
        },
        {
          "name": "stdout",
          "output_type": "stream",
          "text": [
            "\n",
            "→ Evaluation at epoch 27\n",
            "Evaluation Accuracy: 0.2730\n",
            "Evaluation Loss: 2.8656\n"
          ]
        },
        {
          "name": "stderr",
          "output_type": "stream",
          "text": [
            "/home/daniel/anaconda3/envs/symbolic_transformer/lib/python3.7/site-packages/torch/nn/parallel/_functions.py:68: UserWarning: Was asked to gather along dimension 0, but all input tensors were scalars; will instead unsqueeze and return a vector.\n",
            "  warnings.warn('Was asked to gather along dimension 0, but all '\n"
          ]
        },
        {
          "name": "stdout",
          "output_type": "stream",
          "text": [
            "\n",
            "→ Evaluation at epoch 28\n",
            "Evaluation Accuracy: 0.2447\n",
            "Evaluation Loss: 2.9379\n"
          ]
        },
        {
          "name": "stderr",
          "output_type": "stream",
          "text": [
            "/home/daniel/anaconda3/envs/symbolic_transformer/lib/python3.7/site-packages/torch/nn/parallel/_functions.py:68: UserWarning: Was asked to gather along dimension 0, but all input tensors were scalars; will instead unsqueeze and return a vector.\n",
            "  warnings.warn('Was asked to gather along dimension 0, but all '\n"
          ]
        },
        {
          "name": "stdout",
          "output_type": "stream",
          "text": [
            "\n",
            "→ Evaluation at epoch 29\n",
            "Evaluation Accuracy: 0.2730\n",
            "Evaluation Loss: 2.9356\n"
          ]
        },
        {
          "name": "stderr",
          "output_type": "stream",
          "text": [
            "/home/daniel/anaconda3/envs/symbolic_transformer/lib/python3.7/site-packages/torch/nn/parallel/_functions.py:68: UserWarning: Was asked to gather along dimension 0, but all input tensors were scalars; will instead unsqueeze and return a vector.\n",
            "  warnings.warn('Was asked to gather along dimension 0, but all '\n"
          ]
        },
        {
          "name": "stdout",
          "output_type": "stream",
          "text": [
            "\n",
            "→ Evaluation at epoch 30\n",
            "Evaluation Accuracy: 0.2660\n",
            "Evaluation Loss: 2.9985\n"
          ]
        },
        {
          "name": "stderr",
          "output_type": "stream",
          "text": [
            "/home/daniel/anaconda3/envs/symbolic_transformer/lib/python3.7/site-packages/torch/nn/parallel/_functions.py:68: UserWarning: Was asked to gather along dimension 0, but all input tensors were scalars; will instead unsqueeze and return a vector.\n",
            "  warnings.warn('Was asked to gather along dimension 0, but all '\n"
          ]
        },
        {
          "name": "stdout",
          "output_type": "stream",
          "text": [
            "\n",
            "→ Evaluation at epoch 31\n",
            "Evaluation Accuracy: 0.2589\n",
            "Evaluation Loss: 3.0789\n"
          ]
        },
        {
          "name": "stderr",
          "output_type": "stream",
          "text": [
            "/home/daniel/anaconda3/envs/symbolic_transformer/lib/python3.7/site-packages/torch/nn/parallel/_functions.py:68: UserWarning: Was asked to gather along dimension 0, but all input tensors were scalars; will instead unsqueeze and return a vector.\n",
            "  warnings.warn('Was asked to gather along dimension 0, but all '\n"
          ]
        },
        {
          "name": "stdout",
          "output_type": "stream",
          "text": [
            "\n",
            "→ Evaluation at epoch 32\n",
            "Evaluation Accuracy: 0.2447\n",
            "Evaluation Loss: 3.0927\n"
          ]
        },
        {
          "name": "stderr",
          "output_type": "stream",
          "text": [
            "/home/daniel/anaconda3/envs/symbolic_transformer/lib/python3.7/site-packages/torch/nn/parallel/_functions.py:68: UserWarning: Was asked to gather along dimension 0, but all input tensors were scalars; will instead unsqueeze and return a vector.\n",
            "  warnings.warn('Was asked to gather along dimension 0, but all '\n"
          ]
        },
        {
          "name": "stdout",
          "output_type": "stream",
          "text": [
            "\n",
            "→ Evaluation at epoch 33\n",
            "Evaluation Accuracy: 0.2801\n",
            "Evaluation Loss: 3.0953\n"
          ]
        },
        {
          "name": "stderr",
          "output_type": "stream",
          "text": [
            "/home/daniel/anaconda3/envs/symbolic_transformer/lib/python3.7/site-packages/torch/nn/parallel/_functions.py:68: UserWarning: Was asked to gather along dimension 0, but all input tensors were scalars; will instead unsqueeze and return a vector.\n",
            "  warnings.warn('Was asked to gather along dimension 0, but all '\n"
          ]
        },
        {
          "name": "stdout",
          "output_type": "stream",
          "text": [
            "\n",
            "→ Evaluation at epoch 34\n",
            "Evaluation Accuracy: 0.2695\n",
            "Evaluation Loss: 3.1630\n"
          ]
        },
        {
          "name": "stderr",
          "output_type": "stream",
          "text": [
            "/home/daniel/anaconda3/envs/symbolic_transformer/lib/python3.7/site-packages/torch/nn/parallel/_functions.py:68: UserWarning: Was asked to gather along dimension 0, but all input tensors were scalars; will instead unsqueeze and return a vector.\n",
            "  warnings.warn('Was asked to gather along dimension 0, but all '\n"
          ]
        },
        {
          "name": "stdout",
          "output_type": "stream",
          "text": [
            "\n",
            "→ Evaluation at epoch 35\n",
            "Evaluation Accuracy: 0.2518\n",
            "Evaluation Loss: 3.1719\n"
          ]
        },
        {
          "name": "stderr",
          "output_type": "stream",
          "text": [
            "/home/daniel/anaconda3/envs/symbolic_transformer/lib/python3.7/site-packages/torch/nn/parallel/_functions.py:68: UserWarning: Was asked to gather along dimension 0, but all input tensors were scalars; will instead unsqueeze and return a vector.\n",
            "  warnings.warn('Was asked to gather along dimension 0, but all '\n"
          ]
        },
        {
          "name": "stdout",
          "output_type": "stream",
          "text": [
            "\n",
            "→ Evaluation at epoch 36\n",
            "Evaluation Accuracy: 0.2624\n",
            "Evaluation Loss: 3.2300\n"
          ]
        },
        {
          "name": "stderr",
          "output_type": "stream",
          "text": [
            "/home/daniel/anaconda3/envs/symbolic_transformer/lib/python3.7/site-packages/torch/nn/parallel/_functions.py:68: UserWarning: Was asked to gather along dimension 0, but all input tensors were scalars; will instead unsqueeze and return a vector.\n",
            "  warnings.warn('Was asked to gather along dimension 0, but all '\n"
          ]
        },
        {
          "name": "stdout",
          "output_type": "stream",
          "text": [
            "\n",
            "→ Evaluation at epoch 37\n",
            "Evaluation Accuracy: 0.2589\n",
            "Evaluation Loss: 3.2652\n"
          ]
        },
        {
          "name": "stderr",
          "output_type": "stream",
          "text": [
            "/home/daniel/anaconda3/envs/symbolic_transformer/lib/python3.7/site-packages/torch/nn/parallel/_functions.py:68: UserWarning: Was asked to gather along dimension 0, but all input tensors were scalars; will instead unsqueeze and return a vector.\n",
            "  warnings.warn('Was asked to gather along dimension 0, but all '\n"
          ]
        },
        {
          "name": "stdout",
          "output_type": "stream",
          "text": [
            "\n",
            "→ Evaluation at epoch 38\n",
            "Evaluation Accuracy: 0.2766\n",
            "Evaluation Loss: 3.2549\n"
          ]
        },
        {
          "name": "stderr",
          "output_type": "stream",
          "text": [
            "/home/daniel/anaconda3/envs/symbolic_transformer/lib/python3.7/site-packages/torch/nn/parallel/_functions.py:68: UserWarning: Was asked to gather along dimension 0, but all input tensors were scalars; will instead unsqueeze and return a vector.\n",
            "  warnings.warn('Was asked to gather along dimension 0, but all '\n"
          ]
        },
        {
          "name": "stdout",
          "output_type": "stream",
          "text": [
            "\n",
            "→ Evaluation at epoch 39\n",
            "Evaluation Accuracy: 0.2872\n",
            "Evaluation Loss: 3.2983\n"
          ]
        },
        {
          "name": "stderr",
          "output_type": "stream",
          "text": [
            "/home/daniel/anaconda3/envs/symbolic_transformer/lib/python3.7/site-packages/torch/nn/parallel/_functions.py:68: UserWarning: Was asked to gather along dimension 0, but all input tensors were scalars; will instead unsqueeze and return a vector.\n",
            "  warnings.warn('Was asked to gather along dimension 0, but all '\n"
          ]
        },
        {
          "name": "stdout",
          "output_type": "stream",
          "text": [
            "\n",
            "→ Evaluation at epoch 40\n",
            "Evaluation Accuracy: 0.2624\n",
            "Evaluation Loss: 3.3547\n"
          ]
        },
        {
          "name": "stderr",
          "output_type": "stream",
          "text": [
            "/home/daniel/anaconda3/envs/symbolic_transformer/lib/python3.7/site-packages/torch/nn/parallel/_functions.py:68: UserWarning: Was asked to gather along dimension 0, but all input tensors were scalars; will instead unsqueeze and return a vector.\n",
            "  warnings.warn('Was asked to gather along dimension 0, but all '\n"
          ]
        },
        {
          "name": "stdout",
          "output_type": "stream",
          "text": [
            "\n",
            "→ Evaluation at epoch 41\n",
            "Evaluation Accuracy: 0.2730\n",
            "Evaluation Loss: 3.3734\n"
          ]
        },
        {
          "name": "stderr",
          "output_type": "stream",
          "text": [
            "/home/daniel/anaconda3/envs/symbolic_transformer/lib/python3.7/site-packages/torch/nn/parallel/_functions.py:68: UserWarning: Was asked to gather along dimension 0, but all input tensors were scalars; will instead unsqueeze and return a vector.\n",
            "  warnings.warn('Was asked to gather along dimension 0, but all '\n"
          ]
        },
        {
          "name": "stdout",
          "output_type": "stream",
          "text": [
            "\n",
            "→ Evaluation at epoch 42\n",
            "Evaluation Accuracy: 0.2801\n",
            "Evaluation Loss: 3.3804\n"
          ]
        },
        {
          "name": "stderr",
          "output_type": "stream",
          "text": [
            "/home/daniel/anaconda3/envs/symbolic_transformer/lib/python3.7/site-packages/torch/nn/parallel/_functions.py:68: UserWarning: Was asked to gather along dimension 0, but all input tensors were scalars; will instead unsqueeze and return a vector.\n",
            "  warnings.warn('Was asked to gather along dimension 0, but all '\n"
          ]
        },
        {
          "name": "stdout",
          "output_type": "stream",
          "text": [
            "\n",
            "→ Evaluation at epoch 43\n",
            "Evaluation Accuracy: 0.2695\n",
            "Evaluation Loss: 3.3741\n"
          ]
        },
        {
          "name": "stderr",
          "output_type": "stream",
          "text": [
            "/home/daniel/anaconda3/envs/symbolic_transformer/lib/python3.7/site-packages/torch/nn/parallel/_functions.py:68: UserWarning: Was asked to gather along dimension 0, but all input tensors were scalars; will instead unsqueeze and return a vector.\n",
            "  warnings.warn('Was asked to gather along dimension 0, but all '\n"
          ]
        },
        {
          "name": "stdout",
          "output_type": "stream",
          "text": [
            "\n",
            "→ Evaluation at epoch 44\n",
            "Evaluation Accuracy: 0.2624\n",
            "Evaluation Loss: 3.4118\n"
          ]
        },
        {
          "name": "stderr",
          "output_type": "stream",
          "text": [
            "/home/daniel/anaconda3/envs/symbolic_transformer/lib/python3.7/site-packages/torch/nn/parallel/_functions.py:68: UserWarning: Was asked to gather along dimension 0, but all input tensors were scalars; will instead unsqueeze and return a vector.\n",
            "  warnings.warn('Was asked to gather along dimension 0, but all '\n"
          ]
        },
        {
          "name": "stdout",
          "output_type": "stream",
          "text": [
            "\n",
            "→ Evaluation at epoch 45\n",
            "Evaluation Accuracy: 0.2589\n",
            "Evaluation Loss: 3.4339\n"
          ]
        },
        {
          "name": "stderr",
          "output_type": "stream",
          "text": [
            "/home/daniel/anaconda3/envs/symbolic_transformer/lib/python3.7/site-packages/torch/nn/parallel/_functions.py:68: UserWarning: Was asked to gather along dimension 0, but all input tensors were scalars; will instead unsqueeze and return a vector.\n",
            "  warnings.warn('Was asked to gather along dimension 0, but all '\n"
          ]
        },
        {
          "name": "stdout",
          "output_type": "stream",
          "text": [
            "\n",
            "→ Evaluation at epoch 46\n",
            "Evaluation Accuracy: 0.2589\n",
            "Evaluation Loss: 3.4553\n"
          ]
        },
        {
          "name": "stderr",
          "output_type": "stream",
          "text": [
            "/home/daniel/anaconda3/envs/symbolic_transformer/lib/python3.7/site-packages/torch/nn/parallel/_functions.py:68: UserWarning: Was asked to gather along dimension 0, but all input tensors were scalars; will instead unsqueeze and return a vector.\n",
            "  warnings.warn('Was asked to gather along dimension 0, but all '\n"
          ]
        },
        {
          "name": "stdout",
          "output_type": "stream",
          "text": [
            "\n",
            "→ Evaluation at epoch 47\n",
            "Evaluation Accuracy: 0.2660\n",
            "Evaluation Loss: 3.4746\n"
          ]
        },
        {
          "name": "stderr",
          "output_type": "stream",
          "text": [
            "/home/daniel/anaconda3/envs/symbolic_transformer/lib/python3.7/site-packages/torch/nn/parallel/_functions.py:68: UserWarning: Was asked to gather along dimension 0, but all input tensors were scalars; will instead unsqueeze and return a vector.\n",
            "  warnings.warn('Was asked to gather along dimension 0, but all '\n"
          ]
        },
        {
          "name": "stdout",
          "output_type": "stream",
          "text": [
            "\n",
            "→ Evaluation at epoch 48\n",
            "Evaluation Accuracy: 0.2553\n",
            "Evaluation Loss: 3.4830\n"
          ]
        },
        {
          "name": "stderr",
          "output_type": "stream",
          "text": [
            "/home/daniel/anaconda3/envs/symbolic_transformer/lib/python3.7/site-packages/torch/nn/parallel/_functions.py:68: UserWarning: Was asked to gather along dimension 0, but all input tensors were scalars; will instead unsqueeze and return a vector.\n",
            "  warnings.warn('Was asked to gather along dimension 0, but all '\n"
          ]
        },
        {
          "name": "stdout",
          "output_type": "stream",
          "text": [
            "\n",
            "→ Evaluation at epoch 49\n",
            "Evaluation Accuracy: 0.2624\n",
            "Evaluation Loss: 3.4796\n"
          ]
        },
        {
          "name": "stderr",
          "output_type": "stream",
          "text": [
            "/home/daniel/anaconda3/envs/symbolic_transformer/lib/python3.7/site-packages/torch/nn/parallel/_functions.py:68: UserWarning: Was asked to gather along dimension 0, but all input tensors were scalars; will instead unsqueeze and return a vector.\n",
            "  warnings.warn('Was asked to gather along dimension 0, but all '\n"
          ]
        },
        {
          "name": "stdout",
          "output_type": "stream",
          "text": [
            "\n",
            "→ Evaluation at epoch 50\n",
            "Evaluation Accuracy: 0.2624\n",
            "Evaluation Loss: 3.4825\n"
          ]
        }
      ],
      "source": [
        "import pandas as pd\n",
        "import torch\n",
        "from sklearn.model_selection import KFold\n",
        "from transformers import (\n",
        "    AutoTokenizer, AutoModelForSequenceClassification, Trainer, TrainingArguments, TrainerCallback\n",
        ")\n",
        "from datasets import Dataset\n",
        "import evaluate\n",
        "import os\n",
        "\n",
        "# Carrega o dataset\n",
        "df = pd.read_pickle('dataset_250603.pkl')\n",
        "\n",
        "# Tokenizador\n",
        "tokenizer = AutoTokenizer.from_pretrained(\"neuralmind/bert-base-portuguese-cased\")\n",
        "\n",
        "def tokenize(example):\n",
        "    return tokenizer(example['input'], truncation=True, padding=\"max_length\", max_length=128)\n",
        "\n",
        "# Métrica\n",
        "accuracy = evaluate.load(\"accuracy\")\n",
        "\n",
        "def compute_metrics(eval_pred):\n",
        "    logits, labels = eval_pred\n",
        "    preds = torch.argmax(torch.tensor(logits), axis=-1)\n",
        "    return accuracy.compute(predictions=preds, references=labels)\n",
        "\n",
        "# Callback personalizado para salvar o melhor modelo\n",
        "class EvalAndSaveBestModelCallback(TrainerCallback):\n",
        "    def __init__(self, save_path):\n",
        "        self.save_path = save_path\n",
        "        self.best_accuracy = 0.0\n",
        "\n",
        "    def on_evaluate(self, args, state, control, metrics=None, **kwargs):\n",
        "        acc = metrics.get(\"eval_accuracy\", 0.0)\n",
        "        loss = metrics.get(\"eval_loss\", None)\n",
        "\n",
        "        print(f\"\\n→ Evaluation at epoch {int(state.epoch)}\")\n",
        "        print(f\"Evaluation Accuracy: {acc:.4f}\")\n",
        "        if loss is not None:\n",
        "            print(f\"Evaluation Loss: {loss:.4f}\")\n",
        "\n",
        "        if acc > self.best_accuracy:\n",
        "            print(f\"→ New best accuracy! Saving model to {self.save_path}\")\n",
        "            self.best_accuracy = acc\n",
        "            self.trainer.save_model(self.save_path)\n",
        "            self.trainer.tokenizer.save_pretrained(self.save_path)\n",
        "\n",
        "# Número de folds\n",
        "k = 5\n",
        "skf = KFold(n_splits=k, shuffle=True, random_state=42)\n",
        "\n",
        "X = df['input'].values\n",
        "y = df['label'].values\n",
        "num_labels = df['label'].nunique()\n",
        "\n",
        "for fold, (train_idx, test_idx) in enumerate(skf.split(X, y)):\n",
        "    print(f\"\\n==== Fold {fold + 1}/{k} ====\")\n",
        "    \n",
        "    # Divide os dados\n",
        "    train_df = df.iloc[train_idx].reset_index(drop=True)\n",
        "    test_df = df.iloc[test_idx].reset_index(drop=True)\n",
        "    \n",
        "    # Converte para Hugging Face Dataset e tokeniza\n",
        "    train_dataset = Dataset.from_pandas(train_df[['input', 'label']])\n",
        "    test_dataset = Dataset.from_pandas(test_df[['input', 'label']])\n",
        "    train_dataset = train_dataset.map(tokenize, batched=True)\n",
        "    test_dataset = test_dataset.map(tokenize, batched=True)\n",
        "\n",
        "    # Modelo\n",
        "    model = AutoModelForSequenceClassification.from_pretrained(\n",
        "        \"neuralmind/bert-base-portuguese-cased\",\n",
        "        num_labels=num_labels\n",
        "    )\n",
        "\n",
        "    # Paths\n",
        "    save_path = f\"./results/best_model_250603/fold_{fold + 1}\"\n",
        "    os.makedirs(save_path, exist_ok=True)\n",
        "    eval_callback = EvalAndSaveBestModelCallback(save_path=save_path)\n",
        "\n",
        "    # Argumentos de treinamento\n",
        "    training_args = TrainingArguments(\n",
        "        output_dir=save_path,\n",
        "        learning_rate=2e-5,\n",
        "        per_device_train_batch_size=16,\n",
        "        per_device_eval_batch_size=16,\n",
        "        num_train_epochs=50,\n",
        "        weight_decay=0.01,\n",
        "        logging_dir=f\"{save_path}/logs\",\n",
        "        report_to=\"none\",\n",
        "        evaluation_strategy=\"epoch\",\n",
        "        save_strategy=\"no\",\n",
        "    )\n",
        "\n",
        "    # Trainer\n",
        "    trainer = Trainer(\n",
        "        model=model,\n",
        "        args=training_args,\n",
        "        train_dataset=train_dataset,\n",
        "        eval_dataset=test_dataset,\n",
        "        tokenizer=tokenizer,\n",
        "        compute_metrics=compute_metrics,\n",
        "        callbacks=[eval_callback],\n",
        "    )\n",
        "\n",
        "    # Vincula trainer ao callback\n",
        "    eval_callback.trainer = trainer\n",
        "\n",
        "    # Treina o modelo\n",
        "    trainer.train()\n"
      ]
    },
    {
      "cell_type": "markdown",
      "metadata": {
        "id": "QB3oTYstNhqz"
      },
      "source": [
        "# Evaluating"
      ]
    },
    {
      "cell_type": "markdown",
      "metadata": {},
      "source": [
        "## Original model"
      ]
    },
    {
      "cell_type": "code",
      "execution_count": 47,
      "metadata": {
        "id": "kB0IwS2ANhaP"
      },
      "outputs": [
        {
          "name": "stderr",
          "output_type": "stream",
          "text": [
            "You're using a BertTokenizerFast tokenizer. Please note that with a fast tokenizer, using the `__call__` method is faster than using a method to encode the text followed by a call to the `pad` method to get a padded encoding.\n",
            "/home/daniel/anaconda3/envs/symbolic_transformer/lib/python3.7/site-packages/torch/nn/parallel/_functions.py:68: UserWarning: Was asked to gather along dimension 0, but all input tensors were scalars; will instead unsqueeze and return a vector.\n",
            "  warnings.warn('Was asked to gather along dimension 0, but all '\n"
          ]
        },
        {
          "data": {
            "text/html": [
              "\n",
              "    <div>\n",
              "      \n",
              "      <progress value='6' max='6' style='width:300px; height:20px; vertical-align: middle;'></progress>\n",
              "      [6/6 00:00]\n",
              "    </div>\n",
              "    "
            ],
            "text/plain": [
              "<IPython.core.display.HTML object>"
            ]
          },
          "metadata": {},
          "output_type": "display_data"
        },
        {
          "name": "stdout",
          "output_type": "stream",
          "text": [
            "{'eval_loss': 1.4698394536972046, 'eval_accuracy': 0.36627906976744184, 'eval_runtime': 0.3236, 'eval_samples_per_second': 531.465, 'eval_steps_per_second': 18.539}\n"
          ]
        }
      ],
      "source": [
        "tokenized_dataset = joblib.load(\"tokenized_dataset.joblib\")\n",
        "model_path = \"./results/best_model\"\n",
        "\n",
        "# Load tokenizer and model\n",
        "tokenizer = AutoTokenizer.from_pretrained(model_path)\n",
        "model = AutoModelForSequenceClassification.from_pretrained(model_path)\n",
        "accuracy = evaluate.load(\"accuracy\")\n",
        "\n",
        "def compute_metrics(eval_pred):\n",
        "    logits, labels = eval_pred\n",
        "    preds = torch.argmax(torch.tensor(logits), axis=-1)\n",
        "    return accuracy.compute(predictions=preds, references=labels)\n",
        "from transformers import Trainer, TrainingArguments\n",
        "\n",
        "training_args = TrainingArguments(\n",
        "    output_dir=\"./results/eval\",\n",
        "    per_device_eval_batch_size=16,\n",
        "    report_to=\"none\"\n",
        ")\n",
        "\n",
        "trainer = Trainer(\n",
        "    model=model,\n",
        "    args=training_args,\n",
        "    tokenizer=tokenizer,\n",
        "    compute_metrics=compute_metrics,\n",
        ")\n",
        "\n",
        "# Run evaluation on test set\n",
        "metrics = trainer.evaluate(eval_dataset=tokenized_dataset[\"test\"])\n",
        "print(metrics)"
      ]
    },
    {
      "cell_type": "markdown",
      "metadata": {},
      "source": [
        "## New model"
      ]
    },
    {
      "cell_type": "code",
      "execution_count": 48,
      "metadata": {},
      "outputs": [
        {
          "name": "stderr",
          "output_type": "stream",
          "text": [
            "You're using a BertTokenizerFast tokenizer. Please note that with a fast tokenizer, using the `__call__` method is faster than using a method to encode the text followed by a call to the `pad` method to get a padded encoding.\n",
            "/home/daniel/anaconda3/envs/symbolic_transformer/lib/python3.7/site-packages/torch/nn/parallel/_functions.py:68: UserWarning: Was asked to gather along dimension 0, but all input tensors were scalars; will instead unsqueeze and return a vector.\n",
            "  warnings.warn('Was asked to gather along dimension 0, but all '\n"
          ]
        },
        {
          "data": {
            "text/html": [
              "\n",
              "    <div>\n",
              "      \n",
              "      <progress value='7' max='7' style='width:300px; height:20px; vertical-align: middle;'></progress>\n",
              "      [7/7 00:00]\n",
              "    </div>\n",
              "    "
            ],
            "text/plain": [
              "<IPython.core.display.HTML object>"
            ]
          },
          "metadata": {},
          "output_type": "display_data"
        },
        {
          "name": "stdout",
          "output_type": "stream",
          "text": [
            "{'eval_loss': 5.627876281738281, 'eval_accuracy': 0.3317757009345794, 'eval_runtime': 0.4083, 'eval_samples_per_second': 524.105, 'eval_steps_per_second': 17.144}\n"
          ]
        }
      ],
      "source": [
        "tokenized_dataset = joblib.load(\"tokenized_dataset_new.joblib\")\n",
        "model_path = \"./results/best_model_new\"\n",
        "\n",
        "# Load tokenizer and model\n",
        "tokenizer = AutoTokenizer.from_pretrained(model_path)\n",
        "model = AutoModelForSequenceClassification.from_pretrained(model_path)\n",
        "accuracy = evaluate.load(\"accuracy\")\n",
        "\n",
        "def compute_metrics(eval_pred):\n",
        "    logits, labels = eval_pred\n",
        "    preds = torch.argmax(torch.tensor(logits), axis=-1)\n",
        "    return accuracy.compute(predictions=preds, references=labels)\n",
        "from transformers import Trainer, TrainingArguments\n",
        "\n",
        "training_args = TrainingArguments(\n",
        "    output_dir=\"./results/eval\",\n",
        "    per_device_eval_batch_size=16,\n",
        "    report_to=\"none\"\n",
        ")\n",
        "\n",
        "trainer = Trainer(\n",
        "    model=model,\n",
        "    args=training_args,\n",
        "    tokenizer=tokenizer,\n",
        "    compute_metrics=compute_metrics,\n",
        ")\n",
        "\n",
        "# Run evaluation on test set\n",
        "metrics = trainer.evaluate(eval_dataset=tokenized_dataset[\"test\"])\n",
        "print(metrics)"
      ]
    },
    {
      "cell_type": "markdown",
      "metadata": {},
      "source": [
        "## 250603 model"
      ]
    },
    {
      "cell_type": "code",
      "execution_count": 49,
      "metadata": {},
      "outputs": [
        {
          "name": "stderr",
          "output_type": "stream",
          "text": [
            "You're using a BertTokenizerFast tokenizer. Please note that with a fast tokenizer, using the `__call__` method is faster than using a method to encode the text followed by a call to the `pad` method to get a padded encoding.\n",
            "/home/daniel/anaconda3/envs/symbolic_transformer/lib/python3.7/site-packages/torch/nn/parallel/_functions.py:68: UserWarning: Was asked to gather along dimension 0, but all input tensors were scalars; will instead unsqueeze and return a vector.\n",
            "  warnings.warn('Was asked to gather along dimension 0, but all '\n"
          ]
        },
        {
          "data": {
            "text/html": [
              "\n",
              "    <div>\n",
              "      \n",
              "      <progress value='9' max='9' style='width:300px; height:20px; vertical-align: middle;'></progress>\n",
              "      [9/9 00:00]\n",
              "    </div>\n",
              "    "
            ],
            "text/plain": [
              "<IPython.core.display.HTML object>"
            ]
          },
          "metadata": {},
          "output_type": "display_data"
        },
        {
          "name": "stdout",
          "output_type": "stream",
          "text": [
            "{'eval_loss': 1.6674420833587646, 'eval_accuracy': 0.3404255319148936, 'eval_runtime': 0.4699, 'eval_samples_per_second': 600.167, 'eval_steps_per_second': 19.154}\n"
          ]
        }
      ],
      "source": [
        "tokenized_dataset = joblib.load(\"tokenized_dataset_250603.joblib\")\n",
        "model_path = \"./results/best_model_250603\"\n",
        "\n",
        "# Load tokenizer and model\n",
        "tokenizer = AutoTokenizer.from_pretrained(model_path)\n",
        "model = AutoModelForSequenceClassification.from_pretrained(model_path)\n",
        "accuracy = evaluate.load(\"accuracy\")\n",
        "\n",
        "def compute_metrics(eval_pred):\n",
        "    logits, labels = eval_pred\n",
        "    preds = torch.argmax(torch.tensor(logits), axis=-1)\n",
        "    return accuracy.compute(predictions=preds, references=labels)\n",
        "from transformers import Trainer, TrainingArguments\n",
        "\n",
        "training_args = TrainingArguments(\n",
        "    output_dir=\"./results/eval\",\n",
        "    per_device_eval_batch_size=16,\n",
        "    report_to=\"none\"\n",
        ")\n",
        "\n",
        "trainer = Trainer(\n",
        "    model=model,\n",
        "    args=training_args,\n",
        "    tokenizer=tokenizer,\n",
        "    compute_metrics=compute_metrics,\n",
        ")\n",
        "\n",
        "# Run evaluation on test set\n",
        "metrics = trainer.evaluate(eval_dataset=tokenized_dataset[\"test\"])\n",
        "print(metrics)"
      ]
    },
    {
      "cell_type": "markdown",
      "metadata": {},
      "source": [
        "## Kfold models"
      ]
    },
    {
      "cell_type": "code",
      "execution_count": 51,
      "metadata": {},
      "outputs": [
        {
          "name": "stdout",
          "output_type": "stream",
          "text": [
            "====== Fold 1 ======\n"
          ]
        },
        {
          "name": "stderr",
          "output_type": "stream",
          "text": [
            "You're using a BertTokenizerFast tokenizer. Please note that with a fast tokenizer, using the `__call__` method is faster than using a method to encode the text followed by a call to the `pad` method to get a padded encoding.\n",
            "/home/daniel/anaconda3/envs/symbolic_transformer/lib/python3.7/site-packages/torch/nn/parallel/_functions.py:68: UserWarning: Was asked to gather along dimension 0, but all input tensors were scalars; will instead unsqueeze and return a vector.\n",
            "  warnings.warn('Was asked to gather along dimension 0, but all '\n"
          ]
        },
        {
          "data": {
            "text/html": [
              "\n",
              "    <div>\n",
              "      \n",
              "      <progress value='9' max='9' style='width:300px; height:20px; vertical-align: middle;'></progress>\n",
              "      [9/9 00:00]\n",
              "    </div>\n",
              "    "
            ],
            "text/plain": [
              "<IPython.core.display.HTML object>"
            ]
          },
          "metadata": {},
          "output_type": "display_data"
        },
        {
          "name": "stdout",
          "output_type": "stream",
          "text": [
            "{'eval_loss': 1.5132287740707397, 'eval_accuracy': 0.4219858156028369, 'eval_runtime': 0.46, 'eval_samples_per_second': 613.047, 'eval_steps_per_second': 19.565}\n",
            "====== Fold 2 ======\n"
          ]
        },
        {
          "name": "stderr",
          "output_type": "stream",
          "text": [
            "You're using a BertTokenizerFast tokenizer. Please note that with a fast tokenizer, using the `__call__` method is faster than using a method to encode the text followed by a call to the `pad` method to get a padded encoding.\n",
            "/home/daniel/anaconda3/envs/symbolic_transformer/lib/python3.7/site-packages/torch/nn/parallel/_functions.py:68: UserWarning: Was asked to gather along dimension 0, but all input tensors were scalars; will instead unsqueeze and return a vector.\n",
            "  warnings.warn('Was asked to gather along dimension 0, but all '\n"
          ]
        },
        {
          "data": {
            "text/html": [
              "\n",
              "    <div>\n",
              "      \n",
              "      <progress value='9' max='9' style='width:300px; height:20px; vertical-align: middle;'></progress>\n",
              "      [9/9 00:00]\n",
              "    </div>\n",
              "    "
            ],
            "text/plain": [
              "<IPython.core.display.HTML object>"
            ]
          },
          "metadata": {},
          "output_type": "display_data"
        },
        {
          "name": "stdout",
          "output_type": "stream",
          "text": [
            "{'eval_loss': 1.5997364521026611, 'eval_accuracy': 0.35815602836879434, 'eval_runtime': 0.4635, 'eval_samples_per_second': 608.422, 'eval_steps_per_second': 19.418}\n",
            "====== Fold 3 ======\n"
          ]
        },
        {
          "name": "stderr",
          "output_type": "stream",
          "text": [
            "You're using a BertTokenizerFast tokenizer. Please note that with a fast tokenizer, using the `__call__` method is faster than using a method to encode the text followed by a call to the `pad` method to get a padded encoding.\n",
            "/home/daniel/anaconda3/envs/symbolic_transformer/lib/python3.7/site-packages/torch/nn/parallel/_functions.py:68: UserWarning: Was asked to gather along dimension 0, but all input tensors were scalars; will instead unsqueeze and return a vector.\n",
            "  warnings.warn('Was asked to gather along dimension 0, but all '\n"
          ]
        },
        {
          "data": {
            "text/html": [
              "\n",
              "    <div>\n",
              "      \n",
              "      <progress value='9' max='9' style='width:300px; height:20px; vertical-align: middle;'></progress>\n",
              "      [9/9 00:00]\n",
              "    </div>\n",
              "    "
            ],
            "text/plain": [
              "<IPython.core.display.HTML object>"
            ]
          },
          "metadata": {},
          "output_type": "display_data"
        },
        {
          "name": "stdout",
          "output_type": "stream",
          "text": [
            "{'eval_loss': 1.7352327108383179, 'eval_accuracy': 0.2872340425531915, 'eval_runtime': 0.4631, 'eval_samples_per_second': 609.0, 'eval_steps_per_second': 19.436}\n",
            "====== Fold 4 ======\n"
          ]
        },
        {
          "name": "stderr",
          "output_type": "stream",
          "text": [
            "You're using a BertTokenizerFast tokenizer. Please note that with a fast tokenizer, using the `__call__` method is faster than using a method to encode the text followed by a call to the `pad` method to get a padded encoding.\n",
            "/home/daniel/anaconda3/envs/symbolic_transformer/lib/python3.7/site-packages/torch/nn/parallel/_functions.py:68: UserWarning: Was asked to gather along dimension 0, but all input tensors were scalars; will instead unsqueeze and return a vector.\n",
            "  warnings.warn('Was asked to gather along dimension 0, but all '\n"
          ]
        },
        {
          "data": {
            "text/html": [
              "\n",
              "    <div>\n",
              "      \n",
              "      <progress value='9' max='9' style='width:300px; height:20px; vertical-align: middle;'></progress>\n",
              "      [9/9 00:00]\n",
              "    </div>\n",
              "    "
            ],
            "text/plain": [
              "<IPython.core.display.HTML object>"
            ]
          },
          "metadata": {},
          "output_type": "display_data"
        },
        {
          "name": "stdout",
          "output_type": "stream",
          "text": [
            "{'eval_loss': 1.256258249282837, 'eval_accuracy': 0.5460992907801419, 'eval_runtime': 0.6219, 'eval_samples_per_second': 453.443, 'eval_steps_per_second': 14.472}\n",
            "====== Fold 5 ======\n"
          ]
        },
        {
          "name": "stderr",
          "output_type": "stream",
          "text": [
            "You're using a BertTokenizerFast tokenizer. Please note that with a fast tokenizer, using the `__call__` method is faster than using a method to encode the text followed by a call to the `pad` method to get a padded encoding.\n",
            "/home/daniel/anaconda3/envs/symbolic_transformer/lib/python3.7/site-packages/torch/nn/parallel/_functions.py:68: UserWarning: Was asked to gather along dimension 0, but all input tensors were scalars; will instead unsqueeze and return a vector.\n",
            "  warnings.warn('Was asked to gather along dimension 0, but all '\n"
          ]
        },
        {
          "data": {
            "text/html": [
              "\n",
              "    <div>\n",
              "      \n",
              "      <progress value='9' max='9' style='width:300px; height:20px; vertical-align: middle;'></progress>\n",
              "      [9/9 00:00]\n",
              "    </div>\n",
              "    "
            ],
            "text/plain": [
              "<IPython.core.display.HTML object>"
            ]
          },
          "metadata": {},
          "output_type": "display_data"
        },
        {
          "name": "stdout",
          "output_type": "stream",
          "text": [
            "{'eval_loss': 1.553895354270935, 'eval_accuracy': 0.3900709219858156, 'eval_runtime': 0.4923, 'eval_samples_per_second': 572.877, 'eval_steps_per_second': 18.283}\n"
          ]
        }
      ],
      "source": [
        "fold_paths = \"/home/daniel/projects/pln/results/best_model_250603/fold_{fold}\"\n",
        "tokenized_dataset = joblib.load(\"tokenized_dataset_250603.joblib\")\n",
        "\n",
        "for i in range(1, 6):\n",
        "    print(f\"====== Fold {i} ======\")\n",
        "    model_path = fold_paths.format(fold=i)\n",
        "\n",
        "    # Load tokenizer and model\n",
        "    tokenizer = AutoTokenizer.from_pretrained(model_path)\n",
        "    model = AutoModelForSequenceClassification.from_pretrained(model_path)\n",
        "    accuracy = evaluate.load(\"accuracy\")\n",
        "\n",
        "    def compute_metrics(eval_pred):\n",
        "        logits, labels = eval_pred\n",
        "        preds = torch.argmax(torch.tensor(logits), axis=-1)\n",
        "        return accuracy.compute(predictions=preds, references=labels)\n",
        "    from transformers import Trainer, TrainingArguments\n",
        "\n",
        "    training_args = TrainingArguments(\n",
        "        output_dir=\"./results/eval\",\n",
        "        per_device_eval_batch_size=16,\n",
        "        report_to=\"none\"\n",
        "    )\n",
        "\n",
        "    trainer = Trainer(\n",
        "        model=model,\n",
        "        args=training_args,\n",
        "        tokenizer=tokenizer,\n",
        "        compute_metrics=compute_metrics,\n",
        "    )\n",
        "\n",
        "    # Run evaluation on test set\n",
        "    metrics = trainer.evaluate(eval_dataset=tokenized_dataset[\"test\"])\n",
        "    print(metrics)"
      ]
    }
  ],
  "metadata": {
    "accelerator": "GPU",
    "colab": {
      "collapsed_sections": [
        "QWtGTA8nyaoU",
        "C7vq10GB1628",
        "B8faCVya18Rw",
        "JdJNlT4nBPHU"
      ],
      "gpuType": "T4",
      "provenance": []
    },
    "kernelspec": {
      "display_name": "symbolic_transformer",
      "language": "python",
      "name": "python3"
    },
    "language_info": {
      "codemirror_mode": {
        "name": "ipython",
        "version": 3
      },
      "file_extension": ".py",
      "mimetype": "text/x-python",
      "name": "python",
      "nbconvert_exporter": "python",
      "pygments_lexer": "ipython3",
      "version": "3.7.12"
    },
    "widgets": {
      "application/vnd.jupyter.widget-state+json": {
        "06031c407f1f442796fbcd3a6e699ecd": {
          "model_module": "@jupyter-widgets/controls",
          "model_module_version": "1.5.0",
          "model_name": "HTMLModel",
          "state": {
            "_dom_classes": [],
            "_model_module": "@jupyter-widgets/controls",
            "_model_module_version": "1.5.0",
            "_model_name": "HTMLModel",
            "_view_count": null,
            "_view_module": "@jupyter-widgets/controls",
            "_view_module_version": "1.5.0",
            "_view_name": "HTMLView",
            "description": "",
            "description_tooltip": null,
            "layout": "IPY_MODEL_ffe2bc6b2af64a2c91acd7f137f69e60",
            "placeholder": "​",
            "style": "IPY_MODEL_525decac886749ea8194737e81be160e",
            "value": "100%"
          }
        },
        "074875717d6148b39682879353100a8d": {
          "model_module": "@jupyter-widgets/controls",
          "model_module_version": "1.5.0",
          "model_name": "HBoxModel",
          "state": {
            "_dom_classes": [],
            "_model_module": "@jupyter-widgets/controls",
            "_model_module_version": "1.5.0",
            "_model_name": "HBoxModel",
            "_view_count": null,
            "_view_module": "@jupyter-widgets/controls",
            "_view_module_version": "1.5.0",
            "_view_name": "HBoxView",
            "box_style": "",
            "children": [
              "IPY_MODEL_eaa5eef599094b2ea75c9a8ed3be3b9e",
              "IPY_MODEL_9f270d25e0624cb792048b10d6aadf36",
              "IPY_MODEL_db446dc3ad4340ac9498e6441b52a2c5"
            ],
            "layout": "IPY_MODEL_8a7340f110834112a0779b50d56943be"
          }
        },
        "074c050e7fe04f5685d1340cfd9e822e": {
          "model_module": "@jupyter-widgets/controls",
          "model_module_version": "1.5.0",
          "model_name": "ProgressStyleModel",
          "state": {
            "_model_module": "@jupyter-widgets/controls",
            "_model_module_version": "1.5.0",
            "_model_name": "ProgressStyleModel",
            "_view_count": null,
            "_view_module": "@jupyter-widgets/base",
            "_view_module_version": "1.2.0",
            "_view_name": "StyleView",
            "bar_color": null,
            "description_width": ""
          }
        },
        "0c67e69c121f4a4f95c246ffc107cf73": {
          "model_module": "@jupyter-widgets/base",
          "model_module_version": "1.2.0",
          "model_name": "LayoutModel",
          "state": {
            "_model_module": "@jupyter-widgets/base",
            "_model_module_version": "1.2.0",
            "_model_name": "LayoutModel",
            "_view_count": null,
            "_view_module": "@jupyter-widgets/base",
            "_view_module_version": "1.2.0",
            "_view_name": "LayoutView",
            "align_content": null,
            "align_items": null,
            "align_self": null,
            "border": null,
            "bottom": null,
            "display": null,
            "flex": null,
            "flex_flow": null,
            "grid_area": null,
            "grid_auto_columns": null,
            "grid_auto_flow": null,
            "grid_auto_rows": null,
            "grid_column": null,
            "grid_gap": null,
            "grid_row": null,
            "grid_template_areas": null,
            "grid_template_columns": null,
            "grid_template_rows": null,
            "height": null,
            "justify_content": null,
            "justify_items": null,
            "left": null,
            "margin": null,
            "max_height": null,
            "max_width": null,
            "min_height": null,
            "min_width": null,
            "object_fit": null,
            "object_position": null,
            "order": null,
            "overflow": null,
            "overflow_x": null,
            "overflow_y": null,
            "padding": null,
            "right": null,
            "top": null,
            "visibility": null,
            "width": null
          }
        },
        "0ca5bdc812114ccaae79abd0ca0b6703": {
          "model_module": "@jupyter-widgets/controls",
          "model_module_version": "1.5.0",
          "model_name": "HTMLModel",
          "state": {
            "_dom_classes": [],
            "_model_module": "@jupyter-widgets/controls",
            "_model_module_version": "1.5.0",
            "_model_name": "HTMLModel",
            "_view_count": null,
            "_view_module": "@jupyter-widgets/controls",
            "_view_module_version": "1.5.0",
            "_view_name": "HTMLView",
            "description": "",
            "description_tooltip": null,
            "layout": "IPY_MODEL_a7dca0678b654cb087f93f2cdd372525",
            "placeholder": "​",
            "style": "IPY_MODEL_c4c862f339f442359dbb6fe6fd210e7e",
            "value": " 112/112 [00:00&lt;00:00, 12.7kB/s]"
          }
        },
        "0d841099bb004589b7f9c3f1def2ef91": {
          "model_module": "@jupyter-widgets/controls",
          "model_module_version": "1.5.0",
          "model_name": "HBoxModel",
          "state": {
            "_dom_classes": [],
            "_model_module": "@jupyter-widgets/controls",
            "_model_module_version": "1.5.0",
            "_model_name": "HBoxModel",
            "_view_count": null,
            "_view_module": "@jupyter-widgets/controls",
            "_view_module_version": "1.5.0",
            "_view_name": "HBoxView",
            "box_style": "",
            "children": [
              "IPY_MODEL_e8cb5868eb3d413685fafbcfdfe48a3b",
              "IPY_MODEL_fb6d371fa30e443e998ceaa249ce39c4",
              "IPY_MODEL_9b44e9d7f3174286a21bca338aa44fb3"
            ],
            "layout": "IPY_MODEL_6d683d5aa98f47a49e562b2127802d8c"
          }
        },
        "0dcd60de9c2e46d59e003041cd768776": {
          "model_module": "@jupyter-widgets/base",
          "model_module_version": "1.2.0",
          "model_name": "LayoutModel",
          "state": {
            "_model_module": "@jupyter-widgets/base",
            "_model_module_version": "1.2.0",
            "_model_name": "LayoutModel",
            "_view_count": null,
            "_view_module": "@jupyter-widgets/base",
            "_view_module_version": "1.2.0",
            "_view_name": "LayoutView",
            "align_content": null,
            "align_items": null,
            "align_self": null,
            "border": null,
            "bottom": null,
            "display": null,
            "flex": null,
            "flex_flow": null,
            "grid_area": null,
            "grid_auto_columns": null,
            "grid_auto_flow": null,
            "grid_auto_rows": null,
            "grid_column": null,
            "grid_gap": null,
            "grid_row": null,
            "grid_template_areas": null,
            "grid_template_columns": null,
            "grid_template_rows": null,
            "height": null,
            "justify_content": null,
            "justify_items": null,
            "left": null,
            "margin": null,
            "max_height": null,
            "max_width": null,
            "min_height": null,
            "min_width": null,
            "object_fit": null,
            "object_position": null,
            "order": null,
            "overflow": null,
            "overflow_x": null,
            "overflow_y": null,
            "padding": null,
            "right": null,
            "top": null,
            "visibility": null,
            "width": null
          }
        },
        "11ee05c3681b4ab18e45643c3297fd21": {
          "model_module": "@jupyter-widgets/controls",
          "model_module_version": "1.5.0",
          "model_name": "ProgressStyleModel",
          "state": {
            "_model_module": "@jupyter-widgets/controls",
            "_model_module_version": "1.5.0",
            "_model_name": "ProgressStyleModel",
            "_view_count": null,
            "_view_module": "@jupyter-widgets/base",
            "_view_module_version": "1.2.0",
            "_view_name": "StyleView",
            "bar_color": null,
            "description_width": ""
          }
        },
        "120d2215666648fa99876e5e27ed1531": {
          "model_module": "@jupyter-widgets/controls",
          "model_module_version": "1.5.0",
          "model_name": "DescriptionStyleModel",
          "state": {
            "_model_module": "@jupyter-widgets/controls",
            "_model_module_version": "1.5.0",
            "_model_name": "DescriptionStyleModel",
            "_view_count": null,
            "_view_module": "@jupyter-widgets/base",
            "_view_module_version": "1.2.0",
            "_view_name": "StyleView",
            "description_width": ""
          }
        },
        "122acb3e6f024865ad34ebb42daad60a": {
          "model_module": "@jupyter-widgets/controls",
          "model_module_version": "1.5.0",
          "model_name": "HTMLModel",
          "state": {
            "_dom_classes": [],
            "_model_module": "@jupyter-widgets/controls",
            "_model_module_version": "1.5.0",
            "_model_name": "HTMLModel",
            "_view_count": null,
            "_view_module": "@jupyter-widgets/controls",
            "_view_module_version": "1.5.0",
            "_view_name": "HTMLView",
            "description": "",
            "description_tooltip": null,
            "layout": "IPY_MODEL_c6b0831a0e344ea694b7218fc4b83fea",
            "placeholder": "​",
            "style": "IPY_MODEL_d11d1967695a40fd95c78e4ef245da9b",
            "value": " 2.00/2.00 [00:00&lt;00:00, 223B/s]"
          }
        },
        "133b5beef9f840e98e11cf424aabe313": {
          "model_module": "@jupyter-widgets/base",
          "model_module_version": "1.2.0",
          "model_name": "LayoutModel",
          "state": {
            "_model_module": "@jupyter-widgets/base",
            "_model_module_version": "1.2.0",
            "_model_name": "LayoutModel",
            "_view_count": null,
            "_view_module": "@jupyter-widgets/base",
            "_view_module_version": "1.2.0",
            "_view_name": "LayoutView",
            "align_content": null,
            "align_items": null,
            "align_self": null,
            "border": null,
            "bottom": null,
            "display": null,
            "flex": null,
            "flex_flow": null,
            "grid_area": null,
            "grid_auto_columns": null,
            "grid_auto_flow": null,
            "grid_auto_rows": null,
            "grid_column": null,
            "grid_gap": null,
            "grid_row": null,
            "grid_template_areas": null,
            "grid_template_columns": null,
            "grid_template_rows": null,
            "height": null,
            "justify_content": null,
            "justify_items": null,
            "left": null,
            "margin": null,
            "max_height": null,
            "max_width": null,
            "min_height": null,
            "min_width": null,
            "object_fit": null,
            "object_position": null,
            "order": null,
            "overflow": null,
            "overflow_x": null,
            "overflow_y": null,
            "padding": null,
            "right": null,
            "top": null,
            "visibility": null,
            "width": null
          }
        },
        "17161a2564ab42d798b8d3d5897c65bc": {
          "model_module": "@jupyter-widgets/base",
          "model_module_version": "1.2.0",
          "model_name": "LayoutModel",
          "state": {
            "_model_module": "@jupyter-widgets/base",
            "_model_module_version": "1.2.0",
            "_model_name": "LayoutModel",
            "_view_count": null,
            "_view_module": "@jupyter-widgets/base",
            "_view_module_version": "1.2.0",
            "_view_name": "LayoutView",
            "align_content": null,
            "align_items": null,
            "align_self": null,
            "border": null,
            "bottom": null,
            "display": null,
            "flex": null,
            "flex_flow": null,
            "grid_area": null,
            "grid_auto_columns": null,
            "grid_auto_flow": null,
            "grid_auto_rows": null,
            "grid_column": null,
            "grid_gap": null,
            "grid_row": null,
            "grid_template_areas": null,
            "grid_template_columns": null,
            "grid_template_rows": null,
            "height": null,
            "justify_content": null,
            "justify_items": null,
            "left": null,
            "margin": null,
            "max_height": null,
            "max_width": null,
            "min_height": null,
            "min_width": null,
            "object_fit": null,
            "object_position": null,
            "order": null,
            "overflow": null,
            "overflow_x": null,
            "overflow_y": null,
            "padding": null,
            "right": null,
            "top": null,
            "visibility": null,
            "width": null
          }
        },
        "1796a87ed51849649ff11da7b9270c24": {
          "model_module": "@jupyter-widgets/controls",
          "model_module_version": "1.5.0",
          "model_name": "DescriptionStyleModel",
          "state": {
            "_model_module": "@jupyter-widgets/controls",
            "_model_module_version": "1.5.0",
            "_model_name": "DescriptionStyleModel",
            "_view_count": null,
            "_view_module": "@jupyter-widgets/base",
            "_view_module_version": "1.2.0",
            "_view_name": "StyleView",
            "description_width": ""
          }
        },
        "17f3eb6b1c3340e5a84d871430934c08": {
          "model_module": "@jupyter-widgets/base",
          "model_module_version": "1.2.0",
          "model_name": "LayoutModel",
          "state": {
            "_model_module": "@jupyter-widgets/base",
            "_model_module_version": "1.2.0",
            "_model_name": "LayoutModel",
            "_view_count": null,
            "_view_module": "@jupyter-widgets/base",
            "_view_module_version": "1.2.0",
            "_view_name": "LayoutView",
            "align_content": null,
            "align_items": null,
            "align_self": null,
            "border": null,
            "bottom": null,
            "display": null,
            "flex": null,
            "flex_flow": null,
            "grid_area": null,
            "grid_auto_columns": null,
            "grid_auto_flow": null,
            "grid_auto_rows": null,
            "grid_column": null,
            "grid_gap": null,
            "grid_row": null,
            "grid_template_areas": null,
            "grid_template_columns": null,
            "grid_template_rows": null,
            "height": null,
            "justify_content": null,
            "justify_items": null,
            "left": null,
            "margin": null,
            "max_height": null,
            "max_width": null,
            "min_height": null,
            "min_width": null,
            "object_fit": null,
            "object_position": null,
            "order": null,
            "overflow": null,
            "overflow_x": null,
            "overflow_y": null,
            "padding": null,
            "right": null,
            "top": null,
            "visibility": null,
            "width": null
          }
        },
        "19f089b6ce3943f4892151b36e59bfe5": {
          "model_module": "@jupyter-widgets/base",
          "model_module_version": "1.2.0",
          "model_name": "LayoutModel",
          "state": {
            "_model_module": "@jupyter-widgets/base",
            "_model_module_version": "1.2.0",
            "_model_name": "LayoutModel",
            "_view_count": null,
            "_view_module": "@jupyter-widgets/base",
            "_view_module_version": "1.2.0",
            "_view_name": "LayoutView",
            "align_content": null,
            "align_items": null,
            "align_self": null,
            "border": null,
            "bottom": null,
            "display": null,
            "flex": null,
            "flex_flow": null,
            "grid_area": null,
            "grid_auto_columns": null,
            "grid_auto_flow": null,
            "grid_auto_rows": null,
            "grid_column": null,
            "grid_gap": null,
            "grid_row": null,
            "grid_template_areas": null,
            "grid_template_columns": null,
            "grid_template_rows": null,
            "height": null,
            "justify_content": null,
            "justify_items": null,
            "left": null,
            "margin": null,
            "max_height": null,
            "max_width": null,
            "min_height": null,
            "min_width": null,
            "object_fit": null,
            "object_position": null,
            "order": null,
            "overflow": null,
            "overflow_x": null,
            "overflow_y": null,
            "padding": null,
            "right": null,
            "top": null,
            "visibility": null,
            "width": null
          }
        },
        "1b9c43d093214de4b976e8b6639757bc": {
          "model_module": "@jupyter-widgets/controls",
          "model_module_version": "1.5.0",
          "model_name": "HTMLModel",
          "state": {
            "_dom_classes": [],
            "_model_module": "@jupyter-widgets/controls",
            "_model_module_version": "1.5.0",
            "_model_name": "HTMLModel",
            "_view_count": null,
            "_view_module": "@jupyter-widgets/controls",
            "_view_module_version": "1.5.0",
            "_view_name": "HTMLView",
            "description": "",
            "description_tooltip": null,
            "layout": "IPY_MODEL_78433b671ead49238b97046c6caba862",
            "placeholder": "​",
            "style": "IPY_MODEL_c339cbeba50040dbb6f8e97d5d19526a",
            "value": "config.json: 100%"
          }
        },
        "1f3bf20d5d5348dfa716d5641e9b4896": {
          "model_module": "@jupyter-widgets/base",
          "model_module_version": "1.2.0",
          "model_name": "LayoutModel",
          "state": {
            "_model_module": "@jupyter-widgets/base",
            "_model_module_version": "1.2.0",
            "_model_name": "LayoutModel",
            "_view_count": null,
            "_view_module": "@jupyter-widgets/base",
            "_view_module_version": "1.2.0",
            "_view_name": "LayoutView",
            "align_content": null,
            "align_items": null,
            "align_self": null,
            "border": null,
            "bottom": null,
            "display": null,
            "flex": null,
            "flex_flow": null,
            "grid_area": null,
            "grid_auto_columns": null,
            "grid_auto_flow": null,
            "grid_auto_rows": null,
            "grid_column": null,
            "grid_gap": null,
            "grid_row": null,
            "grid_template_areas": null,
            "grid_template_columns": null,
            "grid_template_rows": null,
            "height": null,
            "justify_content": null,
            "justify_items": null,
            "left": null,
            "margin": null,
            "max_height": null,
            "max_width": null,
            "min_height": null,
            "min_width": null,
            "object_fit": null,
            "object_position": null,
            "order": null,
            "overflow": null,
            "overflow_x": null,
            "overflow_y": null,
            "padding": null,
            "right": null,
            "top": null,
            "visibility": null,
            "width": null
          }
        },
        "21227e0a46814be88822bb279ccd1623": {
          "model_module": "@jupyter-widgets/base",
          "model_module_version": "1.2.0",
          "model_name": "LayoutModel",
          "state": {
            "_model_module": "@jupyter-widgets/base",
            "_model_module_version": "1.2.0",
            "_model_name": "LayoutModel",
            "_view_count": null,
            "_view_module": "@jupyter-widgets/base",
            "_view_module_version": "1.2.0",
            "_view_name": "LayoutView",
            "align_content": null,
            "align_items": null,
            "align_self": null,
            "border": null,
            "bottom": null,
            "display": null,
            "flex": null,
            "flex_flow": null,
            "grid_area": null,
            "grid_auto_columns": null,
            "grid_auto_flow": null,
            "grid_auto_rows": null,
            "grid_column": null,
            "grid_gap": null,
            "grid_row": null,
            "grid_template_areas": null,
            "grid_template_columns": null,
            "grid_template_rows": null,
            "height": null,
            "justify_content": null,
            "justify_items": null,
            "left": null,
            "margin": null,
            "max_height": null,
            "max_width": null,
            "min_height": null,
            "min_width": null,
            "object_fit": null,
            "object_position": null,
            "order": null,
            "overflow": null,
            "overflow_x": null,
            "overflow_y": null,
            "padding": null,
            "right": null,
            "top": null,
            "visibility": null,
            "width": null
          }
        },
        "24fa1cf67afd46c0a9537e859695aeed": {
          "model_module": "@jupyter-widgets/controls",
          "model_module_version": "1.5.0",
          "model_name": "HBoxModel",
          "state": {
            "_dom_classes": [],
            "_model_module": "@jupyter-widgets/controls",
            "_model_module_version": "1.5.0",
            "_model_name": "HBoxModel",
            "_view_count": null,
            "_view_module": "@jupyter-widgets/controls",
            "_view_module_version": "1.5.0",
            "_view_name": "HBoxView",
            "box_style": "",
            "children": [
              "IPY_MODEL_38222902039149b3a780d816e8c4ed5b",
              "IPY_MODEL_e8161e08e9154cee9017a31f5fc4fbbb",
              "IPY_MODEL_122acb3e6f024865ad34ebb42daad60a"
            ],
            "layout": "IPY_MODEL_a046bd87c4ab47cfab1c7597a1adaac6"
          }
        },
        "26d3cd93e09a452f91bd0d2ae64403ef": {
          "model_module": "@jupyter-widgets/base",
          "model_module_version": "1.2.0",
          "model_name": "LayoutModel",
          "state": {
            "_model_module": "@jupyter-widgets/base",
            "_model_module_version": "1.2.0",
            "_model_name": "LayoutModel",
            "_view_count": null,
            "_view_module": "@jupyter-widgets/base",
            "_view_module_version": "1.2.0",
            "_view_name": "LayoutView",
            "align_content": null,
            "align_items": null,
            "align_self": null,
            "border": null,
            "bottom": null,
            "display": null,
            "flex": null,
            "flex_flow": null,
            "grid_area": null,
            "grid_auto_columns": null,
            "grid_auto_flow": null,
            "grid_auto_rows": null,
            "grid_column": null,
            "grid_gap": null,
            "grid_row": null,
            "grid_template_areas": null,
            "grid_template_columns": null,
            "grid_template_rows": null,
            "height": null,
            "justify_content": null,
            "justify_items": null,
            "left": null,
            "margin": null,
            "max_height": null,
            "max_width": null,
            "min_height": null,
            "min_width": null,
            "object_fit": null,
            "object_position": null,
            "order": null,
            "overflow": null,
            "overflow_x": null,
            "overflow_y": null,
            "padding": null,
            "right": null,
            "top": null,
            "visibility": null,
            "width": null
          }
        },
        "27b662cdb67e4568a3d8a79ecfb5617d": {
          "model_module": "@jupyter-widgets/controls",
          "model_module_version": "1.5.0",
          "model_name": "HTMLModel",
          "state": {
            "_dom_classes": [],
            "_model_module": "@jupyter-widgets/controls",
            "_model_module_version": "1.5.0",
            "_model_name": "HTMLModel",
            "_view_count": null,
            "_view_module": "@jupyter-widgets/controls",
            "_view_module_version": "1.5.0",
            "_view_name": "HTMLView",
            "description": "",
            "description_tooltip": null,
            "layout": "IPY_MODEL_bfaf31b150fc41d4989fa2849f71bdb1",
            "placeholder": "​",
            "style": "IPY_MODEL_577c4da1b7c244759c502eafcf8c4afa",
            "value": "special_tokens_map.json: 100%"
          }
        },
        "29658a2a11ca4fdaa1d0b524c3c2fbb9": {
          "model_module": "@jupyter-widgets/controls",
          "model_module_version": "1.5.0",
          "model_name": "ProgressStyleModel",
          "state": {
            "_model_module": "@jupyter-widgets/controls",
            "_model_module_version": "1.5.0",
            "_model_name": "ProgressStyleModel",
            "_view_count": null,
            "_view_module": "@jupyter-widgets/base",
            "_view_module_version": "1.2.0",
            "_view_name": "StyleView",
            "bar_color": null,
            "description_width": ""
          }
        },
        "2a28249ad80549f69b21723c18427488": {
          "model_module": "@jupyter-widgets/base",
          "model_module_version": "1.2.0",
          "model_name": "LayoutModel",
          "state": {
            "_model_module": "@jupyter-widgets/base",
            "_model_module_version": "1.2.0",
            "_model_name": "LayoutModel",
            "_view_count": null,
            "_view_module": "@jupyter-widgets/base",
            "_view_module_version": "1.2.0",
            "_view_name": "LayoutView",
            "align_content": null,
            "align_items": null,
            "align_self": null,
            "border": null,
            "bottom": null,
            "display": null,
            "flex": null,
            "flex_flow": null,
            "grid_area": null,
            "grid_auto_columns": null,
            "grid_auto_flow": null,
            "grid_auto_rows": null,
            "grid_column": null,
            "grid_gap": null,
            "grid_row": null,
            "grid_template_areas": null,
            "grid_template_columns": null,
            "grid_template_rows": null,
            "height": null,
            "justify_content": null,
            "justify_items": null,
            "left": null,
            "margin": null,
            "max_height": null,
            "max_width": null,
            "min_height": null,
            "min_width": null,
            "object_fit": null,
            "object_position": null,
            "order": null,
            "overflow": null,
            "overflow_x": null,
            "overflow_y": null,
            "padding": null,
            "right": null,
            "top": null,
            "visibility": null,
            "width": null
          }
        },
        "2c347460195a4957a9b674775b88194a": {
          "model_module": "@jupyter-widgets/controls",
          "model_module_version": "1.5.0",
          "model_name": "DescriptionStyleModel",
          "state": {
            "_model_module": "@jupyter-widgets/controls",
            "_model_module_version": "1.5.0",
            "_model_name": "DescriptionStyleModel",
            "_view_count": null,
            "_view_module": "@jupyter-widgets/base",
            "_view_module_version": "1.2.0",
            "_view_name": "StyleView",
            "description_width": ""
          }
        },
        "2c9800e3092a44d3843cbabd223002b1": {
          "model_module": "@jupyter-widgets/controls",
          "model_module_version": "1.5.0",
          "model_name": "FloatProgressModel",
          "state": {
            "_dom_classes": [],
            "_model_module": "@jupyter-widgets/controls",
            "_model_module_version": "1.5.0",
            "_model_name": "FloatProgressModel",
            "_view_count": null,
            "_view_module": "@jupyter-widgets/controls",
            "_view_module_version": "1.5.0",
            "_view_name": "ProgressView",
            "bar_style": "success",
            "description": "",
            "description_tooltip": null,
            "layout": "IPY_MODEL_7e0ef456674943c69188d95e939c5372",
            "max": 209528,
            "min": 0,
            "orientation": "horizontal",
            "style": "IPY_MODEL_a175d8e165a343f1be05771142f73970",
            "value": 209528
          }
        },
        "2d9dc12f8614404c9f5a4e855c0e7d3a": {
          "model_module": "@jupyter-widgets/controls",
          "model_module_version": "1.5.0",
          "model_name": "HTMLModel",
          "state": {
            "_dom_classes": [],
            "_model_module": "@jupyter-widgets/controls",
            "_model_module_version": "1.5.0",
            "_model_name": "HTMLModel",
            "_view_count": null,
            "_view_module": "@jupyter-widgets/controls",
            "_view_module_version": "1.5.0",
            "_view_name": "HTMLView",
            "description": "",
            "description_tooltip": null,
            "layout": "IPY_MODEL_a5b3e034bffe43199e8679fb5b966f6d",
            "placeholder": "​",
            "style": "IPY_MODEL_47664eb81a1c417e9b822bd53f6ea41b",
            "value": "100%"
          }
        },
        "2da7f859ceb04c578b35465bd0f357ec": {
          "model_module": "@jupyter-widgets/controls",
          "model_module_version": "1.5.0",
          "model_name": "DescriptionStyleModel",
          "state": {
            "_model_module": "@jupyter-widgets/controls",
            "_model_module_version": "1.5.0",
            "_model_name": "DescriptionStyleModel",
            "_view_count": null,
            "_view_module": "@jupyter-widgets/base",
            "_view_module_version": "1.2.0",
            "_view_name": "StyleView",
            "description_width": ""
          }
        },
        "30369f7e13044ef5b8653f4ba1e112cb": {
          "model_module": "@jupyter-widgets/controls",
          "model_module_version": "1.5.0",
          "model_name": "DescriptionStyleModel",
          "state": {
            "_model_module": "@jupyter-widgets/controls",
            "_model_module_version": "1.5.0",
            "_model_name": "DescriptionStyleModel",
            "_view_count": null,
            "_view_module": "@jupyter-widgets/base",
            "_view_module_version": "1.2.0",
            "_view_name": "StyleView",
            "description_width": ""
          }
        },
        "30e7e3818d5c4f999e153b828559a9bc": {
          "model_module": "@jupyter-widgets/controls",
          "model_module_version": "1.5.0",
          "model_name": "HTMLModel",
          "state": {
            "_dom_classes": [],
            "_model_module": "@jupyter-widgets/controls",
            "_model_module_version": "1.5.0",
            "_model_name": "HTMLModel",
            "_view_count": null,
            "_view_module": "@jupyter-widgets/controls",
            "_view_module_version": "1.5.0",
            "_view_name": "HTMLView",
            "description": "",
            "description_tooltip": null,
            "layout": "IPY_MODEL_8cba1efb179d41a3a1e73f560052a983",
            "placeholder": "​",
            "style": "IPY_MODEL_2c347460195a4957a9b674775b88194a",
            "value": " 895/895 [00:02&lt;00:00, 383.17it/s]"
          }
        },
        "38222902039149b3a780d816e8c4ed5b": {
          "model_module": "@jupyter-widgets/controls",
          "model_module_version": "1.5.0",
          "model_name": "HTMLModel",
          "state": {
            "_dom_classes": [],
            "_model_module": "@jupyter-widgets/controls",
            "_model_module_version": "1.5.0",
            "_model_name": "HTMLModel",
            "_view_count": null,
            "_view_module": "@jupyter-widgets/controls",
            "_view_module_version": "1.5.0",
            "_view_name": "HTMLView",
            "description": "",
            "description_tooltip": null,
            "layout": "IPY_MODEL_bca439b1284345de8bd6ffad621b67fe",
            "placeholder": "​",
            "style": "IPY_MODEL_b0af2dae54fc41f2aa60fbb0b91ef27f",
            "value": "added_tokens.json: 100%"
          }
        },
        "397cc57488ea451097a3d15b9a4bef55": {
          "model_module": "@jupyter-widgets/base",
          "model_module_version": "1.2.0",
          "model_name": "LayoutModel",
          "state": {
            "_model_module": "@jupyter-widgets/base",
            "_model_module_version": "1.2.0",
            "_model_name": "LayoutModel",
            "_view_count": null,
            "_view_module": "@jupyter-widgets/base",
            "_view_module_version": "1.2.0",
            "_view_name": "LayoutView",
            "align_content": null,
            "align_items": null,
            "align_self": null,
            "border": null,
            "bottom": null,
            "display": null,
            "flex": null,
            "flex_flow": null,
            "grid_area": null,
            "grid_auto_columns": null,
            "grid_auto_flow": null,
            "grid_auto_rows": null,
            "grid_column": null,
            "grid_gap": null,
            "grid_row": null,
            "grid_template_areas": null,
            "grid_template_columns": null,
            "grid_template_rows": null,
            "height": null,
            "justify_content": null,
            "justify_items": null,
            "left": null,
            "margin": null,
            "max_height": null,
            "max_width": null,
            "min_height": null,
            "min_width": null,
            "object_fit": null,
            "object_position": null,
            "order": null,
            "overflow": null,
            "overflow_x": null,
            "overflow_y": null,
            "padding": null,
            "right": null,
            "top": null,
            "visibility": null,
            "width": null
          }
        },
        "3c183b9383de467ebc3faed19731a45a": {
          "model_module": "@jupyter-widgets/controls",
          "model_module_version": "1.5.0",
          "model_name": "HTMLModel",
          "state": {
            "_dom_classes": [],
            "_model_module": "@jupyter-widgets/controls",
            "_model_module_version": "1.5.0",
            "_model_name": "HTMLModel",
            "_view_count": null,
            "_view_module": "@jupyter-widgets/controls",
            "_view_module_version": "1.5.0",
            "_view_name": "HTMLView",
            "description": "",
            "description_tooltip": null,
            "layout": "IPY_MODEL_17161a2564ab42d798b8d3d5897c65bc",
            "placeholder": "​",
            "style": "IPY_MODEL_e4702683318e453bb9ee6d69cb5d4c6f",
            "value": " 14184/? [00:01&lt;00:00, 8574.95it/s]"
          }
        },
        "3e3d14eb83604d3d9f2202410af29cf1": {
          "model_module": "@jupyter-widgets/controls",
          "model_module_version": "1.5.0",
          "model_name": "DescriptionStyleModel",
          "state": {
            "_model_module": "@jupyter-widgets/controls",
            "_model_module_version": "1.5.0",
            "_model_name": "DescriptionStyleModel",
            "_view_count": null,
            "_view_module": "@jupyter-widgets/base",
            "_view_module_version": "1.2.0",
            "_view_name": "StyleView",
            "description_width": ""
          }
        },
        "3feb16c8cb644221a03d316916194a38": {
          "model_module": "@jupyter-widgets/controls",
          "model_module_version": "1.5.0",
          "model_name": "DescriptionStyleModel",
          "state": {
            "_model_module": "@jupyter-widgets/controls",
            "_model_module_version": "1.5.0",
            "_model_name": "DescriptionStyleModel",
            "_view_count": null,
            "_view_module": "@jupyter-widgets/base",
            "_view_module_version": "1.2.0",
            "_view_name": "StyleView",
            "description_width": ""
          }
        },
        "4012219dc84e47c88f2c8c8a65abdf1d": {
          "model_module": "@jupyter-widgets/controls",
          "model_module_version": "1.5.0",
          "model_name": "DescriptionStyleModel",
          "state": {
            "_model_module": "@jupyter-widgets/controls",
            "_model_module_version": "1.5.0",
            "_model_name": "DescriptionStyleModel",
            "_view_count": null,
            "_view_module": "@jupyter-widgets/base",
            "_view_module_version": "1.2.0",
            "_view_name": "StyleView",
            "description_width": ""
          }
        },
        "4236a9a530f243138a358729615bac31": {
          "model_module": "@jupyter-widgets/controls",
          "model_module_version": "1.5.0",
          "model_name": "HTMLModel",
          "state": {
            "_dom_classes": [],
            "_model_module": "@jupyter-widgets/controls",
            "_model_module_version": "1.5.0",
            "_model_name": "HTMLModel",
            "_view_count": null,
            "_view_module": "@jupyter-widgets/controls",
            "_view_module_version": "1.5.0",
            "_view_name": "HTMLView",
            "description": "",
            "description_tooltip": null,
            "layout": "IPY_MODEL_2a28249ad80549f69b21723c18427488",
            "placeholder": "​",
            "style": "IPY_MODEL_b9908783a3d647919284e7bd5fa54dd4",
            "value": "100%"
          }
        },
        "47664eb81a1c417e9b822bd53f6ea41b": {
          "model_module": "@jupyter-widgets/controls",
          "model_module_version": "1.5.0",
          "model_name": "DescriptionStyleModel",
          "state": {
            "_model_module": "@jupyter-widgets/controls",
            "_model_module_version": "1.5.0",
            "_model_name": "DescriptionStyleModel",
            "_view_count": null,
            "_view_module": "@jupyter-widgets/base",
            "_view_module_version": "1.2.0",
            "_view_name": "StyleView",
            "description_width": ""
          }
        },
        "4b429d5b3c6f46ff9e7b252b17689281": {
          "model_module": "@jupyter-widgets/controls",
          "model_module_version": "1.5.0",
          "model_name": "ProgressStyleModel",
          "state": {
            "_model_module": "@jupyter-widgets/controls",
            "_model_module_version": "1.5.0",
            "_model_name": "ProgressStyleModel",
            "_view_count": null,
            "_view_module": "@jupyter-widgets/base",
            "_view_module_version": "1.2.0",
            "_view_name": "StyleView",
            "bar_color": null,
            "description_width": ""
          }
        },
        "4d728e412944448eb9058e31a771d344": {
          "model_module": "@jupyter-widgets/controls",
          "model_module_version": "1.5.0",
          "model_name": "HBoxModel",
          "state": {
            "_dom_classes": [],
            "_model_module": "@jupyter-widgets/controls",
            "_model_module_version": "1.5.0",
            "_model_name": "HBoxModel",
            "_view_count": null,
            "_view_module": "@jupyter-widgets/controls",
            "_view_module_version": "1.5.0",
            "_view_name": "HBoxView",
            "box_style": "",
            "children": [
              "IPY_MODEL_98b193ec6c194f5a9df0701d93b75f45",
              "IPY_MODEL_987208776d204aae98c9ba10be09b66b",
              "IPY_MODEL_3c183b9383de467ebc3faed19731a45a"
            ],
            "layout": "IPY_MODEL_e853efcf3b14499ba78abdced10c60cf"
          }
        },
        "525decac886749ea8194737e81be160e": {
          "model_module": "@jupyter-widgets/controls",
          "model_module_version": "1.5.0",
          "model_name": "DescriptionStyleModel",
          "state": {
            "_model_module": "@jupyter-widgets/controls",
            "_model_module_version": "1.5.0",
            "_model_name": "DescriptionStyleModel",
            "_view_count": null,
            "_view_module": "@jupyter-widgets/base",
            "_view_module_version": "1.2.0",
            "_view_name": "StyleView",
            "description_width": ""
          }
        },
        "532026b9a3eb41b694f840cb328c1d14": {
          "model_module": "@jupyter-widgets/controls",
          "model_module_version": "1.5.0",
          "model_name": "ProgressStyleModel",
          "state": {
            "_model_module": "@jupyter-widgets/controls",
            "_model_module_version": "1.5.0",
            "_model_name": "ProgressStyleModel",
            "_view_count": null,
            "_view_module": "@jupyter-widgets/base",
            "_view_module_version": "1.2.0",
            "_view_name": "StyleView",
            "bar_color": null,
            "description_width": ""
          }
        },
        "54ce012742b747b3842d18b77a209fed": {
          "model_module": "@jupyter-widgets/controls",
          "model_module_version": "1.5.0",
          "model_name": "DescriptionStyleModel",
          "state": {
            "_model_module": "@jupyter-widgets/controls",
            "_model_module_version": "1.5.0",
            "_model_name": "DescriptionStyleModel",
            "_view_count": null,
            "_view_module": "@jupyter-widgets/base",
            "_view_module_version": "1.2.0",
            "_view_name": "StyleView",
            "description_width": ""
          }
        },
        "556048f3090a4bcb9a183526a805eeda": {
          "model_module": "@jupyter-widgets/controls",
          "model_module_version": "1.5.0",
          "model_name": "HBoxModel",
          "state": {
            "_dom_classes": [],
            "_model_module": "@jupyter-widgets/controls",
            "_model_module_version": "1.5.0",
            "_model_name": "HBoxModel",
            "_view_count": null,
            "_view_module": "@jupyter-widgets/controls",
            "_view_module_version": "1.5.0",
            "_view_name": "HBoxView",
            "box_style": "",
            "children": [
              "IPY_MODEL_fd6a7744aa7e44c386ee087bc0411226",
              "IPY_MODEL_2c9800e3092a44d3843cbabd223002b1",
              "IPY_MODEL_59030671d6584ab285d60ef313690a7e"
            ],
            "layout": "IPY_MODEL_966f1a3c4830477099766f93db845734"
          }
        },
        "577c4da1b7c244759c502eafcf8c4afa": {
          "model_module": "@jupyter-widgets/controls",
          "model_module_version": "1.5.0",
          "model_name": "DescriptionStyleModel",
          "state": {
            "_model_module": "@jupyter-widgets/controls",
            "_model_module_version": "1.5.0",
            "_model_name": "DescriptionStyleModel",
            "_view_count": null,
            "_view_module": "@jupyter-widgets/base",
            "_view_module_version": "1.2.0",
            "_view_name": "StyleView",
            "description_width": ""
          }
        },
        "59030671d6584ab285d60ef313690a7e": {
          "model_module": "@jupyter-widgets/controls",
          "model_module_version": "1.5.0",
          "model_name": "HTMLModel",
          "state": {
            "_dom_classes": [],
            "_model_module": "@jupyter-widgets/controls",
            "_model_module_version": "1.5.0",
            "_model_name": "HTMLModel",
            "_view_count": null,
            "_view_module": "@jupyter-widgets/controls",
            "_view_module_version": "1.5.0",
            "_view_name": "HTMLView",
            "description": "",
            "description_tooltip": null,
            "layout": "IPY_MODEL_1f3bf20d5d5348dfa716d5641e9b4896",
            "placeholder": "​",
            "style": "IPY_MODEL_54ce012742b747b3842d18b77a209fed",
            "value": " 210k/210k [00:00&lt;00:00, 12.7MB/s]"
          }
        },
        "593e92463adc48f686077ce12450f797": {
          "model_module": "@jupyter-widgets/base",
          "model_module_version": "1.2.0",
          "model_name": "LayoutModel",
          "state": {
            "_model_module": "@jupyter-widgets/base",
            "_model_module_version": "1.2.0",
            "_model_name": "LayoutModel",
            "_view_count": null,
            "_view_module": "@jupyter-widgets/base",
            "_view_module_version": "1.2.0",
            "_view_name": "LayoutView",
            "align_content": null,
            "align_items": null,
            "align_self": null,
            "border": null,
            "bottom": null,
            "display": null,
            "flex": null,
            "flex_flow": null,
            "grid_area": null,
            "grid_auto_columns": null,
            "grid_auto_flow": null,
            "grid_auto_rows": null,
            "grid_column": null,
            "grid_gap": null,
            "grid_row": null,
            "grid_template_areas": null,
            "grid_template_columns": null,
            "grid_template_rows": null,
            "height": null,
            "justify_content": null,
            "justify_items": null,
            "left": null,
            "margin": null,
            "max_height": null,
            "max_width": null,
            "min_height": null,
            "min_width": null,
            "object_fit": null,
            "object_position": null,
            "order": null,
            "overflow": null,
            "overflow_x": null,
            "overflow_y": null,
            "padding": null,
            "right": null,
            "top": null,
            "visibility": null,
            "width": null
          }
        },
        "59bd832c20d74875977cae23944e7068": {
          "model_module": "@jupyter-widgets/base",
          "model_module_version": "1.2.0",
          "model_name": "LayoutModel",
          "state": {
            "_model_module": "@jupyter-widgets/base",
            "_model_module_version": "1.2.0",
            "_model_name": "LayoutModel",
            "_view_count": null,
            "_view_module": "@jupyter-widgets/base",
            "_view_module_version": "1.2.0",
            "_view_name": "LayoutView",
            "align_content": null,
            "align_items": null,
            "align_self": null,
            "border": null,
            "bottom": null,
            "display": null,
            "flex": null,
            "flex_flow": null,
            "grid_area": null,
            "grid_auto_columns": null,
            "grid_auto_flow": null,
            "grid_auto_rows": null,
            "grid_column": null,
            "grid_gap": null,
            "grid_row": null,
            "grid_template_areas": null,
            "grid_template_columns": null,
            "grid_template_rows": null,
            "height": null,
            "justify_content": null,
            "justify_items": null,
            "left": null,
            "margin": null,
            "max_height": null,
            "max_width": null,
            "min_height": null,
            "min_width": null,
            "object_fit": null,
            "object_position": null,
            "order": null,
            "overflow": null,
            "overflow_x": null,
            "overflow_y": null,
            "padding": null,
            "right": null,
            "top": null,
            "visibility": null,
            "width": null
          }
        },
        "5aeb02236b6249648f4bc3a7b9e733f1": {
          "model_module": "@jupyter-widgets/controls",
          "model_module_version": "1.5.0",
          "model_name": "HTMLModel",
          "state": {
            "_dom_classes": [],
            "_model_module": "@jupyter-widgets/controls",
            "_model_module_version": "1.5.0",
            "_model_name": "HTMLModel",
            "_view_count": null,
            "_view_module": "@jupyter-widgets/controls",
            "_view_module_version": "1.5.0",
            "_view_name": "HTMLView",
            "description": "",
            "description_tooltip": null,
            "layout": "IPY_MODEL_660d2061e1b243249fcb3150a714595d",
            "placeholder": "​",
            "style": "IPY_MODEL_4012219dc84e47c88f2c8c8a65abdf1d",
            "value": "Downloading builder script: 100%"
          }
        },
        "5e74800c9031470fa26d8e68162095e8": {
          "model_module": "@jupyter-widgets/controls",
          "model_module_version": "1.5.0",
          "model_name": "DescriptionStyleModel",
          "state": {
            "_model_module": "@jupyter-widgets/controls",
            "_model_module_version": "1.5.0",
            "_model_name": "DescriptionStyleModel",
            "_view_count": null,
            "_view_module": "@jupyter-widgets/base",
            "_view_module_version": "1.2.0",
            "_view_name": "StyleView",
            "description_width": ""
          }
        },
        "5fc1d3096aed42d7b21be2afe43d5a0d": {
          "model_module": "@jupyter-widgets/controls",
          "model_module_version": "1.5.0",
          "model_name": "ProgressStyleModel",
          "state": {
            "_model_module": "@jupyter-widgets/controls",
            "_model_module_version": "1.5.0",
            "_model_name": "ProgressStyleModel",
            "_view_count": null,
            "_view_module": "@jupyter-widgets/base",
            "_view_module_version": "1.2.0",
            "_view_name": "StyleView",
            "bar_color": null,
            "description_width": ""
          }
        },
        "60b3f46ddfc841788761cf36746f56e8": {
          "model_module": "@jupyter-widgets/controls",
          "model_module_version": "1.5.0",
          "model_name": "DescriptionStyleModel",
          "state": {
            "_model_module": "@jupyter-widgets/controls",
            "_model_module_version": "1.5.0",
            "_model_name": "DescriptionStyleModel",
            "_view_count": null,
            "_view_module": "@jupyter-widgets/base",
            "_view_module_version": "1.2.0",
            "_view_name": "StyleView",
            "description_width": ""
          }
        },
        "6166ddcaa1cb418cb806be910ee7931d": {
          "model_module": "@jupyter-widgets/base",
          "model_module_version": "1.2.0",
          "model_name": "LayoutModel",
          "state": {
            "_model_module": "@jupyter-widgets/base",
            "_model_module_version": "1.2.0",
            "_model_name": "LayoutModel",
            "_view_count": null,
            "_view_module": "@jupyter-widgets/base",
            "_view_module_version": "1.2.0",
            "_view_name": "LayoutView",
            "align_content": null,
            "align_items": null,
            "align_self": null,
            "border": null,
            "bottom": null,
            "display": null,
            "flex": null,
            "flex_flow": null,
            "grid_area": null,
            "grid_auto_columns": null,
            "grid_auto_flow": null,
            "grid_auto_rows": null,
            "grid_column": null,
            "grid_gap": null,
            "grid_row": null,
            "grid_template_areas": null,
            "grid_template_columns": null,
            "grid_template_rows": null,
            "height": null,
            "justify_content": null,
            "justify_items": null,
            "left": null,
            "margin": null,
            "max_height": null,
            "max_width": null,
            "min_height": null,
            "min_width": null,
            "object_fit": null,
            "object_position": null,
            "order": null,
            "overflow": null,
            "overflow_x": null,
            "overflow_y": null,
            "padding": null,
            "right": null,
            "top": null,
            "visibility": null,
            "width": null
          }
        },
        "660d2061e1b243249fcb3150a714595d": {
          "model_module": "@jupyter-widgets/base",
          "model_module_version": "1.2.0",
          "model_name": "LayoutModel",
          "state": {
            "_model_module": "@jupyter-widgets/base",
            "_model_module_version": "1.2.0",
            "_model_name": "LayoutModel",
            "_view_count": null,
            "_view_module": "@jupyter-widgets/base",
            "_view_module_version": "1.2.0",
            "_view_name": "LayoutView",
            "align_content": null,
            "align_items": null,
            "align_self": null,
            "border": null,
            "bottom": null,
            "display": null,
            "flex": null,
            "flex_flow": null,
            "grid_area": null,
            "grid_auto_columns": null,
            "grid_auto_flow": null,
            "grid_auto_rows": null,
            "grid_column": null,
            "grid_gap": null,
            "grid_row": null,
            "grid_template_areas": null,
            "grid_template_columns": null,
            "grid_template_rows": null,
            "height": null,
            "justify_content": null,
            "justify_items": null,
            "left": null,
            "margin": null,
            "max_height": null,
            "max_width": null,
            "min_height": null,
            "min_width": null,
            "object_fit": null,
            "object_position": null,
            "order": null,
            "overflow": null,
            "overflow_x": null,
            "overflow_y": null,
            "padding": null,
            "right": null,
            "top": null,
            "visibility": null,
            "width": null
          }
        },
        "682d3f4090d347d88df0903584a54624": {
          "model_module": "@jupyter-widgets/base",
          "model_module_version": "1.2.0",
          "model_name": "LayoutModel",
          "state": {
            "_model_module": "@jupyter-widgets/base",
            "_model_module_version": "1.2.0",
            "_model_name": "LayoutModel",
            "_view_count": null,
            "_view_module": "@jupyter-widgets/base",
            "_view_module_version": "1.2.0",
            "_view_name": "LayoutView",
            "align_content": null,
            "align_items": null,
            "align_self": null,
            "border": null,
            "bottom": null,
            "display": null,
            "flex": null,
            "flex_flow": null,
            "grid_area": null,
            "grid_auto_columns": null,
            "grid_auto_flow": null,
            "grid_auto_rows": null,
            "grid_column": null,
            "grid_gap": null,
            "grid_row": null,
            "grid_template_areas": null,
            "grid_template_columns": null,
            "grid_template_rows": null,
            "height": null,
            "justify_content": null,
            "justify_items": null,
            "left": null,
            "margin": null,
            "max_height": null,
            "max_width": null,
            "min_height": null,
            "min_width": null,
            "object_fit": null,
            "object_position": null,
            "order": null,
            "overflow": null,
            "overflow_x": null,
            "overflow_y": null,
            "padding": null,
            "right": null,
            "top": null,
            "visibility": null,
            "width": null
          }
        },
        "6c38ac1cf4894d2496ae84e45da5e00a": {
          "model_module": "@jupyter-widgets/controls",
          "model_module_version": "1.5.0",
          "model_name": "HBoxModel",
          "state": {
            "_dom_classes": [],
            "_model_module": "@jupyter-widgets/controls",
            "_model_module_version": "1.5.0",
            "_model_name": "HBoxModel",
            "_view_count": null,
            "_view_module": "@jupyter-widgets/controls",
            "_view_module_version": "1.5.0",
            "_view_name": "HBoxView",
            "box_style": "",
            "children": [
              "IPY_MODEL_1b9c43d093214de4b976e8b6639757bc",
              "IPY_MODEL_b68d49371e7a4136aa613b21e4f9bc2b",
              "IPY_MODEL_d57c7ab0f0434cf1a3d52ecc10c23276"
            ],
            "layout": "IPY_MODEL_f5bd895a64dc4db9b915da473bd221c9"
          }
        },
        "6d683d5aa98f47a49e562b2127802d8c": {
          "model_module": "@jupyter-widgets/base",
          "model_module_version": "1.2.0",
          "model_name": "LayoutModel",
          "state": {
            "_model_module": "@jupyter-widgets/base",
            "_model_module_version": "1.2.0",
            "_model_name": "LayoutModel",
            "_view_count": null,
            "_view_module": "@jupyter-widgets/base",
            "_view_module_version": "1.2.0",
            "_view_name": "LayoutView",
            "align_content": null,
            "align_items": null,
            "align_self": null,
            "border": null,
            "bottom": null,
            "display": null,
            "flex": null,
            "flex_flow": null,
            "grid_area": null,
            "grid_auto_columns": null,
            "grid_auto_flow": null,
            "grid_auto_rows": null,
            "grid_column": null,
            "grid_gap": null,
            "grid_row": null,
            "grid_template_areas": null,
            "grid_template_columns": null,
            "grid_template_rows": null,
            "height": null,
            "justify_content": null,
            "justify_items": null,
            "left": null,
            "margin": null,
            "max_height": null,
            "max_width": null,
            "min_height": null,
            "min_width": null,
            "object_fit": null,
            "object_position": null,
            "order": null,
            "overflow": null,
            "overflow_x": null,
            "overflow_y": null,
            "padding": null,
            "right": null,
            "top": null,
            "visibility": null,
            "width": null
          }
        },
        "7411bab7f44b44b38899591491ddf46e": {
          "model_module": "@jupyter-widgets/controls",
          "model_module_version": "1.5.0",
          "model_name": "HBoxModel",
          "state": {
            "_dom_classes": [],
            "_model_module": "@jupyter-widgets/controls",
            "_model_module_version": "1.5.0",
            "_model_name": "HBoxModel",
            "_view_count": null,
            "_view_module": "@jupyter-widgets/controls",
            "_view_module_version": "1.5.0",
            "_view_name": "HBoxView",
            "box_style": "",
            "children": [
              "IPY_MODEL_5aeb02236b6249648f4bc3a7b9e733f1",
              "IPY_MODEL_eedc2d31ffaf45ba9e05fb400df116bd",
              "IPY_MODEL_95c03a10c3c14d5b8b8d5100959a4c8d"
            ],
            "layout": "IPY_MODEL_17f3eb6b1c3340e5a84d871430934c08"
          }
        },
        "7774610f0b0f418794216523a8e03bf3": {
          "model_module": "@jupyter-widgets/base",
          "model_module_version": "1.2.0",
          "model_name": "LayoutModel",
          "state": {
            "_model_module": "@jupyter-widgets/base",
            "_model_module_version": "1.2.0",
            "_model_name": "LayoutModel",
            "_view_count": null,
            "_view_module": "@jupyter-widgets/base",
            "_view_module_version": "1.2.0",
            "_view_name": "LayoutView",
            "align_content": null,
            "align_items": null,
            "align_self": null,
            "border": null,
            "bottom": null,
            "display": null,
            "flex": null,
            "flex_flow": null,
            "grid_area": null,
            "grid_auto_columns": null,
            "grid_auto_flow": null,
            "grid_auto_rows": null,
            "grid_column": null,
            "grid_gap": null,
            "grid_row": null,
            "grid_template_areas": null,
            "grid_template_columns": null,
            "grid_template_rows": null,
            "height": null,
            "justify_content": null,
            "justify_items": null,
            "left": null,
            "margin": null,
            "max_height": null,
            "max_width": null,
            "min_height": null,
            "min_width": null,
            "object_fit": null,
            "object_position": null,
            "order": null,
            "overflow": null,
            "overflow_x": null,
            "overflow_y": null,
            "padding": null,
            "right": null,
            "top": null,
            "visibility": null,
            "width": null
          }
        },
        "78433b671ead49238b97046c6caba862": {
          "model_module": "@jupyter-widgets/base",
          "model_module_version": "1.2.0",
          "model_name": "LayoutModel",
          "state": {
            "_model_module": "@jupyter-widgets/base",
            "_model_module_version": "1.2.0",
            "_model_name": "LayoutModel",
            "_view_count": null,
            "_view_module": "@jupyter-widgets/base",
            "_view_module_version": "1.2.0",
            "_view_name": "LayoutView",
            "align_content": null,
            "align_items": null,
            "align_self": null,
            "border": null,
            "bottom": null,
            "display": null,
            "flex": null,
            "flex_flow": null,
            "grid_area": null,
            "grid_auto_columns": null,
            "grid_auto_flow": null,
            "grid_auto_rows": null,
            "grid_column": null,
            "grid_gap": null,
            "grid_row": null,
            "grid_template_areas": null,
            "grid_template_columns": null,
            "grid_template_rows": null,
            "height": null,
            "justify_content": null,
            "justify_items": null,
            "left": null,
            "margin": null,
            "max_height": null,
            "max_width": null,
            "min_height": null,
            "min_width": null,
            "object_fit": null,
            "object_position": null,
            "order": null,
            "overflow": null,
            "overflow_x": null,
            "overflow_y": null,
            "padding": null,
            "right": null,
            "top": null,
            "visibility": null,
            "width": null
          }
        },
        "7de124d301be4f75a1866028caffb7e5": {
          "model_module": "@jupyter-widgets/controls",
          "model_module_version": "1.5.0",
          "model_name": "FloatProgressModel",
          "state": {
            "_dom_classes": [],
            "_model_module": "@jupyter-widgets/controls",
            "_model_module_version": "1.5.0",
            "_model_name": "FloatProgressModel",
            "_view_count": null,
            "_view_module": "@jupyter-widgets/controls",
            "_view_module_version": "1.5.0",
            "_view_name": "ProgressView",
            "bar_style": "success",
            "description": "",
            "description_tooltip": null,
            "layout": "IPY_MODEL_682d3f4090d347d88df0903584a54624",
            "max": 895,
            "min": 0,
            "orientation": "horizontal",
            "style": "IPY_MODEL_db2ac653b88a4ec7bedf17ad2af4946d",
            "value": 895
          }
        },
        "7e0ef456674943c69188d95e939c5372": {
          "model_module": "@jupyter-widgets/base",
          "model_module_version": "1.2.0",
          "model_name": "LayoutModel",
          "state": {
            "_model_module": "@jupyter-widgets/base",
            "_model_module_version": "1.2.0",
            "_model_name": "LayoutModel",
            "_view_count": null,
            "_view_module": "@jupyter-widgets/base",
            "_view_module_version": "1.2.0",
            "_view_name": "LayoutView",
            "align_content": null,
            "align_items": null,
            "align_self": null,
            "border": null,
            "bottom": null,
            "display": null,
            "flex": null,
            "flex_flow": null,
            "grid_area": null,
            "grid_auto_columns": null,
            "grid_auto_flow": null,
            "grid_auto_rows": null,
            "grid_column": null,
            "grid_gap": null,
            "grid_row": null,
            "grid_template_areas": null,
            "grid_template_columns": null,
            "grid_template_rows": null,
            "height": null,
            "justify_content": null,
            "justify_items": null,
            "left": null,
            "margin": null,
            "max_height": null,
            "max_width": null,
            "min_height": null,
            "min_width": null,
            "object_fit": null,
            "object_position": null,
            "order": null,
            "overflow": null,
            "overflow_x": null,
            "overflow_y": null,
            "padding": null,
            "right": null,
            "top": null,
            "visibility": null,
            "width": null
          }
        },
        "7e8b6f458b8a46a9b7b67b50e77d0991": {
          "model_module": "@jupyter-widgets/base",
          "model_module_version": "1.2.0",
          "model_name": "LayoutModel",
          "state": {
            "_model_module": "@jupyter-widgets/base",
            "_model_module_version": "1.2.0",
            "_model_name": "LayoutModel",
            "_view_count": null,
            "_view_module": "@jupyter-widgets/base",
            "_view_module_version": "1.2.0",
            "_view_name": "LayoutView",
            "align_content": null,
            "align_items": null,
            "align_self": null,
            "border": null,
            "bottom": null,
            "display": null,
            "flex": null,
            "flex_flow": null,
            "grid_area": null,
            "grid_auto_columns": null,
            "grid_auto_flow": null,
            "grid_auto_rows": null,
            "grid_column": null,
            "grid_gap": null,
            "grid_row": null,
            "grid_template_areas": null,
            "grid_template_columns": null,
            "grid_template_rows": null,
            "height": null,
            "justify_content": null,
            "justify_items": null,
            "left": null,
            "margin": null,
            "max_height": null,
            "max_width": null,
            "min_height": null,
            "min_width": null,
            "object_fit": null,
            "object_position": null,
            "order": null,
            "overflow": null,
            "overflow_x": null,
            "overflow_y": null,
            "padding": null,
            "right": null,
            "top": null,
            "visibility": null,
            "width": null
          }
        },
        "820dbc46c714411c8d090923bbcd3e4c": {
          "model_module": "@jupyter-widgets/base",
          "model_module_version": "1.2.0",
          "model_name": "LayoutModel",
          "state": {
            "_model_module": "@jupyter-widgets/base",
            "_model_module_version": "1.2.0",
            "_model_name": "LayoutModel",
            "_view_count": null,
            "_view_module": "@jupyter-widgets/base",
            "_view_module_version": "1.2.0",
            "_view_name": "LayoutView",
            "align_content": null,
            "align_items": null,
            "align_self": null,
            "border": null,
            "bottom": null,
            "display": null,
            "flex": null,
            "flex_flow": null,
            "grid_area": null,
            "grid_auto_columns": null,
            "grid_auto_flow": null,
            "grid_auto_rows": null,
            "grid_column": null,
            "grid_gap": null,
            "grid_row": null,
            "grid_template_areas": null,
            "grid_template_columns": null,
            "grid_template_rows": null,
            "height": null,
            "justify_content": null,
            "justify_items": null,
            "left": null,
            "margin": null,
            "max_height": null,
            "max_width": null,
            "min_height": null,
            "min_width": null,
            "object_fit": null,
            "object_position": null,
            "order": null,
            "overflow": null,
            "overflow_x": null,
            "overflow_y": null,
            "padding": null,
            "right": null,
            "top": null,
            "visibility": null,
            "width": null
          }
        },
        "824f69ba69294b7790cfff219e018bcf": {
          "model_module": "@jupyter-widgets/controls",
          "model_module_version": "1.5.0",
          "model_name": "ProgressStyleModel",
          "state": {
            "_model_module": "@jupyter-widgets/controls",
            "_model_module_version": "1.5.0",
            "_model_name": "ProgressStyleModel",
            "_view_count": null,
            "_view_module": "@jupyter-widgets/base",
            "_view_module_version": "1.2.0",
            "_view_name": "StyleView",
            "bar_color": null,
            "description_width": ""
          }
        },
        "82a98c096b394677a6a168d71c61ef86": {
          "model_module": "@jupyter-widgets/base",
          "model_module_version": "1.2.0",
          "model_name": "LayoutModel",
          "state": {
            "_model_module": "@jupyter-widgets/base",
            "_model_module_version": "1.2.0",
            "_model_name": "LayoutModel",
            "_view_count": null,
            "_view_module": "@jupyter-widgets/base",
            "_view_module_version": "1.2.0",
            "_view_name": "LayoutView",
            "align_content": null,
            "align_items": null,
            "align_self": null,
            "border": null,
            "bottom": null,
            "display": null,
            "flex": null,
            "flex_flow": null,
            "grid_area": null,
            "grid_auto_columns": null,
            "grid_auto_flow": null,
            "grid_auto_rows": null,
            "grid_column": null,
            "grid_gap": null,
            "grid_row": null,
            "grid_template_areas": null,
            "grid_template_columns": null,
            "grid_template_rows": null,
            "height": null,
            "justify_content": null,
            "justify_items": null,
            "left": null,
            "margin": null,
            "max_height": null,
            "max_width": null,
            "min_height": null,
            "min_width": null,
            "object_fit": null,
            "object_position": null,
            "order": null,
            "overflow": null,
            "overflow_x": null,
            "overflow_y": null,
            "padding": null,
            "right": null,
            "top": null,
            "visibility": null,
            "width": null
          }
        },
        "836fa2fabbca46afaa2f8377ed575c99": {
          "model_module": "@jupyter-widgets/base",
          "model_module_version": "1.2.0",
          "model_name": "LayoutModel",
          "state": {
            "_model_module": "@jupyter-widgets/base",
            "_model_module_version": "1.2.0",
            "_model_name": "LayoutModel",
            "_view_count": null,
            "_view_module": "@jupyter-widgets/base",
            "_view_module_version": "1.2.0",
            "_view_name": "LayoutView",
            "align_content": null,
            "align_items": null,
            "align_self": null,
            "border": null,
            "bottom": null,
            "display": null,
            "flex": null,
            "flex_flow": null,
            "grid_area": null,
            "grid_auto_columns": null,
            "grid_auto_flow": null,
            "grid_auto_rows": null,
            "grid_column": null,
            "grid_gap": null,
            "grid_row": null,
            "grid_template_areas": null,
            "grid_template_columns": null,
            "grid_template_rows": null,
            "height": null,
            "justify_content": null,
            "justify_items": null,
            "left": null,
            "margin": null,
            "max_height": null,
            "max_width": null,
            "min_height": null,
            "min_width": null,
            "object_fit": null,
            "object_position": null,
            "order": null,
            "overflow": null,
            "overflow_x": null,
            "overflow_y": null,
            "padding": null,
            "right": null,
            "top": null,
            "visibility": null,
            "width": null
          }
        },
        "877b2c2f8e6248a0890b2f012b785304": {
          "model_module": "@jupyter-widgets/base",
          "model_module_version": "1.2.0",
          "model_name": "LayoutModel",
          "state": {
            "_model_module": "@jupyter-widgets/base",
            "_model_module_version": "1.2.0",
            "_model_name": "LayoutModel",
            "_view_count": null,
            "_view_module": "@jupyter-widgets/base",
            "_view_module_version": "1.2.0",
            "_view_name": "LayoutView",
            "align_content": null,
            "align_items": null,
            "align_self": null,
            "border": null,
            "bottom": null,
            "display": null,
            "flex": null,
            "flex_flow": null,
            "grid_area": null,
            "grid_auto_columns": null,
            "grid_auto_flow": null,
            "grid_auto_rows": null,
            "grid_column": null,
            "grid_gap": null,
            "grid_row": null,
            "grid_template_areas": null,
            "grid_template_columns": null,
            "grid_template_rows": null,
            "height": null,
            "justify_content": null,
            "justify_items": null,
            "left": null,
            "margin": null,
            "max_height": null,
            "max_width": null,
            "min_height": null,
            "min_width": null,
            "object_fit": null,
            "object_position": null,
            "order": null,
            "overflow": null,
            "overflow_x": null,
            "overflow_y": null,
            "padding": null,
            "right": null,
            "top": null,
            "visibility": null,
            "width": null
          }
        },
        "897d6785a1a444278cc61681641721a7": {
          "model_module": "@jupyter-widgets/base",
          "model_module_version": "1.2.0",
          "model_name": "LayoutModel",
          "state": {
            "_model_module": "@jupyter-widgets/base",
            "_model_module_version": "1.2.0",
            "_model_name": "LayoutModel",
            "_view_count": null,
            "_view_module": "@jupyter-widgets/base",
            "_view_module_version": "1.2.0",
            "_view_name": "LayoutView",
            "align_content": null,
            "align_items": null,
            "align_self": null,
            "border": null,
            "bottom": null,
            "display": null,
            "flex": null,
            "flex_flow": null,
            "grid_area": null,
            "grid_auto_columns": null,
            "grid_auto_flow": null,
            "grid_auto_rows": null,
            "grid_column": null,
            "grid_gap": null,
            "grid_row": null,
            "grid_template_areas": null,
            "grid_template_columns": null,
            "grid_template_rows": null,
            "height": null,
            "justify_content": null,
            "justify_items": null,
            "left": null,
            "margin": null,
            "max_height": null,
            "max_width": null,
            "min_height": null,
            "min_width": null,
            "object_fit": null,
            "object_position": null,
            "order": null,
            "overflow": null,
            "overflow_x": null,
            "overflow_y": null,
            "padding": null,
            "right": null,
            "top": null,
            "visibility": null,
            "width": null
          }
        },
        "8a7340f110834112a0779b50d56943be": {
          "model_module": "@jupyter-widgets/base",
          "model_module_version": "1.2.0",
          "model_name": "LayoutModel",
          "state": {
            "_model_module": "@jupyter-widgets/base",
            "_model_module_version": "1.2.0",
            "_model_name": "LayoutModel",
            "_view_count": null,
            "_view_module": "@jupyter-widgets/base",
            "_view_module_version": "1.2.0",
            "_view_name": "LayoutView",
            "align_content": null,
            "align_items": null,
            "align_self": null,
            "border": null,
            "bottom": null,
            "display": null,
            "flex": null,
            "flex_flow": null,
            "grid_area": null,
            "grid_auto_columns": null,
            "grid_auto_flow": null,
            "grid_auto_rows": null,
            "grid_column": null,
            "grid_gap": null,
            "grid_row": null,
            "grid_template_areas": null,
            "grid_template_columns": null,
            "grid_template_rows": null,
            "height": null,
            "justify_content": null,
            "justify_items": null,
            "left": null,
            "margin": null,
            "max_height": null,
            "max_width": null,
            "min_height": null,
            "min_width": null,
            "object_fit": null,
            "object_position": null,
            "order": null,
            "overflow": null,
            "overflow_x": null,
            "overflow_y": null,
            "padding": null,
            "right": null,
            "top": null,
            "visibility": null,
            "width": null
          }
        },
        "8a9d0d93c5824ae4946d5fd4818d5b2d": {
          "model_module": "@jupyter-widgets/base",
          "model_module_version": "1.2.0",
          "model_name": "LayoutModel",
          "state": {
            "_model_module": "@jupyter-widgets/base",
            "_model_module_version": "1.2.0",
            "_model_name": "LayoutModel",
            "_view_count": null,
            "_view_module": "@jupyter-widgets/base",
            "_view_module_version": "1.2.0",
            "_view_name": "LayoutView",
            "align_content": null,
            "align_items": null,
            "align_self": null,
            "border": null,
            "bottom": null,
            "display": null,
            "flex": null,
            "flex_flow": null,
            "grid_area": null,
            "grid_auto_columns": null,
            "grid_auto_flow": null,
            "grid_auto_rows": null,
            "grid_column": null,
            "grid_gap": null,
            "grid_row": null,
            "grid_template_areas": null,
            "grid_template_columns": null,
            "grid_template_rows": null,
            "height": null,
            "justify_content": null,
            "justify_items": null,
            "left": null,
            "margin": null,
            "max_height": null,
            "max_width": null,
            "min_height": null,
            "min_width": null,
            "object_fit": null,
            "object_position": null,
            "order": null,
            "overflow": null,
            "overflow_x": null,
            "overflow_y": null,
            "padding": null,
            "right": null,
            "top": null,
            "visibility": null,
            "width": null
          }
        },
        "8ac4db59b0264a07a0b30b026e9b8916": {
          "model_module": "@jupyter-widgets/controls",
          "model_module_version": "1.5.0",
          "model_name": "HTMLModel",
          "state": {
            "_dom_classes": [],
            "_model_module": "@jupyter-widgets/controls",
            "_model_module_version": "1.5.0",
            "_model_name": "HTMLModel",
            "_view_count": null,
            "_view_module": "@jupyter-widgets/controls",
            "_view_module_version": "1.5.0",
            "_view_name": "HTMLView",
            "description": "",
            "description_tooltip": null,
            "layout": "IPY_MODEL_397cc57488ea451097a3d15b9a4bef55",
            "placeholder": "​",
            "style": "IPY_MODEL_3e3d14eb83604d3d9f2202410af29cf1",
            "value": " 1281/1281 [00:00&lt;00:00, 30355.04it/s]"
          }
        },
        "8cba1efb179d41a3a1e73f560052a983": {
          "model_module": "@jupyter-widgets/base",
          "model_module_version": "1.2.0",
          "model_name": "LayoutModel",
          "state": {
            "_model_module": "@jupyter-widgets/base",
            "_model_module_version": "1.2.0",
            "_model_name": "LayoutModel",
            "_view_count": null,
            "_view_module": "@jupyter-widgets/base",
            "_view_module_version": "1.2.0",
            "_view_name": "LayoutView",
            "align_content": null,
            "align_items": null,
            "align_self": null,
            "border": null,
            "bottom": null,
            "display": null,
            "flex": null,
            "flex_flow": null,
            "grid_area": null,
            "grid_auto_columns": null,
            "grid_auto_flow": null,
            "grid_auto_rows": null,
            "grid_column": null,
            "grid_gap": null,
            "grid_row": null,
            "grid_template_areas": null,
            "grid_template_columns": null,
            "grid_template_rows": null,
            "height": null,
            "justify_content": null,
            "justify_items": null,
            "left": null,
            "margin": null,
            "max_height": null,
            "max_width": null,
            "min_height": null,
            "min_width": null,
            "object_fit": null,
            "object_position": null,
            "order": null,
            "overflow": null,
            "overflow_x": null,
            "overflow_y": null,
            "padding": null,
            "right": null,
            "top": null,
            "visibility": null,
            "width": null
          }
        },
        "8ddcb0a7339046b8a1d7dd98ad7072a1": {
          "model_module": "@jupyter-widgets/base",
          "model_module_version": "1.2.0",
          "model_name": "LayoutModel",
          "state": {
            "_model_module": "@jupyter-widgets/base",
            "_model_module_version": "1.2.0",
            "_model_name": "LayoutModel",
            "_view_count": null,
            "_view_module": "@jupyter-widgets/base",
            "_view_module_version": "1.2.0",
            "_view_name": "LayoutView",
            "align_content": null,
            "align_items": null,
            "align_self": null,
            "border": null,
            "bottom": null,
            "display": null,
            "flex": null,
            "flex_flow": null,
            "grid_area": null,
            "grid_auto_columns": null,
            "grid_auto_flow": null,
            "grid_auto_rows": null,
            "grid_column": null,
            "grid_gap": null,
            "grid_row": null,
            "grid_template_areas": null,
            "grid_template_columns": null,
            "grid_template_rows": null,
            "height": null,
            "justify_content": null,
            "justify_items": null,
            "left": null,
            "margin": null,
            "max_height": null,
            "max_width": null,
            "min_height": null,
            "min_width": null,
            "object_fit": null,
            "object_position": null,
            "order": null,
            "overflow": null,
            "overflow_x": null,
            "overflow_y": null,
            "padding": null,
            "right": null,
            "top": null,
            "visibility": null,
            "width": null
          }
        },
        "8e05b29c44574398914d4354620a531e": {
          "model_module": "@jupyter-widgets/controls",
          "model_module_version": "1.5.0",
          "model_name": "ProgressStyleModel",
          "state": {
            "_model_module": "@jupyter-widgets/controls",
            "_model_module_version": "1.5.0",
            "_model_name": "ProgressStyleModel",
            "_view_count": null,
            "_view_module": "@jupyter-widgets/base",
            "_view_module_version": "1.2.0",
            "_view_name": "StyleView",
            "bar_color": null,
            "description_width": ""
          }
        },
        "920b91e28f5e4ea6a77e0830c3791de6": {
          "model_module": "@jupyter-widgets/controls",
          "model_module_version": "1.5.0",
          "model_name": "HBoxModel",
          "state": {
            "_dom_classes": [],
            "_model_module": "@jupyter-widgets/controls",
            "_model_module_version": "1.5.0",
            "_model_name": "HBoxModel",
            "_view_count": null,
            "_view_module": "@jupyter-widgets/controls",
            "_view_module_version": "1.5.0",
            "_view_name": "HBoxView",
            "box_style": "",
            "children": [
              "IPY_MODEL_c0455555657548de98cb39ff6d26ef47",
              "IPY_MODEL_e865c1dc69524a7ea3e8bc69d3854086",
              "IPY_MODEL_9290604ad9624902bc8d01c2f2372082"
            ],
            "layout": "IPY_MODEL_f70a2081a1bb4b989d15c22850bddd2f"
          }
        },
        "9290604ad9624902bc8d01c2f2372082": {
          "model_module": "@jupyter-widgets/controls",
          "model_module_version": "1.5.0",
          "model_name": "HTMLModel",
          "state": {
            "_dom_classes": [],
            "_model_module": "@jupyter-widgets/controls",
            "_model_module_version": "1.5.0",
            "_model_name": "HTMLModel",
            "_view_count": null,
            "_view_module": "@jupyter-widgets/controls",
            "_view_module_version": "1.5.0",
            "_view_name": "HTMLView",
            "description": "",
            "description_tooltip": null,
            "layout": "IPY_MODEL_b197fe445854497bbcde94b69fc0d619",
            "placeholder": "​",
            "style": "IPY_MODEL_efe1cb08983a465597388daefe6566bb",
            "value": " 11347/11347 [00:03&lt;00:00, 3130.22 examples/s]"
          }
        },
        "93ba4055934c47c882de28c59df0fd1b": {
          "model_module": "@jupyter-widgets/base",
          "model_module_version": "1.2.0",
          "model_name": "LayoutModel",
          "state": {
            "_model_module": "@jupyter-widgets/base",
            "_model_module_version": "1.2.0",
            "_model_name": "LayoutModel",
            "_view_count": null,
            "_view_module": "@jupyter-widgets/base",
            "_view_module_version": "1.2.0",
            "_view_name": "LayoutView",
            "align_content": null,
            "align_items": null,
            "align_self": null,
            "border": null,
            "bottom": null,
            "display": null,
            "flex": null,
            "flex_flow": null,
            "grid_area": null,
            "grid_auto_columns": null,
            "grid_auto_flow": null,
            "grid_auto_rows": null,
            "grid_column": null,
            "grid_gap": null,
            "grid_row": null,
            "grid_template_areas": null,
            "grid_template_columns": null,
            "grid_template_rows": null,
            "height": null,
            "justify_content": null,
            "justify_items": null,
            "left": null,
            "margin": null,
            "max_height": null,
            "max_width": null,
            "min_height": null,
            "min_width": null,
            "object_fit": null,
            "object_position": null,
            "order": null,
            "overflow": null,
            "overflow_x": null,
            "overflow_y": null,
            "padding": null,
            "right": null,
            "top": null,
            "visibility": null,
            "width": null
          }
        },
        "95c03a10c3c14d5b8b8d5100959a4c8d": {
          "model_module": "@jupyter-widgets/controls",
          "model_module_version": "1.5.0",
          "model_name": "HTMLModel",
          "state": {
            "_dom_classes": [],
            "_model_module": "@jupyter-widgets/controls",
            "_model_module_version": "1.5.0",
            "_model_name": "HTMLModel",
            "_view_count": null,
            "_view_module": "@jupyter-widgets/controls",
            "_view_module_version": "1.5.0",
            "_view_name": "HTMLView",
            "description": "",
            "description_tooltip": null,
            "layout": "IPY_MODEL_82a98c096b394677a6a168d71c61ef86",
            "placeholder": "​",
            "style": "IPY_MODEL_3feb16c8cb644221a03d316916194a38",
            "value": " 4.20k/4.20k [00:00&lt;00:00, 353kB/s]"
          }
        },
        "966f1a3c4830477099766f93db845734": {
          "model_module": "@jupyter-widgets/base",
          "model_module_version": "1.2.0",
          "model_name": "LayoutModel",
          "state": {
            "_model_module": "@jupyter-widgets/base",
            "_model_module_version": "1.2.0",
            "_model_name": "LayoutModel",
            "_view_count": null,
            "_view_module": "@jupyter-widgets/base",
            "_view_module_version": "1.2.0",
            "_view_name": "LayoutView",
            "align_content": null,
            "align_items": null,
            "align_self": null,
            "border": null,
            "bottom": null,
            "display": null,
            "flex": null,
            "flex_flow": null,
            "grid_area": null,
            "grid_auto_columns": null,
            "grid_auto_flow": null,
            "grid_auto_rows": null,
            "grid_column": null,
            "grid_gap": null,
            "grid_row": null,
            "grid_template_areas": null,
            "grid_template_columns": null,
            "grid_template_rows": null,
            "height": null,
            "justify_content": null,
            "justify_items": null,
            "left": null,
            "margin": null,
            "max_height": null,
            "max_width": null,
            "min_height": null,
            "min_width": null,
            "object_fit": null,
            "object_position": null,
            "order": null,
            "overflow": null,
            "overflow_x": null,
            "overflow_y": null,
            "padding": null,
            "right": null,
            "top": null,
            "visibility": null,
            "width": null
          }
        },
        "987208776d204aae98c9ba10be09b66b": {
          "model_module": "@jupyter-widgets/controls",
          "model_module_version": "1.5.0",
          "model_name": "FloatProgressModel",
          "state": {
            "_dom_classes": [],
            "_model_module": "@jupyter-widgets/controls",
            "_model_module_version": "1.5.0",
            "_model_name": "FloatProgressModel",
            "_view_count": null,
            "_view_module": "@jupyter-widgets/controls",
            "_view_module_version": "1.5.0",
            "_view_name": "ProgressView",
            "bar_style": "success",
            "description": "",
            "description_tooltip": null,
            "layout": "IPY_MODEL_b99943ee330e44ee8d0cc0ce1557ed9c",
            "max": 1,
            "min": 0,
            "orientation": "horizontal",
            "style": "IPY_MODEL_b0f4fe8a6283415f89bb6bb12a020374",
            "value": 1
          }
        },
        "98b193ec6c194f5a9df0701d93b75f45": {
          "model_module": "@jupyter-widgets/controls",
          "model_module_version": "1.5.0",
          "model_name": "HTMLModel",
          "state": {
            "_dom_classes": [],
            "_model_module": "@jupyter-widgets/controls",
            "_model_module_version": "1.5.0",
            "_model_name": "HTMLModel",
            "_view_count": null,
            "_view_module": "@jupyter-widgets/controls",
            "_view_module_version": "1.5.0",
            "_view_name": "HTMLView",
            "description": "",
            "description_tooltip": null,
            "layout": "IPY_MODEL_a46d56385c9a4f43a29b8b0115fab0b5",
            "placeholder": "​",
            "style": "IPY_MODEL_b07b0e7be86445a083288692ca3afc3e",
            "value": ""
          }
        },
        "9b44e9d7f3174286a21bca338aa44fb3": {
          "model_module": "@jupyter-widgets/controls",
          "model_module_version": "1.5.0",
          "model_name": "HTMLModel",
          "state": {
            "_dom_classes": [],
            "_model_module": "@jupyter-widgets/controls",
            "_model_module_version": "1.5.0",
            "_model_name": "HTMLModel",
            "_view_count": null,
            "_view_module": "@jupyter-widgets/controls",
            "_view_module_version": "1.5.0",
            "_view_name": "HTMLView",
            "description": "",
            "description_tooltip": null,
            "layout": "IPY_MODEL_a159685dc8a849cea119cd8c167b6bfd",
            "placeholder": "​",
            "style": "IPY_MODEL_5e74800c9031470fa26d8e68162095e8",
            "value": " 43.0/43.0 [00:00&lt;00:00, 894B/s]"
          }
        },
        "9e6f81c5c3f94b63ae65ce89a066c318": {
          "model_module": "@jupyter-widgets/base",
          "model_module_version": "1.2.0",
          "model_name": "LayoutModel",
          "state": {
            "_model_module": "@jupyter-widgets/base",
            "_model_module_version": "1.2.0",
            "_model_name": "LayoutModel",
            "_view_count": null,
            "_view_module": "@jupyter-widgets/base",
            "_view_module_version": "1.2.0",
            "_view_name": "LayoutView",
            "align_content": null,
            "align_items": null,
            "align_self": null,
            "border": null,
            "bottom": null,
            "display": null,
            "flex": null,
            "flex_flow": null,
            "grid_area": null,
            "grid_auto_columns": null,
            "grid_auto_flow": null,
            "grid_auto_rows": null,
            "grid_column": null,
            "grid_gap": null,
            "grid_row": null,
            "grid_template_areas": null,
            "grid_template_columns": null,
            "grid_template_rows": null,
            "height": null,
            "justify_content": null,
            "justify_items": null,
            "left": null,
            "margin": null,
            "max_height": null,
            "max_width": null,
            "min_height": null,
            "min_width": null,
            "object_fit": null,
            "object_position": null,
            "order": null,
            "overflow": null,
            "overflow_x": null,
            "overflow_y": null,
            "padding": null,
            "right": null,
            "top": null,
            "visibility": null,
            "width": null
          }
        },
        "9f270d25e0624cb792048b10d6aadf36": {
          "model_module": "@jupyter-widgets/controls",
          "model_module_version": "1.5.0",
          "model_name": "FloatProgressModel",
          "state": {
            "_dom_classes": [],
            "_model_module": "@jupyter-widgets/controls",
            "_model_module_version": "1.5.0",
            "_model_name": "FloatProgressModel",
            "_view_count": null,
            "_view_module": "@jupyter-widgets/controls",
            "_view_module_version": "1.5.0",
            "_view_name": "ProgressView",
            "bar_style": "success",
            "description": "",
            "description_tooltip": null,
            "layout": "IPY_MODEL_b522431573f440fe878af302789fa51a",
            "max": 2837,
            "min": 0,
            "orientation": "horizontal",
            "style": "IPY_MODEL_11ee05c3681b4ab18e45643c3297fd21",
            "value": 2837
          }
        },
        "a046bd87c4ab47cfab1c7597a1adaac6": {
          "model_module": "@jupyter-widgets/base",
          "model_module_version": "1.2.0",
          "model_name": "LayoutModel",
          "state": {
            "_model_module": "@jupyter-widgets/base",
            "_model_module_version": "1.2.0",
            "_model_name": "LayoutModel",
            "_view_count": null,
            "_view_module": "@jupyter-widgets/base",
            "_view_module_version": "1.2.0",
            "_view_name": "LayoutView",
            "align_content": null,
            "align_items": null,
            "align_self": null,
            "border": null,
            "bottom": null,
            "display": null,
            "flex": null,
            "flex_flow": null,
            "grid_area": null,
            "grid_auto_columns": null,
            "grid_auto_flow": null,
            "grid_auto_rows": null,
            "grid_column": null,
            "grid_gap": null,
            "grid_row": null,
            "grid_template_areas": null,
            "grid_template_columns": null,
            "grid_template_rows": null,
            "height": null,
            "justify_content": null,
            "justify_items": null,
            "left": null,
            "margin": null,
            "max_height": null,
            "max_width": null,
            "min_height": null,
            "min_width": null,
            "object_fit": null,
            "object_position": null,
            "order": null,
            "overflow": null,
            "overflow_x": null,
            "overflow_y": null,
            "padding": null,
            "right": null,
            "top": null,
            "visibility": null,
            "width": null
          }
        },
        "a159685dc8a849cea119cd8c167b6bfd": {
          "model_module": "@jupyter-widgets/base",
          "model_module_version": "1.2.0",
          "model_name": "LayoutModel",
          "state": {
            "_model_module": "@jupyter-widgets/base",
            "_model_module_version": "1.2.0",
            "_model_name": "LayoutModel",
            "_view_count": null,
            "_view_module": "@jupyter-widgets/base",
            "_view_module_version": "1.2.0",
            "_view_name": "LayoutView",
            "align_content": null,
            "align_items": null,
            "align_self": null,
            "border": null,
            "bottom": null,
            "display": null,
            "flex": null,
            "flex_flow": null,
            "grid_area": null,
            "grid_auto_columns": null,
            "grid_auto_flow": null,
            "grid_auto_rows": null,
            "grid_column": null,
            "grid_gap": null,
            "grid_row": null,
            "grid_template_areas": null,
            "grid_template_columns": null,
            "grid_template_rows": null,
            "height": null,
            "justify_content": null,
            "justify_items": null,
            "left": null,
            "margin": null,
            "max_height": null,
            "max_width": null,
            "min_height": null,
            "min_width": null,
            "object_fit": null,
            "object_position": null,
            "order": null,
            "overflow": null,
            "overflow_x": null,
            "overflow_y": null,
            "padding": null,
            "right": null,
            "top": null,
            "visibility": null,
            "width": null
          }
        },
        "a175d8e165a343f1be05771142f73970": {
          "model_module": "@jupyter-widgets/controls",
          "model_module_version": "1.5.0",
          "model_name": "ProgressStyleModel",
          "state": {
            "_model_module": "@jupyter-widgets/controls",
            "_model_module_version": "1.5.0",
            "_model_name": "ProgressStyleModel",
            "_view_count": null,
            "_view_module": "@jupyter-widgets/base",
            "_view_module_version": "1.2.0",
            "_view_name": "StyleView",
            "bar_color": null,
            "description_width": ""
          }
        },
        "a46d56385c9a4f43a29b8b0115fab0b5": {
          "model_module": "@jupyter-widgets/base",
          "model_module_version": "1.2.0",
          "model_name": "LayoutModel",
          "state": {
            "_model_module": "@jupyter-widgets/base",
            "_model_module_version": "1.2.0",
            "_model_name": "LayoutModel",
            "_view_count": null,
            "_view_module": "@jupyter-widgets/base",
            "_view_module_version": "1.2.0",
            "_view_name": "LayoutView",
            "align_content": null,
            "align_items": null,
            "align_self": null,
            "border": null,
            "bottom": null,
            "display": null,
            "flex": null,
            "flex_flow": null,
            "grid_area": null,
            "grid_auto_columns": null,
            "grid_auto_flow": null,
            "grid_auto_rows": null,
            "grid_column": null,
            "grid_gap": null,
            "grid_row": null,
            "grid_template_areas": null,
            "grid_template_columns": null,
            "grid_template_rows": null,
            "height": null,
            "justify_content": null,
            "justify_items": null,
            "left": null,
            "margin": null,
            "max_height": null,
            "max_width": null,
            "min_height": null,
            "min_width": null,
            "object_fit": null,
            "object_position": null,
            "order": null,
            "overflow": null,
            "overflow_x": null,
            "overflow_y": null,
            "padding": null,
            "right": null,
            "top": null,
            "visibility": null,
            "width": null
          }
        },
        "a5b3e034bffe43199e8679fb5b966f6d": {
          "model_module": "@jupyter-widgets/base",
          "model_module_version": "1.2.0",
          "model_name": "LayoutModel",
          "state": {
            "_model_module": "@jupyter-widgets/base",
            "_model_module_version": "1.2.0",
            "_model_name": "LayoutModel",
            "_view_count": null,
            "_view_module": "@jupyter-widgets/base",
            "_view_module_version": "1.2.0",
            "_view_name": "LayoutView",
            "align_content": null,
            "align_items": null,
            "align_self": null,
            "border": null,
            "bottom": null,
            "display": null,
            "flex": null,
            "flex_flow": null,
            "grid_area": null,
            "grid_auto_columns": null,
            "grid_auto_flow": null,
            "grid_auto_rows": null,
            "grid_column": null,
            "grid_gap": null,
            "grid_row": null,
            "grid_template_areas": null,
            "grid_template_columns": null,
            "grid_template_rows": null,
            "height": null,
            "justify_content": null,
            "justify_items": null,
            "left": null,
            "margin": null,
            "max_height": null,
            "max_width": null,
            "min_height": null,
            "min_width": null,
            "object_fit": null,
            "object_position": null,
            "order": null,
            "overflow": null,
            "overflow_x": null,
            "overflow_y": null,
            "padding": null,
            "right": null,
            "top": null,
            "visibility": null,
            "width": null
          }
        },
        "a7dca0678b654cb087f93f2cdd372525": {
          "model_module": "@jupyter-widgets/base",
          "model_module_version": "1.2.0",
          "model_name": "LayoutModel",
          "state": {
            "_model_module": "@jupyter-widgets/base",
            "_model_module_version": "1.2.0",
            "_model_name": "LayoutModel",
            "_view_count": null,
            "_view_module": "@jupyter-widgets/base",
            "_view_module_version": "1.2.0",
            "_view_name": "LayoutView",
            "align_content": null,
            "align_items": null,
            "align_self": null,
            "border": null,
            "bottom": null,
            "display": null,
            "flex": null,
            "flex_flow": null,
            "grid_area": null,
            "grid_auto_columns": null,
            "grid_auto_flow": null,
            "grid_auto_rows": null,
            "grid_column": null,
            "grid_gap": null,
            "grid_row": null,
            "grid_template_areas": null,
            "grid_template_columns": null,
            "grid_template_rows": null,
            "height": null,
            "justify_content": null,
            "justify_items": null,
            "left": null,
            "margin": null,
            "max_height": null,
            "max_width": null,
            "min_height": null,
            "min_width": null,
            "object_fit": null,
            "object_position": null,
            "order": null,
            "overflow": null,
            "overflow_x": null,
            "overflow_y": null,
            "padding": null,
            "right": null,
            "top": null,
            "visibility": null,
            "width": null
          }
        },
        "a84dfd519cf842f8a5e6c0e8493b2e45": {
          "model_module": "@jupyter-widgets/controls",
          "model_module_version": "1.5.0",
          "model_name": "FloatProgressModel",
          "state": {
            "_dom_classes": [],
            "_model_module": "@jupyter-widgets/controls",
            "_model_module_version": "1.5.0",
            "_model_name": "FloatProgressModel",
            "_view_count": null,
            "_view_module": "@jupyter-widgets/controls",
            "_view_module_version": "1.5.0",
            "_view_name": "ProgressView",
            "bar_style": "success",
            "description": "",
            "description_tooltip": null,
            "layout": "IPY_MODEL_8a9d0d93c5824ae4946d5fd4818d5b2d",
            "max": 1281,
            "min": 0,
            "orientation": "horizontal",
            "style": "IPY_MODEL_d9c38761b708465e9f742055a00daa52",
            "value": 1281
          }
        },
        "adb283347d64413b83b213f9eedb96b6": {
          "model_module": "@jupyter-widgets/controls",
          "model_module_version": "1.5.0",
          "model_name": "HBoxModel",
          "state": {
            "_dom_classes": [],
            "_model_module": "@jupyter-widgets/controls",
            "_model_module_version": "1.5.0",
            "_model_name": "HBoxModel",
            "_view_count": null,
            "_view_module": "@jupyter-widgets/controls",
            "_view_module_version": "1.5.0",
            "_view_name": "HBoxView",
            "box_style": "",
            "children": [
              "IPY_MODEL_e1af61f4c0b24edeb7409a8adbff2eae",
              "IPY_MODEL_d2a548f77c42482f870dcc16c845c8ed",
              "IPY_MODEL_d560987672f94e0d8171541c34fe05b8"
            ],
            "layout": "IPY_MODEL_7774610f0b0f418794216523a8e03bf3"
          }
        },
        "b07b0e7be86445a083288692ca3afc3e": {
          "model_module": "@jupyter-widgets/controls",
          "model_module_version": "1.5.0",
          "model_name": "DescriptionStyleModel",
          "state": {
            "_model_module": "@jupyter-widgets/controls",
            "_model_module_version": "1.5.0",
            "_model_name": "DescriptionStyleModel",
            "_view_count": null,
            "_view_module": "@jupyter-widgets/base",
            "_view_module_version": "1.2.0",
            "_view_name": "StyleView",
            "description_width": ""
          }
        },
        "b0af2dae54fc41f2aa60fbb0b91ef27f": {
          "model_module": "@jupyter-widgets/controls",
          "model_module_version": "1.5.0",
          "model_name": "DescriptionStyleModel",
          "state": {
            "_model_module": "@jupyter-widgets/controls",
            "_model_module_version": "1.5.0",
            "_model_name": "DescriptionStyleModel",
            "_view_count": null,
            "_view_module": "@jupyter-widgets/base",
            "_view_module_version": "1.2.0",
            "_view_name": "StyleView",
            "description_width": ""
          }
        },
        "b0f4fe8a6283415f89bb6bb12a020374": {
          "model_module": "@jupyter-widgets/controls",
          "model_module_version": "1.5.0",
          "model_name": "ProgressStyleModel",
          "state": {
            "_model_module": "@jupyter-widgets/controls",
            "_model_module_version": "1.5.0",
            "_model_name": "ProgressStyleModel",
            "_view_count": null,
            "_view_module": "@jupyter-widgets/base",
            "_view_module_version": "1.2.0",
            "_view_name": "StyleView",
            "bar_color": null,
            "description_width": ""
          }
        },
        "b197fe445854497bbcde94b69fc0d619": {
          "model_module": "@jupyter-widgets/base",
          "model_module_version": "1.2.0",
          "model_name": "LayoutModel",
          "state": {
            "_model_module": "@jupyter-widgets/base",
            "_model_module_version": "1.2.0",
            "_model_name": "LayoutModel",
            "_view_count": null,
            "_view_module": "@jupyter-widgets/base",
            "_view_module_version": "1.2.0",
            "_view_name": "LayoutView",
            "align_content": null,
            "align_items": null,
            "align_self": null,
            "border": null,
            "bottom": null,
            "display": null,
            "flex": null,
            "flex_flow": null,
            "grid_area": null,
            "grid_auto_columns": null,
            "grid_auto_flow": null,
            "grid_auto_rows": null,
            "grid_column": null,
            "grid_gap": null,
            "grid_row": null,
            "grid_template_areas": null,
            "grid_template_columns": null,
            "grid_template_rows": null,
            "height": null,
            "justify_content": null,
            "justify_items": null,
            "left": null,
            "margin": null,
            "max_height": null,
            "max_width": null,
            "min_height": null,
            "min_width": null,
            "object_fit": null,
            "object_position": null,
            "order": null,
            "overflow": null,
            "overflow_x": null,
            "overflow_y": null,
            "padding": null,
            "right": null,
            "top": null,
            "visibility": null,
            "width": null
          }
        },
        "b522431573f440fe878af302789fa51a": {
          "model_module": "@jupyter-widgets/base",
          "model_module_version": "1.2.0",
          "model_name": "LayoutModel",
          "state": {
            "_model_module": "@jupyter-widgets/base",
            "_model_module_version": "1.2.0",
            "_model_name": "LayoutModel",
            "_view_count": null,
            "_view_module": "@jupyter-widgets/base",
            "_view_module_version": "1.2.0",
            "_view_name": "LayoutView",
            "align_content": null,
            "align_items": null,
            "align_self": null,
            "border": null,
            "bottom": null,
            "display": null,
            "flex": null,
            "flex_flow": null,
            "grid_area": null,
            "grid_auto_columns": null,
            "grid_auto_flow": null,
            "grid_auto_rows": null,
            "grid_column": null,
            "grid_gap": null,
            "grid_row": null,
            "grid_template_areas": null,
            "grid_template_columns": null,
            "grid_template_rows": null,
            "height": null,
            "justify_content": null,
            "justify_items": null,
            "left": null,
            "margin": null,
            "max_height": null,
            "max_width": null,
            "min_height": null,
            "min_width": null,
            "object_fit": null,
            "object_position": null,
            "order": null,
            "overflow": null,
            "overflow_x": null,
            "overflow_y": null,
            "padding": null,
            "right": null,
            "top": null,
            "visibility": null,
            "width": null
          }
        },
        "b6815f06f38a45ef868d274d2a25dfa9": {
          "model_module": "@jupyter-widgets/controls",
          "model_module_version": "1.5.0",
          "model_name": "FloatProgressModel",
          "state": {
            "_dom_classes": [],
            "_model_module": "@jupyter-widgets/controls",
            "_model_module_version": "1.5.0",
            "_model_name": "FloatProgressModel",
            "_view_count": null,
            "_view_module": "@jupyter-widgets/controls",
            "_view_module_version": "1.5.0",
            "_view_name": "ProgressView",
            "bar_style": "success",
            "description": "",
            "description_tooltip": null,
            "layout": "IPY_MODEL_9e6f81c5c3f94b63ae65ce89a066c318",
            "max": 1281,
            "min": 0,
            "orientation": "horizontal",
            "style": "IPY_MODEL_29658a2a11ca4fdaa1d0b524c3c2fbb9",
            "value": 1281
          }
        },
        "b68d49371e7a4136aa613b21e4f9bc2b": {
          "model_module": "@jupyter-widgets/controls",
          "model_module_version": "1.5.0",
          "model_name": "FloatProgressModel",
          "state": {
            "_dom_classes": [],
            "_model_module": "@jupyter-widgets/controls",
            "_model_module_version": "1.5.0",
            "_model_name": "FloatProgressModel",
            "_view_count": null,
            "_view_module": "@jupyter-widgets/controls",
            "_view_module_version": "1.5.0",
            "_view_name": "ProgressView",
            "bar_style": "success",
            "description": "",
            "description_tooltip": null,
            "layout": "IPY_MODEL_897d6785a1a444278cc61681641721a7",
            "max": 647,
            "min": 0,
            "orientation": "horizontal",
            "style": "IPY_MODEL_8e05b29c44574398914d4354620a531e",
            "value": 647
          }
        },
        "b89d496a764545c1ba39b12044d3fd8e": {
          "model_module": "@jupyter-widgets/controls",
          "model_module_version": "1.5.0",
          "model_name": "DescriptionStyleModel",
          "state": {
            "_model_module": "@jupyter-widgets/controls",
            "_model_module_version": "1.5.0",
            "_model_name": "DescriptionStyleModel",
            "_view_count": null,
            "_view_module": "@jupyter-widgets/base",
            "_view_module_version": "1.2.0",
            "_view_name": "StyleView",
            "description_width": ""
          }
        },
        "b9908783a3d647919284e7bd5fa54dd4": {
          "model_module": "@jupyter-widgets/controls",
          "model_module_version": "1.5.0",
          "model_name": "DescriptionStyleModel",
          "state": {
            "_model_module": "@jupyter-widgets/controls",
            "_model_module_version": "1.5.0",
            "_model_name": "DescriptionStyleModel",
            "_view_count": null,
            "_view_module": "@jupyter-widgets/base",
            "_view_module_version": "1.2.0",
            "_view_name": "StyleView",
            "description_width": ""
          }
        },
        "b99943ee330e44ee8d0cc0ce1557ed9c": {
          "model_module": "@jupyter-widgets/base",
          "model_module_version": "1.2.0",
          "model_name": "LayoutModel",
          "state": {
            "_model_module": "@jupyter-widgets/base",
            "_model_module_version": "1.2.0",
            "_model_name": "LayoutModel",
            "_view_count": null,
            "_view_module": "@jupyter-widgets/base",
            "_view_module_version": "1.2.0",
            "_view_name": "LayoutView",
            "align_content": null,
            "align_items": null,
            "align_self": null,
            "border": null,
            "bottom": null,
            "display": null,
            "flex": null,
            "flex_flow": null,
            "grid_area": null,
            "grid_auto_columns": null,
            "grid_auto_flow": null,
            "grid_auto_rows": null,
            "grid_column": null,
            "grid_gap": null,
            "grid_row": null,
            "grid_template_areas": null,
            "grid_template_columns": null,
            "grid_template_rows": null,
            "height": null,
            "justify_content": null,
            "justify_items": null,
            "left": null,
            "margin": null,
            "max_height": null,
            "max_width": null,
            "min_height": null,
            "min_width": null,
            "object_fit": null,
            "object_position": null,
            "order": null,
            "overflow": null,
            "overflow_x": null,
            "overflow_y": null,
            "padding": null,
            "right": null,
            "top": null,
            "visibility": null,
            "width": "20px"
          }
        },
        "bbd4feaef95e4176bc09198701b2befb": {
          "model_module": "@jupyter-widgets/controls",
          "model_module_version": "1.5.0",
          "model_name": "HBoxModel",
          "state": {
            "_dom_classes": [],
            "_model_module": "@jupyter-widgets/controls",
            "_model_module_version": "1.5.0",
            "_model_name": "HBoxModel",
            "_view_count": null,
            "_view_module": "@jupyter-widgets/controls",
            "_view_module_version": "1.5.0",
            "_view_name": "HBoxView",
            "box_style": "",
            "children": [
              "IPY_MODEL_2d9dc12f8614404c9f5a4e855c0e7d3a",
              "IPY_MODEL_b6815f06f38a45ef868d274d2a25dfa9",
              "IPY_MODEL_8ac4db59b0264a07a0b30b026e9b8916"
            ],
            "layout": "IPY_MODEL_da5b9a2e38ea4837be39a18274f8314e"
          }
        },
        "bca439b1284345de8bd6ffad621b67fe": {
          "model_module": "@jupyter-widgets/base",
          "model_module_version": "1.2.0",
          "model_name": "LayoutModel",
          "state": {
            "_model_module": "@jupyter-widgets/base",
            "_model_module_version": "1.2.0",
            "_model_name": "LayoutModel",
            "_view_count": null,
            "_view_module": "@jupyter-widgets/base",
            "_view_module_version": "1.2.0",
            "_view_name": "LayoutView",
            "align_content": null,
            "align_items": null,
            "align_self": null,
            "border": null,
            "bottom": null,
            "display": null,
            "flex": null,
            "flex_flow": null,
            "grid_area": null,
            "grid_auto_columns": null,
            "grid_auto_flow": null,
            "grid_auto_rows": null,
            "grid_column": null,
            "grid_gap": null,
            "grid_row": null,
            "grid_template_areas": null,
            "grid_template_columns": null,
            "grid_template_rows": null,
            "height": null,
            "justify_content": null,
            "justify_items": null,
            "left": null,
            "margin": null,
            "max_height": null,
            "max_width": null,
            "min_height": null,
            "min_width": null,
            "object_fit": null,
            "object_position": null,
            "order": null,
            "overflow": null,
            "overflow_x": null,
            "overflow_y": null,
            "padding": null,
            "right": null,
            "top": null,
            "visibility": null,
            "width": null
          }
        },
        "bf10f93da4534676860ae87d200b687a": {
          "model_module": "@jupyter-widgets/base",
          "model_module_version": "1.2.0",
          "model_name": "LayoutModel",
          "state": {
            "_model_module": "@jupyter-widgets/base",
            "_model_module_version": "1.2.0",
            "_model_name": "LayoutModel",
            "_view_count": null,
            "_view_module": "@jupyter-widgets/base",
            "_view_module_version": "1.2.0",
            "_view_name": "LayoutView",
            "align_content": null,
            "align_items": null,
            "align_self": null,
            "border": null,
            "bottom": null,
            "display": null,
            "flex": null,
            "flex_flow": null,
            "grid_area": null,
            "grid_auto_columns": null,
            "grid_auto_flow": null,
            "grid_auto_rows": null,
            "grid_column": null,
            "grid_gap": null,
            "grid_row": null,
            "grid_template_areas": null,
            "grid_template_columns": null,
            "grid_template_rows": null,
            "height": null,
            "justify_content": null,
            "justify_items": null,
            "left": null,
            "margin": null,
            "max_height": null,
            "max_width": null,
            "min_height": null,
            "min_width": null,
            "object_fit": null,
            "object_position": null,
            "order": null,
            "overflow": null,
            "overflow_x": null,
            "overflow_y": null,
            "padding": null,
            "right": null,
            "top": null,
            "visibility": null,
            "width": null
          }
        },
        "bfaf31b150fc41d4989fa2849f71bdb1": {
          "model_module": "@jupyter-widgets/base",
          "model_module_version": "1.2.0",
          "model_name": "LayoutModel",
          "state": {
            "_model_module": "@jupyter-widgets/base",
            "_model_module_version": "1.2.0",
            "_model_name": "LayoutModel",
            "_view_count": null,
            "_view_module": "@jupyter-widgets/base",
            "_view_module_version": "1.2.0",
            "_view_name": "LayoutView",
            "align_content": null,
            "align_items": null,
            "align_self": null,
            "border": null,
            "bottom": null,
            "display": null,
            "flex": null,
            "flex_flow": null,
            "grid_area": null,
            "grid_auto_columns": null,
            "grid_auto_flow": null,
            "grid_auto_rows": null,
            "grid_column": null,
            "grid_gap": null,
            "grid_row": null,
            "grid_template_areas": null,
            "grid_template_columns": null,
            "grid_template_rows": null,
            "height": null,
            "justify_content": null,
            "justify_items": null,
            "left": null,
            "margin": null,
            "max_height": null,
            "max_width": null,
            "min_height": null,
            "min_width": null,
            "object_fit": null,
            "object_position": null,
            "order": null,
            "overflow": null,
            "overflow_x": null,
            "overflow_y": null,
            "padding": null,
            "right": null,
            "top": null,
            "visibility": null,
            "width": null
          }
        },
        "c0455555657548de98cb39ff6d26ef47": {
          "model_module": "@jupyter-widgets/controls",
          "model_module_version": "1.5.0",
          "model_name": "HTMLModel",
          "state": {
            "_dom_classes": [],
            "_model_module": "@jupyter-widgets/controls",
            "_model_module_version": "1.5.0",
            "_model_name": "HTMLModel",
            "_view_count": null,
            "_view_module": "@jupyter-widgets/controls",
            "_view_module_version": "1.5.0",
            "_view_name": "HTMLView",
            "description": "",
            "description_tooltip": null,
            "layout": "IPY_MODEL_133b5beef9f840e98e11cf424aabe313",
            "placeholder": "​",
            "style": "IPY_MODEL_2da7f859ceb04c578b35465bd0f357ec",
            "value": "Map: 100%"
          }
        },
        "c0feb64045e54afb8ca3bb2294502f89": {
          "model_module": "@jupyter-widgets/base",
          "model_module_version": "1.2.0",
          "model_name": "LayoutModel",
          "state": {
            "_model_module": "@jupyter-widgets/base",
            "_model_module_version": "1.2.0",
            "_model_name": "LayoutModel",
            "_view_count": null,
            "_view_module": "@jupyter-widgets/base",
            "_view_module_version": "1.2.0",
            "_view_name": "LayoutView",
            "align_content": null,
            "align_items": null,
            "align_self": null,
            "border": null,
            "bottom": null,
            "display": null,
            "flex": null,
            "flex_flow": null,
            "grid_area": null,
            "grid_auto_columns": null,
            "grid_auto_flow": null,
            "grid_auto_rows": null,
            "grid_column": null,
            "grid_gap": null,
            "grid_row": null,
            "grid_template_areas": null,
            "grid_template_columns": null,
            "grid_template_rows": null,
            "height": null,
            "justify_content": null,
            "justify_items": null,
            "left": null,
            "margin": null,
            "max_height": null,
            "max_width": null,
            "min_height": null,
            "min_width": null,
            "object_fit": null,
            "object_position": null,
            "order": null,
            "overflow": null,
            "overflow_x": null,
            "overflow_y": null,
            "padding": null,
            "right": null,
            "top": null,
            "visibility": null,
            "width": null
          }
        },
        "c339cbeba50040dbb6f8e97d5d19526a": {
          "model_module": "@jupyter-widgets/controls",
          "model_module_version": "1.5.0",
          "model_name": "DescriptionStyleModel",
          "state": {
            "_model_module": "@jupyter-widgets/controls",
            "_model_module_version": "1.5.0",
            "_model_name": "DescriptionStyleModel",
            "_view_count": null,
            "_view_module": "@jupyter-widgets/base",
            "_view_module_version": "1.2.0",
            "_view_name": "StyleView",
            "description_width": ""
          }
        },
        "c4c862f339f442359dbb6fe6fd210e7e": {
          "model_module": "@jupyter-widgets/controls",
          "model_module_version": "1.5.0",
          "model_name": "DescriptionStyleModel",
          "state": {
            "_model_module": "@jupyter-widgets/controls",
            "_model_module_version": "1.5.0",
            "_model_name": "DescriptionStyleModel",
            "_view_count": null,
            "_view_module": "@jupyter-widgets/base",
            "_view_module_version": "1.2.0",
            "_view_name": "StyleView",
            "description_width": ""
          }
        },
        "c6b0831a0e344ea694b7218fc4b83fea": {
          "model_module": "@jupyter-widgets/base",
          "model_module_version": "1.2.0",
          "model_name": "LayoutModel",
          "state": {
            "_model_module": "@jupyter-widgets/base",
            "_model_module_version": "1.2.0",
            "_model_name": "LayoutModel",
            "_view_count": null,
            "_view_module": "@jupyter-widgets/base",
            "_view_module_version": "1.2.0",
            "_view_name": "LayoutView",
            "align_content": null,
            "align_items": null,
            "align_self": null,
            "border": null,
            "bottom": null,
            "display": null,
            "flex": null,
            "flex_flow": null,
            "grid_area": null,
            "grid_auto_columns": null,
            "grid_auto_flow": null,
            "grid_auto_rows": null,
            "grid_column": null,
            "grid_gap": null,
            "grid_row": null,
            "grid_template_areas": null,
            "grid_template_columns": null,
            "grid_template_rows": null,
            "height": null,
            "justify_content": null,
            "justify_items": null,
            "left": null,
            "margin": null,
            "max_height": null,
            "max_width": null,
            "min_height": null,
            "min_width": null,
            "object_fit": null,
            "object_position": null,
            "order": null,
            "overflow": null,
            "overflow_x": null,
            "overflow_y": null,
            "padding": null,
            "right": null,
            "top": null,
            "visibility": null,
            "width": null
          }
        },
        "cb172943fcbd4661b9deb728d4a610e6": {
          "model_module": "@jupyter-widgets/controls",
          "model_module_version": "1.5.0",
          "model_name": "HTMLModel",
          "state": {
            "_dom_classes": [],
            "_model_module": "@jupyter-widgets/controls",
            "_model_module_version": "1.5.0",
            "_model_name": "HTMLModel",
            "_view_count": null,
            "_view_module": "@jupyter-widgets/controls",
            "_view_module_version": "1.5.0",
            "_view_name": "HTMLView",
            "description": "",
            "description_tooltip": null,
            "layout": "IPY_MODEL_6166ddcaa1cb418cb806be910ee7931d",
            "placeholder": "​",
            "style": "IPY_MODEL_b89d496a764545c1ba39b12044d3fd8e",
            "value": " 1281/1281 [00:00&lt;00:00, 57323.81it/s]"
          }
        },
        "d0a6f175132441b69af647e211b145f2": {
          "model_module": "@jupyter-widgets/controls",
          "model_module_version": "1.5.0",
          "model_name": "FloatProgressModel",
          "state": {
            "_dom_classes": [],
            "_model_module": "@jupyter-widgets/controls",
            "_model_module_version": "1.5.0",
            "_model_name": "FloatProgressModel",
            "_view_count": null,
            "_view_module": "@jupyter-widgets/controls",
            "_view_module_version": "1.5.0",
            "_view_name": "ProgressView",
            "bar_style": "success",
            "description": "",
            "description_tooltip": null,
            "layout": "IPY_MODEL_19f089b6ce3943f4892151b36e59bfe5",
            "max": 112,
            "min": 0,
            "orientation": "horizontal",
            "style": "IPY_MODEL_f8f002e5f83743fb93a23334b531cc3e",
            "value": 112
          }
        },
        "d11d1967695a40fd95c78e4ef245da9b": {
          "model_module": "@jupyter-widgets/controls",
          "model_module_version": "1.5.0",
          "model_name": "DescriptionStyleModel",
          "state": {
            "_model_module": "@jupyter-widgets/controls",
            "_model_module_version": "1.5.0",
            "_model_name": "DescriptionStyleModel",
            "_view_count": null,
            "_view_module": "@jupyter-widgets/base",
            "_view_module_version": "1.2.0",
            "_view_name": "StyleView",
            "description_width": ""
          }
        },
        "d2a548f77c42482f870dcc16c845c8ed": {
          "model_module": "@jupyter-widgets/controls",
          "model_module_version": "1.5.0",
          "model_name": "FloatProgressModel",
          "state": {
            "_dom_classes": [],
            "_model_module": "@jupyter-widgets/controls",
            "_model_module_version": "1.5.0",
            "_model_name": "FloatProgressModel",
            "_view_count": null,
            "_view_module": "@jupyter-widgets/controls",
            "_view_module_version": "1.5.0",
            "_view_name": "ProgressView",
            "bar_style": "success",
            "description": "",
            "description_tooltip": null,
            "layout": "IPY_MODEL_7e8b6f458b8a46a9b7b67b50e77d0991",
            "max": 857,
            "min": 0,
            "orientation": "horizontal",
            "style": "IPY_MODEL_5fc1d3096aed42d7b21be2afe43d5a0d",
            "value": 857
          }
        },
        "d2bd55d2d6934bf29065f01e2c7423af": {
          "model_module": "@jupyter-widgets/controls",
          "model_module_version": "1.5.0",
          "model_name": "HBoxModel",
          "state": {
            "_dom_classes": [],
            "_model_module": "@jupyter-widgets/controls",
            "_model_module_version": "1.5.0",
            "_model_name": "HBoxModel",
            "_view_count": null,
            "_view_module": "@jupyter-widgets/controls",
            "_view_module_version": "1.5.0",
            "_view_name": "HBoxView",
            "box_style": "",
            "children": [
              "IPY_MODEL_27b662cdb67e4568a3d8a79ecfb5617d",
              "IPY_MODEL_d0a6f175132441b69af647e211b145f2",
              "IPY_MODEL_0ca5bdc812114ccaae79abd0ca0b6703"
            ],
            "layout": "IPY_MODEL_820dbc46c714411c8d090923bbcd3e4c"
          }
        },
        "d560987672f94e0d8171541c34fe05b8": {
          "model_module": "@jupyter-widgets/controls",
          "model_module_version": "1.5.0",
          "model_name": "HTMLModel",
          "state": {
            "_dom_classes": [],
            "_model_module": "@jupyter-widgets/controls",
            "_model_module_version": "1.5.0",
            "_model_name": "HTMLModel",
            "_view_count": null,
            "_view_module": "@jupyter-widgets/controls",
            "_view_module_version": "1.5.0",
            "_view_name": "HTMLView",
            "description": "",
            "description_tooltip": null,
            "layout": "IPY_MODEL_0c67e69c121f4a4f95c246ffc107cf73",
            "placeholder": "​",
            "style": "IPY_MODEL_60b3f46ddfc841788761cf36746f56e8",
            "value": " 857/857 [00:01&lt;00:00, 662.95 examples/s]"
          }
        },
        "d57c7ab0f0434cf1a3d52ecc10c23276": {
          "model_module": "@jupyter-widgets/controls",
          "model_module_version": "1.5.0",
          "model_name": "HTMLModel",
          "state": {
            "_dom_classes": [],
            "_model_module": "@jupyter-widgets/controls",
            "_model_module_version": "1.5.0",
            "_model_name": "HTMLModel",
            "_view_count": null,
            "_view_module": "@jupyter-widgets/controls",
            "_view_module_version": "1.5.0",
            "_view_name": "HTMLView",
            "description": "",
            "description_tooltip": null,
            "layout": "IPY_MODEL_eb01852ffced46f4801838e80c49b775",
            "placeholder": "​",
            "style": "IPY_MODEL_1796a87ed51849649ff11da7b9270c24",
            "value": " 647/647 [00:00&lt;00:00, 73.3kB/s]"
          }
        },
        "d991e1a5e5814ac2b656af3578a37b98": {
          "model_module": "@jupyter-widgets/controls",
          "model_module_version": "1.5.0",
          "model_name": "DescriptionStyleModel",
          "state": {
            "_model_module": "@jupyter-widgets/controls",
            "_model_module_version": "1.5.0",
            "_model_name": "DescriptionStyleModel",
            "_view_count": null,
            "_view_module": "@jupyter-widgets/base",
            "_view_module_version": "1.2.0",
            "_view_name": "StyleView",
            "description_width": ""
          }
        },
        "d9c38761b708465e9f742055a00daa52": {
          "model_module": "@jupyter-widgets/controls",
          "model_module_version": "1.5.0",
          "model_name": "ProgressStyleModel",
          "state": {
            "_model_module": "@jupyter-widgets/controls",
            "_model_module_version": "1.5.0",
            "_model_name": "ProgressStyleModel",
            "_view_count": null,
            "_view_module": "@jupyter-widgets/base",
            "_view_module_version": "1.2.0",
            "_view_name": "StyleView",
            "bar_color": null,
            "description_width": ""
          }
        },
        "da5b9a2e38ea4837be39a18274f8314e": {
          "model_module": "@jupyter-widgets/base",
          "model_module_version": "1.2.0",
          "model_name": "LayoutModel",
          "state": {
            "_model_module": "@jupyter-widgets/base",
            "_model_module_version": "1.2.0",
            "_model_name": "LayoutModel",
            "_view_count": null,
            "_view_module": "@jupyter-widgets/base",
            "_view_module_version": "1.2.0",
            "_view_name": "LayoutView",
            "align_content": null,
            "align_items": null,
            "align_self": null,
            "border": null,
            "bottom": null,
            "display": null,
            "flex": null,
            "flex_flow": null,
            "grid_area": null,
            "grid_auto_columns": null,
            "grid_auto_flow": null,
            "grid_auto_rows": null,
            "grid_column": null,
            "grid_gap": null,
            "grid_row": null,
            "grid_template_areas": null,
            "grid_template_columns": null,
            "grid_template_rows": null,
            "height": null,
            "justify_content": null,
            "justify_items": null,
            "left": null,
            "margin": null,
            "max_height": null,
            "max_width": null,
            "min_height": null,
            "min_width": null,
            "object_fit": null,
            "object_position": null,
            "order": null,
            "overflow": null,
            "overflow_x": null,
            "overflow_y": null,
            "padding": null,
            "right": null,
            "top": null,
            "visibility": null,
            "width": null
          }
        },
        "db2ac653b88a4ec7bedf17ad2af4946d": {
          "model_module": "@jupyter-widgets/controls",
          "model_module_version": "1.5.0",
          "model_name": "ProgressStyleModel",
          "state": {
            "_model_module": "@jupyter-widgets/controls",
            "_model_module_version": "1.5.0",
            "_model_name": "ProgressStyleModel",
            "_view_count": null,
            "_view_module": "@jupyter-widgets/base",
            "_view_module_version": "1.2.0",
            "_view_name": "StyleView",
            "bar_color": null,
            "description_width": ""
          }
        },
        "db446dc3ad4340ac9498e6441b52a2c5": {
          "model_module": "@jupyter-widgets/controls",
          "model_module_version": "1.5.0",
          "model_name": "HTMLModel",
          "state": {
            "_dom_classes": [],
            "_model_module": "@jupyter-widgets/controls",
            "_model_module_version": "1.5.0",
            "_model_name": "HTMLModel",
            "_view_count": null,
            "_view_module": "@jupyter-widgets/controls",
            "_view_module_version": "1.5.0",
            "_view_name": "HTMLView",
            "description": "",
            "description_tooltip": null,
            "layout": "IPY_MODEL_0dcd60de9c2e46d59e003041cd768776",
            "placeholder": "​",
            "style": "IPY_MODEL_120d2215666648fa99876e5e27ed1531",
            "value": " 2837/2837 [00:00&lt;00:00, 4646.29 examples/s]"
          }
        },
        "e1af61f4c0b24edeb7409a8adbff2eae": {
          "model_module": "@jupyter-widgets/controls",
          "model_module_version": "1.5.0",
          "model_name": "HTMLModel",
          "state": {
            "_dom_classes": [],
            "_model_module": "@jupyter-widgets/controls",
            "_model_module_version": "1.5.0",
            "_model_name": "HTMLModel",
            "_view_count": null,
            "_view_module": "@jupyter-widgets/controls",
            "_view_module_version": "1.5.0",
            "_view_name": "HTMLView",
            "description": "",
            "description_tooltip": null,
            "layout": "IPY_MODEL_877b2c2f8e6248a0890b2f012b785304",
            "placeholder": "​",
            "style": "IPY_MODEL_fe507e44084f41e6bb5d456ae20136f0",
            "value": "Map: 100%"
          }
        },
        "e4702683318e453bb9ee6d69cb5d4c6f": {
          "model_module": "@jupyter-widgets/controls",
          "model_module_version": "1.5.0",
          "model_name": "DescriptionStyleModel",
          "state": {
            "_model_module": "@jupyter-widgets/controls",
            "_model_module_version": "1.5.0",
            "_model_name": "DescriptionStyleModel",
            "_view_count": null,
            "_view_module": "@jupyter-widgets/base",
            "_view_module_version": "1.2.0",
            "_view_name": "StyleView",
            "description_width": ""
          }
        },
        "e8161e08e9154cee9017a31f5fc4fbbb": {
          "model_module": "@jupyter-widgets/controls",
          "model_module_version": "1.5.0",
          "model_name": "FloatProgressModel",
          "state": {
            "_dom_classes": [],
            "_model_module": "@jupyter-widgets/controls",
            "_model_module_version": "1.5.0",
            "_model_name": "FloatProgressModel",
            "_view_count": null,
            "_view_module": "@jupyter-widgets/controls",
            "_view_module_version": "1.5.0",
            "_view_name": "ProgressView",
            "bar_style": "success",
            "description": "",
            "description_tooltip": null,
            "layout": "IPY_MODEL_59bd832c20d74875977cae23944e7068",
            "max": 2,
            "min": 0,
            "orientation": "horizontal",
            "style": "IPY_MODEL_4b429d5b3c6f46ff9e7b252b17689281",
            "value": 2
          }
        },
        "e853efcf3b14499ba78abdced10c60cf": {
          "model_module": "@jupyter-widgets/base",
          "model_module_version": "1.2.0",
          "model_name": "LayoutModel",
          "state": {
            "_model_module": "@jupyter-widgets/base",
            "_model_module_version": "1.2.0",
            "_model_name": "LayoutModel",
            "_view_count": null,
            "_view_module": "@jupyter-widgets/base",
            "_view_module_version": "1.2.0",
            "_view_name": "LayoutView",
            "align_content": null,
            "align_items": null,
            "align_self": null,
            "border": null,
            "bottom": null,
            "display": null,
            "flex": null,
            "flex_flow": null,
            "grid_area": null,
            "grid_auto_columns": null,
            "grid_auto_flow": null,
            "grid_auto_rows": null,
            "grid_column": null,
            "grid_gap": null,
            "grid_row": null,
            "grid_template_areas": null,
            "grid_template_columns": null,
            "grid_template_rows": null,
            "height": null,
            "justify_content": null,
            "justify_items": null,
            "left": null,
            "margin": null,
            "max_height": null,
            "max_width": null,
            "min_height": null,
            "min_width": null,
            "object_fit": null,
            "object_position": null,
            "order": null,
            "overflow": null,
            "overflow_x": null,
            "overflow_y": null,
            "padding": null,
            "right": null,
            "top": null,
            "visibility": null,
            "width": null
          }
        },
        "e865c1dc69524a7ea3e8bc69d3854086": {
          "model_module": "@jupyter-widgets/controls",
          "model_module_version": "1.5.0",
          "model_name": "FloatProgressModel",
          "state": {
            "_dom_classes": [],
            "_model_module": "@jupyter-widgets/controls",
            "_model_module_version": "1.5.0",
            "_model_name": "FloatProgressModel",
            "_view_count": null,
            "_view_module": "@jupyter-widgets/controls",
            "_view_module_version": "1.5.0",
            "_view_name": "ProgressView",
            "bar_style": "success",
            "description": "",
            "description_tooltip": null,
            "layout": "IPY_MODEL_836fa2fabbca46afaa2f8377ed575c99",
            "max": 11347,
            "min": 0,
            "orientation": "horizontal",
            "style": "IPY_MODEL_824f69ba69294b7790cfff219e018bcf",
            "value": 11347
          }
        },
        "e8cb5868eb3d413685fafbcfdfe48a3b": {
          "model_module": "@jupyter-widgets/controls",
          "model_module_version": "1.5.0",
          "model_name": "HTMLModel",
          "state": {
            "_dom_classes": [],
            "_model_module": "@jupyter-widgets/controls",
            "_model_module_version": "1.5.0",
            "_model_name": "HTMLModel",
            "_view_count": null,
            "_view_module": "@jupyter-widgets/controls",
            "_view_module_version": "1.5.0",
            "_view_name": "HTMLView",
            "description": "",
            "description_tooltip": null,
            "layout": "IPY_MODEL_bf10f93da4534676860ae87d200b687a",
            "placeholder": "​",
            "style": "IPY_MODEL_ea226b01ea9f4ed9ac4fc87185a88d8c",
            "value": "tokenizer_config.json: 100%"
          }
        },
        "ea226b01ea9f4ed9ac4fc87185a88d8c": {
          "model_module": "@jupyter-widgets/controls",
          "model_module_version": "1.5.0",
          "model_name": "DescriptionStyleModel",
          "state": {
            "_model_module": "@jupyter-widgets/controls",
            "_model_module_version": "1.5.0",
            "_model_name": "DescriptionStyleModel",
            "_view_count": null,
            "_view_module": "@jupyter-widgets/base",
            "_view_module_version": "1.2.0",
            "_view_name": "StyleView",
            "description_width": ""
          }
        },
        "eaa5eef599094b2ea75c9a8ed3be3b9e": {
          "model_module": "@jupyter-widgets/controls",
          "model_module_version": "1.5.0",
          "model_name": "HTMLModel",
          "state": {
            "_dom_classes": [],
            "_model_module": "@jupyter-widgets/controls",
            "_model_module_version": "1.5.0",
            "_model_name": "HTMLModel",
            "_view_count": null,
            "_view_module": "@jupyter-widgets/controls",
            "_view_module_version": "1.5.0",
            "_view_name": "HTMLView",
            "description": "",
            "description_tooltip": null,
            "layout": "IPY_MODEL_c0feb64045e54afb8ca3bb2294502f89",
            "placeholder": "​",
            "style": "IPY_MODEL_d991e1a5e5814ac2b656af3578a37b98",
            "value": "Map: 100%"
          }
        },
        "eb01852ffced46f4801838e80c49b775": {
          "model_module": "@jupyter-widgets/base",
          "model_module_version": "1.2.0",
          "model_name": "LayoutModel",
          "state": {
            "_model_module": "@jupyter-widgets/base",
            "_model_module_version": "1.2.0",
            "_model_name": "LayoutModel",
            "_view_count": null,
            "_view_module": "@jupyter-widgets/base",
            "_view_module_version": "1.2.0",
            "_view_name": "LayoutView",
            "align_content": null,
            "align_items": null,
            "align_self": null,
            "border": null,
            "bottom": null,
            "display": null,
            "flex": null,
            "flex_flow": null,
            "grid_area": null,
            "grid_auto_columns": null,
            "grid_auto_flow": null,
            "grid_auto_rows": null,
            "grid_column": null,
            "grid_gap": null,
            "grid_row": null,
            "grid_template_areas": null,
            "grid_template_columns": null,
            "grid_template_rows": null,
            "height": null,
            "justify_content": null,
            "justify_items": null,
            "left": null,
            "margin": null,
            "max_height": null,
            "max_width": null,
            "min_height": null,
            "min_width": null,
            "object_fit": null,
            "object_position": null,
            "order": null,
            "overflow": null,
            "overflow_x": null,
            "overflow_y": null,
            "padding": null,
            "right": null,
            "top": null,
            "visibility": null,
            "width": null
          }
        },
        "eedc2d31ffaf45ba9e05fb400df116bd": {
          "model_module": "@jupyter-widgets/controls",
          "model_module_version": "1.5.0",
          "model_name": "FloatProgressModel",
          "state": {
            "_dom_classes": [],
            "_model_module": "@jupyter-widgets/controls",
            "_model_module_version": "1.5.0",
            "_model_name": "FloatProgressModel",
            "_view_count": null,
            "_view_module": "@jupyter-widgets/controls",
            "_view_module_version": "1.5.0",
            "_view_name": "ProgressView",
            "bar_style": "success",
            "description": "",
            "description_tooltip": null,
            "layout": "IPY_MODEL_593e92463adc48f686077ce12450f797",
            "max": 4203,
            "min": 0,
            "orientation": "horizontal",
            "style": "IPY_MODEL_532026b9a3eb41b694f840cb328c1d14",
            "value": 4203
          }
        },
        "efe1cb08983a465597388daefe6566bb": {
          "model_module": "@jupyter-widgets/controls",
          "model_module_version": "1.5.0",
          "model_name": "DescriptionStyleModel",
          "state": {
            "_model_module": "@jupyter-widgets/controls",
            "_model_module_version": "1.5.0",
            "_model_name": "DescriptionStyleModel",
            "_view_count": null,
            "_view_module": "@jupyter-widgets/base",
            "_view_module_version": "1.2.0",
            "_view_name": "StyleView",
            "description_width": ""
          }
        },
        "f5bd895a64dc4db9b915da473bd221c9": {
          "model_module": "@jupyter-widgets/base",
          "model_module_version": "1.2.0",
          "model_name": "LayoutModel",
          "state": {
            "_model_module": "@jupyter-widgets/base",
            "_model_module_version": "1.2.0",
            "_model_name": "LayoutModel",
            "_view_count": null,
            "_view_module": "@jupyter-widgets/base",
            "_view_module_version": "1.2.0",
            "_view_name": "LayoutView",
            "align_content": null,
            "align_items": null,
            "align_self": null,
            "border": null,
            "bottom": null,
            "display": null,
            "flex": null,
            "flex_flow": null,
            "grid_area": null,
            "grid_auto_columns": null,
            "grid_auto_flow": null,
            "grid_auto_rows": null,
            "grid_column": null,
            "grid_gap": null,
            "grid_row": null,
            "grid_template_areas": null,
            "grid_template_columns": null,
            "grid_template_rows": null,
            "height": null,
            "justify_content": null,
            "justify_items": null,
            "left": null,
            "margin": null,
            "max_height": null,
            "max_width": null,
            "min_height": null,
            "min_width": null,
            "object_fit": null,
            "object_position": null,
            "order": null,
            "overflow": null,
            "overflow_x": null,
            "overflow_y": null,
            "padding": null,
            "right": null,
            "top": null,
            "visibility": null,
            "width": null
          }
        },
        "f70a2081a1bb4b989d15c22850bddd2f": {
          "model_module": "@jupyter-widgets/base",
          "model_module_version": "1.2.0",
          "model_name": "LayoutModel",
          "state": {
            "_model_module": "@jupyter-widgets/base",
            "_model_module_version": "1.2.0",
            "_model_name": "LayoutModel",
            "_view_count": null,
            "_view_module": "@jupyter-widgets/base",
            "_view_module_version": "1.2.0",
            "_view_name": "LayoutView",
            "align_content": null,
            "align_items": null,
            "align_self": null,
            "border": null,
            "bottom": null,
            "display": null,
            "flex": null,
            "flex_flow": null,
            "grid_area": null,
            "grid_auto_columns": null,
            "grid_auto_flow": null,
            "grid_auto_rows": null,
            "grid_column": null,
            "grid_gap": null,
            "grid_row": null,
            "grid_template_areas": null,
            "grid_template_columns": null,
            "grid_template_rows": null,
            "height": null,
            "justify_content": null,
            "justify_items": null,
            "left": null,
            "margin": null,
            "max_height": null,
            "max_width": null,
            "min_height": null,
            "min_width": null,
            "object_fit": null,
            "object_position": null,
            "order": null,
            "overflow": null,
            "overflow_x": null,
            "overflow_y": null,
            "padding": null,
            "right": null,
            "top": null,
            "visibility": null,
            "width": null
          }
        },
        "f8725d2c93eb434ab08849f6a4eb7ab1": {
          "model_module": "@jupyter-widgets/controls",
          "model_module_version": "1.5.0",
          "model_name": "HBoxModel",
          "state": {
            "_dom_classes": [],
            "_model_module": "@jupyter-widgets/controls",
            "_model_module_version": "1.5.0",
            "_model_name": "HBoxModel",
            "_view_count": null,
            "_view_module": "@jupyter-widgets/controls",
            "_view_module_version": "1.5.0",
            "_view_name": "HBoxView",
            "box_style": "",
            "children": [
              "IPY_MODEL_06031c407f1f442796fbcd3a6e699ecd",
              "IPY_MODEL_7de124d301be4f75a1866028caffb7e5",
              "IPY_MODEL_30e7e3818d5c4f999e153b828559a9bc"
            ],
            "layout": "IPY_MODEL_21227e0a46814be88822bb279ccd1623"
          }
        },
        "f8f002e5f83743fb93a23334b531cc3e": {
          "model_module": "@jupyter-widgets/controls",
          "model_module_version": "1.5.0",
          "model_name": "ProgressStyleModel",
          "state": {
            "_model_module": "@jupyter-widgets/controls",
            "_model_module_version": "1.5.0",
            "_model_name": "ProgressStyleModel",
            "_view_count": null,
            "_view_module": "@jupyter-widgets/base",
            "_view_module_version": "1.2.0",
            "_view_name": "StyleView",
            "bar_color": null,
            "description_width": ""
          }
        },
        "fb6d371fa30e443e998ceaa249ce39c4": {
          "model_module": "@jupyter-widgets/controls",
          "model_module_version": "1.5.0",
          "model_name": "FloatProgressModel",
          "state": {
            "_dom_classes": [],
            "_model_module": "@jupyter-widgets/controls",
            "_model_module_version": "1.5.0",
            "_model_name": "FloatProgressModel",
            "_view_count": null,
            "_view_module": "@jupyter-widgets/controls",
            "_view_module_version": "1.5.0",
            "_view_name": "ProgressView",
            "bar_style": "success",
            "description": "",
            "description_tooltip": null,
            "layout": "IPY_MODEL_26d3cd93e09a452f91bd0d2ae64403ef",
            "max": 43,
            "min": 0,
            "orientation": "horizontal",
            "style": "IPY_MODEL_074c050e7fe04f5685d1340cfd9e822e",
            "value": 43
          }
        },
        "fd6a7744aa7e44c386ee087bc0411226": {
          "model_module": "@jupyter-widgets/controls",
          "model_module_version": "1.5.0",
          "model_name": "HTMLModel",
          "state": {
            "_dom_classes": [],
            "_model_module": "@jupyter-widgets/controls",
            "_model_module_version": "1.5.0",
            "_model_name": "HTMLModel",
            "_view_count": null,
            "_view_module": "@jupyter-widgets/controls",
            "_view_module_version": "1.5.0",
            "_view_name": "HTMLView",
            "description": "",
            "description_tooltip": null,
            "layout": "IPY_MODEL_8ddcb0a7339046b8a1d7dd98ad7072a1",
            "placeholder": "​",
            "style": "IPY_MODEL_30369f7e13044ef5b8653f4ba1e112cb",
            "value": "vocab.txt: 100%"
          }
        },
        "fe507e44084f41e6bb5d456ae20136f0": {
          "model_module": "@jupyter-widgets/controls",
          "model_module_version": "1.5.0",
          "model_name": "DescriptionStyleModel",
          "state": {
            "_model_module": "@jupyter-widgets/controls",
            "_model_module_version": "1.5.0",
            "_model_name": "DescriptionStyleModel",
            "_view_count": null,
            "_view_module": "@jupyter-widgets/base",
            "_view_module_version": "1.2.0",
            "_view_name": "StyleView",
            "description_width": ""
          }
        },
        "ff196008d5ec484ab46ef0525bf3da50": {
          "model_module": "@jupyter-widgets/controls",
          "model_module_version": "1.5.0",
          "model_name": "HBoxModel",
          "state": {
            "_dom_classes": [],
            "_model_module": "@jupyter-widgets/controls",
            "_model_module_version": "1.5.0",
            "_model_name": "HBoxModel",
            "_view_count": null,
            "_view_module": "@jupyter-widgets/controls",
            "_view_module_version": "1.5.0",
            "_view_name": "HBoxView",
            "box_style": "",
            "children": [
              "IPY_MODEL_4236a9a530f243138a358729615bac31",
              "IPY_MODEL_a84dfd519cf842f8a5e6c0e8493b2e45",
              "IPY_MODEL_cb172943fcbd4661b9deb728d4a610e6"
            ],
            "layout": "IPY_MODEL_93ba4055934c47c882de28c59df0fd1b"
          }
        },
        "ffe2bc6b2af64a2c91acd7f137f69e60": {
          "model_module": "@jupyter-widgets/base",
          "model_module_version": "1.2.0",
          "model_name": "LayoutModel",
          "state": {
            "_model_module": "@jupyter-widgets/base",
            "_model_module_version": "1.2.0",
            "_model_name": "LayoutModel",
            "_view_count": null,
            "_view_module": "@jupyter-widgets/base",
            "_view_module_version": "1.2.0",
            "_view_name": "LayoutView",
            "align_content": null,
            "align_items": null,
            "align_self": null,
            "border": null,
            "bottom": null,
            "display": null,
            "flex": null,
            "flex_flow": null,
            "grid_area": null,
            "grid_auto_columns": null,
            "grid_auto_flow": null,
            "grid_auto_rows": null,
            "grid_column": null,
            "grid_gap": null,
            "grid_row": null,
            "grid_template_areas": null,
            "grid_template_columns": null,
            "grid_template_rows": null,
            "height": null,
            "justify_content": null,
            "justify_items": null,
            "left": null,
            "margin": null,
            "max_height": null,
            "max_width": null,
            "min_height": null,
            "min_width": null,
            "object_fit": null,
            "object_position": null,
            "order": null,
            "overflow": null,
            "overflow_x": null,
            "overflow_y": null,
            "padding": null,
            "right": null,
            "top": null,
            "visibility": null,
            "width": null
          }
        }
      }
    }
  },
  "nbformat": 4,
  "nbformat_minor": 0
}
