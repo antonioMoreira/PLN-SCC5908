{
 "cells": [
  {
   "cell_type": "code",
   "execution_count": 1,
   "id": "3be6c711",
   "metadata": {},
   "outputs": [
    {
     "name": "stdout",
     "output_type": "stream",
     "text": [
      "/home/antonio/venvs/pln-api-py31110/lib/python3.11/site-packages/nvidia/cudnn/lib/\n"
     ]
    }
   ],
   "source": [
    "!echo $LD_LIBRARY_PATH"
   ]
  },
  {
   "cell_type": "code",
   "execution_count": 1,
   "id": "9d992382",
   "metadata": {},
   "outputs": [
    {
     "name": "stderr",
     "output_type": "stream",
     "text": [
      "/home/antonio/venvs/pln-api-py31110/lib/python3.11/site-packages/tqdm/auto.py:21: TqdmWarning: IProgress not found. Please update jupyter and ipywidgets. See https://ipywidgets.readthedocs.io/en/stable/user_install.html\n",
      "  from .autonotebook import tqdm as notebook_tqdm\n"
     ]
    },
    {
     "data": {
      "text/plain": [
       "True"
      ]
     },
     "execution_count": 1,
     "metadata": {},
     "output_type": "execute_result"
    }
   ],
   "source": [
    "from typing import cast\n",
    "\n",
    "import torch\n",
    "import stanza\n",
    "from rich import print\n",
    "from stanza import Document\n",
    "from stanza.models.common.doc import Token, Word\n",
    "\n",
    "# stanza.download('pt') # download Portuguese model\n",
    "\n",
    "torch.cuda.is_available()"
   ]
  },
  {
   "cell_type": "code",
   "execution_count": 2,
   "id": "ce9a8048",
   "metadata": {},
   "outputs": [
    {
     "name": "stderr",
     "output_type": "stream",
     "text": [
      "2025-05-08 21:13:02 INFO: Checking for updates to resources.json in case models have been updated.  Note: this behavior can be turned off with download_method=None or download_method=DownloadMethod.REUSE_RESOURCES\n",
      "Downloading https://raw.githubusercontent.com/stanfordnlp/stanza-resources/main/resources_1.10.0.json: 426kB [00:00, 72.5MB/s]                    \n",
      "2025-05-08 21:13:02 INFO: Downloaded file to /home/antonio/stanza_resources/resources.json\n",
      "2025-05-08 21:13:03 INFO: Loading these models for language: pt (Portuguese):\n",
      "==================================\n",
      "| Processor    | Package         |\n",
      "----------------------------------\n",
      "| tokenize     | bosque          |\n",
      "| mwt          | bosque          |\n",
      "| pos          | bosque_charlm   |\n",
      "| lemma        | bosque_nocharlm |\n",
      "| constituency | cintil_charlm   |\n",
      "| depparse     | bosque_charlm   |\n",
      "==================================\n",
      "\n",
      "2025-05-08 21:13:03 INFO: Using device: cuda\n",
      "2025-05-08 21:13:03 INFO: Loading: tokenize\n",
      "2025-05-08 21:13:04 INFO: Loading: mwt\n",
      "2025-05-08 21:13:04 INFO: Loading: pos\n",
      "2025-05-08 21:13:05 INFO: Loading: lemma\n",
      "2025-05-08 21:13:05 INFO: Loading: constituency\n",
      "2025-05-08 21:13:06 INFO: Loading: depparse\n",
      "2025-05-08 21:13:06 INFO: Done loading processors!\n"
     ]
    }
   ],
   "source": [
    "nlp = stanza.Pipeline('pt') # initialize English neural pipeline"
   ]
  },
  {
   "cell_type": "code",
   "execution_count": 6,
   "id": "0710524d",
   "metadata": {},
   "outputs": [
    {
     "data": {
      "text/html": [
       "<pre style=\"white-space:pre;overflow-x:auto;line-height:normal;font-family:Menlo,'DejaVu Sans Mono',consolas,'Courier New',monospace\"><span style=\"font-weight: bold\">[</span>\n",
       "    <span style=\"color: #008000; text-decoration-color: #008000\">'__annotations__'</span>,\n",
       "    <span style=\"color: #008000; text-decoration-color: #008000\">'__class__'</span>,\n",
       "    <span style=\"color: #008000; text-decoration-color: #008000\">'__delattr__'</span>,\n",
       "    <span style=\"color: #008000; text-decoration-color: #008000\">'__dict__'</span>,\n",
       "    <span style=\"color: #008000; text-decoration-color: #008000\">'__dir__'</span>,\n",
       "    <span style=\"color: #008000; text-decoration-color: #008000\">'__doc__'</span>,\n",
       "    <span style=\"color: #008000; text-decoration-color: #008000\">'__eq__'</span>,\n",
       "    <span style=\"color: #008000; text-decoration-color: #008000\">'__format__'</span>,\n",
       "    <span style=\"color: #008000; text-decoration-color: #008000\">'__ge__'</span>,\n",
       "    <span style=\"color: #008000; text-decoration-color: #008000\">'__getattribute__'</span>,\n",
       "    <span style=\"color: #008000; text-decoration-color: #008000\">'__getstate__'</span>,\n",
       "    <span style=\"color: #008000; text-decoration-color: #008000\">'__gt__'</span>,\n",
       "    <span style=\"color: #008000; text-decoration-color: #008000\">'__hash__'</span>,\n",
       "    <span style=\"color: #008000; text-decoration-color: #008000\">'__init__'</span>,\n",
       "    <span style=\"color: #008000; text-decoration-color: #008000\">'__init_subclass__'</span>,\n",
       "    <span style=\"color: #008000; text-decoration-color: #008000\">'__le__'</span>,\n",
       "    <span style=\"color: #008000; text-decoration-color: #008000\">'__lt__'</span>,\n",
       "    <span style=\"color: #008000; text-decoration-color: #008000\">'__module__'</span>,\n",
       "    <span style=\"color: #008000; text-decoration-color: #008000\">'__ne__'</span>,\n",
       "    <span style=\"color: #008000; text-decoration-color: #008000\">'__new__'</span>,\n",
       "    <span style=\"color: #008000; text-decoration-color: #008000\">'__reduce__'</span>,\n",
       "    <span style=\"color: #008000; text-decoration-color: #008000\">'__reduce_ex__'</span>,\n",
       "    <span style=\"color: #008000; text-decoration-color: #008000\">'__repr__'</span>,\n",
       "    <span style=\"color: #008000; text-decoration-color: #008000\">'__setattr__'</span>,\n",
       "    <span style=\"color: #008000; text-decoration-color: #008000\">'__sizeof__'</span>,\n",
       "    <span style=\"color: #008000; text-decoration-color: #008000\">'__str__'</span>,\n",
       "    <span style=\"color: #008000; text-decoration-color: #008000\">'__subclasshook__'</span>,\n",
       "    <span style=\"color: #008000; text-decoration-color: #008000\">'__weakref__'</span>,\n",
       "    <span style=\"color: #008000; text-decoration-color: #008000\">'_coref_chains'</span>,\n",
       "    <span style=\"color: #008000; text-decoration-color: #008000\">'_deprel'</span>,\n",
       "    <span style=\"color: #008000; text-decoration-color: #008000\">'_end_char'</span>,\n",
       "    <span style=\"color: #008000; text-decoration-color: #008000\">'_feats'</span>,\n",
       "    <span style=\"color: #008000; text-decoration-color: #008000\">'_head'</span>,\n",
       "    <span style=\"color: #008000; text-decoration-color: #008000\">'_id'</span>,\n",
       "    <span style=\"color: #008000; text-decoration-color: #008000\">'_is_null'</span>,\n",
       "    <span style=\"color: #008000; text-decoration-color: #008000\">'_lemma'</span>,\n",
       "    <span style=\"color: #008000; text-decoration-color: #008000\">'_mexp'</span>,\n",
       "    <span style=\"color: #008000; text-decoration-color: #008000\">'_misc'</span>,\n",
       "    <span style=\"color: #008000; text-decoration-color: #008000\">'_parent'</span>,\n",
       "    <span style=\"color: #008000; text-decoration-color: #008000\">'_sent'</span>,\n",
       "    <span style=\"color: #008000; text-decoration-color: #008000\">'_start_char'</span>,\n",
       "    <span style=\"color: #008000; text-decoration-color: #008000\">'_text'</span>,\n",
       "    <span style=\"color: #008000; text-decoration-color: #008000\">'_upos'</span>,\n",
       "    <span style=\"color: #008000; text-decoration-color: #008000\">'_xpos'</span>,\n",
       "    <span style=\"color: #008000; text-decoration-color: #008000\">'add_property'</span>,\n",
       "    <span style=\"color: #008000; text-decoration-color: #008000\">'coref_chains'</span>,\n",
       "    <span style=\"color: #008000; text-decoration-color: #008000\">'deprel'</span>,\n",
       "    <span style=\"color: #008000; text-decoration-color: #008000\">'deps'</span>,\n",
       "    <span style=\"color: #008000; text-decoration-color: #008000\">'end_char'</span>,\n",
       "    <span style=\"color: #008000; text-decoration-color: #008000\">'feats'</span>,\n",
       "    <span style=\"color: #008000; text-decoration-color: #008000\">'head'</span>,\n",
       "    <span style=\"color: #008000; text-decoration-color: #008000\">'id'</span>,\n",
       "    <span style=\"color: #008000; text-decoration-color: #008000\">'lemma'</span>,\n",
       "    <span style=\"color: #008000; text-decoration-color: #008000\">'manual_expansion'</span>,\n",
       "    <span style=\"color: #008000; text-decoration-color: #008000\">'misc'</span>,\n",
       "    <span style=\"color: #008000; text-decoration-color: #008000\">'parent'</span>,\n",
       "    <span style=\"color: #008000; text-decoration-color: #008000\">'pos'</span>,\n",
       "    <span style=\"color: #008000; text-decoration-color: #008000\">'pretty_print'</span>,\n",
       "    <span style=\"color: #008000; text-decoration-color: #008000\">'sent'</span>,\n",
       "    <span style=\"color: #008000; text-decoration-color: #008000\">'start_char'</span>,\n",
       "    <span style=\"color: #008000; text-decoration-color: #008000\">'text'</span>,\n",
       "    <span style=\"color: #008000; text-decoration-color: #008000\">'to_conll_text'</span>,\n",
       "    <span style=\"color: #008000; text-decoration-color: #008000\">'to_dict'</span>,\n",
       "    <span style=\"color: #008000; text-decoration-color: #008000\">'upos'</span>,\n",
       "    <span style=\"color: #008000; text-decoration-color: #008000\">'xpos'</span>\n",
       "<span style=\"font-weight: bold\">]</span>\n",
       "</pre>\n"
      ],
      "text/plain": [
       "\u001b[1m[\u001b[0m\n",
       "    \u001b[32m'__annotations__'\u001b[0m,\n",
       "    \u001b[32m'__class__'\u001b[0m,\n",
       "    \u001b[32m'__delattr__'\u001b[0m,\n",
       "    \u001b[32m'__dict__'\u001b[0m,\n",
       "    \u001b[32m'__dir__'\u001b[0m,\n",
       "    \u001b[32m'__doc__'\u001b[0m,\n",
       "    \u001b[32m'__eq__'\u001b[0m,\n",
       "    \u001b[32m'__format__'\u001b[0m,\n",
       "    \u001b[32m'__ge__'\u001b[0m,\n",
       "    \u001b[32m'__getattribute__'\u001b[0m,\n",
       "    \u001b[32m'__getstate__'\u001b[0m,\n",
       "    \u001b[32m'__gt__'\u001b[0m,\n",
       "    \u001b[32m'__hash__'\u001b[0m,\n",
       "    \u001b[32m'__init__'\u001b[0m,\n",
       "    \u001b[32m'__init_subclass__'\u001b[0m,\n",
       "    \u001b[32m'__le__'\u001b[0m,\n",
       "    \u001b[32m'__lt__'\u001b[0m,\n",
       "    \u001b[32m'__module__'\u001b[0m,\n",
       "    \u001b[32m'__ne__'\u001b[0m,\n",
       "    \u001b[32m'__new__'\u001b[0m,\n",
       "    \u001b[32m'__reduce__'\u001b[0m,\n",
       "    \u001b[32m'__reduce_ex__'\u001b[0m,\n",
       "    \u001b[32m'__repr__'\u001b[0m,\n",
       "    \u001b[32m'__setattr__'\u001b[0m,\n",
       "    \u001b[32m'__sizeof__'\u001b[0m,\n",
       "    \u001b[32m'__str__'\u001b[0m,\n",
       "    \u001b[32m'__subclasshook__'\u001b[0m,\n",
       "    \u001b[32m'__weakref__'\u001b[0m,\n",
       "    \u001b[32m'_coref_chains'\u001b[0m,\n",
       "    \u001b[32m'_deprel'\u001b[0m,\n",
       "    \u001b[32m'_end_char'\u001b[0m,\n",
       "    \u001b[32m'_feats'\u001b[0m,\n",
       "    \u001b[32m'_head'\u001b[0m,\n",
       "    \u001b[32m'_id'\u001b[0m,\n",
       "    \u001b[32m'_is_null'\u001b[0m,\n",
       "    \u001b[32m'_lemma'\u001b[0m,\n",
       "    \u001b[32m'_mexp'\u001b[0m,\n",
       "    \u001b[32m'_misc'\u001b[0m,\n",
       "    \u001b[32m'_parent'\u001b[0m,\n",
       "    \u001b[32m'_sent'\u001b[0m,\n",
       "    \u001b[32m'_start_char'\u001b[0m,\n",
       "    \u001b[32m'_text'\u001b[0m,\n",
       "    \u001b[32m'_upos'\u001b[0m,\n",
       "    \u001b[32m'_xpos'\u001b[0m,\n",
       "    \u001b[32m'add_property'\u001b[0m,\n",
       "    \u001b[32m'coref_chains'\u001b[0m,\n",
       "    \u001b[32m'deprel'\u001b[0m,\n",
       "    \u001b[32m'deps'\u001b[0m,\n",
       "    \u001b[32m'end_char'\u001b[0m,\n",
       "    \u001b[32m'feats'\u001b[0m,\n",
       "    \u001b[32m'head'\u001b[0m,\n",
       "    \u001b[32m'id'\u001b[0m,\n",
       "    \u001b[32m'lemma'\u001b[0m,\n",
       "    \u001b[32m'manual_expansion'\u001b[0m,\n",
       "    \u001b[32m'misc'\u001b[0m,\n",
       "    \u001b[32m'parent'\u001b[0m,\n",
       "    \u001b[32m'pos'\u001b[0m,\n",
       "    \u001b[32m'pretty_print'\u001b[0m,\n",
       "    \u001b[32m'sent'\u001b[0m,\n",
       "    \u001b[32m'start_char'\u001b[0m,\n",
       "    \u001b[32m'text'\u001b[0m,\n",
       "    \u001b[32m'to_conll_text'\u001b[0m,\n",
       "    \u001b[32m'to_dict'\u001b[0m,\n",
       "    \u001b[32m'upos'\u001b[0m,\n",
       "    \u001b[32m'xpos'\u001b[0m\n",
       "\u001b[1m]\u001b[0m\n"
      ]
     },
     "metadata": {},
     "output_type": "display_data"
    },
    {
     "data": {
      "text/html": [
       "<pre style=\"white-space:pre;overflow-x:auto;line-height:normal;font-family:Menlo,'DejaVu Sans Mono',consolas,'Courier New',monospace\">O\n",
       "</pre>\n"
      ],
      "text/plain": [
       "O\n"
      ]
     },
     "metadata": {},
     "output_type": "display_data"
    }
   ],
   "source": [
    "d:Document = nlp('O cachorro comeu a comida. A comida estava quente.')\n",
    "\n",
    "i:Token\n",
    "for w in d.iter_words():\n",
    "    print(dir(w))\n",
    "    print(w.text)\n",
    "    break"
   ]
  },
  {
   "cell_type": "code",
   "execution_count": 5,
   "id": "f1dba59d",
   "metadata": {},
   "outputs": [],
   "source": [
    "upos_translation = {\n",
    "    \"ADJ\"  : \"Adjetivo\",\n",
    "    \"ADP\"  : \"Preposição\",\n",
    "    \"ADV\"  : \"Advérbio\",\n",
    "    \"AUX\"  : \"Verbo Auxiliar\",\n",
    "    \"CCONJ\": \"Conjunção Coordenativa\",\n",
    "    \"DET\"  : \"Determinante\",\n",
    "    \"INTJ\" : \"Interjeição\",\n",
    "    \"NOUN\" : \"Substantivo\",\n",
    "    \"NUM\"  : \"Numeral\",\n",
    "    \"PART\" : \"Partícula\",\n",
    "    \"PRON\" : \"Pronome\",\n",
    "    \"PROPN\": \"Nome Próprio\",\n",
    "    \"PUNCT\": \"Pontuação\",\n",
    "    \"SCONJ\": \"Conjunção Subordinativa\",\n",
    "    \"SYM\"  : \"Símbolo\",\n",
    "    \"VERB\" : \"Verbo\",\n",
    "    \"X\"    : \"Outro\"\n",
    "}"
   ]
  },
  {
   "cell_type": "code",
   "execution_count": null,
   "id": "1ae9bb57",
   "metadata": {},
   "outputs": [],
   "source": [
    "\n",
    "def get_pos_tags(text) -> list[dict[str, str]]:\n",
    "    \"\"\"\n",
    "    Processa o texto e retorna uma lista de dicionários com a palavra e sua classe gramatical em português.\n",
    "    \"\"\"\n",
    "    doc:Document = nlp(text)\n",
    "    pos_tags = []\n",
    "    word:Word\n",
    "    for word in doc.iter_words():\n",
    "        tag = cast(str, word.upos)\n",
    "        translated_tag = upos_translation.get(tag, tag)  # Se não achar, usa a própria tag original\n",
    "        pos_tags.append({'word': word.text, 'tag': translated_tag})\n",
    "    return pos_tags"
   ]
  },
  {
   "cell_type": "code",
   "execution_count": 8,
   "id": "8e480738",
   "metadata": {},
   "outputs": [
    {
     "name": "stdout",
     "output_type": "stream",
     "text": [
      "<class 'stanza.models.common.doc.Document'> [\n",
      "  [\n",
      "    {\n",
      "      \"id\": 1,\n",
      "      \"text\": \"O\",\n",
      "      \"lemma\": \"o\",\n",
      "      \"upos\": \"DET\",\n",
      "      \"feats\": \"Definite=Def|Gender=Masc|Number=Sing|PronType=Art\",\n",
      "      \"head\": 2,\n",
      "      \"deprel\": \"det\",\n",
      "      \"start_char\": 0,\n",
      "      \"end_char\": 1\n",
      "    },\n",
      "    {\n",
      "      \"id\": 2,\n",
      "      \"text\": \"cachorro\",\n",
      "      \"lemma\": \"cachorro\",\n",
      "      \"upos\": \"NOUN\",\n",
      "      \"feats\": \"Gender=Masc|Number=Sing\",\n",
      "      \"head\": 3,\n",
      "      \"deprel\": \"nsubj\",\n",
      "      \"start_char\": 2,\n",
      "      \"end_char\": 10\n",
      "    },\n",
      "    {\n",
      "      \"id\": 3,\n",
      "      \"text\": \"correu\",\n",
      "      \"lemma\": \"correr\",\n",
      "      \"upos\": \"VERB\",\n",
      "      \"feats\": \"Mood=Ind|Number=Sing|Person=3|Tense=Past|VerbForm=Fin\",\n",
      "      \"head\": 0,\n",
      "      \"deprel\": \"root\",\n",
      "      \"start_char\": 11,\n",
      "      \"end_char\": 17\n",
      "    },\n",
      "    {\n",
      "      \"id\": 4,\n",
      "      \"text\": \"rapidamente\",\n",
      "      \"lemma\": \"rapidamente\",\n",
      "      \"upos\": \"ADV\",\n",
      "      \"head\": 3,\n",
      "      \"deprel\": \"advmod\",\n",
      "      \"start_char\": 18,\n",
      "      \"end_char\": 29\n",
      "    },\n",
      "    {\n",
      "      \"id\": 5,\n",
      "      \"text\": \"para\",\n",
      "      \"lemma\": \"para\",\n",
      "      \"upos\": \"ADP\",\n",
      "      \"head\": 7,\n",
      "      \"deprel\": \"case\",\n",
      "      \"start_char\": 30,\n",
      "      \"end_char\": 34\n",
      "    },\n",
      "    {\n",
      "      \"id\": 6,\n",
      "      \"text\": \"o\",\n",
      "      \"lemma\": \"o\",\n",
      "      \"upos\": \"DET\",\n",
      "      \"feats\": \"Definite=Def|Gender=Masc|Number=Sing|PronType=Art\",\n",
      "      \"head\": 7,\n",
      "      \"deprel\": \"det\",\n",
      "      \"start_char\": 35,\n",
      "      \"end_char\": 36\n",
      "    },\n",
      "    {\n",
      "      \"id\": 7,\n",
      "      \"text\": \"parque\",\n",
      "      \"lemma\": \"parque\",\n",
      "      \"upos\": \"NOUN\",\n",
      "      \"feats\": \"Gender=Masc|Number=Sing\",\n",
      "      \"head\": 3,\n",
      "      \"deprel\": \"obl\",\n",
      "      \"start_char\": 37,\n",
      "      \"end_char\": 43,\n",
      "      \"misc\": \"SpaceAfter=No\"\n",
      "    },\n",
      "    {\n",
      "      \"id\": 8,\n",
      "      \"text\": \".\",\n",
      "      \"lemma\": \".\",\n",
      "      \"upos\": \"PUNCT\",\n",
      "      \"head\": 3,\n",
      "      \"deprel\": \"punct\",\n",
      "      \"start_char\": 43,\n",
      "      \"end_char\": 44,\n",
      "      \"misc\": \"SpaceAfter=No\"\n",
      "    }\n",
      "  ]\n",
      "]\n"
     ]
    },
    {
     "ename": "TypeError",
     "evalue": "'Document' object is not iterable",
     "output_type": "error",
     "traceback": [
      "\u001b[31m---------------------------------------------------------------------------\u001b[39m",
      "\u001b[31mTypeError\u001b[39m                                 Traceback (most recent call last)",
      "\u001b[36mCell\u001b[39m\u001b[36m \u001b[39m\u001b[32mIn[8]\u001b[39m\u001b[32m, line 1\u001b[39m\n\u001b[32m----> \u001b[39m\u001b[32m1\u001b[39m \u001b[43mget_pos_tags\u001b[49m\u001b[43m(\u001b[49m\u001b[33;43m\"\u001b[39;49m\u001b[33;43mO cachorro correu rapidamente para o parque.\u001b[39;49m\u001b[33;43m\"\u001b[39;49m\u001b[43m)\u001b[49m\n",
      "\u001b[36mCell\u001b[39m\u001b[36m \u001b[39m\u001b[32mIn[7]\u001b[39m\u001b[32m, line 8\u001b[39m, in \u001b[36mget_pos_tags\u001b[39m\u001b[34m(text)\u001b[39m\n\u001b[32m      6\u001b[39m \u001b[38;5;28mprint\u001b[39m(\u001b[38;5;28mtype\u001b[39m(doc), doc)\n\u001b[32m      7\u001b[39m pos_tags = []\n\u001b[32m----> \u001b[39m\u001b[32m8\u001b[39m \u001b[43m\u001b[49m\u001b[38;5;28;43;01mfor\u001b[39;49;00m\u001b[43m \u001b[49m\u001b[43mtoken\u001b[49m\u001b[43m \u001b[49m\u001b[38;5;129;43;01min\u001b[39;49;00m\u001b[43m \u001b[49m\u001b[43mdoc\u001b[49m\u001b[43m:\u001b[49m\n\u001b[32m      9\u001b[39m \u001b[43m    \u001b[49m\u001b[43mtag\u001b[49m\u001b[43m \u001b[49m\u001b[43m=\u001b[49m\u001b[43m \u001b[49m\u001b[43mtoken\u001b[49m\u001b[43m.\u001b[49m\u001b[43mpos_\u001b[49m\n\u001b[32m     10\u001b[39m \u001b[43m    \u001b[49m\u001b[43mtranslated_tag\u001b[49m\u001b[43m \u001b[49m\u001b[43m=\u001b[49m\u001b[43m \u001b[49m\u001b[43mupos_translation\u001b[49m\u001b[43m.\u001b[49m\u001b[43mget\u001b[49m\u001b[43m(\u001b[49m\u001b[43mtag\u001b[49m\u001b[43m,\u001b[49m\u001b[43m \u001b[49m\u001b[43mtag\u001b[49m\u001b[43m)\u001b[49m\u001b[43m  \u001b[49m\u001b[38;5;66;43;03m# Se não achar, usa a própria tag original\u001b[39;49;00m\n",
      "\u001b[31mTypeError\u001b[39m: 'Document' object is not iterable"
     ]
    }
   ],
   "source": [
    "get_pos_tags(\"O cachorro correu rapidamente para o parque.\")"
   ]
  }
 ],
 "metadata": {
  "kernelspec": {
   "display_name": "pln-api-py31110",
   "language": "python",
   "name": "python3"
  },
  "language_info": {
   "codemirror_mode": {
    "name": "ipython",
    "version": 3
   },
   "file_extension": ".py",
   "mimetype": "text/x-python",
   "name": "python",
   "nbconvert_exporter": "python",
   "pygments_lexer": "ipython3",
   "version": "3.11.10"
  }
 },
 "nbformat": 4,
 "nbformat_minor": 5
}
