{
 "cells": [
  {
   "cell_type": "code",
   "execution_count": 215,
   "id": "7cf22c2d",
   "metadata": {},
   "outputs": [],
   "source": [
    "from pathlib import Path\n",
    "from copy import deepcopy\n",
    "from typing import cast, List, Literal, TypedDict\n",
    "\n",
    "import pandas as pd\n",
    "from ulid import ULID\n",
    "from google.api_core.datetime_helpers import DatetimeWithNanoseconds\n",
    "\n",
    "DF_PATH = Path('data/final_df_250603.csv')\n",
    "assert DF_PATH.exists(), f\"Data file not found at {DF_PATH}\""
   ]
  },
  {
   "cell_type": "code",
   "execution_count": 216,
   "id": "f0ef7112",
   "metadata": {},
   "outputs": [],
   "source": [
    "EventType = Literal[\"new-session\", \"interaction\"]\n",
    "\n",
    "class EventData(TypedDict):\n",
    "    correctTag: str \n",
    "    draggedTag: str\n",
    "    eventType: EventType\n",
    "    orderingId: int\n",
    "    sessionId: str\n",
    "    targetWord: str\n",
    "\n",
    "class Word(TypedDict):\n",
    "    word: str\n",
    "    tag: str\n",
    "\n",
    "class SessionData(TypedDict):\n",
    "    eventType: EventType\n",
    "    serie: str\n",
    "    sessionId: str\n",
    "    startTime: DatetimeWithNanoseconds\n",
    "    words: List[Word]"
   ]
  },
  {
   "cell_type": "code",
   "execution_count": 287,
   "id": "b38827f5",
   "metadata": {},
   "outputs": [],
   "source": [
    "SESSION_ID = 'rZvC0RiJEH'\n",
    "# SESSION_ID = 'SX-gw0Y4ER'"
   ]
  },
  {
   "cell_type": "code",
   "execution_count": 298,
   "id": "83da5327",
   "metadata": {},
   "outputs": [
    {
     "data": {
      "text/html": [
       "<div>\n",
       "<style scoped>\n",
       "    .dataframe tbody tr th:only-of-type {\n",
       "        vertical-align: middle;\n",
       "    }\n",
       "\n",
       "    .dataframe tbody tr th {\n",
       "        vertical-align: top;\n",
       "    }\n",
       "\n",
       "    .dataframe thead th {\n",
       "        text-align: right;\n",
       "    }\n",
       "</style>\n",
       "<table border=\"1\" class=\"dataframe\">\n",
       "  <thead>\n",
       "    <tr style=\"text-align: right;\">\n",
       "      <th></th>\n",
       "      <th>startTime</th>\n",
       "      <th>serie</th>\n",
       "      <th>words</th>\n",
       "      <th>eventType</th>\n",
       "      <th>sessionId</th>\n",
       "      <th>words_attempts</th>\n",
       "    </tr>\n",
       "  </thead>\n",
       "  <tbody>\n",
       "    <tr>\n",
       "      <th>0</th>\n",
       "      <td>2025-05-27 00:49:01.547000+00:00</td>\n",
       "      <td>5-ensino-fundamental</td>\n",
       "      <td>[{'tag': 'Verbo', 'word': 'Será'}, {'tag': 'Co...</td>\n",
       "      <td>new-session</td>\n",
       "      <td>xqEk5ZfKaG</td>\n",
       "      <td>{'Verbo-Será-01JX8KAKG3RB9Z4B48WBR5Q3NP': 1, '...</td>\n",
       "    </tr>\n",
       "    <tr>\n",
       "      <th>1</th>\n",
       "      <td>2025-05-27 01:01:42.509000+00:00</td>\n",
       "      <td>5-ensino-fundamental</td>\n",
       "      <td>[{'tag': 'Nome Próprio', 'word': 'Ufa'}, {'tag...</td>\n",
       "      <td>new-session</td>\n",
       "      <td>uQY36KP907</td>\n",
       "      <td>{'Nome Próprio-Ufa-01JX8KAKG3DPAYPR09CY0RKFYS'...</td>\n",
       "    </tr>\n",
       "    <tr>\n",
       "      <th>2</th>\n",
       "      <td>2025-05-27 11:11:54.325000+00:00</td>\n",
       "      <td>6-ensino-fundamental</td>\n",
       "      <td>[{'tag': 'Artigo', 'word': 'A'}, {'tag': 'Subs...</td>\n",
       "      <td>new-session</td>\n",
       "      <td>X2RK9EgWWZ</td>\n",
       "      <td>{'Artigo-A-01JX8KAKG32D5RG28BWQDVAQBW': 1, 'Su...</td>\n",
       "    </tr>\n",
       "  </tbody>\n",
       "</table>\n",
       "</div>"
      ],
      "text/plain": [
       "                          startTime                 serie  \\\n",
       "0  2025-05-27 00:49:01.547000+00:00  5-ensino-fundamental   \n",
       "1  2025-05-27 01:01:42.509000+00:00  5-ensino-fundamental   \n",
       "2  2025-05-27 11:11:54.325000+00:00  6-ensino-fundamental   \n",
       "\n",
       "                                               words    eventType   sessionId  \\\n",
       "0  [{'tag': 'Verbo', 'word': 'Será'}, {'tag': 'Co...  new-session  xqEk5ZfKaG   \n",
       "1  [{'tag': 'Nome Próprio', 'word': 'Ufa'}, {'tag...  new-session  uQY36KP907   \n",
       "2  [{'tag': 'Artigo', 'word': 'A'}, {'tag': 'Subs...  new-session  X2RK9EgWWZ   \n",
       "\n",
       "                                      words_attempts  \n",
       "0  {'Verbo-Será-01JX8KAKG3RB9Z4B48WBR5Q3NP': 1, '...  \n",
       "1  {'Nome Próprio-Ufa-01JX8KAKG3DPAYPR09CY0RKFYS'...  \n",
       "2  {'Artigo-A-01JX8KAKG32D5RG28BWQDVAQBW': 1, 'Su...  "
      ]
     },
     "execution_count": 298,
     "metadata": {},
     "output_type": "execute_result"
    }
   ],
   "source": [
    "new_session_df = pd.read_csv('data/new_session_data_250603.csv')\n",
    "\n",
    "def cast_words(words: str) -> List[Word]:\n",
    "    assert isinstance(words, str), f\"Expected str, got {type(words)}\"\n",
    "    words_ = cast(List[Word], eval(words))\n",
    "    return words_\n",
    "\n",
    "new_session_df['words'] = new_session_df['words'].apply(cast_words)\n",
    "\n",
    "new_session_df['words_attempts'] = new_session_df['words'].map(\n",
    "    lambda word_list: {f\"{word['tag']}-{word['word']}-{ULID()}\":1 for word in word_list}\n",
    ")\n",
    "\n",
    "new_session_df.head(3)\n",
    "\n",
    "# display(new_session_df[new_session_df['sessionId'] == SESSION_ID]['words_attempts'].values[0])\n",
    "# ' '.join([w['word'] for w in new_session_df[new_session_df['sessionId'] == SESSION_ID]['words'].values[0]])"
   ]
  },
  {
   "cell_type": "code",
   "execution_count": 260,
   "id": "5af33889",
   "metadata": {},
   "outputs": [
    {
     "data": {
      "text/plain": [
       "10244    soB5rFM9K4\n",
       "Name: sessionId, dtype: object"
      ]
     },
     "execution_count": 260,
     "metadata": {},
     "output_type": "execute_result"
    }
   ],
   "source": [
    "df = pd.read_csv(DF_PATH)\n",
    "df['sessionId'].sample()"
   ]
  },
  {
   "cell_type": "code",
   "execution_count": 289,
   "id": "cf072173",
   "metadata": {},
   "outputs": [
    {
     "data": {
      "text/plain": [
       "19756    Jswx-T3seR\n",
       "Name: sessionId, dtype: object"
      ]
     },
     "execution_count": 289,
     "metadata": {},
     "output_type": "execute_result"
    }
   ],
   "source": [
    "df = pd.read_csv('data/interaction_data_250603.csv')\n",
    "df['sessionId'].sample()"
   ]
  },
  {
   "cell_type": "code",
   "execution_count": 290,
   "id": "094dc9ca",
   "metadata": {},
   "outputs": [
    {
     "data": {
      "text/html": [
       "<div>\n",
       "<style scoped>\n",
       "    .dataframe tbody tr th:only-of-type {\n",
       "        vertical-align: middle;\n",
       "    }\n",
       "\n",
       "    .dataframe tbody tr th {\n",
       "        vertical-align: top;\n",
       "    }\n",
       "\n",
       "    .dataframe thead th {\n",
       "        text-align: right;\n",
       "    }\n",
       "</style>\n",
       "<table border=\"1\" class=\"dataframe\">\n",
       "  <thead>\n",
       "    <tr style=\"text-align: right;\">\n",
       "      <th></th>\n",
       "      <th>correctTag</th>\n",
       "      <th>targetWord</th>\n",
       "      <th>eventType</th>\n",
       "      <th>orderingId</th>\n",
       "      <th>sessionId</th>\n",
       "      <th>draggedTag</th>\n",
       "    </tr>\n",
       "  </thead>\n",
       "  <tbody>\n",
       "    <tr>\n",
       "      <th>8516</th>\n",
       "      <td>Artigo</td>\n",
       "      <td>Os</td>\n",
       "      <td>interaction</td>\n",
       "      <td>0</td>\n",
       "      <td>rZvC0RiJEH</td>\n",
       "      <td>Verbo</td>\n",
       "    </tr>\n",
       "  </tbody>\n",
       "</table>\n",
       "</div>"
      ],
      "text/plain": [
       "     correctTag targetWord    eventType  orderingId   sessionId draggedTag\n",
       "8516     Artigo         Os  interaction           0  rZvC0RiJEH      Verbo"
      ]
     },
     "execution_count": 290,
     "metadata": {},
     "output_type": "execute_result"
    }
   ],
   "source": [
    "gp = df[df['sessionId'] == SESSION_ID].copy()\n",
    "gp"
   ]
  },
  {
   "cell_type": "code",
   "execution_count": 291,
   "id": "fbfa2937",
   "metadata": {},
   "outputs": [
    {
     "data": {
      "text/plain": [
       "{'Artigo-Os': ['01JX8GWW94AXAYAKP8S6P0KJYM'],\n",
       " 'Substantivo-alunos': ['01JX8GWW94M769Y2SZ8Y8252TB'],\n",
       " 'Verbo-estudaram': ['01JX8GWW94GNSMW9HFXVQ5TSZJ'],\n",
       " 'Advérbio-bastante': ['01JX8GWW94PF5RSP0SC5SVC32W'],\n",
       " 'Pontuação-.': ['01JX8GWW94MT2C4X6TB7WGH33Y']}"
      ]
     },
     "execution_count": 291,
     "metadata": {},
     "output_type": "execute_result"
    }
   ],
   "source": [
    "words_attempts = deepcopy(new_session_df[new_session_df['sessionId'] == SESSION_ID]['words_attempts'].values[0])\n",
    "\n",
    "words_attempts_dict = dict()\n",
    "\n",
    "for i in list(words_attempts.keys()):\n",
    "    ud, word, ulid = i.split('-')\n",
    "    try:\n",
    "        words_attempts_dict[f'{ud}-{word}'].append(ulid)\n",
    "    except KeyError:\n",
    "        words_attempts_dict[f'{ud}-{word}'] = [ulid]\n",
    "    \n",
    "# words_attempts_list['Artigo-A'].pop()\n",
    "words_attempts_dict"
   ]
  },
  {
   "cell_type": "code",
   "execution_count": 263,
   "id": "c035dd20",
   "metadata": {},
   "outputs": [],
   "source": [
    "def create_words_attempts_list(words_attempts: dict) -> dict:\n",
    "    words_attempts_dict = dict()\n",
    "\n",
    "    i:str\n",
    "    for i in list(words_attempts.keys()):\n",
    "        ud, word, ulid = i.split('-')\n",
    "        try:\n",
    "            words_attempts_dict[f'{ud}-{word}'].append(ulid)\n",
    "        except KeyError:\n",
    "            words_attempts_dict[f'{ud}-{word}'] = [ulid]\n",
    "    return words_attempts_dict"
   ]
  },
  {
   "cell_type": "code",
   "execution_count": null,
   "id": "e476cc30",
   "metadata": {},
   "outputs": [
    {
     "name": "stdout",
     "output_type": "stream",
     "text": [
      "<class 'dict'>\n",
      "{'Verbo-Será-01JX8KAKG3RB9Z4B48WBR5Q3NP': 1, 'Conjunção Subordinativa-que-01JX8KAKG3CGDK2W2S55P5RRFJ': 1, 'Pronome-alguém-01JX8KAKG3DP4TBKMDN58XTTJ3': 1, 'Verbo-explicou-01JX8KAKG3CSXXANS955PSTAME': 1, 'Pronome-o-01JX8KAKG31RZRZAD97B06B9X9': 1, 'Pronome-que-01JX8KAKG3K0PW3XF2JWHQCM3Y': 1, 'Verbo-aconteceu-01JX8KAKG33WZYBXRK2S7TK476': 1, 'Preposição+Artigo-na-01JX8KAKG3BFTMWY7MV57GYTX4': 1, 'Substantivo-aula-01JX8KAKG3DE95T00QAV7BQXH8': 1, 'Adjetivo-passada-01JX8KAKG3PW8C21RTV580W588': 1, 'Pontuação-?-01JX8KAKG3PX5SB8HP28E17V8P': 1}\n"
     ]
    },
    {
     "ename": "Exception",
     "evalue": "This is a placeholder for the fix_words_attempts function.",
     "output_type": "error",
     "traceback": [
      "\u001b[31m---------------------------------------------------------------------------\u001b[39m",
      "\u001b[31mException\u001b[39m                                 Traceback (most recent call last)",
      "\u001b[36mCell\u001b[39m\u001b[36m \u001b[39m\u001b[32mIn[305]\u001b[39m\u001b[32m, line 6\u001b[39m\n\u001b[32m      3\u001b[39m     \u001b[38;5;28mprint\u001b[39m(x)\n\u001b[32m      4\u001b[39m     \u001b[38;5;28;01mraise\u001b[39;00m \u001b[38;5;167;01mException\u001b[39;00m(\u001b[33m\"\u001b[39m\u001b[33mThis is a placeholder for the fix_words_attempts function.\u001b[39m\u001b[33m\"\u001b[39m)\n\u001b[32m----> \u001b[39m\u001b[32m6\u001b[39m \u001b[43mnew_session_df\u001b[49m\u001b[43m[\u001b[49m\u001b[33;43m'\u001b[39;49m\u001b[33;43mwords_attempts\u001b[39;49m\u001b[33;43m'\u001b[39;49m\u001b[43m]\u001b[49m\u001b[43m.\u001b[49m\u001b[43mapply\u001b[49m\u001b[43m(\u001b[49m\u001b[43mfix_words_attempts\u001b[49m\u001b[43m)\u001b[49m\n",
      "\u001b[36mFile \u001b[39m\u001b[32m~/venvs/pln-api-py31110/lib/python3.11/site-packages/pandas/core/series.py:4924\u001b[39m, in \u001b[36mSeries.apply\u001b[39m\u001b[34m(self, func, convert_dtype, args, by_row, **kwargs)\u001b[39m\n\u001b[32m   4789\u001b[39m \u001b[38;5;28;01mdef\u001b[39;00m\u001b[38;5;250m \u001b[39m\u001b[34mapply\u001b[39m(\n\u001b[32m   4790\u001b[39m     \u001b[38;5;28mself\u001b[39m,\n\u001b[32m   4791\u001b[39m     func: AggFuncType,\n\u001b[32m   (...)\u001b[39m\u001b[32m   4796\u001b[39m     **kwargs,\n\u001b[32m   4797\u001b[39m ) -> DataFrame | Series:\n\u001b[32m   4798\u001b[39m \u001b[38;5;250m    \u001b[39m\u001b[33;03m\"\"\"\u001b[39;00m\n\u001b[32m   4799\u001b[39m \u001b[33;03m    Invoke function on values of Series.\u001b[39;00m\n\u001b[32m   4800\u001b[39m \n\u001b[32m   (...)\u001b[39m\u001b[32m   4915\u001b[39m \u001b[33;03m    dtype: float64\u001b[39;00m\n\u001b[32m   4916\u001b[39m \u001b[33;03m    \"\"\"\u001b[39;00m\n\u001b[32m   4917\u001b[39m     \u001b[38;5;28;01mreturn\u001b[39;00m \u001b[43mSeriesApply\u001b[49m\u001b[43m(\u001b[49m\n\u001b[32m   4918\u001b[39m \u001b[43m        \u001b[49m\u001b[38;5;28;43mself\u001b[39;49m\u001b[43m,\u001b[49m\n\u001b[32m   4919\u001b[39m \u001b[43m        \u001b[49m\u001b[43mfunc\u001b[49m\u001b[43m,\u001b[49m\n\u001b[32m   4920\u001b[39m \u001b[43m        \u001b[49m\u001b[43mconvert_dtype\u001b[49m\u001b[43m=\u001b[49m\u001b[43mconvert_dtype\u001b[49m\u001b[43m,\u001b[49m\n\u001b[32m   4921\u001b[39m \u001b[43m        \u001b[49m\u001b[43mby_row\u001b[49m\u001b[43m=\u001b[49m\u001b[43mby_row\u001b[49m\u001b[43m,\u001b[49m\n\u001b[32m   4922\u001b[39m \u001b[43m        \u001b[49m\u001b[43margs\u001b[49m\u001b[43m=\u001b[49m\u001b[43margs\u001b[49m\u001b[43m,\u001b[49m\n\u001b[32m   4923\u001b[39m \u001b[43m        \u001b[49m\u001b[43mkwargs\u001b[49m\u001b[43m=\u001b[49m\u001b[43mkwargs\u001b[49m\u001b[43m,\u001b[49m\n\u001b[32m-> \u001b[39m\u001b[32m4924\u001b[39m \u001b[43m    \u001b[49m\u001b[43m)\u001b[49m\u001b[43m.\u001b[49m\u001b[43mapply\u001b[49m\u001b[43m(\u001b[49m\u001b[43m)\u001b[49m\n",
      "\u001b[36mFile \u001b[39m\u001b[32m~/venvs/pln-api-py31110/lib/python3.11/site-packages/pandas/core/apply.py:1427\u001b[39m, in \u001b[36mSeriesApply.apply\u001b[39m\u001b[34m(self)\u001b[39m\n\u001b[32m   1424\u001b[39m     \u001b[38;5;28;01mreturn\u001b[39;00m \u001b[38;5;28mself\u001b[39m.apply_compat()\n\u001b[32m   1426\u001b[39m \u001b[38;5;66;03m# self.func is Callable\u001b[39;00m\n\u001b[32m-> \u001b[39m\u001b[32m1427\u001b[39m \u001b[38;5;28;01mreturn\u001b[39;00m \u001b[38;5;28;43mself\u001b[39;49m\u001b[43m.\u001b[49m\u001b[43mapply_standard\u001b[49m\u001b[43m(\u001b[49m\u001b[43m)\u001b[49m\n",
      "\u001b[36mFile \u001b[39m\u001b[32m~/venvs/pln-api-py31110/lib/python3.11/site-packages/pandas/core/apply.py:1507\u001b[39m, in \u001b[36mSeriesApply.apply_standard\u001b[39m\u001b[34m(self)\u001b[39m\n\u001b[32m   1501\u001b[39m \u001b[38;5;66;03m# row-wise access\u001b[39;00m\n\u001b[32m   1502\u001b[39m \u001b[38;5;66;03m# apply doesn't have a `na_action` keyword and for backward compat reasons\u001b[39;00m\n\u001b[32m   1503\u001b[39m \u001b[38;5;66;03m# we need to give `na_action=\"ignore\"` for categorical data.\u001b[39;00m\n\u001b[32m   1504\u001b[39m \u001b[38;5;66;03m# TODO: remove the `na_action=\"ignore\"` when that default has been changed in\u001b[39;00m\n\u001b[32m   1505\u001b[39m \u001b[38;5;66;03m#  Categorical (GH51645).\u001b[39;00m\n\u001b[32m   1506\u001b[39m action = \u001b[33m\"\u001b[39m\u001b[33mignore\u001b[39m\u001b[33m\"\u001b[39m \u001b[38;5;28;01mif\u001b[39;00m \u001b[38;5;28misinstance\u001b[39m(obj.dtype, CategoricalDtype) \u001b[38;5;28;01melse\u001b[39;00m \u001b[38;5;28;01mNone\u001b[39;00m\n\u001b[32m-> \u001b[39m\u001b[32m1507\u001b[39m mapped = \u001b[43mobj\u001b[49m\u001b[43m.\u001b[49m\u001b[43m_map_values\u001b[49m\u001b[43m(\u001b[49m\n\u001b[32m   1508\u001b[39m \u001b[43m    \u001b[49m\u001b[43mmapper\u001b[49m\u001b[43m=\u001b[49m\u001b[43mcurried\u001b[49m\u001b[43m,\u001b[49m\u001b[43m \u001b[49m\u001b[43mna_action\u001b[49m\u001b[43m=\u001b[49m\u001b[43maction\u001b[49m\u001b[43m,\u001b[49m\u001b[43m \u001b[49m\u001b[43mconvert\u001b[49m\u001b[43m=\u001b[49m\u001b[38;5;28;43mself\u001b[39;49m\u001b[43m.\u001b[49m\u001b[43mconvert_dtype\u001b[49m\n\u001b[32m   1509\u001b[39m \u001b[43m\u001b[49m\u001b[43m)\u001b[49m\n\u001b[32m   1511\u001b[39m \u001b[38;5;28;01mif\u001b[39;00m \u001b[38;5;28mlen\u001b[39m(mapped) \u001b[38;5;129;01mand\u001b[39;00m \u001b[38;5;28misinstance\u001b[39m(mapped[\u001b[32m0\u001b[39m], ABCSeries):\n\u001b[32m   1512\u001b[39m     \u001b[38;5;66;03m# GH#43986 Need to do list(mapped) in order to get treated as nested\u001b[39;00m\n\u001b[32m   1513\u001b[39m     \u001b[38;5;66;03m#  See also GH#25959 regarding EA support\u001b[39;00m\n\u001b[32m   1514\u001b[39m     \u001b[38;5;28;01mreturn\u001b[39;00m obj._constructor_expanddim(\u001b[38;5;28mlist\u001b[39m(mapped), index=obj.index)\n",
      "\u001b[36mFile \u001b[39m\u001b[32m~/venvs/pln-api-py31110/lib/python3.11/site-packages/pandas/core/base.py:921\u001b[39m, in \u001b[36mIndexOpsMixin._map_values\u001b[39m\u001b[34m(self, mapper, na_action, convert)\u001b[39m\n\u001b[32m    918\u001b[39m \u001b[38;5;28;01mif\u001b[39;00m \u001b[38;5;28misinstance\u001b[39m(arr, ExtensionArray):\n\u001b[32m    919\u001b[39m     \u001b[38;5;28;01mreturn\u001b[39;00m arr.map(mapper, na_action=na_action)\n\u001b[32m--> \u001b[39m\u001b[32m921\u001b[39m \u001b[38;5;28;01mreturn\u001b[39;00m \u001b[43malgorithms\u001b[49m\u001b[43m.\u001b[49m\u001b[43mmap_array\u001b[49m\u001b[43m(\u001b[49m\u001b[43marr\u001b[49m\u001b[43m,\u001b[49m\u001b[43m \u001b[49m\u001b[43mmapper\u001b[49m\u001b[43m,\u001b[49m\u001b[43m \u001b[49m\u001b[43mna_action\u001b[49m\u001b[43m=\u001b[49m\u001b[43mna_action\u001b[49m\u001b[43m,\u001b[49m\u001b[43m \u001b[49m\u001b[43mconvert\u001b[49m\u001b[43m=\u001b[49m\u001b[43mconvert\u001b[49m\u001b[43m)\u001b[49m\n",
      "\u001b[36mFile \u001b[39m\u001b[32m~/venvs/pln-api-py31110/lib/python3.11/site-packages/pandas/core/algorithms.py:1743\u001b[39m, in \u001b[36mmap_array\u001b[39m\u001b[34m(arr, mapper, na_action, convert)\u001b[39m\n\u001b[32m   1741\u001b[39m values = arr.astype(\u001b[38;5;28mobject\u001b[39m, copy=\u001b[38;5;28;01mFalse\u001b[39;00m)\n\u001b[32m   1742\u001b[39m \u001b[38;5;28;01mif\u001b[39;00m na_action \u001b[38;5;129;01mis\u001b[39;00m \u001b[38;5;28;01mNone\u001b[39;00m:\n\u001b[32m-> \u001b[39m\u001b[32m1743\u001b[39m     \u001b[38;5;28;01mreturn\u001b[39;00m \u001b[43mlib\u001b[49m\u001b[43m.\u001b[49m\u001b[43mmap_infer\u001b[49m\u001b[43m(\u001b[49m\u001b[43mvalues\u001b[49m\u001b[43m,\u001b[49m\u001b[43m \u001b[49m\u001b[43mmapper\u001b[49m\u001b[43m,\u001b[49m\u001b[43m \u001b[49m\u001b[43mconvert\u001b[49m\u001b[43m=\u001b[49m\u001b[43mconvert\u001b[49m\u001b[43m)\u001b[49m\n\u001b[32m   1744\u001b[39m \u001b[38;5;28;01melse\u001b[39;00m:\n\u001b[32m   1745\u001b[39m     \u001b[38;5;28;01mreturn\u001b[39;00m lib.map_infer_mask(\n\u001b[32m   1746\u001b[39m         values, mapper, mask=isna(values).view(np.uint8), convert=convert\n\u001b[32m   1747\u001b[39m     )\n",
      "\u001b[36mFile \u001b[39m\u001b[32mlib.pyx:2972\u001b[39m, in \u001b[36mpandas._libs.lib.map_infer\u001b[39m\u001b[34m()\u001b[39m\n",
      "\u001b[36mCell\u001b[39m\u001b[36m \u001b[39m\u001b[32mIn[305]\u001b[39m\u001b[32m, line 4\u001b[39m, in \u001b[36mfix_words_attempts\u001b[39m\u001b[34m(x)\u001b[39m\n\u001b[32m      2\u001b[39m \u001b[38;5;28mprint\u001b[39m(\u001b[38;5;28mtype\u001b[39m(x))\n\u001b[32m      3\u001b[39m \u001b[38;5;28mprint\u001b[39m(x)\n\u001b[32m----> \u001b[39m\u001b[32m4\u001b[39m \u001b[38;5;28;01mraise\u001b[39;00m \u001b[38;5;167;01mException\u001b[39;00m(\u001b[33m\"\u001b[39m\u001b[33mThis is a placeholder for the fix_words_attempts function.\u001b[39m\u001b[33m\"\u001b[39m)\n",
      "\u001b[31mException\u001b[39m: This is a placeholder for the fix_words_attempts function."
     ]
    }
   ],
   "source": [
    "def fix_words_attempts(words_attempts: dict):\n",
    "    print(type(x))\n",
    "    print(x)\n",
    "    raise Exception(\"This is a placeholder for the fix_words_attempts function.\")\n",
    "    \n",
    "new_session_df['words_attempts'].apply(fix_words_attempts)"
   ]
  },
  {
   "cell_type": "code",
   "execution_count": null,
   "id": "20edfe7b",
   "metadata": {},
   "outputs": [],
   "source": []
  },
  {
   "cell_type": "code",
   "execution_count": null,
   "id": "7999979f",
   "metadata": {},
   "outputs": [
    {
     "data": {
      "text/plain": [
       "({'Artigo-Os-01JX8GWW94AXAYAKP8S6P0KJYM': 1,\n",
       "  'Substantivo-alunos-01JX8GWW94M769Y2SZ8Y8252TB': 0,\n",
       "  'Verbo-estudaram-01JX8GWW94GNSMW9HFXVQ5TSZJ': 0,\n",
       "  'Advérbio-bastante-01JX8GWW94PF5RSP0SC5SVC32W': 0,\n",
       "  'Pontuação-.-01JX8GWW94MT2C4X6TB7WGH33Y': 0},\n",
       " {'Artigo-Os': [],\n",
       "  'Substantivo-alunos': [],\n",
       "  'Verbo-estudaram': [],\n",
       "  'Advérbio-bastante': [],\n",
       "  'Pontuação-.': []})"
      ]
     },
     "execution_count": 297,
     "metadata": {},
     "output_type": "execute_result"
    }
   ],
   "source": [
    "# gp.drop_duplicates(subset=['correctTag', 'targetWord', 'sessionId', 'draggedTag', 'serie'])\n",
    "aux_idx = -1\n",
    "# subset=['correctTag', 'targetWord', 'sessionId', 'draggedTag', 'serie']\n",
    "words_attempts = deepcopy(new_session_df[new_session_df['sessionId'] == SESSION_ID]['words_attempts'].values[0])\n",
    "\n",
    "words_attempts_dict = create_words_attempts_list(words_attempts)\n",
    "\n",
    "for _, row in gp.iterrows():\n",
    "    assert row['orderingId'] > aux_idx # garante que ta ordem crescente\n",
    "    aux_idx = row['orderingId']\n",
    "    k = f\"{row['correctTag']}-{row['targetWord']}\"\n",
    "    assert k in words_attempts_dict, f\"Key {k} not found in words_attempts\"\n",
    "    # print(f'{k}-{words_attempts_dict[k][0]}')\n",
    "    if row['draggedTag'] != row['correctTag']:\n",
    "        words_attempts[f'{k}-{words_attempts_dict[k][0]}'] += 1\n",
    "    else:\n",
    "        words_attempts_dict[k].pop(0)\n",
    "\n",
    "for k,v in words_attempts_dict.items():\n",
    "    if len(v) > 0:\n",
    "        while(v):\n",
    "            ulid_ = v.pop(0)\n",
    "            words_attempts[f'{k}-{ulid_}'] -= 1\n",
    "\n",
    "words_attempts, words_attempts_dict\n"
   ]
  },
  {
   "cell_type": "markdown",
   "id": "b654047b",
   "metadata": {},
   "source": [
    "Gosto de ler liros de aventura e de misterio\n",
    "\n",
    "Prep-de-ulid1: 1\n",
    "Prep-de-ulid2: 3\n",
    "Prep-de-ulid3: 2\n",
    "\n",
    "Prep-de: [ulid3] "
   ]
  }
 ],
 "metadata": {
  "kernelspec": {
   "display_name": "pln-api-py31110",
   "language": "python",
   "name": "python3"
  },
  "language_info": {
   "codemirror_mode": {
    "name": "ipython",
    "version": 3
   },
   "file_extension": ".py",
   "mimetype": "text/x-python",
   "name": "python",
   "nbconvert_exporter": "python",
   "pygments_lexer": "ipython3",
   "version": "3.11.10"
  }
 },
 "nbformat": 4,
 "nbformat_minor": 5
}
